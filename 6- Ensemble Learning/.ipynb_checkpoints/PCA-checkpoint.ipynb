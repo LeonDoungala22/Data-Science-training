{
 "cells": [
  {
   "cell_type": "code",
   "execution_count": null,
   "id": "f1b839e2",
   "metadata": {},
   "outputs": [],
   "source": [
    "from sklearn.datasets import make_classification"
   ]
  },
  {
   "cell_type": "code",
   "execution_count": null,
   "id": "e10ba8b6",
   "metadata": {},
   "outputs": [],
   "source": [
    "X, y = make_classification(n_samples=100, n_features=9, n_informative=7, n_redundant=2, n_repeated=0, n_classes=5)"
   ]
  },
  {
   "cell_type": "code",
   "execution_count": null,
   "id": "ef392da6",
   "metadata": {},
   "outputs": [],
   "source": [
    "X.shape, y.shape"
   ]
  },
  {
   "cell_type": "code",
   "execution_count": null,
   "id": "3451112d",
   "metadata": {},
   "outputs": [],
   "source": [
    "X"
   ]
  },
  {
   "cell_type": "code",
   "execution_count": null,
   "id": "d7ab4e39",
   "metadata": {},
   "outputs": [],
   "source": [
    "from sklearn.decomposition import PCA, TruncatedSVD"
   ]
  },
  {
   "cell_type": "code",
   "execution_count": null,
   "id": "a382cf23",
   "metadata": {},
   "outputs": [],
   "source": [
    "pca = TruncatedSVD(n_components=2, random_state=42)"
   ]
  },
  {
   "cell_type": "code",
   "execution_count": null,
   "id": "b043d073",
   "metadata": {},
   "outputs": [],
   "source": [
    "pca.fit(X=X)"
   ]
  },
  {
   "cell_type": "code",
   "execution_count": null,
   "id": "211bb2aa",
   "metadata": {},
   "outputs": [],
   "source": [
    "pca.__dict__"
   ]
  },
  {
   "cell_type": "code",
   "execution_count": null,
   "id": "20d6727d",
   "metadata": {},
   "outputs": [],
   "source": [
    "X_pca = pca.transform(X=X)"
   ]
  },
  {
   "cell_type": "code",
   "execution_count": null,
   "id": "e795a069",
   "metadata": {},
   "outputs": [],
   "source": [
    "X[0]"
   ]
  },
  {
   "cell_type": "code",
   "execution_count": null,
   "id": "ef3a8e54",
   "metadata": {},
   "outputs": [],
   "source": [
    "X_pca[0]"
   ]
  },
  {
   "cell_type": "code",
   "execution_count": null,
   "id": "16dfa0f2",
   "metadata": {},
   "outputs": [],
   "source": [
    "import matplotlib.pyplot as plt"
   ]
  },
  {
   "cell_type": "code",
   "execution_count": null,
   "id": "e0efe211",
   "metadata": {},
   "outputs": [],
   "source": [
    "# Percentage of variance explained for each components\n",
    "target_names = ['A', 'B', 'C', 'D', 'E']\n",
    "print(\n",
    "    \"explained variance ratio (first two components): %s\"\n",
    "    % str(pca.explained_variance_ratio_)\n",
    ")\n",
    "\n",
    "plt.figure()\n",
    "colors = [\"navy\", \"turquoise\", \"darkorange\", \"red\", \"green\"]\n",
    "lw = 2\n",
    "\n",
    "for color, i, target_name in zip(colors, [0, 1, 2, 3, 4], target_names):\n",
    "    plt.scatter(\n",
    "        X_pca[y == i, 0], X_pca[y == i, 1], color=color, alpha=0.8, lw=lw, label=target_name\n",
    "    )\n",
    "plt.legend(loc=\"best\", shadow=False, scatterpoints=1)\n",
    "plt.title(\"PCA of dataset\")\n",
    "plt.show()"
   ]
  },
  {
   "cell_type": "code",
   "execution_count": null,
   "id": "511e3f4c",
   "metadata": {},
   "outputs": [],
   "source": []
  }
 ],
 "metadata": {
  "kernelspec": {
   "display_name": "conda_python3",
   "language": "python",
   "name": "conda_python3"
  },
  "language_info": {
   "codemirror_mode": {
    "name": "ipython",
    "version": 3
   },
   "file_extension": ".py",
   "mimetype": "text/x-python",
   "name": "python",
   "nbconvert_exporter": "python",
   "pygments_lexer": "ipython3",
   "version": "3.8.12"
  }
 },
 "nbformat": 4,
 "nbformat_minor": 5
}
