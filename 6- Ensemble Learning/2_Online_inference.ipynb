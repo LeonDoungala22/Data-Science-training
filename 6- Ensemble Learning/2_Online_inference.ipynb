{
 "cells": [
  {
   "cell_type": "code",
   "execution_count": 1,
   "id": "4623c70e-7eab-4e5a-8ba5-b90e9da47dd1",
   "metadata": {},
   "outputs": [],
   "source": [
    "import pandas as pd\n",
    "import pickle\n",
    "import numpy as np\n",
    "import matplotlib.pyplot as plt \n",
    "\n",
    "from sklearn import tree \n",
    "from sklearn.neighbors import KNeighborsClassifier\n",
    "from sklearn.metrics import mean_absolute_error\n",
    "\n",
    "import warnings\n",
    "warnings.filterwarnings(\"ignore\")\n",
    "\n",
    "from sklearn.model_selection import train_test_split\n",
    "import apply_preprocessing as apply_pp \n",
    "import plot_decision as plt_Decision\n",
    "\n",
    "from sklearn.linear_model import SGDClassifier\n",
    "from sklearn.tree import DecisionTreeClassifier\n",
    "from sklearn.neighbors import KNeighborsClassifier\n",
    "from sklearn.ensemble import VotingClassifier"
   ]
  },
  {
   "cell_type": "code",
   "execution_count": 2,
   "id": "e1d1cc4d-d6aa-4f8c-8776-792d14b7769a",
   "metadata": {},
   "outputs": [],
   "source": [
    "Data = pd.read_csv('Dataset/test.csv', header=0)"
   ]
  },
  {
   "cell_type": "code",
   "execution_count": 3,
   "id": "1824e46b-1f23-40ef-8907-433fb9c6e784",
   "metadata": {},
   "outputs": [],
   "source": [
    "Data['Drug']=Data['Drug'].replace({'drugA': 0, 'drugB': 1,'drugC': 2, 'drugX': 3,'drugY': 4})"
   ]
  },
  {
   "cell_type": "code",
   "execution_count": 4,
   "id": "ace93be7-39b3-4b97-a46b-8484a8a9a9d1",
   "metadata": {},
   "outputs": [],
   "source": [
    "#Preprosessing funtion\n",
    "\n",
    "pp_X_test , pp_y_test  = apply_pp.apply_preprocessing_V2(Data, is_training=False)"
   ]
  },
  {
   "cell_type": "code",
   "execution_count": 5,
   "id": "26417446-38a4-45b0-85a9-afea7fdb597f",
   "metadata": {},
   "outputs": [],
   "source": [
    "# Load/serialize the fitted model to local OS\n",
    "\n",
    "with open('pickle/model.pkl', 'rb') as output_file:\n",
    "    model = pickle.load(output_file)\n",
    "\n",
    "with open('pickle/model_1.pkl', 'rb') as output_file:\n",
    "    model_1 = pickle.load(output_file)\n",
    "    \n",
    "with open('pickle/model_2.pkl', 'rb') as output_file:\n",
    "    model_2 = pickle.load(output_file)\n",
    "    \n",
    "with open('pickle/model_3.pkl', 'rb') as output_file:\n",
    "    model_3 = pickle.load(output_file)\n",
    "    \n",
    "with open('pickle/model_4.pkl', 'rb') as output_file:\n",
    "    model_4 = pickle.load(output_file)\n",
    "with open('pickle/model_5.pkl', 'rb') as output_file:\n",
    "    model_5 = pickle.load(output_file)\n",
    "with open('pickle/model_6.pkl', 'rb') as output_file:\n",
    "    model_6 = pickle.load(output_file)\n",
    "with open('pickle/model_7.pkl', 'rb') as output_file:\n",
    "    model_7 = pickle.load(output_file)\n",
    "with open('pickle/model_8.pkl', 'rb') as output_file:\n",
    "    model_8 = pickle.load(output_file)\n",
    "    \n",
    "with open('pickle/pp_X_test.pkl', 'rb') as output_file:\n",
    "    pp_X_test = pickle.load(output_file)\n",
    "\n",
    "with open('pickle/pp_y_test.pkl', 'rb') as output_file:\n",
    "    pp_y_test = pickle.load(output_file)\n"
   ]
  },
  {
   "cell_type": "markdown",
   "id": "5b2915f1-7a35-46f4-b065-28432d18637a",
   "metadata": {},
   "source": [
    "## 1. Voting Classifier"
   ]
  },
  {
   "cell_type": "code",
   "execution_count": 6,
   "id": "7c82ac09-c97f-43c4-86ed-48b461a6d409",
   "metadata": {},
   "outputs": [
    {
     "data": {
      "text/plain": [
       "array([3, 4, 4, 4, 0, 4, 3, 3, 3, 4, 3, 3, 4, 3, 4, 4, 0, 4, 0, 3, 4, 2,\n",
       "       4, 0, 0, 0, 4, 3, 4, 3, 4, 4, 4, 3, 3, 2, 3, 1, 4, 0])"
      ]
     },
     "execution_count": 6,
     "metadata": {},
     "output_type": "execute_result"
    }
   ],
   "source": [
    "predic_model = model.predict(X=pp_X_test)\n",
    "predic_model"
   ]
  },
  {
   "cell_type": "code",
   "execution_count": 7,
   "id": "de34a6d9-f967-4650-b9ba-fe2df9c3beeb",
   "metadata": {},
   "outputs": [
    {
     "name": "stdout",
     "output_type": "stream",
     "text": [
      "SGDClassifier 0.925\n",
      "DecisionTreeClassifier 0.975\n",
      "KNeighborsClassifier 0.825\n",
      "VotingClassifier 0.975\n"
     ]
    }
   ],
   "source": [
    "#Score\n",
    "\n",
    "for model in (model_1, model_2, model_3, model_4):\n",
    "    print(model.__class__.__name__, model.score(pp_X_test, pp_y_test))"
   ]
  },
  {
   "cell_type": "markdown",
   "id": "09cfdb4c-39bd-4dc8-88e0-805237d33773",
   "metadata": {},
   "source": [
    "## 2. Bagging"
   ]
  },
  {
   "cell_type": "code",
   "execution_count": 8,
   "id": "12743309-1f56-47d3-92cc-eb0987432050",
   "metadata": {},
   "outputs": [
    {
     "name": "stdout",
     "output_type": "stream",
     "text": [
      "BaggingClassifier 0.9\n"
     ]
    }
   ],
   "source": [
    "print(model_5.__class__.__name__, model_5.score(pp_X_test, pp_y_test))"
   ]
  },
  {
   "cell_type": "code",
   "execution_count": 9,
   "id": "da9c7500-7e57-41b7-b1d8-86cbfa14d974",
   "metadata": {},
   "outputs": [
    {
     "data": {
      "text/plain": [
       "array([3, 4, 2, 4, 0, 4, 3, 4, 3, 4, 3, 3, 4, 3, 4, 4, 1, 2, 0, 3, 4, 2,\n",
       "       4, 0, 0, 0, 4, 4, 4, 3, 4, 4, 4, 3, 3, 2, 3, 1, 4, 1])"
      ]
     },
     "execution_count": 9,
     "metadata": {},
     "output_type": "execute_result"
    }
   ],
   "source": [
    "model_5.predict(X=pp_X_test)"
   ]
  },
  {
   "cell_type": "code",
   "execution_count": 10,
   "id": "fa6e660e-9b8b-4bde-bc5c-6de384d8b406",
   "metadata": {},
   "outputs": [
    {
     "name": "stdout",
     "output_type": "stream",
     "text": [
      "RandomForestClassifier 0.975\n"
     ]
    }
   ],
   "source": [
    "#Random forest classifier \n",
    "\n",
    "print(model_6.__class__.__name__, model_6.score(pp_X_test, pp_y_test))"
   ]
  },
  {
   "cell_type": "code",
   "execution_count": 11,
   "id": "b3ddfdf8-f1d8-4290-b787-e7d47674ea8b",
   "metadata": {},
   "outputs": [
    {
     "data": {
      "text/plain": [
       "array([3, 4, 4, 4, 0, 4, 3, 4, 3, 4, 3, 3, 4, 3, 4, 4, 1, 4, 0, 3, 4, 2,\n",
       "       4, 0, 0, 0, 4, 3, 4, 3, 4, 4, 4, 3, 3, 2, 3, 1, 4, 1])"
      ]
     },
     "execution_count": 11,
     "metadata": {},
     "output_type": "execute_result"
    }
   ],
   "source": [
    "model_6.predict(X=pp_X_test)"
   ]
  },
  {
   "cell_type": "markdown",
   "id": "8473c943-fd56-4cc2-93d0-5c50323ff113",
   "metadata": {},
   "source": [
    "## 3. Boosting"
   ]
  },
  {
   "cell_type": "code",
   "execution_count": 12,
   "id": "55c8ec86-1c0b-462d-9905-f722d23d369e",
   "metadata": {},
   "outputs": [
    {
     "name": "stdout",
     "output_type": "stream",
     "text": [
      "AdaBoostClassifier 0.85\n"
     ]
    }
   ],
   "source": [
    "#RBoosting \n",
    "\n",
    "print(model_7.__class__.__name__, model_7.score(pp_X_test, pp_y_test))"
   ]
  },
  {
   "cell_type": "code",
   "execution_count": 13,
   "id": "b1ed6239-502d-43bf-be81-43a6013487bb",
   "metadata": {},
   "outputs": [
    {
     "data": {
      "text/plain": [
       "array([3, 4, 4, 4, 0, 4, 3, 4, 3, 4, 3, 3, 4, 3, 4, 4, 0, 4, 0, 3, 4, 3,\n",
       "       4, 0, 0, 0, 4, 3, 4, 3, 4, 4, 4, 3, 3, 3, 3, 0, 4, 0])"
      ]
     },
     "execution_count": 13,
     "metadata": {},
     "output_type": "execute_result"
    }
   ],
   "source": [
    "model_7.predict(X=pp_X_test)"
   ]
  },
  {
   "cell_type": "markdown",
   "id": "c77711da-6d2b-48c1-a610-6da1f350cce2",
   "metadata": {},
   "source": [
    "## 4. Stacking"
   ]
  },
  {
   "cell_type": "code",
   "execution_count": 14,
   "id": "04bbbdfb-dd7a-4e68-b2f4-f79f19578ab7",
   "metadata": {},
   "outputs": [
    {
     "name": "stdout",
     "output_type": "stream",
     "text": [
      "StackingClassifier 0.9\n"
     ]
    }
   ],
   "source": [
    "#RBoosting \n",
    "\n",
    "print(model_8.__class__.__name__, model_8.score(pp_X_test, pp_y_test))"
   ]
  },
  {
   "cell_type": "code",
   "execution_count": 15,
   "id": "9db0d57a-dafa-4bd2-a4d7-acfa4ea4b5f7",
   "metadata": {},
   "outputs": [
    {
     "data": {
      "text/plain": [
       "array([3, 4, 4, 4, 0, 4, 3, 3, 3, 4, 3, 3, 4, 3, 4, 4, 0, 4, 0, 3, 4, 2,\n",
       "       4, 0, 0, 0, 4, 3, 4, 3, 4, 4, 4, 3, 3, 2, 3, 1, 4, 0])"
      ]
     },
     "execution_count": 15,
     "metadata": {},
     "output_type": "execute_result"
    }
   ],
   "source": [
    "model_8.predict(X=pp_X_test)"
   ]
  },
  {
   "cell_type": "markdown",
   "id": "c85ec91a-33fd-46ed-98a6-697214d0b18f",
   "metadata": {},
   "source": [
    "# SCORES"
   ]
  },
  {
   "cell_type": "code",
   "execution_count": 17,
   "id": "b81d00d9-a195-408a-ad41-9faf184fc6db",
   "metadata": {},
   "outputs": [
    {
     "name": "stdout",
     "output_type": "stream",
     "text": [
      "- StackingClassifier SCORES : 0.9\n",
      "- SGDClassifier SCORES : 0.925\n",
      "- DecisionTreeClassifier SCORES : 0.975\n",
      "- KNeighborsClassifier SCORES : 0.825\n",
      "- VotingClassifier SCORES : 0.975\n",
      "- BaggingClassifier SCORES : 0.9\n",
      "- RandomForestClassifier SCORES : 0.975\n",
      "- AdaBoostClassifier SCORES : 0.85\n",
      "- StackingClassifier SCORES : 0.9\n"
     ]
    },
    {
     "data": {
      "image/png": "[encoded data removed]",
      "text/plain": [
       "<Figure size 432x288 with 1 Axes>"
      ]
     },
     "metadata": {
      "needs_background": "light"
     },
     "output_type": "display_data"
    }
   ],
   "source": [
    "for model in (model , model_1, model_2, model_3, model_4, model_5 , model_6,model_7,model_8):\n",
    "    model_name =model.__class__.__name__\n",
    "    Model_score= model.score(pp_X_test, pp_y_test)\n",
    "    plt.barh(model_name, Model_score)\n",
    "    print(\"-\",model_name,\"SCORES :\", Model_score)"
   ]
  }
 ],
 "metadata": {
  "kernelspec": {
   "display_name": "Python 3 (ipykernel)",
   "language": "python",
   "name": "python3"
  },
  "language_info": {
   "codemirror_mode": {
    "name": "ipython",
    "version": 3
   },
   "file_extension": ".py",
   "mimetype": "text/x-python",
   "name": "python",
   "nbconvert_exporter": "python",
   "pygments_lexer": "ipython3",
   "version": "3.9.12"
  },
  "widgets": {
   "application/vnd.jupyter.widget-state+json": {
    "state": {},
    "version_major": 2,
    "version_minor": 0
   }
  }
 },
 "nbformat": 4,
 "nbformat_minor": 5
}
