{
 "cells": [
  {
   "cell_type": "code",
   "execution_count": 1,
   "id": "f1b839e2",
   "metadata": {},
   "outputs": [],
   "source": [
    "from sklearn.datasets import make_classification"
   ]
  },
  {
   "cell_type": "code",
   "execution_count": 2,
   "id": "e10ba8b6",
   "metadata": {},
   "outputs": [],
   "source": [
    "X, y = make_classification(n_samples=100, n_features=9, n_informative=7, n_redundant=2, n_repeated=0, n_classes=5)"
   ]
  },
  {
   "cell_type": "code",
   "execution_count": 3,
   "id": "ef392da6",
   "metadata": {},
   "outputs": [
    {
     "data": {
      "text/plain": [
       "((100, 9), (100,))"
      ]
     },
     "execution_count": 3,
     "metadata": {},
     "output_type": "execute_result"
    }
   ],
   "source": [
    "X.shape, y.shape"
   ]
  },
  {
   "cell_type": "code",
   "execution_count": 4,
   "id": "3451112d",
   "metadata": {},
   "outputs": [
    {
     "data": {
      "text/plain": [
       "array([[ 6.65104579e-01, -3.72232524e+00,  2.54015283e+00,\n",
       "         3.40174058e+00, -1.77716956e+00, -1.19896227e+00,\n",
       "         1.92493770e+00,  1.03014233e+00, -9.70890080e-01],\n",
       "       [ 1.55597542e+00,  1.07895530e-01, -1.61109408e+00,\n",
       "        -1.52842278e+00, -1.90681239e+00,  1.56016968e+00,\n",
       "        -1.94609724e+00,  1.54310603e+00,  1.00336723e+00],\n",
       "       [-5.24861398e-01,  4.15857610e-01,  2.37192831e+00,\n",
       "         4.11799666e-01, -5.49132580e-01,  4.33100938e+00,\n",
       "         1.76137068e+00, -2.72984177e+00,  3.07480237e+00],\n",
       "       [-4.97330836e-01,  1.33105797e+00,  1.22723315e+00,\n",
       "         3.62170346e+00, -1.52685445e+00, -1.35093623e+00,\n",
       "         2.90450033e+00, -7.52539794e-01,  9.28325775e-02],\n",
       "       [-1.62172139e+00, -8.88572486e-01,  3.32827085e+00,\n",
       "         3.41186021e-01, -1.01667647e+00,  2.27740853e+00,\n",
       "         3.74031609e-01, -2.48746724e+00,  1.26869684e+00],\n",
       "       [-2.80650889e+00,  1.52374881e+00,  1.44688437e+00,\n",
       "         1.42755472e+00, -6.27018145e-02, -1.09071986e+00,\n",
       "         1.58615387e+00, -6.66960099e-01,  1.33262617e+00],\n",
       "       [ 4.02728759e-01, -9.08964835e-01, -1.96296297e+00,\n",
       "         1.20134593e+00,  1.70841980e+00, -3.20921806e+00,\n",
       "         1.13755579e-01, -2.14454101e-01, -3.36497836e+00],\n",
       "       [ 7.40393246e-03, -4.55014074e-01, -3.14413928e+00,\n",
       "        -1.78756872e+00,  4.94841696e-01, -1.97146848e-01,\n",
       "        -3.28333793e+00, -1.73560658e+00, -2.24612285e+00],\n",
       "       [ 2.07737039e+00, -2.02442234e-01,  1.12215429e+00,\n",
       "         2.09812683e-01,  2.98118225e-01,  2.84206200e+00,\n",
       "         1.74615541e+00, -5.31246723e-01,  1.17494864e+00],\n",
       "       [ 2.23821499e+00, -6.11024266e-01, -3.93875681e-01,\n",
       "        -2.87432515e+00, -2.09370035e+00,  1.88616636e+00,\n",
       "        -3.74288839e+00,  2.49359632e-01, -1.06619596e+00],\n",
       "       [ 5.53815502e-01,  2.94883615e+00, -1.09585568e+00,\n",
       "        -3.89156109e-01, -1.73485021e+00,  5.19842853e-01,\n",
       "        -3.38404115e-01,  6.44290966e-01,  1.27218288e+00],\n",
       "       [ 8.89810955e-01,  8.38886984e-01,  2.40127331e+00,\n",
       "        -2.01568702e+00,  1.07871720e+00, -1.15705635e+00,\n",
       "        -1.77796586e+00, -1.84948758e+00, -4.02080307e+00],\n",
       "       [-7.15229783e-01, -2.22463022e+00, -1.09808103e+00,\n",
       "         2.60031429e+00,  1.42132357e+00, -5.24985636e-01,\n",
       "         1.48553351e+00, -2.80445989e+00, -1.50529807e+00],\n",
       "       [ 9.11654732e-01, -1.85516226e+00,  1.31212538e+00,\n",
       "         1.45395789e+00,  1.84420581e+00,  3.07401605e-01,\n",
       "         2.62080395e+00,  3.00576713e-02, -9.25102721e-02],\n",
       "       [-7.82815418e-01,  3.16924833e+00, -7.52825477e-01,\n",
       "        -2.44933822e+00, -2.51951679e+00,  3.61376960e+00,\n",
       "        -1.16709155e+00,  1.93327907e+00,  5.63140106e+00],\n",
       "       [ 5.18113244e-01, -3.27301633e+00, -3.81704228e+00,\n",
       "         7.11311155e-01,  1.40544421e+00, -2.25790970e+00,\n",
       "        -1.53755398e+00, -5.28208277e-01, -3.51645646e+00],\n",
       "       [ 3.03009780e+00, -7.20944481e-01,  2.50045743e+00,\n",
       "         3.12403021e+00, -1.34342617e+00,  3.47614472e+00,\n",
       "         3.46894913e+00, -3.25186711e+00, -5.38746252e-02],\n",
       "       [ 3.21049120e+00,  2.84039692e+00, -2.83181641e+00,\n",
       "         3.71036095e-01,  3.29163871e+00, -2.24771030e+00,\n",
       "         1.87001082e+00,  3.24483125e-01, -2.91023475e+00],\n",
       "       [-1.07684258e+00,  1.64579456e-03,  1.31006340e+00,\n",
       "         3.32317073e+00,  1.68188078e+00,  2.79530943e-01,\n",
       "         4.10720072e+00, -2.79783439e+00,  5.18974476e-01],\n",
       "       [ 3.84630810e+00, -1.06978849e+00, -3.11974267e-01,\n",
       "         1.87414953e+00, -5.99125594e-01,  1.58044123e+00,\n",
       "         1.63869376e+00, -1.23516325e+00, -1.54567606e+00],\n",
       "       [-6.84903747e-01, -3.65016293e+00, -2.52086061e+00,\n",
       "        -1.44691162e+00,  3.43613008e+00, -1.51007479e+00,\n",
       "        -2.00352424e+00, -6.49838502e-02, -2.41783797e+00],\n",
       "       [-2.09431431e-01, -2.48574971e+00,  1.57464797e+00,\n",
       "         2.38522473e+00, -1.47004790e+00, -9.16506403e-01,\n",
       "         1.33174424e+00,  1.25790447e+00,  1.65879072e-01],\n",
       "       [ 2.04868365e+00,  1.79899589e+00, -8.21094134e-01,\n",
       "        -6.91826394e-01,  1.85955077e+00,  7.51865180e-01,\n",
       "         1.16502853e+00,  3.81116228e-02, -1.22996837e-01],\n",
       "       [-4.12222630e-01, -1.72499448e+00,  5.19430606e-02,\n",
       "        -1.73125984e+00,  2.77783507e+00, -1.38127633e+00,\n",
       "        -1.21572104e+00,  3.94730621e-01, -1.89885312e+00],\n",
       "       [ 2.27839266e+00,  9.33073244e-01, -2.58219020e-01,\n",
       "         2.01897008e+00, -1.86974195e-01, -1.53530400e+00,\n",
       "         1.67857522e+00, -1.77352016e-01, -2.26111499e+00],\n",
       "       [-1.91879114e+00,  1.99220010e+00,  1.29951765e+00,\n",
       "        -1.95320456e+00,  2.10001833e-01, -1.33741932e+00,\n",
       "        -1.70388697e+00, -8.71267488e-02, -4.66999501e-01],\n",
       "       [-5.68837362e+00,  1.80153855e+00,  1.07572911e+00,\n",
       "        -2.68679932e+00, -1.22780664e+00,  2.73507633e+00,\n",
       "        -8.98076984e-01,  2.69017175e+00,  8.30177419e+00],\n",
       "       [-1.78981332e+00, -5.67811998e-01, -9.61622335e-01,\n",
       "         1.62131985e+00, -2.22436775e+00, -2.19272194e+00,\n",
       "        -3.99613690e-01,  1.80310775e+00,  6.67543486e-01],\n",
       "       [-3.39752276e-01,  7.03632362e-01,  1.07209813e+00,\n",
       "         3.08454703e-01,  2.24674478e-01, -4.43856150e+00,\n",
       "        -1.03307564e+00, -2.08015155e-01, -4.43793995e+00],\n",
       "       [ 3.99562726e-01,  4.04542905e-01,  3.40681839e+00,\n",
       "         3.78598040e-02,  2.77135139e+00,  1.49637600e+00,\n",
       "         4.06419587e+00,  1.93286236e+00,  3.07034477e+00],\n",
       "       [-8.64149895e-01, -3.22521784e+00,  2.55418669e+00,\n",
       "        -1.31301147e-01,  3.98153902e+00,  3.03030415e+00,\n",
       "         3.56418552e+00,  1.11721979e+00,  4.02174883e+00],\n",
       "       [-6.64241461e-01, -1.30099242e+00, -1.05539566e+00,\n",
       "         1.36065374e+00, -1.34775573e-01,  1.47735286e+00,\n",
       "         1.12828054e+00, -5.90781139e-01,  1.89781338e+00],\n",
       "       [-1.50921897e+00,  3.43485158e-01,  1.83513021e+00,\n",
       "        -1.39952403e+00, -2.23686087e+00,  1.30313708e+00,\n",
       "        -7.92065668e-01,  2.92143366e+00,  3.86996966e+00],\n",
       "       [ 1.63206460e+00,  1.74394200e+00, -1.82480973e+00,\n",
       "        -3.37748559e+00,  6.33879037e-01,  2.49087423e+00,\n",
       "        -1.11574825e+00,  2.73385153e+00,  2.85799190e+00],\n",
       "       [-1.25249578e+00,  4.73886299e-01,  4.63375425e-01,\n",
       "         4.27467783e+00, -2.15388564e+00, -6.65480273e-01,\n",
       "         2.51950390e+00, -2.23608994e+00,  2.44879575e-01],\n",
       "       [-1.42239516e+00, -2.28679230e-01,  5.77275300e-01,\n",
       "         4.43981408e+00, -3.76713762e+00, -1.17395658e+00,\n",
       "         1.57870722e+00, -1.39815023e+00,  1.29571503e-01],\n",
       "       [-1.09866812e+00, -1.29990717e+00,  2.45832681e+00,\n",
       "         2.88429135e+00, -1.34855606e+00, -2.58361440e+00,\n",
       "         1.41436993e+00,  1.23633033e-01, -1.33998432e+00],\n",
       "       [-3.09063742e-01,  1.50287545e+00,  1.24069560e+00,\n",
       "        -1.58409346e+00, -5.36251643e-01, -7.91451615e-01,\n",
       "        -1.48700858e+00,  3.55859297e-01, -7.57396338e-01],\n",
       "       [-1.87233729e+00,  1.78251606e+00,  2.84014782e+00,\n",
       "         1.43707903e+00, -1.31580030e+00, -2.62877689e+00,\n",
       "         1.56661745e+00,  2.02625997e+00,  9.18345413e-01],\n",
       "       [ 7.26282277e-02,  3.42437904e+00,  1.72698208e-01,\n",
       "        -2.29649490e+00,  4.71967219e-02,  4.30476784e+00,\n",
       "        -4.97883875e-01, -2.99695693e+00,  2.32653709e+00],\n",
       "       [-1.00709282e+00,  6.45950269e-02,  2.37068322e-01,\n",
       "        -1.36789861e+00,  1.58237343e+00,  1.87216044e+00,\n",
       "         1.08433575e+00,  2.16484586e+00,  4.01034578e+00],\n",
       "       [-7.00314113e-01, -2.08485901e+00, -1.24569257e+00,\n",
       "         2.35618452e+00,  6.68759615e-01,  3.59201827e-01,\n",
       "         1.40140360e+00, -2.08128529e+00, -1.36347817e-01],\n",
       "       [ 6.29051345e-01, -1.72898708e+00,  1.73770118e+00,\n",
       "         7.50224423e-03,  3.56944120e-01, -1.84228203e-01,\n",
       "         3.40635158e-01,  8.49283794e-01, -6.00151026e-01],\n",
       "       [-3.45170441e-02,  1.55201457e+00, -8.90728769e-01,\n",
       "        -2.55120265e+00,  2.02645179e+00, -7.52606251e-01,\n",
       "        -9.49414971e-01,  1.86548581e+00,  2.67960500e-01],\n",
       "       [-2.19709982e-01, -3.49983877e+00, -2.04781951e+00,\n",
       "        -1.69208129e+00,  3.25395412e+00, -1.73443341e+00,\n",
       "        -2.04298918e+00,  6.63981133e-01, -2.54973039e+00],\n",
       "       [ 1.66268165e+00,  9.05139563e-01,  2.34596345e+00,\n",
       "         7.65011667e-01, -1.59536463e+00, -1.41205722e+00,\n",
       "         3.71370045e-01,  5.19182604e-01, -2.04931145e+00],\n",
       "       [-6.56690092e-01, -5.03605763e-01, -7.46864491e-02,\n",
       "        -1.34862276e+00,  3.84735848e+00, -7.66854516e-01,\n",
       "         8.73394709e-01,  1.52688474e+00,  5.02423253e-01],\n",
       "       [ 3.32548313e+00,  4.42338521e+00,  1.98611149e+00,\n",
       "        -4.61135483e+00,  1.72662776e+00,  1.48520908e-01,\n",
       "        -2.20503276e+00, -9.63598492e-01, -3.63724587e+00],\n",
       "       [-8.45590769e-01, -9.97580318e-02, -1.45880531e+00,\n",
       "        -8.36995032e-01,  4.07248782e-01,  1.44641797e+00,\n",
       "        -5.62395891e-01, -2.70593072e-01,  1.71066500e+00],\n",
       "       [-3.24980300e-03,  3.21741957e-01,  1.95799498e-01,\n",
       "         2.69085668e+00,  1.25308974e+00,  1.79932556e-01,\n",
       "         3.28116634e+00, -1.89641642e+00,  1.71587247e-01],\n",
       "       [ 9.50144995e-02,  2.54158517e+00, -2.06442154e+00,\n",
       "        -3.36741264e+00, -2.16772136e+00, -1.08285327e+00,\n",
       "        -4.88100429e+00,  8.32389304e-01, -1.44926619e+00],\n",
       "       [-4.80701123e+00,  2.72887337e-01, -1.13417930e+00,\n",
       "        -4.06743757e-01, -8.15927765e-01,  9.08066134e-01,\n",
       "        -2.09206850e+00, -3.40918344e+00,  1.70220642e+00],\n",
       "       [ 1.92890618e+00,  1.97051210e+00, -2.47691945e+00,\n",
       "         2.51467931e-01,  2.39704860e-01, -6.86709108e-01,\n",
       "         5.90873363e-01,  1.12215224e+00, -3.60508636e-01],\n",
       "       [ 2.04736191e+00,  2.24107570e+00, -1.80623944e+00,\n",
       "         1.38900451e+00,  8.46638286e-01, -9.43445567e-01,\n",
       "         1.53701029e+00, -1.23471026e+00, -1.92993517e+00],\n",
       "       [ 2.27007345e+00, -2.03500759e+00,  4.37614571e+00,\n",
       "         4.63056422e+00, -2.07751488e+00, -2.43184301e+00,\n",
       "         3.40949775e+00,  4.35732320e-01, -3.01463176e+00],\n",
       "       [-2.58956775e-01, -1.75336965e+00, -1.02016324e+00,\n",
       "         1.96387981e+00,  1.23487234e+00,  3.22717955e-01,\n",
       "         1.67483360e+00, -1.52769155e+00, -9.11714473e-02],\n",
       "       [ 7.88035987e-01,  3.02501603e+00, -3.92864923e+00,\n",
       "        -2.57795430e+00, -6.76390525e-01,  1.45442789e+00,\n",
       "        -1.69796591e+00,  2.55786701e+00,  2.94717242e+00],\n",
       "       [-1.97548082e+00,  1.28432127e+00, -4.43566305e+00,\n",
       "        -3.39277476e-01, -1.46187382e+00,  1.86304394e+00,\n",
       "        -1.05671751e+00,  4.93731432e-01,  4.20624661e+00],\n",
       "       [ 3.41278062e+00,  1.20879355e+00,  2.07174157e+00,\n",
       "        -5.21904767e+00,  4.48823818e+00, -2.80131139e+00,\n",
       "        -3.66052239e+00, -1.48711389e+00, -8.27207528e+00],\n",
       "       [ 2.35149054e+00,  8.41031499e-01,  9.81536072e-01,\n",
       "         1.70718864e-01,  6.49151275e-01, -4.07275348e+00,\n",
       "         1.22628127e+00,  5.20512388e+00, -1.75605803e+00],\n",
       "       [ 2.12309284e+00, -4.20052109e-01, -3.99415774e-01,\n",
       "        -1.32466404e+00, -3.68302021e-01,  2.41170363e+00,\n",
       "        -7.06122875e-01,  2.56546003e-01,  5.49230855e-01],\n",
       "       [-1.84895752e+00,  1.75450129e+00,  2.42372543e+00,\n",
       "        -4.58420912e-01, -1.41198841e+00,  1.67659343e+00,\n",
       "         9.04549032e-01,  1.20925885e+00,  4.10977168e+00],\n",
       "       [-6.93618954e-01, -1.33831732e+00,  4.75420923e-01,\n",
       "         1.91977345e+00,  2.07821354e+00, -3.42621441e+00,\n",
       "         2.08779018e+00,  1.55565622e+00, -1.36576668e+00],\n",
       "       [ 1.67695458e+00,  1.54080503e+00,  1.44194844e-02,\n",
       "         1.34818781e+00, -4.99239797e+00, -1.18267782e+00,\n",
       "        -1.10008221e+00,  1.24729551e+00, -1.02066726e+00],\n",
       "       [ 1.02649300e+00,  1.65891068e-01,  8.30948305e-01,\n",
       "         3.53200501e+00, -2.51263786e+00,  7.87143799e-01,\n",
       "         2.68267538e+00, -8.07315382e-01,  7.92483185e-01],\n",
       "       [-3.02930154e+00,  7.68896500e-01, -2.76786263e+00,\n",
       "         1.30505025e+00, -2.52782597e+00, -1.45241625e+00,\n",
       "        -1.19965181e+00,  2.89976316e-01,  1.55046907e+00],\n",
       "       [-1.60852569e+00, -8.94818503e-01, -1.15328249e+00,\n",
       "         3.40212506e+00, -5.03731094e+00,  4.08602909e+00,\n",
       "         1.30993892e+00, -1.33199994e+00,  5.33884046e+00],\n",
       "       [ 2.21943879e+00,  6.50035490e-01,  2.11600146e+00,\n",
       "        -1.90383536e+00,  1.50484911e+00, -1.47610933e+00,\n",
       "        -1.71046700e+00, -2.10140168e+00, -5.46378289e+00],\n",
       "       [ 7.90933215e-01, -1.51654871e+00, -1.37556197e+00,\n",
       "         1.73996657e+00, -6.76196923e-01,  1.29418479e+00,\n",
       "         1.19373639e+00, -1.17556313e-01,  1.07807536e+00],\n",
       "       [-3.12019949e-01, -1.91689442e+00, -6.21505702e-02,\n",
       "         1.38798046e-01,  4.93956378e-01,  1.34468994e+00,\n",
       "         8.38226152e-01,  1.29581533e+00,  2.22579531e+00],\n",
       "       [-1.13838366e+00,  1.06102508e+00, -1.25571913e-03,\n",
       "        -3.08782941e+00,  2.84263920e-01,  1.43622366e+00,\n",
       "        -2.03755544e+00,  6.74950526e-01,  1.87575002e+00],\n",
       "       [-6.57221010e-01,  1.60910241e+00,  2.13257934e+00,\n",
       "        -1.28168855e+00, -4.08168617e+00,  2.64155563e+00,\n",
       "        -9.02711992e-01,  2.32932697e+00,  4.46620894e+00],\n",
       "       [-1.69963753e+00,  3.61216925e-01,  3.54620451e-02,\n",
       "         1.67824171e+00,  2.07695866e-01, -1.67880220e+00,\n",
       "         1.38450521e+00,  2.31659617e-01,  4.68077000e-01],\n",
       "       [-2.60212117e-01,  2.43631180e+00, -1.89334448e+00,\n",
       "        -1.47707940e+00,  7.12650782e-02,  5.86631717e-01,\n",
       "        -1.06001955e+00, -1.35511608e-01,  9.39138066e-01],\n",
       "       [ 3.98492756e+00,  2.93060293e+00, -4.11930651e-01,\n",
       "         1.30273225e+00,  5.28727609e-01,  9.73316001e-03,\n",
       "         2.58718235e+00, -4.15298952e-01, -1.61160654e+00],\n",
       "       [ 1.38059085e+00, -6.18417984e-01,  1.29169298e+00,\n",
       "         1.38695459e+00,  3.58019061e-01,  1.67440707e+00,\n",
       "         1.68731174e+00, -2.72069330e+00, -8.90718655e-01],\n",
       "       [ 2.04987362e+00,  2.08228454e+00,  6.96184377e-01,\n",
       "         1.21956688e+00,  4.31435026e-01,  8.96967484e-01,\n",
       "         2.04949330e+00, -2.46650593e+00, -1.21982515e+00],\n",
       "       [ 4.00864688e-01, -2.37880571e-01, -1.04865860e-01,\n",
       "         3.67879613e+00, -2.96981780e-01,  2.55082378e+00,\n",
       "         5.44308130e+00,  1.69234178e+00,  5.35685530e+00],\n",
       "       [ 2.60448022e+00,  1.49911503e+00,  1.52791866e+00,\n",
       "        -5.72563771e-01,  4.97919826e-01, -1.34971108e+00,\n",
       "        -3.23140871e-01, -1.08405937e+00, -4.03065668e+00],\n",
       "       [ 8.71737417e-01,  1.00049071e+00, -2.49610026e-01,\n",
       "        -7.34686897e-01, -2.94543968e+00, -4.06173347e-02,\n",
       "        -2.16523644e+00,  4.79879961e-01, -6.44592074e-01],\n",
       "       [-2.92490392e-01,  1.30131401e+00,  2.85218242e+00,\n",
       "         8.87549118e-01, -9.93120817e-01, -6.60821722e-01,\n",
       "         3.17311300e-01, -2.57269911e+00, -2.00163247e+00],\n",
       "       [-5.03235702e-01, -4.00211395e-01,  1.55124318e+00,\n",
       "        -4.96475447e-01,  2.58220085e+00, -5.56519890e-01,\n",
       "         1.73200417e+00,  1.98645875e+00,  1.14091586e+00],\n",
       "       [ 4.86167907e+00,  3.68020335e+00, -2.27328625e+00,\n",
       "         2.27918919e+00, -5.57133384e-01, -2.75535908e+00,\n",
       "         2.00927015e+00,  7.82758861e-01, -3.65735843e+00],\n",
       "       [ 1.67501934e+00,  6.17476937e-01,  2.50709938e+00,\n",
       "        -1.84809387e+00, -3.16996635e+00, -7.55787929e-02,\n",
       "        -2.31339566e+00,  2.26879678e+00, -7.04778250e-01],\n",
       "       [ 3.06575529e-02, -6.47124864e-01,  2.54222165e+00,\n",
       "         1.95944671e+00, -1.40072851e+00,  1.77788710e+00,\n",
       "         2.11395130e+00, -1.08215210e+00,  1.43197593e+00],\n",
       "       [-5.90289111e-01,  3.31860825e+00, -9.22263432e-01,\n",
       "         1.03724525e+00, -2.24699686e+00,  2.93579346e+00,\n",
       "         1.67334861e+00, -5.29381260e-01,  4.50692228e+00],\n",
       "       [ 2.43481558e+00,  2.69512385e+00, -2.11720273e+00,\n",
       "        -5.07980484e-01, -1.65652900e-01, -7.59779370e-01,\n",
       "        -2.07673868e-03,  1.62198457e+00, -6.07522040e-01],\n",
       "       [ 2.18838685e+00,  2.60823786e+00, -2.67905425e+00,\n",
       "        -1.90731709e+00,  2.22137766e+00,  5.62422471e-02,\n",
       "        -1.73032243e-01,  8.25383456e-01, -5.06358135e-01],\n",
       "       [-1.81328844e+00, -2.85972443e-01,  1.29691469e+00,\n",
       "        -4.13711506e+00,  3.04145256e+00,  1.27625228e+00,\n",
       "        -2.05054594e+00, -3.38111894e-01,  7.45191120e-01],\n",
       "       [ 1.58186079e+00,  1.51837972e+00,  1.71372153e+00,\n",
       "         1.33512909e+00,  1.27882972e-01, -8.08435760e-01,\n",
       "         1.59037648e+00, -1.65856696e+00, -2.33629806e+00],\n",
       "       [ 4.37230506e+00,  1.48519552e+00,  2.23091283e+00,\n",
       "        -4.31062863e+00, -1.21808849e+00,  4.72120446e+00,\n",
       "        -3.09938517e+00, -2.53411286e+00, -1.75190334e+00],\n",
       "       [ 2.46185604e+00, -1.30125121e+00,  4.59174406e+00,\n",
       "        -1.43277590e+00,  2.85419137e+00, -4.18630983e+00,\n",
       "        -1.72499089e+00, -2.62131178e+00, -9.39050498e+00],\n",
       "       [-1.08776874e-01, -4.25117137e-01,  2.58584461e+00,\n",
       "         2.85560945e+00, -7.33412980e-01,  1.66317357e+00,\n",
       "         3.07870721e+00, -2.38288493e+00,  9.45924486e-01],\n",
       "       [ 4.66366291e-01, -6.07927598e-01,  1.01342381e+00,\n",
       "         1.39101569e-01,  1.03394596e+00, -2.68162885e-01,\n",
       "         3.04295022e-01, -1.26181049e+00, -1.67955214e+00],\n",
       "       [ 8.70388194e-01,  3.75496410e+00, -6.05002383e-01,\n",
       "        -1.07394532e+00, -1.69010543e-01,  1.30231831e+00,\n",
       "         2.41000093e-01, -4.08582137e-01,  1.16570842e+00],\n",
       "       [ 1.71669683e+00,  4.68339927e-01, -8.23284587e-01,\n",
       "         2.57001609e+00, -9.30148497e-01, -1.05815018e+00,\n",
       "         1.99583476e+00,  6.14917429e-01, -6.64444726e-01],\n",
       "       [ 3.33483003e+00, -1.94267321e-01,  6.02427568e-01,\n",
       "         1.87257583e+00,  2.79325624e+00, -3.79719187e+00,\n",
       "         3.20996796e+00,  2.59194381e+00, -3.47209325e+00],\n",
       "       [-1.64467294e+00,  2.06548131e-01, -5.15969222e-01,\n",
       "        -2.34316615e+00,  1.84658609e+00,  2.36090886e-01,\n",
       "        -2.42826671e+00, -2.82335552e+00, -1.49004014e+00],\n",
       "       [ 2.23377956e-01,  6.88326071e-01,  1.92239295e+00,\n",
       "         1.49285143e+00, -4.36363665e+00, -2.32758782e+00,\n",
       "        -1.74957459e+00, -1.20994670e+00, -3.37227147e+00],\n",
       "       [ 2.14659929e+00,  2.12276706e+00, -3.18440587e-01,\n",
       "         1.55074546e+00, -1.48553237e+00,  1.58405374e+00,\n",
       "         2.37813464e+00,  6.47314027e-01,  1.88027530e+00]])"
      ]
     },
     "execution_count": 4,
     "metadata": {},
     "output_type": "execute_result"
    }
   ],
   "source": [
    "X"
   ]
  },
  {
   "cell_type": "code",
   "execution_count": 5,
   "id": "d7ab4e39",
   "metadata": {},
   "outputs": [],
   "source": [
    "from sklearn.decomposition import PCA, TruncatedSVD"
   ]
  },
  {
   "cell_type": "code",
   "execution_count": 6,
   "id": "a382cf23",
   "metadata": {},
   "outputs": [],
   "source": [
    "pca = TruncatedSVD(n_components=2, random_state=42)"
   ]
  },
  {
   "cell_type": "code",
   "execution_count": 7,
   "id": "b043d073",
   "metadata": {},
   "outputs": [
    {
     "data": {
      "text/html": [
       "<style>#sk-container-id-1 {color: black;background-color: white;}#sk-container-id-1 pre{padding: 0;}#sk-container-id-1 div.sk-toggleable {background-color: white;}#sk-container-id-1 label.sk-toggleable__label {cursor: pointer;display: block;width: 100%;margin-bottom: 0;padding: 0.3em;box-sizing: border-box;text-align: center;}#sk-container-id-1 label.sk-toggleable__label-arrow:before {content: \"▸\";float: left;margin-right: 0.25em;color: #696969;}#sk-container-id-1 label.sk-toggleable__label-arrow:hover:before {color: black;}#sk-container-id-1 div.sk-estimator:hover label.sk-toggleable__label-arrow:before {color: black;}#sk-container-id-1 div.sk-toggleable__content {max-height: 0;max-width: 0;overflow: hidden;text-align: left;background-color: #f0f8ff;}#sk-container-id-1 div.sk-toggleable__content pre {margin: 0.2em;color: black;border-radius: 0.25em;background-color: #f0f8ff;}#sk-container-id-1 input.sk-toggleable__control:checked~div.sk-toggleable__content {max-height: 200px;max-width: 100%;overflow: auto;}#sk-container-id-1 input.sk-toggleable__control:checked~label.sk-toggleable__label-arrow:before {content: \"▾\";}#sk-container-id-1 div.sk-estimator input.sk-toggleable__control:checked~label.sk-toggleable__label {background-color: #d4ebff;}#sk-container-id-1 div.sk-label input.sk-toggleable__control:checked~label.sk-toggleable__label {background-color: #d4ebff;}#sk-container-id-1 input.sk-hidden--visually {border: 0;clip: rect(1px 1px 1px 1px);clip: rect(1px, 1px, 1px, 1px);height: 1px;margin: -1px;overflow: hidden;padding: 0;position: absolute;width: 1px;}#sk-container-id-1 div.sk-estimator {font-family: monospace;background-color: #f0f8ff;border: 1px dotted black;border-radius: 0.25em;box-sizing: border-box;margin-bottom: 0.5em;}#sk-container-id-1 div.sk-estimator:hover {background-color: #d4ebff;}#sk-container-id-1 div.sk-parallel-item::after {content: \"\";width: 100%;border-bottom: 1px solid gray;flex-grow: 1;}#sk-container-id-1 div.sk-label:hover label.sk-toggleable__label {background-color: #d4ebff;}#sk-container-id-1 div.sk-serial::before {content: \"\";position: absolute;border-left: 1px solid gray;box-sizing: border-box;top: 0;bottom: 0;left: 50%;z-index: 0;}#sk-container-id-1 div.sk-serial {display: flex;flex-direction: column;align-items: center;background-color: white;padding-right: 0.2em;padding-left: 0.2em;position: relative;}#sk-container-id-1 div.sk-item {position: relative;z-index: 1;}#sk-container-id-1 div.sk-parallel {display: flex;align-items: stretch;justify-content: center;background-color: white;position: relative;}#sk-container-id-1 div.sk-item::before, #sk-container-id-1 div.sk-parallel-item::before {content: \"\";position: absolute;border-left: 1px solid gray;box-sizing: border-box;top: 0;bottom: 0;left: 50%;z-index: -1;}#sk-container-id-1 div.sk-parallel-item {display: flex;flex-direction: column;z-index: 1;position: relative;background-color: white;}#sk-container-id-1 div.sk-parallel-item:first-child::after {align-self: flex-end;width: 50%;}#sk-container-id-1 div.sk-parallel-item:last-child::after {align-self: flex-start;width: 50%;}#sk-container-id-1 div.sk-parallel-item:only-child::after {width: 0;}#sk-container-id-1 div.sk-dashed-wrapped {border: 1px dashed gray;margin: 0 0.4em 0.5em 0.4em;box-sizing: border-box;padding-bottom: 0.4em;background-color: white;}#sk-container-id-1 div.sk-label label {font-family: monospace;font-weight: bold;display: inline-block;line-height: 1.2em;}#sk-container-id-1 div.sk-label-container {text-align: center;}#sk-container-id-1 div.sk-container {/* jupyter's `normalize.less` sets `[hidden] { display: none; }` but bootstrap.min.css set `[hidden] { display: none !important; }` so we also need the `!important` here to be able to override the default hidden behavior on the sphinx rendered scikit-learn.org. See: https://github.com/scikit-learn/scikit-learn/issues/21755 */display: inline-block !important;position: relative;}#sk-container-id-1 div.sk-text-repr-fallback {display: none;}</style><div id=\"sk-container-id-1\" class=\"sk-top-container\"><div class=\"sk-text-repr-fallback\"><pre>TruncatedSVD(random_state=42)</pre><b>In a Jupyter environment, please rerun this cell to show the HTML representation or trust the notebook. <br />On GitHub, the HTML representation is unable to render, please try loading this page with nbviewer.org.</b></div><div class=\"sk-container\" hidden><div class=\"sk-item\"><div class=\"sk-estimator sk-toggleable\"><input class=\"sk-toggleable__control sk-hidden--visually\" id=\"sk-estimator-id-1\" type=\"checkbox\" checked><label for=\"sk-estimator-id-1\" class=\"sk-toggleable__label sk-toggleable__label-arrow\">TruncatedSVD</label><div class=\"sk-toggleable__content\"><pre>TruncatedSVD(random_state=42)</pre></div></div></div></div></div>"
      ],
      "text/plain": [
       "TruncatedSVD(random_state=42)"
      ]
     },
     "execution_count": 7,
     "metadata": {},
     "output_type": "execute_result"
    }
   ],
   "source": [
    "pca.fit(X=X)"
   ]
  },
  {
   "cell_type": "code",
   "execution_count": 8,
   "id": "211bb2aa",
   "metadata": {},
   "outputs": [
    {
     "data": {
      "text/plain": [
       "{'algorithm': 'randomized',\n",
       " 'n_components': 2,\n",
       " 'n_iter': 5,\n",
       " 'n_oversamples': 10,\n",
       " 'power_iteration_normalizer': 'auto',\n",
       " 'random_state': 42,\n",
       " 'tol': 0.0,\n",
       " 'n_features_in_': 9,\n",
       " 'components_': array([[ 0.2947177 , -0.04907914,  0.05161021, -0.07907685,  0.26331859,\n",
       "         -0.42883798, -0.14114456, -0.10574503, -0.78579479],\n",
       "        [ 0.05255313, -0.22223463,  0.23147255,  0.70162367, -0.09107933,\n",
       "         -0.13702921,  0.5943417 , -0.13129917, -0.06663806]]),\n",
       " 'explained_variance_': array([12.12685279,  8.51132608]),\n",
       " 'explained_variance_ratio_': array([0.32605233, 0.22884237]),\n",
       " 'singular_values_': array([34.83035575, 29.37454822])}"
      ]
     },
     "execution_count": 8,
     "metadata": {},
     "output_type": "execute_result"
    }
   ],
   "source": [
    "pca.__dict__"
   ]
  },
  {
   "cell_type": "code",
   "execution_count": 9,
   "id": "20d6727d",
   "metadata": {},
   "outputs": [],
   "source": [
    "X_pca = pca.transform(X=X)"
   ]
  },
  {
   "cell_type": "code",
   "execution_count": 16,
   "id": "e795a069",
   "metadata": {},
   "outputs": [
    {
     "data": {
      "text/plain": [
       "(9,)"
      ]
     },
     "execution_count": 16,
     "metadata": {},
     "output_type": "execute_result"
    }
   ],
   "source": [
    "X[0].shape"
   ]
  },
  {
   "cell_type": "code",
   "execution_count": 15,
   "id": "ef3a8e54",
   "metadata": {},
   "outputs": [
    {
     "data": {
      "text/plain": [
       "(2,)"
      ]
     },
     "execution_count": 15,
     "metadata": {},
     "output_type": "execute_result"
    }
   ],
   "source": [
    "X_pca[0].shape"
   ]
  },
  {
   "cell_type": "code",
   "execution_count": 12,
   "id": "16dfa0f2",
   "metadata": {},
   "outputs": [],
   "source": [
    "import matplotlib.pyplot as plt"
   ]
  },
  {
   "cell_type": "code",
   "execution_count": 13,
   "id": "e0efe211",
   "metadata": {},
   "outputs": [
    {
     "name": "stdout",
     "output_type": "stream",
     "text": [
      "explained variance ratio (first two components): [0.32605233 0.22884237]\n"
     ]
    },
    {
     "data": {
      "image/png": "[encoded data removed]",
      "text/plain": [
       "<Figure size 432x288 with 1 Axes>"
      ]
     },
     "metadata": {
      "needs_background": "light"
     },
     "output_type": "display_data"
    }
   ],
   "source": [
    "# Percentage of variance explained for each components\n",
    "target_names = ['A', 'B', 'C', 'D', 'E']\n",
    "print(\n",
    "    \"explained variance ratio (first two components): %s\"\n",
    "    % str(pca.explained_variance_ratio_)\n",
    ")\n",
    "\n",
    "plt.figure()\n",
    "colors = [\"navy\", \"turquoise\", \"darkorange\", \"red\", \"green\"]\n",
    "lw = 2\n",
    "\n",
    "for color, i, target_name in zip(colors, [0, 1, 2, 3, 4], target_names):\n",
    "    plt.scatter(\n",
    "        X_pca[y == i, 0], X_pca[y == i, 1], color=color, alpha=0.8, lw=lw, label=target_name\n",
    "    )\n",
    "plt.legend(loc=\"best\", shadow=False, scatterpoints=1)\n",
    "plt.title(\"PCA of dataset\")\n",
    "plt.show()"
   ]
  },
  {
   "cell_type": "code",
   "execution_count": null,
   "id": "511e3f4c",
   "metadata": {},
   "outputs": [],
   "source": []
  }
 ],
 "metadata": {
  "kernelspec": {
   "display_name": "Python 3 (ipykernel)",
   "language": "python",
   "name": "python3"
  },
  "language_info": {
   "codemirror_mode": {
    "name": "ipython",
    "version": 3
   },
   "file_extension": ".py",
   "mimetype": "text/x-python",
   "name": "python",
   "nbconvert_exporter": "python",
   "pygments_lexer": "ipython3",
   "version": "3.9.12"
  },
  "widgets": {
   "application/vnd.jupyter.widget-state+json": {
    "state": {},
    "version_major": 2,
    "version_minor": 0
   }
  }
 },
 "nbformat": 4,
 "nbformat_minor": 5
}
