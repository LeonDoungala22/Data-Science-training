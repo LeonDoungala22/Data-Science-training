{
 "cells": [
  {
   "cell_type": "code",
   "execution_count": 1,
   "id": "7ecdef09-cb19-4c58-b5ad-f0e0e3951e40",
   "metadata": {},
   "outputs": [],
   "source": [
    "import pandas as pd\n",
    "import pickle\n",
    "import numpy as np\n",
    "\n",
    "from sklearn import tree \n",
    "from sklearn.linear_model import LogisticRegression , LinearRegression \n",
    "from sklearn.neighbors import KNeighborsClassifier\n",
    "\n",
    "import warnings\n",
    "warnings.filterwarnings(\"ignore\")\n",
    "\n",
    "from sklearn.model_selection import train_test_split\n",
    "import apply_preprocessing_9 as apply_pp "
   ]
  },
  {
   "cell_type": "code",
   "execution_count": 2,
   "id": "fc314788-c428-429d-9462-de0635fadee3",
   "metadata": {},
   "outputs": [],
   "source": [
    "Data = pd.read_csv('Dataset/test.csv', header=0)"
   ]
  },
  {
   "cell_type": "code",
   "execution_count": 3,
   "id": "c22a2612-887b-4288-b068-3a46c18163e9",
   "metadata": {},
   "outputs": [],
   "source": [
    "# Save/serialize the fitted model to local OS\n",
    "\n",
    "with open('pickle/modelTree.pkl', 'rb') as output_file:\n",
    "    modelTree = pickle.load(output_file)\n",
    "\n",
    "with open('pickle/modelRl.pkl', 'rb') as output_file:\n",
    "    modelRl= pickle.load(output_file)\n",
    "    \n",
    "with open('pickle/modelLinReg.pkl', 'rb') as output_file:\n",
    "    modelLinReg = pickle.load(output_file)\n",
    "\n",
    "with open('pickle/modelkNN.pkl', 'rb') as output_file:\n",
    "    modelkNN = pickle.load(output_file)"
   ]
  },
  {
   "cell_type": "code",
   "execution_count": 4,
   "id": "770da5b0-986b-4a3f-be3a-03e679038ae3",
   "metadata": {},
   "outputs": [],
   "source": [
    "#Preprosessing funtion\n",
    "\n",
    "pp_X_test , pp_y_test  = apply_pp.apply_preprocessing(Data, is_training=False)"
   ]
  },
  {
   "cell_type": "code",
   "execution_count": 5,
   "id": "1179c6be-0ed8-4926-a182-d711dca4cab2",
   "metadata": {},
   "outputs": [
    {
     "data": {
      "text/html": [
       "<div>\n",
       "<style scoped>\n",
       "    .dataframe tbody tr th:only-of-type {\n",
       "        vertical-align: middle;\n",
       "    }\n",
       "\n",
       "    .dataframe tbody tr th {\n",
       "        vertical-align: top;\n",
       "    }\n",
       "\n",
       "    .dataframe thead th {\n",
       "        text-align: right;\n",
       "    }\n",
       "</style>\n",
       "<table border=\"1\" class=\"dataframe\">\n",
       "  <thead>\n",
       "    <tr style=\"text-align: right;\">\n",
       "      <th></th>\n",
       "      <th>0</th>\n",
       "      <th>1</th>\n",
       "      <th>2</th>\n",
       "      <th>3</th>\n",
       "      <th>4</th>\n",
       "      <th>5</th>\n",
       "      <th>6</th>\n",
       "      <th>7</th>\n",
       "      <th>8</th>\n",
       "      <th>9</th>\n",
       "      <th>10</th>\n",
       "      <th>11</th>\n",
       "      <th>12</th>\n",
       "    </tr>\n",
       "  </thead>\n",
       "  <tbody>\n",
       "    <tr>\n",
       "      <th>0</th>\n",
       "      <td>1.256058</td>\n",
       "      <td>-0.626624</td>\n",
       "      <td>1.018248</td>\n",
       "      <td>-0.251312</td>\n",
       "      <td>1.359361</td>\n",
       "      <td>-4.996833</td>\n",
       "      <td>0.700196</td>\n",
       "      <td>-1.364831</td>\n",
       "      <td>1.441045</td>\n",
       "      <td>1.365766</td>\n",
       "      <td>0.832361</td>\n",
       "      <td>-0.548937</td>\n",
       "      <td>-0.708337</td>\n",
       "    </tr>\n",
       "    <tr>\n",
       "      <th>1</th>\n",
       "      <td>-0.481826</td>\n",
       "      <td>-0.626624</td>\n",
       "      <td>0.041290</td>\n",
       "      <td>-0.251312</td>\n",
       "      <td>0.103858</td>\n",
       "      <td>-0.006679</td>\n",
       "      <td>0.494963</td>\n",
       "      <td>0.001723</td>\n",
       "      <td>-0.522523</td>\n",
       "      <td>-0.473149</td>\n",
       "      <td>-0.248507</td>\n",
       "      <td>0.506611</td>\n",
       "      <td>-0.547375</td>\n",
       "    </tr>\n",
       "    <tr>\n",
       "      <th>2</th>\n",
       "      <td>1.157095</td>\n",
       "      <td>-0.626624</td>\n",
       "      <td>1.018248</td>\n",
       "      <td>-0.251312</td>\n",
       "      <td>1.331741</td>\n",
       "      <td>0.149948</td>\n",
       "      <td>0.720531</td>\n",
       "      <td>-0.460918</td>\n",
       "      <td>1.441045</td>\n",
       "      <td>1.365766</td>\n",
       "      <td>0.832361</td>\n",
       "      <td>0.445876</td>\n",
       "      <td>0.486144</td>\n",
       "    </tr>\n",
       "    <tr>\n",
       "      <th>3</th>\n",
       "      <td>0.533952</td>\n",
       "      <td>-0.626624</td>\n",
       "      <td>1.163234</td>\n",
       "      <td>-0.251312</td>\n",
       "      <td>0.622501</td>\n",
       "      <td>-0.298344</td>\n",
       "      <td>1.202590</td>\n",
       "      <td>-1.199614</td>\n",
       "      <td>-0.239951</td>\n",
       "      <td>0.275069</td>\n",
       "      <td>-1.565183</td>\n",
       "      <td>-0.567988</td>\n",
       "      <td>-0.862378</td>\n",
       "    </tr>\n",
       "    <tr>\n",
       "      <th>4</th>\n",
       "      <td>-0.933579</td>\n",
       "      <td>-0.626624</td>\n",
       "      <td>-0.768495</td>\n",
       "      <td>-0.251312</td>\n",
       "      <td>-0.180823</td>\n",
       "      <td>0.064841</td>\n",
       "      <td>-1.104439</td>\n",
       "      <td>1.232367</td>\n",
       "      <td>-0.239951</td>\n",
       "      <td>-1.416296</td>\n",
       "      <td>0.832361</td>\n",
       "      <td>0.393251</td>\n",
       "      <td>-1.044646</td>\n",
       "    </tr>\n",
       "  </tbody>\n",
       "</table>\n",
       "</div>"
      ],
      "text/plain": [
       "         0         1         2         3         4         5         6   \\\n",
       "0  1.256058 -0.626624  1.018248 -0.251312  1.359361 -4.996833  0.700196   \n",
       "1 -0.481826 -0.626624  0.041290 -0.251312  0.103858 -0.006679  0.494963   \n",
       "2  1.157095 -0.626624  1.018248 -0.251312  1.331741  0.149948  0.720531   \n",
       "3  0.533952 -0.626624  1.163234 -0.251312  0.622501 -0.298344  1.202590   \n",
       "4 -0.933579 -0.626624 -0.768495 -0.251312 -0.180823  0.064841 -1.104439   \n",
       "\n",
       "         7         8         9         10        11        12  \n",
       "0 -1.364831  1.441045  1.365766  0.832361 -0.548937 -0.708337  \n",
       "1  0.001723 -0.522523 -0.473149 -0.248507  0.506611 -0.547375  \n",
       "2 -0.460918  1.441045  1.365766  0.832361  0.445876  0.486144  \n",
       "3 -1.199614 -0.239951  0.275069 -1.565183 -0.567988 -0.862378  \n",
       "4  1.232367 -0.239951 -1.416296  0.832361  0.393251 -1.044646  "
      ]
     },
     "execution_count": 5,
     "metadata": {},
     "output_type": "execute_result"
    }
   ],
   "source": [
    "pp_X_test.head()"
   ]
  },
  {
   "cell_type": "code",
   "execution_count": 6,
   "id": "e452593a-6b62-4e52-bb96-f981de1f7df1",
   "metadata": {},
   "outputs": [
    {
     "data": {
      "text/html": [
       "<div>\n",
       "<style scoped>\n",
       "    .dataframe tbody tr th:only-of-type {\n",
       "        vertical-align: middle;\n",
       "    }\n",
       "\n",
       "    .dataframe tbody tr th {\n",
       "        vertical-align: top;\n",
       "    }\n",
       "\n",
       "    .dataframe thead th {\n",
       "        text-align: right;\n",
       "    }\n",
       "</style>\n",
       "<table border=\"1\" class=\"dataframe\">\n",
       "  <thead>\n",
       "    <tr style=\"text-align: right;\">\n",
       "      <th></th>\n",
       "      <th>medv</th>\n",
       "    </tr>\n",
       "  </thead>\n",
       "  <tbody>\n",
       "    <tr>\n",
       "      <th>0</th>\n",
       "      <td>27</td>\n",
       "    </tr>\n",
       "    <tr>\n",
       "      <th>1</th>\n",
       "      <td>21</td>\n",
       "    </tr>\n",
       "    <tr>\n",
       "      <th>2</th>\n",
       "      <td>17</td>\n",
       "    </tr>\n",
       "    <tr>\n",
       "      <th>3</th>\n",
       "      <td>24</td>\n",
       "    </tr>\n",
       "    <tr>\n",
       "      <th>4</th>\n",
       "      <td>22</td>\n",
       "    </tr>\n",
       "  </tbody>\n",
       "</table>\n",
       "</div>"
      ],
      "text/plain": [
       "   medv\n",
       "0    27\n",
       "1    21\n",
       "2    17\n",
       "3    24\n",
       "4    22"
      ]
     },
     "execution_count": 6,
     "metadata": {},
     "output_type": "execute_result"
    }
   ],
   "source": [
    "pp_y_test.head()"
   ]
  },
  {
   "cell_type": "code",
   "execution_count": 7,
   "id": "36d2aa65-6d3b-4dd7-a63b-d3ec462d29f6",
   "metadata": {},
   "outputs": [
    {
     "data": {
      "text/plain": [
       "array([25, 21, 25, 25, 21, 25, 21, 25, 25, 21, 21, 21, 25, 21, 25, 25, 25,\n",
       "       21, 21, 21, 21, 21, 25, 25, 21, 25, 25, 21, 21, 21, 25, 25, 25, 21,\n",
       "       21, 21, 25, 21, 21, 25, 21, 21, 21, 21, 25, 21, 21, 21, 25, 21, 21,\n",
       "       21, 25, 25, 21, 21, 21, 21, 21, 25, 25, 21, 21, 21, 21, 21, 21, 25,\n",
       "       25, 21, 21, 25, 21, 21, 21, 21, 25, 25, 25, 21, 25, 21, 21, 25, 21,\n",
       "       21, 21, 21, 21, 21, 21, 21, 21, 25, 25, 25, 25, 21, 25, 25, 21, 21])"
      ]
     },
     "execution_count": 7,
     "metadata": {},
     "output_type": "execute_result"
    }
   ],
   "source": [
    "y_pred_Tree = modelTree.predict(X=pp_X_test)\n",
    "y_pred_Tree"
   ]
  },
  {
   "cell_type": "code",
   "execution_count": 8,
   "id": "cb557c79-dbac-4713-9d40-e493e78d386f",
   "metadata": {},
   "outputs": [
    {
     "name": "stdout",
     "output_type": "stream",
     "text": [
      "Accuracy DECISION TREE x_test :  6.86 %\n"
     ]
    }
   ],
   "source": [
    "accuracyTreeTrain = modelTree.score(pp_X_test,pp_y_test)\n",
    "print('Accuracy DECISION TREE x_test : ', round(accuracyTreeTrain*100,2),'%')"
   ]
  },
  {
   "cell_type": "code",
   "execution_count": 9,
   "id": "fb42c997-0ce9-4f49-a2eb-8cf503ce0a0e",
   "metadata": {},
   "outputs": [
    {
     "data": {
      "text/plain": [
       "array([20, 23, 23, 43, 23, 21, 20, 23, 11, 23, 20, 42, 23, 42, 23, 23, 23,\n",
       "       23, 23, 23, 23, 42, 50, 23, 20, 23, 23, 23, 42, 23, 23, 11, 50, 42,\n",
       "       20, 23, 43, 23, 43, 50, 42, 19, 23, 21, 20, 23, 19, 33, 43, 21, 43,\n",
       "       23, 11, 21, 23, 23, 48, 23, 23, 23, 23, 23, 20, 23, 20, 23, 20, 23,\n",
       "       23, 20, 23, 20, 23, 19, 20, 19, 11, 10, 23, 23, 23, 23, 23, 23, 23,\n",
       "       19, 21, 23, 23, 19, 20, 42, 42, 23, 23, 23, 43, 48, 23, 23, 42, 23])"
      ]
     },
     "execution_count": 9,
     "metadata": {},
     "output_type": "execute_result"
    }
   ],
   "source": [
    "# LogisticRegression\n",
    "\n",
    "y_pred_LOGIC_R =  modelRl.predict(X=pp_X_test)\n",
    "y_pred_LOGIC_R"
   ]
  },
  {
   "cell_type": "code",
   "execution_count": 10,
   "id": "0c1c3f36-698b-4e04-afbb-057cd678aa5b",
   "metadata": {},
   "outputs": [
    {
     "name": "stdout",
     "output_type": "stream",
     "text": [
      "Accuracy LOGIC REGRESSION x_test :  10.78 %\n"
     ]
    }
   ],
   "source": [
    "accuracyRlTest = modelRl.score(pp_X_test,pp_y_test)\n",
    "print('Accuracy LOGIC REGRESSION x_test : ', round(accuracyRlTest*100,2),'%')"
   ]
  },
  {
   "cell_type": "code",
   "execution_count": 11,
   "id": "d3864a49-6673-4ef3-beb1-da1af3259935",
   "metadata": {},
   "outputs": [
    {
     "data": {
      "text/plain": [
       "array([[-10.88769673],\n",
       "       [ 36.10905275],\n",
       "       [  9.53533453],\n",
       "       [ 27.01451898],\n",
       "       [ 39.91898323],\n",
       "       [ 18.59955338],\n",
       "       [ 64.89198408],\n",
       "       [ 15.36056619],\n",
       "       [  6.71232408],\n",
       "       [ 57.37125475],\n",
       "       [ 31.15799735],\n",
       "       [ 64.3529256 ],\n",
       "       [  6.59289423],\n",
       "       [ 77.74858071],\n",
       "       [  1.75643592],\n",
       "       [ 13.63966144],\n",
       "       [ 22.34544012],\n",
       "       [ 65.11260598],\n",
       "       [ 27.53337379],\n",
       "       [ 60.18106531],\n",
       "       [ 43.07638641],\n",
       "       [ 69.69349544],\n",
       "       [ 31.88339316],\n",
       "       [  9.9873989 ],\n",
       "       [ 66.33008128],\n",
       "       [  8.71948402],\n",
       "       [  3.52826854],\n",
       "       [ 64.227697  ],\n",
       "       [ 52.7565634 ],\n",
       "       [ 45.79040903],\n",
       "       [ -3.82979738],\n",
       "       [  6.82905449],\n",
       "       [ 29.02208103],\n",
       "       [ 68.59967358],\n",
       "       [ 48.19447122],\n",
       "       [ 56.35298262],\n",
       "       [ 24.91300141],\n",
       "       [ 39.40026406],\n",
       "       [ 44.73784556],\n",
       "       [ 40.56567725],\n",
       "       [ 72.70812863],\n",
       "       [ 34.95962531],\n",
       "       [ 26.81318257],\n",
       "       [ 37.03392398],\n",
       "       [ -2.17395032],\n",
       "       [ 33.10985836],\n",
       "       [ 55.85881378],\n",
       "       [ 68.35169678],\n",
       "       [ 27.59686802],\n",
       "       [ 48.9692089 ],\n",
       "       [ 46.36309307],\n",
       "       [ 53.17679131],\n",
       "       [ 17.23276912],\n",
       "       [  5.38499787],\n",
       "       [ 36.73302558],\n",
       "       [ 38.10492207],\n",
       "       [ 50.770804  ],\n",
       "       [ 42.50616318],\n",
       "       [ 43.84077734],\n",
       "       [ 13.14443232],\n",
       "       [  8.83331061],\n",
       "       [ 34.13298223],\n",
       "       [ 61.9681475 ],\n",
       "       [ 60.60095333],\n",
       "       [ 60.40436201],\n",
       "       [ 40.57156173],\n",
       "       [ 31.87495808],\n",
       "       [ 24.25359849],\n",
       "       [ 27.10509925],\n",
       "       [ 32.56495147],\n",
       "       [ 46.87115083],\n",
       "       [  2.11886075],\n",
       "       [ 31.92180359],\n",
       "       [ 54.54823899],\n",
       "       [ 58.07307028],\n",
       "       [ 56.50641153],\n",
       "       [  5.57123138],\n",
       "       [-10.58634132],\n",
       "       [ 17.89117401],\n",
       "       [ 36.72826601],\n",
       "       [ 24.98673677],\n",
       "       [ 35.60302839],\n",
       "       [ 43.0275708 ],\n",
       "       [  6.8013449 ],\n",
       "       [ 34.10178262],\n",
       "       [ 50.76347544],\n",
       "       [ 40.01579166],\n",
       "       [ 61.0628437 ],\n",
       "       [ 62.26870953],\n",
       "       [ 37.27003093],\n",
       "       [ 29.6726365 ],\n",
       "       [ 64.9917387 ],\n",
       "       [ 78.96711412],\n",
       "       [ 14.13539772],\n",
       "       [  6.03068134],\n",
       "       [ 29.01340677],\n",
       "       [ -8.44361404],\n",
       "       [ 57.85467194],\n",
       "       [  7.46418046],\n",
       "       [ 24.86103485],\n",
       "       [ 74.14852237],\n",
       "       [ 57.30137997]])"
      ]
     },
     "execution_count": 11,
     "metadata": {},
     "output_type": "execute_result"
    }
   ],
   "source": [
    "#LinearRegression\n",
    "\n",
    "y_pred_LinR =  modelLinReg.predict(X=pp_X_test)\n",
    "y_pred_LinR"
   ]
  },
  {
   "cell_type": "code",
   "execution_count": 15,
   "id": "98914ff6-98c9-4da0-a3ee-0c3cf3ecc24c",
   "metadata": {},
   "outputs": [
    {
     "name": "stdout",
     "output_type": "stream",
     "text": [
      "Accuracy LINEAR REGRESSION x_test :  -623.6 %\n"
     ]
    }
   ],
   "source": [
    "modelLinRegTest = modelLinReg.score(pp_X_test,pp_y_test)\n",
    "print('Accuracy LINEAR REGRESSION x_test : ', round(modelLinRegTest*100,2),'%') #TO FIND "
   ]
  },
  {
   "cell_type": "code",
   "execution_count": 13,
   "id": "d84e79fb-c801-4e9e-8f69-70349e60f21a",
   "metadata": {},
   "outputs": [
    {
     "data": {
      "text/plain": [
       "array([13, 13, 13, 13, 13, 13, 13, 13, 13, 13, 13, 13, 13, 13, 13, 13, 13,\n",
       "       13, 13, 13, 13, 13, 13, 13, 13, 13, 13, 13, 13, 13, 13, 13, 13, 13,\n",
       "       13, 13, 13, 13, 13, 13, 13, 13, 13, 13, 13, 13, 13, 13, 13, 13, 13,\n",
       "       13, 13, 13, 13, 13, 13, 13, 13, 13, 13, 13, 13, 13, 13, 13, 13, 13,\n",
       "       13, 13, 13, 13, 13, 13, 13, 13, 13, 13, 13, 13, 13, 13, 13, 13, 13,\n",
       "       13, 13, 13, 13, 13, 13, 13, 13, 13, 13, 13, 13, 13, 13, 13, 13, 13])"
      ]
     },
     "execution_count": 13,
     "metadata": {},
     "output_type": "execute_result"
    }
   ],
   "source": [
    "#KNN\n",
    "\n",
    "y_pred_KNN = modelkNN.predict(pp_X_test)\n",
    "y_pred_KNN"
   ]
  },
  {
   "cell_type": "code",
   "execution_count": 14,
   "id": "0b487343-3e6b-4e7e-89c8-256be91c0868",
   "metadata": {},
   "outputs": [
    {
     "name": "stdout",
     "output_type": "stream",
     "text": [
      "Accuracy KNN x_test :  4.9 %\n"
     ]
    }
   ],
   "source": [
    "modelkNNTrain = modelkNN.score(pp_X_test,pp_y_test)\n",
    "print('Accuracy KNN x_test : ', round(modelkNNTrain*100,2),'%')"
   ]
  }
 ],
 "metadata": {
  "kernelspec": {
   "display_name": "Python 3 (ipykernel)",
   "language": "python",
   "name": "python3"
  },
  "language_info": {
   "codemirror_mode": {
    "name": "ipython",
    "version": 3
   },
   "file_extension": ".py",
   "mimetype": "text/x-python",
   "name": "python",
   "nbconvert_exporter": "python",
   "pygments_lexer": "ipython3",
   "version": "3.9.12"
  },
  "widgets": {
   "application/vnd.jupyter.widget-state+json": {
    "state": {},
    "version_major": 2,
    "version_minor": 0
   }
  }
 },
 "nbformat": 4,
 "nbformat_minor": 5
}
