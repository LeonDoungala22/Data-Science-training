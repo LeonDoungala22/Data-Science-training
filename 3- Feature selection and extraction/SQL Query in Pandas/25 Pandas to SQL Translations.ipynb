{
 "cells": [
  {
   "cell_type": "markdown",
   "id": "437fd076-2d97-49ab-b017-2a79546582a2",
   "metadata": {},
   "source": [
    "## 25 Pandas to SQL Translations"
   ]
  },
  {
   "cell_type": "markdown",
   "id": "b03d3f43-28d9-4f7a-9fb8-5d23ac93ad93",
   "metadata": {},
   "source": [
    "25 common SQL Queries and their corresponding methods in Pandas"
   ]
  },
  {
   "cell_type": "markdown",
   "id": "46b3c867-2802-487f-a883-a63ca49c17d0",
   "metadata": {},
   "source": [
    "[More details](https://towardsdatascience.com/pandas-isnt-enough-learn-these-25-pandas-to-sql-translations-to-upgrade-your-data-analysis-game-af8d0c26948d)"
   ]
  },
  {
   "cell_type": "code",
   "execution_count": null,
   "id": "ed93dc0d-c7b3-4acd-b28d-e33d611a8123",
   "metadata": {},
   "outputs": [],
   "source": []
  },
  {
   "cell_type": "code",
   "execution_count": null,
   "id": "3ffd69c2-085b-498a-a1fc-9d2e31ddc16a",
   "metadata": {},
   "outputs": [],
   "source": []
  },
  {
   "cell_type": "code",
   "execution_count": null,
   "id": "82767c77-e1f5-4902-8091-43a49f33d097",
   "metadata": {},
   "outputs": [],
   "source": []
  },
  {
   "cell_type": "code",
   "execution_count": null,
   "id": "f5b06407-2994-42d9-acc8-127809fe034d",
   "metadata": {},
   "outputs": [],
   "source": []
  },
  {
   "cell_type": "code",
   "execution_count": null,
   "id": "00a864f4-efec-4608-bae1-5da0e976d36c",
   "metadata": {},
   "outputs": [],
   "source": []
  },
  {
   "cell_type": "code",
   "execution_count": null,
   "id": "da928ce6-5184-4618-bbd2-2e94770b6e10",
   "metadata": {},
   "outputs": [],
   "source": []
  },
  {
   "cell_type": "code",
   "execution_count": null,
   "id": "ed61bfa6-a4fb-4728-8f63-087db44fcbab",
   "metadata": {},
   "outputs": [],
   "source": []
  },
  {
   "cell_type": "code",
   "execution_count": null,
   "id": "cd0b67e9-a32c-4a74-9362-dcc7c5e613b0",
   "metadata": {},
   "outputs": [],
   "source": []
  },
  {
   "cell_type": "code",
   "execution_count": null,
   "id": "96aa5521-a4ae-4666-b91e-d6e74c4cd7ee",
   "metadata": {},
   "outputs": [],
   "source": []
  },
  {
   "cell_type": "code",
   "execution_count": null,
   "id": "8404c80c-4ae3-464d-a41c-87e8f2f56ad5",
   "metadata": {},
   "outputs": [],
   "source": []
  },
  {
   "cell_type": "code",
   "execution_count": null,
   "id": "a6a9cf20-2f39-42ea-a2cd-ead918bb439c",
   "metadata": {},
   "outputs": [],
   "source": []
  },
  {
   "cell_type": "code",
   "execution_count": null,
   "id": "13b509ce-c4d4-498c-b492-a7f2b4938fa8",
   "metadata": {},
   "outputs": [],
   "source": []
  },
  {
   "cell_type": "code",
   "execution_count": null,
   "id": "b894596b-f943-42bd-8fd9-c9b86c6d39c3",
   "metadata": {},
   "outputs": [],
   "source": []
  },
  {
   "cell_type": "code",
   "execution_count": null,
   "id": "c2eadc62-5c91-4756-98af-2f39dab00308",
   "metadata": {},
   "outputs": [],
   "source": []
  }
 ],
 "metadata": {
  "kernelspec": {
   "display_name": "Python 3 (ipykernel)",
   "language": "python",
   "name": "python3"
  },
  "language_info": {
   "codemirror_mode": {
    "name": "ipython",
    "version": 3
   },
   "file_extension": ".py",
   "mimetype": "text/x-python",
   "name": "python",
   "nbconvert_exporter": "python",
   "pygments_lexer": "ipython3",
   "version": "3.9.12"
  },
  "widgets": {
   "application/vnd.jupyter.widget-state+json": {
    "state": {},
    "version_major": 2,
    "version_minor": 0
   }
  }
 },
 "nbformat": 4,
 "nbformat_minor": 5
}
