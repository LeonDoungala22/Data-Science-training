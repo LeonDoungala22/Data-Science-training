{
 "cells": [
  {
   "cell_type": "code",
   "execution_count": null,
   "id": "8f011fbe-0938-41c3-bbe4-470aa12727de",
   "metadata": {},
   "outputs": [],
   "source": []
  },
  {
   "cell_type": "code",
   "execution_count": null,
   "id": "2e9aa94a-2490-42cb-850a-b7a0c90918c5",
   "metadata": {},
   "outputs": [],
   "source": []
  },
  {
   "cell_type": "code",
   "execution_count": null,
   "id": "941acf5f-747b-4082-8947-b83472b26acc",
   "metadata": {},
   "outputs": [],
   "source": []
  },
  {
   "cell_type": "code",
   "execution_count": null,
   "id": "1603df46-a082-4949-bac9-322d288c5d0d",
   "metadata": {},
   "outputs": [],
   "source": []
  },
  {
   "cell_type": "code",
   "execution_count": 49,
   "id": "3205a7fb-df0c-4b34-8e23-d0397208659f",
   "metadata": {},
   "outputs": [],
   "source": [
    "import category_encoders # To add in import \n",
    "from sklearn.base import BaseEstimator, TransformerMixin"
   ]
  },
  {
   "cell_type": "code",
   "execution_count": 50,
   "id": "45c39acb-7d3b-4cff-8e09-be88982ce4e0",
   "metadata": {},
   "outputs": [],
   "source": [
    "class CategoricalEncoder(BaseEstimator, TransformerMixin):\n",
    "\n",
    "   \n",
    "    \n",
    "    def __init__(self, categorical_encoder, categorical_columns, cardinality, verbose):\n",
    "        # load config info\n",
    "        self.categorical_encoder = categorical_encoder\n",
    "        self.categorical_columns = categorical_columns\n",
    "        self.cardinality = cardinality\n",
    "        self.verbose = verbose\n",
    "    \n",
    "    def fit(self, X, y=None):\n",
    "        if self.categorical_encoder == 'CustomEnc':\n",
    "            categorical_encoder = CustomEnc(categorical_columns=self.categorical_columns, cardinality=self.cardinality, verbose=False)\n",
    "        \n",
    "        # Fit the categorical encoder over the training set\n",
    "        if self.verbose:\n",
    "            print('INFO: fitting the {} over the training set...'.format(self.categorical_encoder))\n",
    "        categorical_encoder.fit(X[self.categorical_columns], y)\n",
    "        \n",
    "        with open('categorical_enc.pkl', 'wb') as output_file:\n",
    "            pickle.dump(categorical_encoder, output_file)\n",
    "        \n",
    "        return self\n",
    "    \n",
    "    def transform(self, X):\n",
    "        # Load the fitted categorical encoder fitted before\n",
    "        with open('categorical_enc.pkl', 'rb') as input_file:\n",
    "            pkl_high = pickle.load(input_file)\n",
    "        \n",
    "        # Apply the conversion from categorical to numerical features with the loaded encoder\n",
    "        if self.verbose:\n",
    "            print('INFO: transforming the dataset with the fitted {}...'.format(self.categorical_encoder))\n",
    "        encoded_X = categorical_encoder.transform(X[self.categorical_columns])\n",
    "        \n",
    "        # Convert from NumPy array to Pandas DataFrame\n",
    "        encoded_X = pd.DataFrame(data=encoded_X, index=X.index, columns=self.categorical_columns)\n",
    "        print('encoded_X.shape: {}'.format(encoded_X.shape))\n",
    "        \n",
    "        X = X.drop(columns=self.categorical_columns, inplace=False)\n",
    "        print('X.shape: {}'.format(X.shape))\n",
    "        \n",
    "        final_df = pd.concat(objs=[X, encoded_X], axis=1)\n",
    "        print('final_df.shape: {}'.format(final_df.shape))\n",
    "        print('final_df.columns: {}'.format(final_df.columns.tolist()))\n",
    "        \n",
    "        return final_df\n"
   ]
  },
  {
   "cell_type": "code",
   "execution_count": null,
   "id": "07937191-768f-49e7-b396-31d6903c2f43",
   "metadata": {},
   "outputs": [],
   "source": [
    "target_column='CD_SETT_T'\n",
    "cu = CustomEnc(categorical_columns=categorical_columns,cardinality=16,y=y_train, verbose=False, high_encoder=TargetEncoder,low_encoder=OrdinalEncoder)\n",
    "\n",
    "cu.fit(X_train[categorical_columns],y_train)\n",
    "\n"
   ]
  }
 ],
 "metadata": {
  "kernelspec": {
   "display_name": "Python 3 (ipykernel)",
   "language": "python",
   "name": "python3"
  },
  "language_info": {
   "codemirror_mode": {
    "name": "ipython",
    "version": 3
   },
   "file_extension": ".py",
   "mimetype": "text/x-python",
   "name": "python",
   "nbconvert_exporter": "python",
   "pygments_lexer": "ipython3",
   "version": "3.9.12"
  },
  "widgets": {
   "application/vnd.jupyter.widget-state+json": {
    "state": {},
    "version_major": 2,
    "version_minor": 0
   }
  }
 },
 "nbformat": 4,
 "nbformat_minor": 5
}
