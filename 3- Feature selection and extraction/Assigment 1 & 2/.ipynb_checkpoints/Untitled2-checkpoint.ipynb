{
 "cells": [
  {
   "cell_type": "code",
   "execution_count": 2,
   "id": "cf9321ee-e757-4f57-a407-a5ccd638e6cd",
   "metadata": {},
   "outputs": [],
   "source": [
    "from sklearn.base import BaseEstimator, TransformerMixin\n",
    "import numpy as np\n",
    "\n",
    "params = {\n",
    "   # \"param1\": 0.5,\n",
    "    \"param2\": \"mean\"\n",
    "   \n",
    "}\n",
    "\n",
    "\n",
    "class MyCustomTransformer(BaseEstimator, TransformerMixin):\n",
    "    def __init__(self, parameter1=1.0, parameter2='string'):\n",
    "        self.parameter1 = parameter1\n",
    "        self.parameter2 = parameter2\n",
    "    \n",
    "    def fit(self, X, y=None):\n",
    "        # Your fit code here\n",
    "        return self\n",
    "    \n",
    "    def transform(self, X):\n",
    "        # Apply some transformation on X\n",
    "        X_transformed = np.log(X + self.parameter1)\n",
    "        \n",
    "        return X_transformed\n"
   ]
  },
  {
   "cell_type": "code",
   "execution_count": null,
   "id": "88379e9a-fc4e-468b-872c-563a3b944b2f",
   "metadata": {},
   "outputs": [],
   "source": []
  }
 ],
 "metadata": {
  "kernelspec": {
   "display_name": "Python 3 (ipykernel)",
   "language": "python",
   "name": "python3"
  },
  "language_info": {
   "codemirror_mode": {
    "name": "ipython",
    "version": 3
   },
   "file_extension": ".py",
   "mimetype": "text/x-python",
   "name": "python",
   "nbconvert_exporter": "python",
   "pygments_lexer": "ipython3",
   "version": "3.9.12"
  },
  "widgets": {
   "application/vnd.jupyter.widget-state+json": {
    "state": {},
    "version_major": 2,
    "version_minor": 0
   }
  }
 },
 "nbformat": 4,
 "nbformat_minor": 5
}
