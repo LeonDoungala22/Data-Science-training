{
 "cells": [
  {
   "attachments": {},
   "cell_type": "markdown",
   "id": "257cf420",
   "metadata": {},
   "source": [
    "## FEATURE SELECTION"
   ]
  },
  {
   "cell_type": "markdown",
   "id": "5f9de445",
   "metadata": {},
   "source": [
    "[Gihub code exemple :](https://github.com/krishnadulal/Feature-Selection-in-Machine-Learning-using-Python-All-Code)"
   ]
  },
  {
   "cell_type": "markdown",
   "id": "a9ed7f11",
   "metadata": {},
   "source": [
    "[Plot Feature selection](https://github.com/scikit-learn/scikit-learn/blob/main/examples/feature_selection/plot_feature_selection.py)"
   ]
  },
  {
   "attachments": {
    "How-to-Choose-Feature-Selection-Methods-For-Machine-Learning.png": {
     "image/png": "[encoded data removed]"
    }
   },
   "cell_type": "markdown",
   "id": "eec25ddf",
   "metadata": {},
   "source": [
    "![How-to-Choose-Feature-Selection-Methods-For-Machine-Learning.png](attachment:How-to-Choose-Feature-Selection-Methods-For-Machine-Learning.png)"
   ]
  },
  {
   "cell_type": "code",
   "execution_count": null,
   "id": "0649fe07",
   "metadata": {},
   "outputs": [],
   "source": [
    "\"\"\"\n",
    "============================\n",
    "Univariate Feature Selection\n",
    "============================\n",
    "This notebook is an example of using univariate feature selection\n",
    "to improve classification accuracy on a noisy dataset.\n",
    "In this example, some noisy (non informative) features are added to\n",
    "the iris dataset. Support vector machine (SVM) is used to classify the\n",
    "dataset both before and after applying univariate feature selection.\n",
    "For each feature, we plot the p-values for the univariate feature selection\n",
    "and the corresponding weights of SVMs. With this, we will compare model\n",
    "accuracy and examine the impact of univariate feature selection on model\n",
    "weights.\n",
    "\"\"\"\n",
    "\n",
    "# %%\n",
    "# Generate sample data\n",
    "# --------------------\n",
    "#\n",
    "import numpy as np\n",
    "from sklearn.datasets import load_iris\n",
    "from sklearn.model_selection import train_test_split\n",
    "\n",
    "# The iris dataset\n",
    "X, y = load_iris(return_X_y=True)\n",
    "\n",
    "# Some noisy data not correlated\n",
    "E = np.random.RandomState(42).uniform(0, 0.1, size=(X.shape[0], 20))\n",
    "\n",
    "# Add the noisy data to the informative features\n",
    "X = np.hstack((X, E))\n",
    "\n",
    "# Split dataset to select feature and evaluate the classifier\n",
    "X_train, X_test, y_train, y_test = train_test_split(X, y, stratify=y, random_state=0)\n",
    "\n",
    "# %%\n",
    "# Univariate feature selection\n",
    "# ----------------------------\n",
    "#\n",
    "# Univariate feature selection with F-test for feature scoring.\n",
    "# We use the default selection function to select\n",
    "# the four most significant features.\n",
    "from sklearn.feature_selection import SelectKBest, f_classif\n",
    "\n",
    "selector = SelectKBest(f_classif, k=4)\n",
    "selector.fit(X_train, y_train)\n",
    "scores = -np.log10(selector.pvalues_)\n",
    "scores /= scores.max()\n",
    "\n",
    "# %%\n",
    "import matplotlib.pyplot as plt\n",
    "\n",
    "X_indices = np.arange(X.shape[-1])\n",
    "plt.figure(1)\n",
    "plt.clf()\n",
    "plt.bar(X_indices - 0.05, scores, width=0.2)\n",
    "plt.title(\"Feature univariate score\")\n",
    "plt.xlabel(\"Feature number\")\n",
    "plt.ylabel(r\"Univariate score ($-Log(p_{value})$)\")\n",
    "plt.show()\n",
    "\n",
    "# %%\n",
    "# In the total set of features, only the 4 of the original features are significant.\n",
    "# We can see that they have the highest score with univariate feature\n",
    "# selection.\n",
    "\n",
    "# %%\n",
    "# Compare with SVMs\n",
    "# -----------------\n",
    "#\n",
    "# Without univariate feature selection\n",
    "from sklearn.pipeline import make_pipeline\n",
    "from sklearn.preprocessing import MinMaxScaler\n",
    "from sklearn.svm import LinearSVC\n",
    "\n",
    "clf = make_pipeline(MinMaxScaler(), LinearSVC())\n",
    "clf.fit(X_train, y_train)\n",
    "print(\n",
    "    \"Classification accuracy without selecting features: {:.3f}\".format(\n",
    "        clf.score(X_test, y_test)\n",
    "    )\n",
    ")\n",
    "\n",
    "svm_weights = np.abs(clf[-1].coef_).sum(axis=0)\n",
    "svm_weights /= svm_weights.sum()\n",
    "\n",
    "# %%\n",
    "# After univariate feature selection\n",
    "clf_selected = make_pipeline(SelectKBest(f_classif, k=4), MinMaxScaler(), LinearSVC())\n",
    "clf_selected.fit(X_train, y_train)\n",
    "print(\n",
    "    \"Classification accuracy after univariate feature selection: {:.3f}\".format(\n",
    "        clf_selected.score(X_test, y_test)\n",
    "    )\n",
    ")\n",
    "\n",
    "svm_weights_selected = np.abs(clf_selected[-1].coef_).sum(axis=0)\n",
    "svm_weights_selected /= svm_weights_selected.sum()\n",
    "\n",
    "# %%\n",
    "plt.bar(\n",
    "    X_indices - 0.45, scores, width=0.2, label=r\"Univariate score ($-Log(p_{value})$)\"\n",
    ")\n",
    "\n",
    "plt.bar(X_indices - 0.25, svm_weights, width=0.2, label=\"SVM weight\")\n",
    "\n",
    "plt.bar(\n",
    "    X_indices[selector.get_support()] - 0.05,\n",
    "    svm_weights_selected,\n",
    "    width=0.2,\n",
    "    label=\"SVM weights after selection\",\n",
    ")\n",
    "\n",
    "plt.title(\"Comparing feature selection\")\n",
    "plt.xlabel(\"Feature number\")\n",
    "plt.yticks(())\n",
    "plt.axis(\"tight\")\n",
    "plt.legend(loc=\"upper right\")\n",
    "plt.show()\n",
    "\n",
    "# %%\n",
    "# Without univariate feature selection, the SVM assigns a large weight\n",
    "# to the first 4 original significant features, but also selects many of the\n",
    "# non-informative features. Applying univariate feature selection before\n",
    "# the SVM increases the SVM weight attributed to the significant features,\n",
    "# and will thus improve classification."
   ]
  },
  {
   "cell_type": "code",
   "execution_count": null,
   "id": "18bc6e5a",
   "metadata": {},
   "outputs": [],
   "source": []
  },
  {
   "cell_type": "code",
   "execution_count": null,
   "id": "d74e3749",
   "metadata": {},
   "outputs": [],
   "source": []
  },
  {
   "cell_type": "code",
   "execution_count": null,
   "id": "54782bb8",
   "metadata": {},
   "outputs": [],
   "source": []
  },
  {
   "cell_type": "code",
   "execution_count": null,
   "id": "60788ed6",
   "metadata": {},
   "outputs": [],
   "source": []
  },
  {
   "cell_type": "code",
   "execution_count": null,
   "id": "fe506e99",
   "metadata": {},
   "outputs": [],
   "source": []
  },
  {
   "cell_type": "code",
   "execution_count": null,
   "id": "a02b7b8a",
   "metadata": {},
   "outputs": [],
   "source": []
  }
 ],
 "metadata": {
  "kernelspec": {
   "display_name": "Python 3 (ipykernel)",
   "language": "python",
   "name": "python3"
  },
  "language_info": {
   "codemirror_mode": {
    "name": "ipython",
    "version": 3
   },
   "file_extension": ".py",
   "mimetype": "text/x-python",
   "name": "python",
   "nbconvert_exporter": "python",
   "pygments_lexer": "ipython3",
   "version": "3.9.12"
  },
  "widgets": {
   "application/vnd.jupyter.widget-state+json": {
    "state": {},
    "version_major": 2,
    "version_minor": 0
   }
  }
 },
 "nbformat": 4,
 "nbformat_minor": 5
}
