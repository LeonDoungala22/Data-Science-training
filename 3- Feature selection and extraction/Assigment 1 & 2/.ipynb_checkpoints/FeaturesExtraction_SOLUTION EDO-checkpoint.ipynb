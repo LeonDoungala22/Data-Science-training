{
 "cells": [
  {
   "cell_type": "code",
   "execution_count": null,
   "id": "86280ddb",
   "metadata": {},
   "outputs": [],
   "source": [
    "import pandas as pd\n",
    "import statistics as stat\n",
    "import math as m \n",
    "\n",
    "import warnings\n",
    "warnings.filterwarnings('ignore')"
   ]
  },
  {
   "cell_type": "code",
   "execution_count": null,
   "id": "3cedefe5",
   "metadata": {},
   "outputs": [],
   "source": [
    "# Read the input CSV dataset file\n",
    "df = pd.read_csv('weatherHistory.csv')\n",
    "\n",
    "# Remove duplicated rows\n",
    "df.drop_duplicates(subset=['Formatted Date'], inplace=True)\n",
    "\n",
    "# Sort the dataset by \"Formatted Date\"\n",
    "df['Formatted Date'] = pd.to_datetime(df['Formatted Date'], utc=True)\n",
    "df.sort_values(by='Formatted Date', ascending=True, inplace=True)\n",
    "df.reset_index(drop=True, inplace=True)\n",
    "\n",
    "# Create the target variabile: it's the value of \"Summary\" of i-th row when considering the target column at (i-1)-th row\n",
    "df['target'] = df['Summary'].shift(-1)\n",
    "df = df.loc[~df['target'].isna()]"
   ]
  },
  {
   "cell_type": "code",
   "execution_count": null,
   "id": "985dc525",
   "metadata": {},
   "outputs": [],
   "source": [
    "df.shape"
   ]
  },
  {
   "cell_type": "code",
   "execution_count": null,
   "id": "4e334326",
   "metadata": {},
   "outputs": [],
   "source": [
    "df.head()"
   ]
  },
  {
   "cell_type": "markdown",
   "id": "6661a4b7-5a17-4287-ad34-68cd4b203d26",
   "metadata": {},
   "source": [
    "### Categoria di feature (A) "
   ]
  },
  {
   "cell_type": "markdown",
   "id": "1e49689b-1b13-42c7-ad23-7958f780a651",
   "metadata": {},
   "source": [
    "Questa categoria di feature (A) sono semplici da calcolare perché ragionano riga per riga, senza andare a includere righe precendenti o successive."
   ]
  },
  {
   "cell_type": "markdown",
   "id": "8793a705-4c86-4a89-8fa8-b890e6846a79",
   "metadata": {},
   "source": [
    "### Assignment 1"
   ]
  },
  {
   "cell_type": "markdown",
   "id": "392610fc-7735-4e88-b907-1a63380b9155",
   "metadata": {},
   "source": [
    "Feature “is_daily_summary_very_length”: a partire dalla colonna “Daily Summary”, creare un indicatore booleano che è:\n",
    "- True, se il numero di caratteri è superiore a 30\n",
    "- False, altrimenti"
   ]
  },
  {
   "cell_type": "code",
   "execution_count": null,
   "id": "8e415b3c-83d1-420a-ae9c-c445cccd7dde",
   "metadata": {},
   "outputs": [],
   "source": [
    "t = df[['Daily Summary']].copy()"
   ]
  },
  {
   "cell_type": "code",
   "execution_count": null,
   "id": "b3c59f38-af0a-48b0-a5e7-22b04b43aa6f",
   "metadata": {},
   "outputs": [],
   "source": [
    "# Soluzione Leon\n",
    "t['is_daily_summary_very_length'] = [True if len(df['Daily Summary'][i])>30 else False for i in (df.index)]"
   ]
  },
  {
   "cell_type": "code",
   "execution_count": null,
   "id": "840cb9b3",
   "metadata": {},
   "outputs": [],
   "source": [
    "# Solution Edo\n",
    "t['edo'] = t['Daily Summary'].apply(lambda row: True if len(row) > 30 else False)"
   ]
  },
  {
   "cell_type": "code",
   "execution_count": null,
   "id": "23c72da3",
   "metadata": {},
   "outputs": [],
   "source": [
    "# Solution Edo 2\n",
    "t['edo2']= t['Daily Summary'].str.len() > 30"
   ]
  },
  {
   "cell_type": "code",
   "execution_count": null,
   "id": "eef45bc3",
   "metadata": {},
   "outputs": [],
   "source": [
    "t.head()"
   ]
  },
  {
   "cell_type": "code",
   "execution_count": null,
   "id": "8bd797a6-4c44-4ed7-a2a5-39563c0d5c9e",
   "metadata": {},
   "outputs": [],
   "source": [
    "#Verification \n",
    "df['is_daily_summary_very_length'].value_counts()"
   ]
  },
  {
   "cell_type": "code",
   "execution_count": null,
   "id": "26b6ad6b-0ca8-4d54-b9b2-b21bcf53a84a",
   "metadata": {},
   "outputs": [],
   "source": [
    "df.head(3)"
   ]
  },
  {
   "cell_type": "markdown",
   "id": "7b847707-1e86-4250-ae9a-19f88fbb726d",
   "metadata": {},
   "source": [
    "#### Assignment 2"
   ]
  },
  {
   "cell_type": "markdown",
   "id": "154040b1-2f22-46b2-a4f5-98fc7419d57a",
   "metadata": {},
   "source": [
    "Feature “week_of_year”: a partire dalla colonna “Formatted Date”, creare una variabile categorica che specifica il numero della settimana all’interno dell’anno."
   ]
  },
  {
   "cell_type": "code",
   "execution_count": null,
   "id": "1f1aba9e-0f8c-40cb-8552-05d4d761c2e1",
   "metadata": {},
   "outputs": [],
   "source": [
    "df['Formatted Date'] = pd.to_datetime(df['Formatted Date'], utc=True)\n",
    "df['week_of_year'] =df['Formatted Date'].dt.weekofyear"
   ]
  },
  {
   "cell_type": "code",
   "execution_count": null,
   "id": "5fe8494d-64b0-4095-82a6-8415b1c50c87",
   "metadata": {},
   "outputs": [],
   "source": [
    "df.sort_values(by='week_of_year', ascending=True, inplace=True)\n",
    "df.reset_index(drop=True, inplace=True)"
   ]
  },
  {
   "cell_type": "code",
   "execution_count": null,
   "id": "da985bb6-af30-4e6c-b5e4-0c1d4f5f35c5",
   "metadata": {},
   "outputs": [],
   "source": [
    "#df['week_of_year'].value_counts()"
   ]
  },
  {
   "cell_type": "markdown",
   "id": "f1eca1aa-ddd5-4b1b-a7b6-165360fb4ef9",
   "metadata": {},
   "source": [
    "#### Assignment 3"
   ]
  },
  {
   "cell_type": "markdown",
   "id": "485d6df7-17a0-4528-8f55-728bc238e09d",
   "metadata": {},
   "source": [
    "Feature “is_month_start”: a partire dalla colonna “Formatted Date”, creare una variabile booleana che è:\n",
    "- True, se la data che si sta considerando è l’inizio del mese\n",
    "- False, altrimenti"
   ]
  },
  {
   "cell_type": "code",
   "execution_count": null,
   "id": "a694802a-2333-4683-8fa6-f12c04d25be5",
   "metadata": {},
   "outputs": [],
   "source": [
    "df['is_month_start'] =df['Formatted Date'].dt.is_month_start"
   ]
  },
  {
   "cell_type": "code",
   "execution_count": null,
   "id": "3bf15390-d138-47a1-af7b-dbd648e78685",
   "metadata": {},
   "outputs": [],
   "source": [
    "df['is_month_start'].value_counts()"
   ]
  },
  {
   "cell_type": "markdown",
   "id": "26dbe4c2-7b4c-4360-bb02-1ae49775fb62",
   "metadata": {},
   "source": [
    "#### Assignment 4"
   ]
  },
  {
   "cell_type": "markdown",
   "id": "62ee616a-fc2e-4be2-af05-39cc908e98db",
   "metadata": {},
   "source": [
    "Feature “is_greater_than_avg”: a partire dalle colonne “Formatted Date” e “Visibility (km)”, creare una variabile booleana che è:\n",
    "- True, se il valore nella riga i-esima è superiore della media della colonna “Visibility (km)” nella stessa data\n",
    "- False, altrimenti"
   ]
  },
  {
   "cell_type": "code",
   "execution_count": null,
   "id": "36e66e4b",
   "metadata": {},
   "outputs": [],
   "source": [
    "# Solution Leon\n",
    "df['is_greater_than_avg'] = [True if (df['Visibility (km)'][i] > df['Visibility (km)'].mean()) else False for i in (df['Formatted Date'].index)]"
   ]
  },
  {
   "cell_type": "code",
   "execution_count": null,
   "id": "3bad4c3c",
   "metadata": {},
   "outputs": [],
   "source": [
    "# Solution Edo\n",
    "t = df[['Formatted Date', 'Visibility (km)']].copy()\n",
    "t['Formatted Date'] = t['Formatted Date'].dt.date\n",
    "avg_t = t.groupby(by='Formatted Date')['Visibility (km)'].mean().reset_index()\n",
    "x=list(avg_t.to_dict()['Formatted Date'].values())\n",
    "y=list(avg_t.to_dict()['Visibility (km)'].values())\n",
    "avg_dict = {str(x[i]): y[i] for i in range(len(x))}\n",
    "t['edo'] = t.apply(\n",
    "    lambda row: row['Visibility (km)'] > avg_dict[str(row['Formatted Date'])],\n",
    "    axis=1\n",
    ")"
   ]
  },
  {
   "cell_type": "code",
   "execution_count": null,
   "id": "dc369c12",
   "metadata": {},
   "outputs": [],
   "source": [
    "t['edo'].value_counts()"
   ]
  },
  {
   "cell_type": "code",
   "execution_count": null,
   "id": "925d9214-3c83-4b49-9dd3-21f8d589ba93",
   "metadata": {},
   "outputs": [],
   "source": [
    "df['is_greater_than_avg'].value_counts()"
   ]
  },
  {
   "cell_type": "code",
   "execution_count": null,
   "id": "5993fa8a-1d71-4f9b-8b14-48e89c7e60e5",
   "metadata": {},
   "outputs": [],
   "source": [
    "df.head()"
   ]
  },
  {
   "cell_type": "markdown",
   "id": "a64d7d56-b3f9-43cf-9b34-0c4ab4df4c59",
   "metadata": {},
   "source": [
    "##  Categoria di feature (B)"
   ]
  },
  {
   "cell_type": "markdown",
   "id": "8f75bb7a-6bf6-4cad-89d4-a11d5e2b1d8b",
   "metadata": {},
   "source": [
    " \n",
    "Questa categoria di feature (B) invece seguono la stessa logica che abbiamo visto oggi, quindi provo a valorizzare queste feature usando i valori presenti in 1 o più riga/he precedente/i o successiva/e:"
   ]
  },
  {
   "cell_type": "markdown",
   "id": "cc828d22-71e6-48c1-a065-a4f9a8c319b0",
   "metadata": {},
   "source": [
    "#### Assignment 5"
   ]
  },
  {
   "cell_type": "markdown",
   "id": "03cdae86-98ae-40ec-8733-2db408f66452",
   "metadata": {},
   "source": [
    "Feature “Temperature (C) t-1”: a partire dalle colonne “Formatted Date” e “Temperature (C)”, riportare nella riga i-esima il valore della colonna “Temperature (C)” che si trova nella riga (i-1)-esima."
   ]
  },
  {
   "cell_type": "code",
   "execution_count": null,
   "id": "91fe5630",
   "metadata": {},
   "outputs": [],
   "source": [
    "# Solution Leon\n",
    "df['Temperature (C) t-1'] = None # inutile\n",
    "df['Temperature (C) t-1'] = df['Temperature (C)'].shift(1)\n",
    "df=df.dropna().reset_index(drop=True)"
   ]
  },
  {
   "cell_type": "code",
   "execution_count": null,
   "id": "64654a1b",
   "metadata": {},
   "outputs": [],
   "source": [
    "# Solution Edo\n",
    "t = df[['Formatted Date', 'Temperature (C)']].copy()\n",
    "t['edo'] = t['Temperature (C)'].shift(1)"
   ]
  },
  {
   "cell_type": "code",
   "execution_count": null,
   "id": "f2b6bd43-5bf6-4cdc-a644-5be2ac0809a3",
   "metadata": {},
   "outputs": [],
   "source": [
    "df.tail()"
   ]
  },
  {
   "cell_type": "markdown",
   "id": "355e1372-07c9-4540-afae-91e09305d7cf",
   "metadata": {},
   "source": [
    "#### Assignment 6"
   ]
  },
  {
   "cell_type": "markdown",
   "id": "1d0b5d1f-8d7d-49b1-bc49-16fc43dd8397",
   "metadata": {},
   "source": [
    "Feature “same summary in the last 3 hours”: a partire dalle colonne “Formatted Date” e “Summary”, creare un indicatore booleano che sia:\n",
    "- True, se i valori della colonna “Summary” nelle ultime 3 ore considerando le righe i-esima, (i-1)-esima e (i-2)-esima sono uguali\n",
    "- False, altrimenti"
   ]
  },
  {
   "cell_type": "code",
   "execution_count": null,
   "id": "fc79ef39-76f5-45e9-9553-b615d00509a0",
   "metadata": {},
   "outputs": [],
   "source": [
    "# Solution Leon\n",
    "df['same summary in the last 3 days'] =None\n",
    "Summary_tail_2=(df['Summary'].shift(-2))\n",
    "Summary_tail_2=Summary_tail_2.dropna().reset_index(drop=True)\n",
    "Summary_tail_2=Summary_tail_2.tail(3)\n",
    "Summary_tail_3=(df['Summary'].shift(-3))\n",
    "Summary_tail_3=Summary_tail_3.dropna().reset_index(drop=True)\n",
    "Summary_tail_3=Summary_tail_3.tail(3)\n",
    "Summary_tail_2 = pd.DataFrame(Summary_tail_2)\n",
    "Summary_tail_3 = pd.DataFrame(Summary_tail_3)\n",
    "#df['same summary in the last 3 days'] = [True if (Summary_tail_2[i].equals(Summary_tail_3[i])) else False for i in (df['Formatted Date'].index)] "
   ]
  },
  {
   "cell_type": "code",
   "execution_count": null,
   "id": "0c3c876c-fa72-4766-997c-07e0bd070be7",
   "metadata": {},
   "outputs": [],
   "source": [
    "# Solution Edo\n",
    "t = df[['Formatted Date', 'Summary']].copy()\n",
    "t['Summary (t-1)'] = t['Summary'].shift(1)\n",
    "t['Summary (t-2)'] = t['Summary'].shift(2)\n",
    "t['edo'] = t.apply(lambda row: True if row['Summary'] == row['Summary (t-1)'] == row['Summary (t-2)'] else False, axis=1)\n",
    "t['edo2'] = t.apply(lambda row: True if len(set([row['Summary'], row['Summary (t-1)'], row['Summary (t-2)']])) == 1 else False, axis=1)"
   ]
  },
  {
   "cell_type": "markdown",
   "id": "87fc4716-306d-4fcf-89d0-6a85c7260de1",
   "metadata": {},
   "source": [
    "#### Assignment 7"
   ]
  },
  {
   "cell_type": "markdown",
   "id": "ae80a266-8adb-4b8a-9692-e6cf3873cc5e",
   "metadata": {},
   "source": [
    "Feature “Humidity avg last 2 hours”: a partire dalle colonne “Formatted Date” e “Humidity”, calcolare il valore medio della colonna “Humidity” considerando la riga i-esima e (i-1)-esima, e riportare questo valore nella riga i-esima."
   ]
  },
  {
   "cell_type": "code",
   "execution_count": null,
   "id": "160a5436-8948-425f-a1de-babe32271675",
   "metadata": {},
   "outputs": [],
   "source": [
    "# Solution Leon\n",
    "df['Humidity avg last 2 days'] =df['Humidity'].shift(-1)\n",
    "df['Humidity avg last 2 days']= df['Humidity avg last 2 days'].dropna().reset_index(drop=True)\n",
    "df['Humidity avg last 2 days'] =[ (stat.mean([df['Humidity'][i] , df['Humidity avg last 2 days'][i]])) for i in (df['Formatted Date'].index)]"
   ]
  },
  {
   "cell_type": "code",
   "execution_count": null,
   "id": "5042e3c5-3ae3-4a4c-bc27-ce4276d021b0",
   "metadata": {},
   "outputs": [],
   "source": [
    "# Solution Edo\n",
    "t = df[['Formatted Date', 'Humidity']].copy()\n",
    "t['Humidity (t-1)'] = t['Humidity'].shift(1)\n",
    "t['edo'] = t[['Humidity', 'Humidity (t-1)']].mean(axis=1)"
   ]
  },
  {
   "cell_type": "markdown",
   "id": "41a937b7-3a12-4199-96ef-0ed65c5b51ad",
   "metadata": {},
   "source": [
    "#### Assignment 8"
   ]
  },
  {
   "cell_type": "markdown",
   "id": "686e88f0-2d64-4b43-844a-ffa1a4fa5047",
   "metadata": {},
   "source": [
    "Feature “Differenza in Ore”: a partire dalla colonna “Formatted Date”, creare una variabile numerica intera che indica la differenza (misurata in ore) tra due righe consecutive a livello temporale"
   ]
  },
  {
   "cell_type": "code",
   "execution_count": null,
   "id": "9fcd58ac-abae-421d-a875-f05e3636c490",
   "metadata": {},
   "outputs": [],
   "source": [
    "# Solution Leon\n",
    "df['Differenza in Ore'] =df['Formatted Date'].shift(-1)\n",
    "df['Differenza in Ore']= df['Formatted Date'].dropna().reset_index(drop=True)\n",
    "df['Differenza in Ore']=df['Differenza in Ore'].dt.time\n",
    "df['Differenza in Ore']\n",
    "df['Formatted Date'] = pd.to_datetime(df['Formatted Date'], utc=True)\n",
    "df['Formatted Date']=df['Formatted Date'].dt.time \n",
    "df['Formatted Date']\n",
    "df['Differenza in Ore'] =[ (df['Differenza in Ore'][i] -df['Formatted Date'][i])  for i in (df['Formatted Date'].index)]"
   ]
  },
  {
   "cell_type": "code",
   "execution_count": null,
   "id": "9a0f3e08-3c0f-4cc6-9da8-6b1eebf75da0",
   "metadata": {},
   "outputs": [],
   "source": [
    "# Solution Edo\n",
    "t = df[['Formatted Date']].copy()\n",
    "t['Formatted Date (t-1)'] = t['Formatted Date'].shift(1)\n",
    "t['edo'] = ((t['Formatted Date'] - t['Formatted Date (t-1)']).dt.seconds)/(60*60)"
   ]
  },
  {
   "cell_type": "code",
   "execution_count": null,
   "id": "17fe99f2-60af-449b-bab5-539d71e54850",
   "metadata": {},
   "outputs": [],
   "source": []
  },
  {
   "cell_type": "code",
   "execution_count": null,
   "id": "aa7a8d4f-45fd-4345-bb07-90ba7be71a24",
   "metadata": {},
   "outputs": [],
   "source": []
  }
 ],
 "metadata": {
  "kernelspec": {
   "display_name": "conda_python3",
   "language": "python",
   "name": "conda_python3"
  },
  "language_info": {
   "codemirror_mode": {
    "name": "ipython",
    "version": 3
   },
   "file_extension": ".py",
   "mimetype": "text/x-python",
   "name": "python",
   "nbconvert_exporter": "python",
   "pygments_lexer": "ipython3",
   "version": "3.8.12"
  },
  "widgets": {
   "application/vnd.jupyter.widget-state+json": {
    "state": {},
    "version_major": 2,
    "version_minor": 0
   }
  }
 },
 "nbformat": 4,
 "nbformat_minor": 5
}
