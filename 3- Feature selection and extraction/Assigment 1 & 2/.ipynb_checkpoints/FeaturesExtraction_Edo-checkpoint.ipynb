{
 "cells": [
  {
   "cell_type": "code",
   "execution_count": null,
   "id": "86280ddb",
   "metadata": {},
   "outputs": [],
   "source": [
    "import pandas as pd"
   ]
  },
  {
   "cell_type": "code",
   "execution_count": null,
   "id": "3cedefe5",
   "metadata": {},
   "outputs": [],
   "source": [
    "# Read the input CSV dataset file\n",
    "df = pd.read_csv('weatherHistory.csv')\n",
    "\n",
    "# Remove duplicated rows\n",
    "df.drop_duplicates(subset=['Formatted Date'], inplace=True)\n",
    "\n",
    "# Sort the dataset by \"Formatted Date\"\n",
    "df['Formatted Date'] = pd.to_datetime(df['Formatted Date'], utc=True)\n",
    "df.sort_values(by='Formatted Date', ascending=True, inplace=True)\n",
    "df.reset_index(drop=True, inplace=True)\n",
    "\n",
    "# Create the target variabile: it's the value of \"Summary\" of i-th row when considering the target column at (i-1)-th row\n",
    "df['target'] = df['Summary'].shift(-1)\n",
    "df = df.loc[~df['target'].isna()]"
   ]
  },
  {
   "cell_type": "code",
   "execution_count": null,
   "id": "985dc525",
   "metadata": {},
   "outputs": [],
   "source": [
    "df.shape"
   ]
  },
  {
   "cell_type": "code",
   "execution_count": null,
   "id": "4e334326",
   "metadata": {},
   "outputs": [],
   "source": [
    "df.head()"
   ]
  },
  {
   "cell_type": "code",
   "execution_count": null,
   "id": "448b554a",
   "metadata": {},
   "outputs": [],
   "source": []
  },
  {
   "cell_type": "code",
   "execution_count": null,
   "id": "4db3d53d",
   "metadata": {},
   "outputs": [],
   "source": []
  },
  {
   "cell_type": "code",
   "execution_count": null,
   "id": "b22fa251",
   "metadata": {},
   "outputs": [],
   "source": []
  }
 ],
 "metadata": {
  "kernelspec": {
   "display_name": "conda_python3",
   "language": "python",
   "name": "conda_python3"
  },
  "language_info": {
   "codemirror_mode": {
    "name": "ipython",
    "version": 3
   },
   "file_extension": ".py",
   "mimetype": "text/x-python",
   "name": "python",
   "nbconvert_exporter": "python",
   "pygments_lexer": "ipython3",
   "version": "3.8.12"
  }
 },
 "nbformat": 4,
 "nbformat_minor": 5
}
