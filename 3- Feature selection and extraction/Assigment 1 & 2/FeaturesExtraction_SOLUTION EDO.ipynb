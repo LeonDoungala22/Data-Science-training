{
 "cells": [
  {
   "cell_type": "code",
   "execution_count": 1,
   "id": "86280ddb",
   "metadata": {},
   "outputs": [],
   "source": [
    "import pandas as pd\n",
    "import statistics as stat\n",
    "import math as m \n",
    "\n",
    "import warnings\n",
    "warnings.filterwarnings('ignore')"
   ]
  },
  {
   "cell_type": "code",
   "execution_count": 2,
   "id": "3cedefe5",
   "metadata": {},
   "outputs": [],
   "source": [
    "# Read the input CSV dataset file\n",
    "df = pd.read_csv('Dataset/weatherHistory.csv')\n",
    "\n",
    "# Remove duplicated rows\n",
    "df.drop_duplicates(subset=['Formatted Date'], inplace=True)\n",
    "\n",
    "# Sort the dataset by \"Formatted Date\"\n",
    "df['Formatted Date'] = pd.to_datetime(df['Formatted Date'], utc=True)\n",
    "df.sort_values(by='Formatted Date', ascending=True, inplace=True)\n",
    "df.reset_index(drop=True, inplace=True)\n",
    "\n",
    "# Create the target variabile: it's the value of \"Summary\" of i-th row when considering the target column at (i-1)-th row\n",
    "df['target'] = df['Summary'].shift(-1)\n",
    "df = df.loc[~df['target'].isna()]"
   ]
  },
  {
   "cell_type": "code",
   "execution_count": 3,
   "id": "985dc525",
   "metadata": {},
   "outputs": [
    {
     "data": {
      "text/plain": [
       "(96428, 13)"
      ]
     },
     "execution_count": 3,
     "metadata": {},
     "output_type": "execute_result"
    }
   ],
   "source": [
    "df.shape"
   ]
  },
  {
   "cell_type": "code",
   "execution_count": 4,
   "id": "4e334326",
   "metadata": {},
   "outputs": [
    {
     "data": {
      "text/html": [
       "<div>\n",
       "<style scoped>\n",
       "    .dataframe tbody tr th:only-of-type {\n",
       "        vertical-align: middle;\n",
       "    }\n",
       "\n",
       "    .dataframe tbody tr th {\n",
       "        vertical-align: top;\n",
       "    }\n",
       "\n",
       "    .dataframe thead th {\n",
       "        text-align: right;\n",
       "    }\n",
       "</style>\n",
       "<table border=\"1\" class=\"dataframe\">\n",
       "  <thead>\n",
       "    <tr style=\"text-align: right;\">\n",
       "      <th></th>\n",
       "      <th>Formatted Date</th>\n",
       "      <th>Summary</th>\n",
       "      <th>Precip Type</th>\n",
       "      <th>Temperature (C)</th>\n",
       "      <th>Apparent Temperature (C)</th>\n",
       "      <th>Humidity</th>\n",
       "      <th>Wind Speed (km/h)</th>\n",
       "      <th>Wind Bearing (degrees)</th>\n",
       "      <th>Visibility (km)</th>\n",
       "      <th>Loud Cover</th>\n",
       "      <th>Pressure (millibars)</th>\n",
       "      <th>Daily Summary</th>\n",
       "      <th>target</th>\n",
       "    </tr>\n",
       "  </thead>\n",
       "  <tbody>\n",
       "    <tr>\n",
       "      <th>0</th>\n",
       "      <td>2005-12-31 23:00:00+00:00</td>\n",
       "      <td>Partly Cloudy</td>\n",
       "      <td>rain</td>\n",
       "      <td>0.577778</td>\n",
       "      <td>-4.050000</td>\n",
       "      <td>0.89</td>\n",
       "      <td>17.1143</td>\n",
       "      <td>140.0</td>\n",
       "      <td>9.9820</td>\n",
       "      <td>0.0</td>\n",
       "      <td>1016.66</td>\n",
       "      <td>Mostly cloudy throughout the day.</td>\n",
       "      <td>Mostly Cloudy</td>\n",
       "    </tr>\n",
       "    <tr>\n",
       "      <th>1</th>\n",
       "      <td>2006-01-01 00:00:00+00:00</td>\n",
       "      <td>Mostly Cloudy</td>\n",
       "      <td>rain</td>\n",
       "      <td>1.161111</td>\n",
       "      <td>-3.238889</td>\n",
       "      <td>0.85</td>\n",
       "      <td>16.6152</td>\n",
       "      <td>139.0</td>\n",
       "      <td>9.9015</td>\n",
       "      <td>0.0</td>\n",
       "      <td>1016.15</td>\n",
       "      <td>Mostly cloudy throughout the day.</td>\n",
       "      <td>Mostly Cloudy</td>\n",
       "    </tr>\n",
       "    <tr>\n",
       "      <th>2</th>\n",
       "      <td>2006-01-01 01:00:00+00:00</td>\n",
       "      <td>Mostly Cloudy</td>\n",
       "      <td>rain</td>\n",
       "      <td>1.666667</td>\n",
       "      <td>-3.155556</td>\n",
       "      <td>0.82</td>\n",
       "      <td>20.2538</td>\n",
       "      <td>140.0</td>\n",
       "      <td>9.9015</td>\n",
       "      <td>0.0</td>\n",
       "      <td>1015.87</td>\n",
       "      <td>Mostly cloudy throughout the day.</td>\n",
       "      <td>Overcast</td>\n",
       "    </tr>\n",
       "    <tr>\n",
       "      <th>3</th>\n",
       "      <td>2006-01-01 02:00:00+00:00</td>\n",
       "      <td>Overcast</td>\n",
       "      <td>rain</td>\n",
       "      <td>1.711111</td>\n",
       "      <td>-2.194444</td>\n",
       "      <td>0.82</td>\n",
       "      <td>14.4900</td>\n",
       "      <td>140.0</td>\n",
       "      <td>9.9015</td>\n",
       "      <td>0.0</td>\n",
       "      <td>1015.56</td>\n",
       "      <td>Mostly cloudy throughout the day.</td>\n",
       "      <td>Mostly Cloudy</td>\n",
       "    </tr>\n",
       "    <tr>\n",
       "      <th>4</th>\n",
       "      <td>2006-01-01 03:00:00+00:00</td>\n",
       "      <td>Mostly Cloudy</td>\n",
       "      <td>rain</td>\n",
       "      <td>1.183333</td>\n",
       "      <td>-2.744444</td>\n",
       "      <td>0.86</td>\n",
       "      <td>13.9426</td>\n",
       "      <td>134.0</td>\n",
       "      <td>9.9015</td>\n",
       "      <td>0.0</td>\n",
       "      <td>1014.98</td>\n",
       "      <td>Mostly cloudy throughout the day.</td>\n",
       "      <td>Mostly Cloudy</td>\n",
       "    </tr>\n",
       "  </tbody>\n",
       "</table>\n",
       "</div>"
      ],
      "text/plain": [
       "             Formatted Date        Summary Precip Type  Temperature (C)  \\\n",
       "0 2005-12-31 23:00:00+00:00  Partly Cloudy        rain         0.577778   \n",
       "1 2006-01-01 00:00:00+00:00  Mostly Cloudy        rain         1.161111   \n",
       "2 2006-01-01 01:00:00+00:00  Mostly Cloudy        rain         1.666667   \n",
       "3 2006-01-01 02:00:00+00:00       Overcast        rain         1.711111   \n",
       "4 2006-01-01 03:00:00+00:00  Mostly Cloudy        rain         1.183333   \n",
       "\n",
       "   Apparent Temperature (C)  Humidity  Wind Speed (km/h)  \\\n",
       "0                 -4.050000      0.89            17.1143   \n",
       "1                 -3.238889      0.85            16.6152   \n",
       "2                 -3.155556      0.82            20.2538   \n",
       "3                 -2.194444      0.82            14.4900   \n",
       "4                 -2.744444      0.86            13.9426   \n",
       "\n",
       "   Wind Bearing (degrees)  Visibility (km)  Loud Cover  Pressure (millibars)  \\\n",
       "0                   140.0           9.9820         0.0               1016.66   \n",
       "1                   139.0           9.9015         0.0               1016.15   \n",
       "2                   140.0           9.9015         0.0               1015.87   \n",
       "3                   140.0           9.9015         0.0               1015.56   \n",
       "4                   134.0           9.9015         0.0               1014.98   \n",
       "\n",
       "                       Daily Summary         target  \n",
       "0  Mostly cloudy throughout the day.  Mostly Cloudy  \n",
       "1  Mostly cloudy throughout the day.  Mostly Cloudy  \n",
       "2  Mostly cloudy throughout the day.       Overcast  \n",
       "3  Mostly cloudy throughout the day.  Mostly Cloudy  \n",
       "4  Mostly cloudy throughout the day.  Mostly Cloudy  "
      ]
     },
     "execution_count": 4,
     "metadata": {},
     "output_type": "execute_result"
    }
   ],
   "source": [
    "df.head()"
   ]
  },
  {
   "cell_type": "markdown",
   "id": "6661a4b7-5a17-4287-ad34-68cd4b203d26",
   "metadata": {},
   "source": [
    "### Categoria di feature (A) "
   ]
  },
  {
   "cell_type": "markdown",
   "id": "1e49689b-1b13-42c7-ad23-7958f780a651",
   "metadata": {},
   "source": [
    "Questa categoria di feature (A) sono semplici da calcolare perché ragionano riga per riga, senza andare a includere righe precendenti o successive."
   ]
  },
  {
   "cell_type": "markdown",
   "id": "8793a705-4c86-4a89-8fa8-b890e6846a79",
   "metadata": {},
   "source": [
    "### Assignment 1"
   ]
  },
  {
   "cell_type": "markdown",
   "id": "392610fc-7735-4e88-b907-1a63380b9155",
   "metadata": {},
   "source": [
    "Feature “is_daily_summary_very_length”: a partire dalla colonna “Daily Summary”, creare un indicatore booleano che è:\n",
    "- True, se il numero di caratteri è superiore a 30\n",
    "- False, altrimenti"
   ]
  },
  {
   "cell_type": "code",
   "execution_count": 5,
   "id": "8e415b3c-83d1-420a-ae9c-c445cccd7dde",
   "metadata": {},
   "outputs": [],
   "source": [
    "t = df[['Daily Summary']].copy()"
   ]
  },
  {
   "cell_type": "code",
   "execution_count": 6,
   "id": "b3c59f38-af0a-48b0-a5e7-22b04b43aa6f",
   "metadata": {},
   "outputs": [],
   "source": [
    "# Soluzione Leon\n",
    "t['is_daily_summary_very_length'] = [True if len(df['Daily Summary'][i])>30 else False for i in (df.index)]"
   ]
  },
  {
   "cell_type": "code",
   "execution_count": 7,
   "id": "840cb9b3",
   "metadata": {},
   "outputs": [],
   "source": [
    "# Solution Edo\n",
    "t['edo'] = t['Daily Summary'].apply(lambda row: True if len(row) > 30 else False)"
   ]
  },
  {
   "cell_type": "code",
   "execution_count": 8,
   "id": "23c72da3",
   "metadata": {},
   "outputs": [],
   "source": [
    "# Solution Edo 2\n",
    "t['edo2']= t['Daily Summary'].str.len() > 30"
   ]
  },
  {
   "cell_type": "code",
   "execution_count": 9,
   "id": "eef45bc3",
   "metadata": {},
   "outputs": [
    {
     "data": {
      "text/html": [
       "<div>\n",
       "<style scoped>\n",
       "    .dataframe tbody tr th:only-of-type {\n",
       "        vertical-align: middle;\n",
       "    }\n",
       "\n",
       "    .dataframe tbody tr th {\n",
       "        vertical-align: top;\n",
       "    }\n",
       "\n",
       "    .dataframe thead th {\n",
       "        text-align: right;\n",
       "    }\n",
       "</style>\n",
       "<table border=\"1\" class=\"dataframe\">\n",
       "  <thead>\n",
       "    <tr style=\"text-align: right;\">\n",
       "      <th></th>\n",
       "      <th>Daily Summary</th>\n",
       "      <th>is_daily_summary_very_length</th>\n",
       "      <th>edo</th>\n",
       "      <th>edo2</th>\n",
       "    </tr>\n",
       "  </thead>\n",
       "  <tbody>\n",
       "    <tr>\n",
       "      <th>0</th>\n",
       "      <td>Mostly cloudy throughout the day.</td>\n",
       "      <td>True</td>\n",
       "      <td>True</td>\n",
       "      <td>True</td>\n",
       "    </tr>\n",
       "    <tr>\n",
       "      <th>1</th>\n",
       "      <td>Mostly cloudy throughout the day.</td>\n",
       "      <td>True</td>\n",
       "      <td>True</td>\n",
       "      <td>True</td>\n",
       "    </tr>\n",
       "    <tr>\n",
       "      <th>2</th>\n",
       "      <td>Mostly cloudy throughout the day.</td>\n",
       "      <td>True</td>\n",
       "      <td>True</td>\n",
       "      <td>True</td>\n",
       "    </tr>\n",
       "    <tr>\n",
       "      <th>3</th>\n",
       "      <td>Mostly cloudy throughout the day.</td>\n",
       "      <td>True</td>\n",
       "      <td>True</td>\n",
       "      <td>True</td>\n",
       "    </tr>\n",
       "    <tr>\n",
       "      <th>4</th>\n",
       "      <td>Mostly cloudy throughout the day.</td>\n",
       "      <td>True</td>\n",
       "      <td>True</td>\n",
       "      <td>True</td>\n",
       "    </tr>\n",
       "  </tbody>\n",
       "</table>\n",
       "</div>"
      ],
      "text/plain": [
       "                       Daily Summary  is_daily_summary_very_length   edo  edo2\n",
       "0  Mostly cloudy throughout the day.                          True  True  True\n",
       "1  Mostly cloudy throughout the day.                          True  True  True\n",
       "2  Mostly cloudy throughout the day.                          True  True  True\n",
       "3  Mostly cloudy throughout the day.                          True  True  True\n",
       "4  Mostly cloudy throughout the day.                          True  True  True"
      ]
     },
     "execution_count": 9,
     "metadata": {},
     "output_type": "execute_result"
    }
   ],
   "source": [
    "t.head()"
   ]
  },
  {
   "cell_type": "code",
   "execution_count": 10,
   "id": "8bd797a6-4c44-4ed7-a2a5-39563c0d5c9e",
   "metadata": {},
   "outputs": [],
   "source": [
    "#Verification \n",
    "#df['is_daily_summary_very_length'].value_counts()"
   ]
  },
  {
   "cell_type": "code",
   "execution_count": 11,
   "id": "26b6ad6b-0ca8-4d54-b9b2-b21bcf53a84a",
   "metadata": {},
   "outputs": [
    {
     "data": {
      "text/html": [
       "<div>\n",
       "<style scoped>\n",
       "    .dataframe tbody tr th:only-of-type {\n",
       "        vertical-align: middle;\n",
       "    }\n",
       "\n",
       "    .dataframe tbody tr th {\n",
       "        vertical-align: top;\n",
       "    }\n",
       "\n",
       "    .dataframe thead th {\n",
       "        text-align: right;\n",
       "    }\n",
       "</style>\n",
       "<table border=\"1\" class=\"dataframe\">\n",
       "  <thead>\n",
       "    <tr style=\"text-align: right;\">\n",
       "      <th></th>\n",
       "      <th>Formatted Date</th>\n",
       "      <th>Summary</th>\n",
       "      <th>Precip Type</th>\n",
       "      <th>Temperature (C)</th>\n",
       "      <th>Apparent Temperature (C)</th>\n",
       "      <th>Humidity</th>\n",
       "      <th>Wind Speed (km/h)</th>\n",
       "      <th>Wind Bearing (degrees)</th>\n",
       "      <th>Visibility (km)</th>\n",
       "      <th>Loud Cover</th>\n",
       "      <th>Pressure (millibars)</th>\n",
       "      <th>Daily Summary</th>\n",
       "      <th>target</th>\n",
       "    </tr>\n",
       "  </thead>\n",
       "  <tbody>\n",
       "    <tr>\n",
       "      <th>0</th>\n",
       "      <td>2005-12-31 23:00:00+00:00</td>\n",
       "      <td>Partly Cloudy</td>\n",
       "      <td>rain</td>\n",
       "      <td>0.577778</td>\n",
       "      <td>-4.050000</td>\n",
       "      <td>0.89</td>\n",
       "      <td>17.1143</td>\n",
       "      <td>140.0</td>\n",
       "      <td>9.9820</td>\n",
       "      <td>0.0</td>\n",
       "      <td>1016.66</td>\n",
       "      <td>Mostly cloudy throughout the day.</td>\n",
       "      <td>Mostly Cloudy</td>\n",
       "    </tr>\n",
       "    <tr>\n",
       "      <th>1</th>\n",
       "      <td>2006-01-01 00:00:00+00:00</td>\n",
       "      <td>Mostly Cloudy</td>\n",
       "      <td>rain</td>\n",
       "      <td>1.161111</td>\n",
       "      <td>-3.238889</td>\n",
       "      <td>0.85</td>\n",
       "      <td>16.6152</td>\n",
       "      <td>139.0</td>\n",
       "      <td>9.9015</td>\n",
       "      <td>0.0</td>\n",
       "      <td>1016.15</td>\n",
       "      <td>Mostly cloudy throughout the day.</td>\n",
       "      <td>Mostly Cloudy</td>\n",
       "    </tr>\n",
       "    <tr>\n",
       "      <th>2</th>\n",
       "      <td>2006-01-01 01:00:00+00:00</td>\n",
       "      <td>Mostly Cloudy</td>\n",
       "      <td>rain</td>\n",
       "      <td>1.666667</td>\n",
       "      <td>-3.155556</td>\n",
       "      <td>0.82</td>\n",
       "      <td>20.2538</td>\n",
       "      <td>140.0</td>\n",
       "      <td>9.9015</td>\n",
       "      <td>0.0</td>\n",
       "      <td>1015.87</td>\n",
       "      <td>Mostly cloudy throughout the day.</td>\n",
       "      <td>Overcast</td>\n",
       "    </tr>\n",
       "  </tbody>\n",
       "</table>\n",
       "</div>"
      ],
      "text/plain": [
       "             Formatted Date        Summary Precip Type  Temperature (C)  \\\n",
       "0 2005-12-31 23:00:00+00:00  Partly Cloudy        rain         0.577778   \n",
       "1 2006-01-01 00:00:00+00:00  Mostly Cloudy        rain         1.161111   \n",
       "2 2006-01-01 01:00:00+00:00  Mostly Cloudy        rain         1.666667   \n",
       "\n",
       "   Apparent Temperature (C)  Humidity  Wind Speed (km/h)  \\\n",
       "0                 -4.050000      0.89            17.1143   \n",
       "1                 -3.238889      0.85            16.6152   \n",
       "2                 -3.155556      0.82            20.2538   \n",
       "\n",
       "   Wind Bearing (degrees)  Visibility (km)  Loud Cover  Pressure (millibars)  \\\n",
       "0                   140.0           9.9820         0.0               1016.66   \n",
       "1                   139.0           9.9015         0.0               1016.15   \n",
       "2                   140.0           9.9015         0.0               1015.87   \n",
       "\n",
       "                       Daily Summary         target  \n",
       "0  Mostly cloudy throughout the day.  Mostly Cloudy  \n",
       "1  Mostly cloudy throughout the day.  Mostly Cloudy  \n",
       "2  Mostly cloudy throughout the day.       Overcast  "
      ]
     },
     "execution_count": 11,
     "metadata": {},
     "output_type": "execute_result"
    }
   ],
   "source": [
    "df.head(3)"
   ]
  },
  {
   "cell_type": "markdown",
   "id": "7b847707-1e86-4250-ae9a-19f88fbb726d",
   "metadata": {},
   "source": [
    "#### Assignment 2"
   ]
  },
  {
   "cell_type": "markdown",
   "id": "154040b1-2f22-46b2-a4f5-98fc7419d57a",
   "metadata": {},
   "source": [
    "Feature “week_of_year”: a partire dalla colonna “Formatted Date”, creare una variabile categorica che specifica il numero della settimana all’interno dell’anno."
   ]
  },
  {
   "cell_type": "code",
   "execution_count": 12,
   "id": "1f1aba9e-0f8c-40cb-8552-05d4d761c2e1",
   "metadata": {},
   "outputs": [],
   "source": [
    "df['Formatted Date'] = pd.to_datetime(df['Formatted Date'], utc=True)\n",
    "df['week_of_year'] =df['Formatted Date'].dt.weekofyear"
   ]
  },
  {
   "cell_type": "code",
   "execution_count": 13,
   "id": "5fe8494d-64b0-4095-82a6-8415b1c50c87",
   "metadata": {},
   "outputs": [],
   "source": [
    "df.sort_values(by='week_of_year', ascending=True, inplace=True)\n",
    "df.reset_index(drop=True, inplace=True)"
   ]
  },
  {
   "cell_type": "code",
   "execution_count": 14,
   "id": "da985bb6-af30-4e6c-b5e4-0c1d4f5f35c5",
   "metadata": {},
   "outputs": [],
   "source": [
    "#df['week_of_year'].value_counts()"
   ]
  },
  {
   "cell_type": "markdown",
   "id": "f1eca1aa-ddd5-4b1b-a7b6-165360fb4ef9",
   "metadata": {},
   "source": [
    "#### Assignment 3"
   ]
  },
  {
   "cell_type": "markdown",
   "id": "485d6df7-17a0-4528-8f55-728bc238e09d",
   "metadata": {},
   "source": [
    "Feature “is_month_start”: a partire dalla colonna “Formatted Date”, creare una variabile booleana che è:\n",
    "- True, se la data che si sta considerando è l’inizio del mese\n",
    "- False, altrimenti"
   ]
  },
  {
   "cell_type": "code",
   "execution_count": 15,
   "id": "a694802a-2333-4683-8fa6-f12c04d25be5",
   "metadata": {},
   "outputs": [],
   "source": [
    "df['is_month_start'] =df['Formatted Date'].dt.is_month_start"
   ]
  },
  {
   "cell_type": "code",
   "execution_count": 16,
   "id": "3bf15390-d138-47a1-af7b-dbd648e78685",
   "metadata": {},
   "outputs": [
    {
     "data": {
      "text/plain": [
       "False    93260\n",
       "True      3168\n",
       "Name: is_month_start, dtype: int64"
      ]
     },
     "execution_count": 16,
     "metadata": {},
     "output_type": "execute_result"
    }
   ],
   "source": [
    "df['is_month_start'].value_counts()"
   ]
  },
  {
   "cell_type": "markdown",
   "id": "26dbe4c2-7b4c-4360-bb02-1ae49775fb62",
   "metadata": {},
   "source": [
    "#### Assignment 4"
   ]
  },
  {
   "cell_type": "markdown",
   "id": "62ee616a-fc2e-4be2-af05-39cc908e98db",
   "metadata": {},
   "source": [
    "Feature “is_greater_than_avg”: a partire dalle colonne “Formatted Date” e “Visibility (km)”, creare una variabile booleana che è:\n",
    "- True, se il valore nella riga i-esima è superiore della media della colonna “Visibility (km)” nella stessa data\n",
    "- False, altrimenti"
   ]
  },
  {
   "cell_type": "code",
   "execution_count": 17,
   "id": "36e66e4b",
   "metadata": {},
   "outputs": [],
   "source": [
    "# Solution Leon\n",
    "df['is_greater_than_avg'] = [True if (df['Visibility (km)'][i] > df['Visibility (km)'].mean()) else False for i in (df['Formatted Date'].index)]"
   ]
  },
  {
   "cell_type": "code",
   "execution_count": 18,
   "id": "3bad4c3c",
   "metadata": {},
   "outputs": [],
   "source": [
    "# Solution Edo\n",
    "t = df[['Formatted Date', 'Visibility (km)']].copy()\n",
    "t['Formatted Date'] = t['Formatted Date'].dt.date\n",
    "avg_t = t.groupby(by='Formatted Date')['Visibility (km)'].mean().reset_index()\n",
    "x=list(avg_t.to_dict()['Formatted Date'].values())\n",
    "y=list(avg_t.to_dict()['Visibility (km)'].values())\n",
    "avg_dict = {str(x[i]): y[i] for i in range(len(x))}\n",
    "t['edo'] = t.apply(\n",
    "    lambda row: row['Visibility (km)'] > avg_dict[str(row['Formatted Date'])],\n",
    "    axis=1\n",
    ")"
   ]
  },
  {
   "cell_type": "code",
   "execution_count": 19,
   "id": "dc369c12",
   "metadata": {},
   "outputs": [
    {
     "data": {
      "text/plain": [
       "False    52536\n",
       "True     43892\n",
       "Name: edo, dtype: int64"
      ]
     },
     "execution_count": 19,
     "metadata": {},
     "output_type": "execute_result"
    }
   ],
   "source": [
    "t['edo'].value_counts()"
   ]
  },
  {
   "cell_type": "code",
   "execution_count": 20,
   "id": "925d9214-3c83-4b49-9dd3-21f8d589ba93",
   "metadata": {},
   "outputs": [
    {
     "data": {
      "text/plain": [
       "False    50998\n",
       "True     45430\n",
       "Name: is_greater_than_avg, dtype: int64"
      ]
     },
     "execution_count": 20,
     "metadata": {},
     "output_type": "execute_result"
    }
   ],
   "source": [
    "df['is_greater_than_avg'].value_counts()"
   ]
  },
  {
   "cell_type": "code",
   "execution_count": 21,
   "id": "5993fa8a-1d71-4f9b-8b14-48e89c7e60e5",
   "metadata": {},
   "outputs": [
    {
     "data": {
      "text/html": [
       "<div>\n",
       "<style scoped>\n",
       "    .dataframe tbody tr th:only-of-type {\n",
       "        vertical-align: middle;\n",
       "    }\n",
       "\n",
       "    .dataframe tbody tr th {\n",
       "        vertical-align: top;\n",
       "    }\n",
       "\n",
       "    .dataframe thead th {\n",
       "        text-align: right;\n",
       "    }\n",
       "</style>\n",
       "<table border=\"1\" class=\"dataframe\">\n",
       "  <thead>\n",
       "    <tr style=\"text-align: right;\">\n",
       "      <th></th>\n",
       "      <th>Formatted Date</th>\n",
       "      <th>Summary</th>\n",
       "      <th>Precip Type</th>\n",
       "      <th>Temperature (C)</th>\n",
       "      <th>Apparent Temperature (C)</th>\n",
       "      <th>Humidity</th>\n",
       "      <th>Wind Speed (km/h)</th>\n",
       "      <th>Wind Bearing (degrees)</th>\n",
       "      <th>Visibility (km)</th>\n",
       "      <th>Loud Cover</th>\n",
       "      <th>Pressure (millibars)</th>\n",
       "      <th>Daily Summary</th>\n",
       "      <th>target</th>\n",
       "      <th>week_of_year</th>\n",
       "      <th>is_month_start</th>\n",
       "      <th>is_greater_than_avg</th>\n",
       "    </tr>\n",
       "  </thead>\n",
       "  <tbody>\n",
       "    <tr>\n",
       "      <th>0</th>\n",
       "      <td>2008-01-06 23:00:00+00:00</td>\n",
       "      <td>Foggy</td>\n",
       "      <td>snow</td>\n",
       "      <td>0.000000</td>\n",
       "      <td>0.000000</td>\n",
       "      <td>0.92</td>\n",
       "      <td>3.1556</td>\n",
       "      <td>219.0</td>\n",
       "      <td>2.9302</td>\n",
       "      <td>0.0</td>\n",
       "      <td>1021.59</td>\n",
       "      <td>Foggy throughout the day.</td>\n",
       "      <td>Foggy</td>\n",
       "      <td>1</td>\n",
       "      <td>False</td>\n",
       "      <td>False</td>\n",
       "    </tr>\n",
       "    <tr>\n",
       "      <th>1</th>\n",
       "      <td>2009-01-04 16:00:00+00:00</td>\n",
       "      <td>Partly Cloudy</td>\n",
       "      <td>snow</td>\n",
       "      <td>-7.222222</td>\n",
       "      <td>-7.222222</td>\n",
       "      <td>0.96</td>\n",
       "      <td>1.6100</td>\n",
       "      <td>180.0</td>\n",
       "      <td>6.1180</td>\n",
       "      <td>0.0</td>\n",
       "      <td>1020.00</td>\n",
       "      <td>Foggy starting overnight continuing until afte...</td>\n",
       "      <td>Partly Cloudy</td>\n",
       "      <td>1</td>\n",
       "      <td>False</td>\n",
       "      <td>False</td>\n",
       "    </tr>\n",
       "    <tr>\n",
       "      <th>2</th>\n",
       "      <td>2009-01-04 17:00:00+00:00</td>\n",
       "      <td>Partly Cloudy</td>\n",
       "      <td>snow</td>\n",
       "      <td>-7.222222</td>\n",
       "      <td>-12.766667</td>\n",
       "      <td>0.88</td>\n",
       "      <td>12.8800</td>\n",
       "      <td>220.0</td>\n",
       "      <td>6.1180</td>\n",
       "      <td>0.0</td>\n",
       "      <td>1019.80</td>\n",
       "      <td>Foggy starting overnight continuing until afte...</td>\n",
       "      <td>Mostly Cloudy</td>\n",
       "      <td>1</td>\n",
       "      <td>False</td>\n",
       "      <td>False</td>\n",
       "    </tr>\n",
       "    <tr>\n",
       "      <th>3</th>\n",
       "      <td>2009-01-04 18:00:00+00:00</td>\n",
       "      <td>Mostly Cloudy</td>\n",
       "      <td>snow</td>\n",
       "      <td>-6.177778</td>\n",
       "      <td>-12.261111</td>\n",
       "      <td>0.83</td>\n",
       "      <td>16.1161</td>\n",
       "      <td>213.0</td>\n",
       "      <td>6.2146</td>\n",
       "      <td>0.0</td>\n",
       "      <td>1020.12</td>\n",
       "      <td>Foggy starting overnight continuing until afte...</td>\n",
       "      <td>Overcast</td>\n",
       "      <td>1</td>\n",
       "      <td>False</td>\n",
       "      <td>False</td>\n",
       "    </tr>\n",
       "    <tr>\n",
       "      <th>4</th>\n",
       "      <td>2009-01-04 19:00:00+00:00</td>\n",
       "      <td>Overcast</td>\n",
       "      <td>snow</td>\n",
       "      <td>-6.111111</td>\n",
       "      <td>-11.416667</td>\n",
       "      <td>0.88</td>\n",
       "      <td>12.8800</td>\n",
       "      <td>220.0</td>\n",
       "      <td>4.0250</td>\n",
       "      <td>0.0</td>\n",
       "      <td>1020.20</td>\n",
       "      <td>Foggy starting overnight continuing until afte...</td>\n",
       "      <td>Overcast</td>\n",
       "      <td>1</td>\n",
       "      <td>False</td>\n",
       "      <td>False</td>\n",
       "    </tr>\n",
       "  </tbody>\n",
       "</table>\n",
       "</div>"
      ],
      "text/plain": [
       "             Formatted Date        Summary Precip Type  Temperature (C)  \\\n",
       "0 2008-01-06 23:00:00+00:00          Foggy        snow         0.000000   \n",
       "1 2009-01-04 16:00:00+00:00  Partly Cloudy        snow        -7.222222   \n",
       "2 2009-01-04 17:00:00+00:00  Partly Cloudy        snow        -7.222222   \n",
       "3 2009-01-04 18:00:00+00:00  Mostly Cloudy        snow        -6.177778   \n",
       "4 2009-01-04 19:00:00+00:00       Overcast        snow        -6.111111   \n",
       "\n",
       "   Apparent Temperature (C)  Humidity  Wind Speed (km/h)  \\\n",
       "0                  0.000000      0.92             3.1556   \n",
       "1                 -7.222222      0.96             1.6100   \n",
       "2                -12.766667      0.88            12.8800   \n",
       "3                -12.261111      0.83            16.1161   \n",
       "4                -11.416667      0.88            12.8800   \n",
       "\n",
       "   Wind Bearing (degrees)  Visibility (km)  Loud Cover  Pressure (millibars)  \\\n",
       "0                   219.0           2.9302         0.0               1021.59   \n",
       "1                   180.0           6.1180         0.0               1020.00   \n",
       "2                   220.0           6.1180         0.0               1019.80   \n",
       "3                   213.0           6.2146         0.0               1020.12   \n",
       "4                   220.0           4.0250         0.0               1020.20   \n",
       "\n",
       "                                       Daily Summary         target  \\\n",
       "0                          Foggy throughout the day.          Foggy   \n",
       "1  Foggy starting overnight continuing until afte...  Partly Cloudy   \n",
       "2  Foggy starting overnight continuing until afte...  Mostly Cloudy   \n",
       "3  Foggy starting overnight continuing until afte...       Overcast   \n",
       "4  Foggy starting overnight continuing until afte...       Overcast   \n",
       "\n",
       "   week_of_year  is_month_start  is_greater_than_avg  \n",
       "0             1           False                False  \n",
       "1             1           False                False  \n",
       "2             1           False                False  \n",
       "3             1           False                False  \n",
       "4             1           False                False  "
      ]
     },
     "execution_count": 21,
     "metadata": {},
     "output_type": "execute_result"
    }
   ],
   "source": [
    "df.head()"
   ]
  },
  {
   "cell_type": "markdown",
   "id": "a64d7d56-b3f9-43cf-9b34-0c4ab4df4c59",
   "metadata": {},
   "source": [
    "##  Categoria di feature (B)"
   ]
  },
  {
   "cell_type": "markdown",
   "id": "8f75bb7a-6bf6-4cad-89d4-a11d5e2b1d8b",
   "metadata": {},
   "source": [
    " \n",
    "Questa categoria di feature (B) invece seguono la stessa logica che abbiamo visto oggi, quindi provo a valorizzare queste feature usando i valori presenti in 1 o più riga/he precedente/i o successiva/e:"
   ]
  },
  {
   "cell_type": "markdown",
   "id": "cc828d22-71e6-48c1-a065-a4f9a8c319b0",
   "metadata": {},
   "source": [
    "#### Assignment 5"
   ]
  },
  {
   "cell_type": "markdown",
   "id": "03cdae86-98ae-40ec-8733-2db408f66452",
   "metadata": {},
   "source": [
    "Feature “Temperature (C) t-1”: a partire dalle colonne “Formatted Date” e “Temperature (C)”, riportare nella riga i-esima il valore della colonna “Temperature (C)” che si trova nella riga (i-1)-esima."
   ]
  },
  {
   "cell_type": "code",
   "execution_count": 22,
   "id": "91fe5630",
   "metadata": {},
   "outputs": [],
   "source": [
    "# Solution Leon\n",
    "df['Temperature (C) t-1'] = None # inutile\n",
    "df['Temperature (C) t-1'] = df['Temperature (C)'].shift(1)\n",
    "df=df.dropna().reset_index(drop=True)"
   ]
  },
  {
   "cell_type": "code",
   "execution_count": 23,
   "id": "64654a1b",
   "metadata": {},
   "outputs": [],
   "source": [
    "# Solution Edo\n",
    "t = df[['Formatted Date', 'Temperature (C)']].copy()\n",
    "t['edo'] = t['Temperature (C)'].shift(1)"
   ]
  },
  {
   "cell_type": "code",
   "execution_count": 33,
   "id": "f2b6bd43-5bf6-4cdc-a644-5be2ac0809a3",
   "metadata": {},
   "outputs": [
    {
     "data": {
      "text/html": [
       "<div>\n",
       "<style scoped>\n",
       "    .dataframe tbody tr th:only-of-type {\n",
       "        vertical-align: middle;\n",
       "    }\n",
       "\n",
       "    .dataframe tbody tr th {\n",
       "        vertical-align: top;\n",
       "    }\n",
       "\n",
       "    .dataframe thead th {\n",
       "        text-align: right;\n",
       "    }\n",
       "</style>\n",
       "<table border=\"1\" class=\"dataframe\">\n",
       "  <thead>\n",
       "    <tr style=\"text-align: right;\">\n",
       "      <th></th>\n",
       "      <th>Formatted Date</th>\n",
       "      <th>Summary</th>\n",
       "      <th>Precip Type</th>\n",
       "      <th>Temperature (C)</th>\n",
       "      <th>Apparent Temperature (C)</th>\n",
       "      <th>Humidity</th>\n",
       "      <th>Wind Speed (km/h)</th>\n",
       "      <th>Wind Bearing (degrees)</th>\n",
       "      <th>Visibility (km)</th>\n",
       "      <th>Loud Cover</th>\n",
       "      <th>Pressure (millibars)</th>\n",
       "      <th>Daily Summary</th>\n",
       "      <th>target</th>\n",
       "      <th>week_of_year</th>\n",
       "      <th>is_month_start</th>\n",
       "      <th>is_greater_than_avg</th>\n",
       "      <th>Temperature (C) t-1</th>\n",
       "      <th>same summary in the last 3 days</th>\n",
       "      <th>Humidity avg last 2 days</th>\n",
       "    </tr>\n",
       "  </thead>\n",
       "  <tbody>\n",
       "    <tr>\n",
       "      <th>95905</th>\n",
       "      <td>2009-12-28 01:00:00+00:00</td>\n",
       "      <td>Mostly Cloudy</td>\n",
       "      <td>rain</td>\n",
       "      <td>2.222222</td>\n",
       "      <td>-1.566667</td>\n",
       "      <td>0.75</td>\n",
       "      <td>14.4900</td>\n",
       "      <td>280.0</td>\n",
       "      <td>15.1340</td>\n",
       "      <td>0.0</td>\n",
       "      <td>1006.60</td>\n",
       "      <td>Partly cloudy throughout the day.</td>\n",
       "      <td>Mostly Cloudy</td>\n",
       "      <td>53</td>\n",
       "      <td>False</td>\n",
       "      <td>True</td>\n",
       "      <td>-0.505556</td>\n",
       "      <td>None</td>\n",
       "      <td>0.750</td>\n",
       "    </tr>\n",
       "    <tr>\n",
       "      <th>95906</th>\n",
       "      <td>2009-12-28 02:00:00+00:00</td>\n",
       "      <td>Mostly Cloudy</td>\n",
       "      <td>rain</td>\n",
       "      <td>2.222222</td>\n",
       "      <td>-1.566667</td>\n",
       "      <td>0.75</td>\n",
       "      <td>14.4900</td>\n",
       "      <td>260.0</td>\n",
       "      <td>15.1340</td>\n",
       "      <td>0.0</td>\n",
       "      <td>1006.60</td>\n",
       "      <td>Partly cloudy throughout the day.</td>\n",
       "      <td>Mostly Cloudy</td>\n",
       "      <td>53</td>\n",
       "      <td>False</td>\n",
       "      <td>True</td>\n",
       "      <td>2.222222</td>\n",
       "      <td>None</td>\n",
       "      <td>0.775</td>\n",
       "    </tr>\n",
       "    <tr>\n",
       "      <th>95907</th>\n",
       "      <td>2009-12-28 03:00:00+00:00</td>\n",
       "      <td>Mostly Cloudy</td>\n",
       "      <td>rain</td>\n",
       "      <td>1.683333</td>\n",
       "      <td>-2.294444</td>\n",
       "      <td>0.80</td>\n",
       "      <td>14.8603</td>\n",
       "      <td>239.0</td>\n",
       "      <td>13.9587</td>\n",
       "      <td>0.0</td>\n",
       "      <td>1006.81</td>\n",
       "      <td>Partly cloudy throughout the day.</td>\n",
       "      <td>Mostly Cloudy</td>\n",
       "      <td>53</td>\n",
       "      <td>False</td>\n",
       "      <td>True</td>\n",
       "      <td>2.222222</td>\n",
       "      <td>None</td>\n",
       "      <td>0.865</td>\n",
       "    </tr>\n",
       "    <tr>\n",
       "      <th>95908</th>\n",
       "      <td>2010-01-01 19:00:00+00:00</td>\n",
       "      <td>Foggy</td>\n",
       "      <td>rain</td>\n",
       "      <td>6.111111</td>\n",
       "      <td>3.466667</td>\n",
       "      <td>0.93</td>\n",
       "      <td>12.8800</td>\n",
       "      <td>340.0</td>\n",
       "      <td>3.0590</td>\n",
       "      <td>0.0</td>\n",
       "      <td>992.20</td>\n",
       "      <td>Foggy in the morning.</td>\n",
       "      <td>Foggy</td>\n",
       "      <td>53</td>\n",
       "      <td>True</td>\n",
       "      <td>False</td>\n",
       "      <td>1.683333</td>\n",
       "      <td>None</td>\n",
       "      <td>0.870</td>\n",
       "    </tr>\n",
       "    <tr>\n",
       "      <th>95909</th>\n",
       "      <td>2016-01-03 22:00:00+00:00</td>\n",
       "      <td>Mostly Cloudy</td>\n",
       "      <td>snow</td>\n",
       "      <td>-7.416667</td>\n",
       "      <td>-14.633333</td>\n",
       "      <td>0.81</td>\n",
       "      <td>20.3021</td>\n",
       "      <td>190.0</td>\n",
       "      <td>11.9784</td>\n",
       "      <td>0.0</td>\n",
       "      <td>1015.98</td>\n",
       "      <td>Mostly cloudy throughout the day.</td>\n",
       "      <td>Overcast</td>\n",
       "      <td>53</td>\n",
       "      <td>False</td>\n",
       "      <td>True</td>\n",
       "      <td>6.111111</td>\n",
       "      <td>None</td>\n",
       "      <td>NaN</td>\n",
       "    </tr>\n",
       "  </tbody>\n",
       "</table>\n",
       "</div>"
      ],
      "text/plain": [
       "                 Formatted Date        Summary Precip Type  Temperature (C)  \\\n",
       "95905 2009-12-28 01:00:00+00:00  Mostly Cloudy        rain         2.222222   \n",
       "95906 2009-12-28 02:00:00+00:00  Mostly Cloudy        rain         2.222222   \n",
       "95907 2009-12-28 03:00:00+00:00  Mostly Cloudy        rain         1.683333   \n",
       "95908 2010-01-01 19:00:00+00:00          Foggy        rain         6.111111   \n",
       "95909 2016-01-03 22:00:00+00:00  Mostly Cloudy        snow        -7.416667   \n",
       "\n",
       "       Apparent Temperature (C)  Humidity  Wind Speed (km/h)  \\\n",
       "95905                 -1.566667      0.75            14.4900   \n",
       "95906                 -1.566667      0.75            14.4900   \n",
       "95907                 -2.294444      0.80            14.8603   \n",
       "95908                  3.466667      0.93            12.8800   \n",
       "95909                -14.633333      0.81            20.3021   \n",
       "\n",
       "       Wind Bearing (degrees)  Visibility (km)  Loud Cover  \\\n",
       "95905                   280.0          15.1340         0.0   \n",
       "95906                   260.0          15.1340         0.0   \n",
       "95907                   239.0          13.9587         0.0   \n",
       "95908                   340.0           3.0590         0.0   \n",
       "95909                   190.0          11.9784         0.0   \n",
       "\n",
       "       Pressure (millibars)                      Daily Summary         target  \\\n",
       "95905               1006.60  Partly cloudy throughout the day.  Mostly Cloudy   \n",
       "95906               1006.60  Partly cloudy throughout the day.  Mostly Cloudy   \n",
       "95907               1006.81  Partly cloudy throughout the day.  Mostly Cloudy   \n",
       "95908                992.20              Foggy in the morning.          Foggy   \n",
       "95909               1015.98  Mostly cloudy throughout the day.       Overcast   \n",
       "\n",
       "       week_of_year  is_month_start  is_greater_than_avg  Temperature (C) t-1  \\\n",
       "95905            53           False                 True            -0.505556   \n",
       "95906            53           False                 True             2.222222   \n",
       "95907            53           False                 True             2.222222   \n",
       "95908            53            True                False             1.683333   \n",
       "95909            53           False                 True             6.111111   \n",
       "\n",
       "      same summary in the last 3 days  Humidity avg last 2 days  \n",
       "95905                            None                     0.750  \n",
       "95906                            None                     0.775  \n",
       "95907                            None                     0.865  \n",
       "95908                            None                     0.870  \n",
       "95909                            None                       NaN  "
      ]
     },
     "execution_count": 33,
     "metadata": {},
     "output_type": "execute_result"
    }
   ],
   "source": [
    "df.tail()"
   ]
  },
  {
   "cell_type": "markdown",
   "id": "355e1372-07c9-4540-afae-91e09305d7cf",
   "metadata": {},
   "source": [
    "#### Assignment 6"
   ]
  },
  {
   "cell_type": "markdown",
   "id": "1d0b5d1f-8d7d-49b1-bc49-16fc43dd8397",
   "metadata": {},
   "source": [
    "Feature “same summary in the last 3 hours”: a partire dalle colonne “Formatted Date” e “Summary”, creare un indicatore booleano che sia:\n",
    "- True, se i valori della colonna “Summary” nelle ultime 3 ore considerando le righe i-esima, (i-1)-esima e (i-2)-esima sono uguali\n",
    "- False, altrimenti"
   ]
  },
  {
   "cell_type": "code",
   "execution_count": 25,
   "id": "fc79ef39-76f5-45e9-9553-b615d00509a0",
   "metadata": {},
   "outputs": [],
   "source": [
    "# Solution Leon\n",
    "df['same summary in the last 3 days'] =None\n",
    "Summary_tail_2=(df['Summary'].shift(-2))\n",
    "Summary_tail_2=Summary_tail_2.dropna().reset_index(drop=True)\n",
    "Summary_tail_2=Summary_tail_2.tail(3)\n",
    "Summary_tail_3=(df['Summary'].shift(-3))\n",
    "Summary_tail_3=Summary_tail_3.dropna().reset_index(drop=True)\n",
    "Summary_tail_3=Summary_tail_3.tail(3)\n",
    "Summary_tail_2 = pd.DataFrame(Summary_tail_2)\n",
    "Summary_tail_3 = pd.DataFrame(Summary_tail_3)\n",
    "#df['same summary in the last 3 days'] = [True if (Summary_tail_2[i].equals(Summary_tail_3[i])) else False for i in (df['Formatted Date'].index)] "
   ]
  },
  {
   "cell_type": "code",
   "execution_count": 26,
   "id": "0c3c876c-fa72-4766-997c-07e0bd070be7",
   "metadata": {},
   "outputs": [],
   "source": [
    "# Solution Edo\n",
    "t = df[['Formatted Date', 'Summary']].copy()\n",
    "t['Summary (t-1)'] = t['Summary'].shift(1)\n",
    "t['Summary (t-2)'] = t['Summary'].shift(2)\n",
    "t['edo'] = t.apply(lambda row: True if row['Summary'] == row['Summary (t-1)'] == row['Summary (t-2)'] else False, axis=1)\n",
    "t['edo2'] = t.apply(lambda row: True if len(set([row['Summary'], row['Summary (t-1)'], row['Summary (t-2)']])) == 1 else False, axis=1)"
   ]
  },
  {
   "cell_type": "markdown",
   "id": "87fc4716-306d-4fcf-89d0-6a85c7260de1",
   "metadata": {},
   "source": [
    "#### Assignment 7"
   ]
  },
  {
   "cell_type": "markdown",
   "id": "ae80a266-8adb-4b8a-9692-e6cf3873cc5e",
   "metadata": {},
   "source": [
    "Feature “Humidity avg last 2 hours”: a partire dalle colonne “Formatted Date” e “Humidity”, calcolare il valore medio della colonna “Humidity” considerando la riga i-esima e (i-1)-esima, e riportare questo valore nella riga i-esima."
   ]
  },
  {
   "cell_type": "code",
   "execution_count": 27,
   "id": "160a5436-8948-425f-a1de-babe32271675",
   "metadata": {},
   "outputs": [],
   "source": [
    "# Solution Leon\n",
    "df['Humidity avg last 2 days'] =df['Humidity'].shift(-1)\n",
    "df['Humidity avg last 2 days']= df['Humidity avg last 2 days'].dropna().reset_index(drop=True)\n",
    "df['Humidity avg last 2 days'] =[ (stat.mean([df['Humidity'][i] , df['Humidity avg last 2 days'][i]])) for i in (df['Formatted Date'].index)]"
   ]
  },
  {
   "cell_type": "code",
   "execution_count": 28,
   "id": "5042e3c5-3ae3-4a4c-bc27-ce4276d021b0",
   "metadata": {},
   "outputs": [],
   "source": [
    "# Solution Edo\n",
    "t = df[['Formatted Date', 'Humidity']].copy()\n",
    "t['Humidity (t-1)'] = t['Humidity'].shift(1)\n",
    "t['edo'] = t[['Humidity', 'Humidity (t-1)']].mean(axis=1)"
   ]
  },
  {
   "cell_type": "markdown",
   "id": "41a937b7-3a12-4199-96ef-0ed65c5b51ad",
   "metadata": {},
   "source": [
    "#### Assignment 8"
   ]
  },
  {
   "cell_type": "markdown",
   "id": "686e88f0-2d64-4b43-844a-ffa1a4fa5047",
   "metadata": {},
   "source": [
    "Feature “Differenza in Ore”: a partire dalla colonna “Formatted Date”, creare una variabile numerica intera che indica la differenza (misurata in ore) tra due righe consecutive a livello temporale"
   ]
  },
  {
   "cell_type": "code",
   "execution_count": 29,
   "id": "9fcd58ac-abae-421d-a875-f05e3636c490",
   "metadata": {},
   "outputs": [],
   "source": [
    "# Solution Leon\n",
    "#df['Differenza in Ore'] =df['Formatted Date'].shift(-1)\n",
    "#df['Differenza in Ore']= df['Formatted Date'].dropna().reset_index(drop=True)\n",
    "#df['Differenza in Ore']=df['Differenza in Ore'].dt.time\n",
    "#df['Differenza in Ore']\n",
    "#df['Formatted Date'] = pd.to_datetime(df['Formatted Date'], utc=True)\n",
    "#df['Formatted Date']=df['Formatted Date'].dt.time \n",
    "#df['Formatted Date']\n",
    "#df['Differenza in Ore'] =[ (df['Differenza in Ore'][i] -df['Formatted Date'][i])  for i in (df['Formatted Date'].index)]"
   ]
  },
  {
   "cell_type": "code",
   "execution_count": 30,
   "id": "9a0f3e08-3c0f-4cc6-9da8-6b1eebf75da0",
   "metadata": {},
   "outputs": [],
   "source": [
    "# Solution Edo\n",
    "t = df[['Formatted Date']].copy()\n",
    "t['Formatted Date (t-1)'] = t['Formatted Date'].shift(1)\n",
    "t['edo'] = ((t['Formatted Date'] - t['Formatted Date (t-1)']).dt.seconds)/(60*60)"
   ]
  },
  {
   "cell_type": "code",
   "execution_count": 31,
   "id": "17fe99f2-60af-449b-bab5-539d71e54850",
   "metadata": {},
   "outputs": [
    {
     "data": {
      "text/html": [
       "<div>\n",
       "<style scoped>\n",
       "    .dataframe tbody tr th:only-of-type {\n",
       "        vertical-align: middle;\n",
       "    }\n",
       "\n",
       "    .dataframe tbody tr th {\n",
       "        vertical-align: top;\n",
       "    }\n",
       "\n",
       "    .dataframe thead th {\n",
       "        text-align: right;\n",
       "    }\n",
       "</style>\n",
       "<table border=\"1\" class=\"dataframe\">\n",
       "  <thead>\n",
       "    <tr style=\"text-align: right;\">\n",
       "      <th></th>\n",
       "      <th>Formatted Date</th>\n",
       "      <th>Formatted Date (t-1)</th>\n",
       "      <th>edo</th>\n",
       "    </tr>\n",
       "  </thead>\n",
       "  <tbody>\n",
       "    <tr>\n",
       "      <th>0</th>\n",
       "      <td>2009-01-04 16:00:00+00:00</td>\n",
       "      <td>NaT</td>\n",
       "      <td>NaN</td>\n",
       "    </tr>\n",
       "    <tr>\n",
       "      <th>1</th>\n",
       "      <td>2009-01-04 17:00:00+00:00</td>\n",
       "      <td>2009-01-04 16:00:00+00:00</td>\n",
       "      <td>1.0</td>\n",
       "    </tr>\n",
       "    <tr>\n",
       "      <th>2</th>\n",
       "      <td>2009-01-04 18:00:00+00:00</td>\n",
       "      <td>2009-01-04 17:00:00+00:00</td>\n",
       "      <td>1.0</td>\n",
       "    </tr>\n",
       "    <tr>\n",
       "      <th>3</th>\n",
       "      <td>2009-01-04 19:00:00+00:00</td>\n",
       "      <td>2009-01-04 18:00:00+00:00</td>\n",
       "      <td>1.0</td>\n",
       "    </tr>\n",
       "    <tr>\n",
       "      <th>4</th>\n",
       "      <td>2009-01-04 20:00:00+00:00</td>\n",
       "      <td>2009-01-04 19:00:00+00:00</td>\n",
       "      <td>1.0</td>\n",
       "    </tr>\n",
       "    <tr>\n",
       "      <th>...</th>\n",
       "      <td>...</td>\n",
       "      <td>...</td>\n",
       "      <td>...</td>\n",
       "    </tr>\n",
       "    <tr>\n",
       "      <th>95905</th>\n",
       "      <td>2009-12-28 01:00:00+00:00</td>\n",
       "      <td>2009-12-28 00:00:00+00:00</td>\n",
       "      <td>1.0</td>\n",
       "    </tr>\n",
       "    <tr>\n",
       "      <th>95906</th>\n",
       "      <td>2009-12-28 02:00:00+00:00</td>\n",
       "      <td>2009-12-28 01:00:00+00:00</td>\n",
       "      <td>1.0</td>\n",
       "    </tr>\n",
       "    <tr>\n",
       "      <th>95907</th>\n",
       "      <td>2009-12-28 03:00:00+00:00</td>\n",
       "      <td>2009-12-28 02:00:00+00:00</td>\n",
       "      <td>1.0</td>\n",
       "    </tr>\n",
       "    <tr>\n",
       "      <th>95908</th>\n",
       "      <td>2010-01-01 19:00:00+00:00</td>\n",
       "      <td>2009-12-28 03:00:00+00:00</td>\n",
       "      <td>16.0</td>\n",
       "    </tr>\n",
       "    <tr>\n",
       "      <th>95909</th>\n",
       "      <td>2016-01-03 22:00:00+00:00</td>\n",
       "      <td>2010-01-01 19:00:00+00:00</td>\n",
       "      <td>3.0</td>\n",
       "    </tr>\n",
       "  </tbody>\n",
       "</table>\n",
       "<p>95910 rows × 3 columns</p>\n",
       "</div>"
      ],
      "text/plain": [
       "                 Formatted Date      Formatted Date (t-1)   edo\n",
       "0     2009-01-04 16:00:00+00:00                       NaT   NaN\n",
       "1     2009-01-04 17:00:00+00:00 2009-01-04 16:00:00+00:00   1.0\n",
       "2     2009-01-04 18:00:00+00:00 2009-01-04 17:00:00+00:00   1.0\n",
       "3     2009-01-04 19:00:00+00:00 2009-01-04 18:00:00+00:00   1.0\n",
       "4     2009-01-04 20:00:00+00:00 2009-01-04 19:00:00+00:00   1.0\n",
       "...                         ...                       ...   ...\n",
       "95905 2009-12-28 01:00:00+00:00 2009-12-28 00:00:00+00:00   1.0\n",
       "95906 2009-12-28 02:00:00+00:00 2009-12-28 01:00:00+00:00   1.0\n",
       "95907 2009-12-28 03:00:00+00:00 2009-12-28 02:00:00+00:00   1.0\n",
       "95908 2010-01-01 19:00:00+00:00 2009-12-28 03:00:00+00:00  16.0\n",
       "95909 2016-01-03 22:00:00+00:00 2010-01-01 19:00:00+00:00   3.0\n",
       "\n",
       "[95910 rows x 3 columns]"
      ]
     },
     "execution_count": 31,
     "metadata": {},
     "output_type": "execute_result"
    }
   ],
   "source": [
    "t"
   ]
  },
  {
   "cell_type": "code",
   "execution_count": null,
   "id": "aa7a8d4f-45fd-4345-bb07-90ba7be71a24",
   "metadata": {},
   "outputs": [],
   "source": []
  }
 ],
 "metadata": {
  "kernelspec": {
   "display_name": "Python 3 (ipykernel)",
   "language": "python",
   "name": "python3"
  },
  "language_info": {
   "codemirror_mode": {
    "name": "ipython",
    "version": 3
   },
   "file_extension": ".py",
   "mimetype": "text/x-python",
   "name": "python",
   "nbconvert_exporter": "python",
   "pygments_lexer": "ipython3",
   "version": "3.9.12"
  },
  "widgets": {
   "application/vnd.jupyter.widget-state+json": {
    "state": {},
    "version_major": 2,
    "version_minor": 0
   }
  }
 },
 "nbformat": 4,
 "nbformat_minor": 5
}
