{
 "cells": [
  {
   "cell_type": "code",
   "execution_count": 1,
   "id": "4bb0959c-5f8b-4f4d-92a5-28df7fc17d58",
   "metadata": {},
   "outputs": [],
   "source": [
    "#Import libreries \n",
    "\n",
    "import pandas as pd \n",
    "import numpy as np\n",
    "\n",
    "from pandasql import sqldf # Hour SQL librery\n",
    "\n",
    "\n",
    "import warnings\n",
    "warnings.filterwarnings('ignore')"
   ]
  },
  {
   "cell_type": "code",
   "execution_count": 2,
   "id": "e0380e54-621b-4f6c-a911-8afb506d8c8e",
   "metadata": {},
   "outputs": [
    {
     "data": {
      "text/html": [
       "<div>\n",
       "<style scoped>\n",
       "    .dataframe tbody tr th:only-of-type {\n",
       "        vertical-align: middle;\n",
       "    }\n",
       "\n",
       "    .dataframe tbody tr th {\n",
       "        vertical-align: top;\n",
       "    }\n",
       "\n",
       "    .dataframe thead th {\n",
       "        text-align: right;\n",
       "    }\n",
       "</style>\n",
       "<table border=\"1\" class=\"dataframe\">\n",
       "  <thead>\n",
       "    <tr style=\"text-align: right;\">\n",
       "      <th></th>\n",
       "      <th>instant</th>\n",
       "      <th>dteday</th>\n",
       "      <th>season</th>\n",
       "      <th>yr</th>\n",
       "      <th>mnth</th>\n",
       "      <th>holiday</th>\n",
       "      <th>weekday</th>\n",
       "      <th>workingday</th>\n",
       "      <th>weathersit</th>\n",
       "      <th>temp</th>\n",
       "      <th>atemp</th>\n",
       "      <th>hum</th>\n",
       "      <th>windspeed</th>\n",
       "      <th>casual</th>\n",
       "      <th>registered</th>\n",
       "      <th>cnt</th>\n",
       "    </tr>\n",
       "  </thead>\n",
       "  <tbody>\n",
       "    <tr>\n",
       "      <th>0</th>\n",
       "      <td>1</td>\n",
       "      <td>2011-01-01</td>\n",
       "      <td>1</td>\n",
       "      <td>0</td>\n",
       "      <td>1</td>\n",
       "      <td>0</td>\n",
       "      <td>6</td>\n",
       "      <td>0</td>\n",
       "      <td>2</td>\n",
       "      <td>0.344167</td>\n",
       "      <td>0.363625</td>\n",
       "      <td>0.805833</td>\n",
       "      <td>0.160446</td>\n",
       "      <td>331</td>\n",
       "      <td>654</td>\n",
       "      <td>985</td>\n",
       "    </tr>\n",
       "    <tr>\n",
       "      <th>1</th>\n",
       "      <td>2</td>\n",
       "      <td>2011-01-02</td>\n",
       "      <td>1</td>\n",
       "      <td>0</td>\n",
       "      <td>1</td>\n",
       "      <td>0</td>\n",
       "      <td>0</td>\n",
       "      <td>0</td>\n",
       "      <td>2</td>\n",
       "      <td>0.363478</td>\n",
       "      <td>0.353739</td>\n",
       "      <td>0.696087</td>\n",
       "      <td>0.248539</td>\n",
       "      <td>131</td>\n",
       "      <td>670</td>\n",
       "      <td>801</td>\n",
       "    </tr>\n",
       "    <tr>\n",
       "      <th>2</th>\n",
       "      <td>3</td>\n",
       "      <td>2011-01-03</td>\n",
       "      <td>1</td>\n",
       "      <td>0</td>\n",
       "      <td>1</td>\n",
       "      <td>0</td>\n",
       "      <td>1</td>\n",
       "      <td>1</td>\n",
       "      <td>1</td>\n",
       "      <td>0.196364</td>\n",
       "      <td>0.189405</td>\n",
       "      <td>0.437273</td>\n",
       "      <td>0.248309</td>\n",
       "      <td>120</td>\n",
       "      <td>1229</td>\n",
       "      <td>1349</td>\n",
       "    </tr>\n",
       "    <tr>\n",
       "      <th>3</th>\n",
       "      <td>4</td>\n",
       "      <td>2011-01-04</td>\n",
       "      <td>1</td>\n",
       "      <td>0</td>\n",
       "      <td>1</td>\n",
       "      <td>0</td>\n",
       "      <td>2</td>\n",
       "      <td>1</td>\n",
       "      <td>1</td>\n",
       "      <td>0.200000</td>\n",
       "      <td>0.212122</td>\n",
       "      <td>0.590435</td>\n",
       "      <td>0.160296</td>\n",
       "      <td>108</td>\n",
       "      <td>1454</td>\n",
       "      <td>1562</td>\n",
       "    </tr>\n",
       "    <tr>\n",
       "      <th>4</th>\n",
       "      <td>5</td>\n",
       "      <td>2011-01-05</td>\n",
       "      <td>1</td>\n",
       "      <td>0</td>\n",
       "      <td>1</td>\n",
       "      <td>0</td>\n",
       "      <td>3</td>\n",
       "      <td>1</td>\n",
       "      <td>1</td>\n",
       "      <td>0.226957</td>\n",
       "      <td>0.229270</td>\n",
       "      <td>0.436957</td>\n",
       "      <td>0.186900</td>\n",
       "      <td>82</td>\n",
       "      <td>1518</td>\n",
       "      <td>1600</td>\n",
       "    </tr>\n",
       "  </tbody>\n",
       "</table>\n",
       "</div>"
      ],
      "text/plain": [
       "   instant      dteday  season  yr  mnth  holiday  weekday  workingday  \\\n",
       "0        1  2011-01-01       1   0     1        0        6           0   \n",
       "1        2  2011-01-02       1   0     1        0        0           0   \n",
       "2        3  2011-01-03       1   0     1        0        1           1   \n",
       "3        4  2011-01-04       1   0     1        0        2           1   \n",
       "4        5  2011-01-05       1   0     1        0        3           1   \n",
       "\n",
       "   weathersit      temp     atemp       hum  windspeed  casual  registered  \\\n",
       "0           2  0.344167  0.363625  0.805833   0.160446     331         654   \n",
       "1           2  0.363478  0.353739  0.696087   0.248539     131         670   \n",
       "2           1  0.196364  0.189405  0.437273   0.248309     120        1229   \n",
       "3           1  0.200000  0.212122  0.590435   0.160296     108        1454   \n",
       "4           1  0.226957  0.229270  0.436957   0.186900      82        1518   \n",
       "\n",
       "    cnt  \n",
       "0   985  \n",
       "1   801  \n",
       "2  1349  \n",
       "3  1562  \n",
       "4  1600  "
      ]
     },
     "execution_count": 2,
     "metadata": {},
     "output_type": "execute_result"
    }
   ],
   "source": [
    "#import dataset \n",
    "\n",
    "df = pd.read_csv(\"Dataset/day.csv\")\n",
    "df.head()"
   ]
  },
  {
   "cell_type": "code",
   "execution_count": 3,
   "id": "c27eb521-5993-47b2-b957-a7ed4b957a57",
   "metadata": {},
   "outputs": [
    {
     "data": {
      "text/plain": [
       "Index(['instant', 'dteday', 'season', 'yr', 'mnth', 'holiday', 'weekday',\n",
       "       'workingday', 'weathersit', 'temp', 'atemp', 'hum', 'windspeed',\n",
       "       'casual', 'registered', 'cnt'],\n",
       "      dtype='object')"
      ]
     },
     "execution_count": 3,
     "metadata": {},
     "output_type": "execute_result"
    }
   ],
   "source": [
    "df.columns"
   ]
  },
  {
   "cell_type": "markdown",
   "id": "c737998f-2d1d-462c-a169-09e89984009b",
   "metadata": {},
   "source": [
    "[Dataset description](https://www.kaggle.com/datasets/lakshmi25npathi/bike-sharing-dataset?select=day.csv)"
   ]
  },
  {
   "cell_type": "code",
   "execution_count": 4,
   "id": "f76e1c67-0846-4471-ae3a-7e1da5d176e2",
   "metadata": {},
   "outputs": [
    {
     "name": "stdout",
     "output_type": "stream",
     "text": [
      "- NA dataset exploritory instant       0\n",
      "dteday        0\n",
      "season        0\n",
      "yr            0\n",
      "mnth          0\n",
      "holiday       0\n",
      "weekday       0\n",
      "workingday    0\n",
      "weathersit    0\n",
      "temp          0\n",
      "atemp         0\n",
      "hum           0\n",
      "windspeed     0\n",
      "casual        0\n",
      "registered    0\n",
      "cnt           0\n",
      "dtype: int64 \n",
      "\n",
      "\n",
      "-Dataset shape: (731, 16) \n",
      "\n"
     ]
    }
   ],
   "source": [
    "# control NA values \n",
    "\n",
    "print(\"- NA dataset exploritory\",(df.isna().sum()),\"\\n\\n\") \n",
    "print(\"-Dataset shape:\", df.shape,\"\\n\")"
   ]
  },
  {
   "cell_type": "code",
   "execution_count": 5,
   "id": "5d5074f6-6641-4c7e-a0d7-5ea75c3a367d",
   "metadata": {},
   "outputs": [],
   "source": [
    "#convert into dataframe \n",
    "df = pd.DataFrame(df, columns=df.columns)\n",
    "df_source = df.copy()"
   ]
  },
  {
   "cell_type": "markdown",
   "id": "219fe20d-3d6d-42b7-a7b2-ea520f706fed",
   "metadata": {},
   "source": [
    "## Feature Generation/Extraction "
   ]
  },
  {
   "cell_type": "markdown",
   "id": "57b8dc0e-2ebe-426a-82c3-a19ada57f0af",
   "metadata": {},
   "source": [
    "#### Categoria di feature (A) "
   ]
  },
  {
   "cell_type": "markdown",
   "id": "c3f202e1-c5d1-4b0a-aa82-9199515d8422",
   "metadata": {},
   "source": [
    "sono semplici da calcolare perché ragionano riga per riga, senza andare a includere righe precedenti o successive."
   ]
  },
  {
   "cell_type": "markdown",
   "id": "dd075a25-d1b0-4a34-a678-86328b3777a3",
   "metadata": {},
   "source": [
    "#### - Case 1 : "
   ]
  },
  {
   "cell_type": "markdown",
   "id": "d210a664-1018-4fb7-936b-805793364efd",
   "metadata": {},
   "source": [
    "- Feature “rents_by_month”: a partire dalle colonne “yr”, “mnth”, “casual” e “registered”, calcolare un valore numerico intero che rappresenta \n",
    "il numero totale di prese in prestito di bici, per ogni coppia (mese, anno). Deve essere suddiviso per utenti casuali e utenti registrati"
   ]
  },
  {
   "cell_type": "code",
   "execution_count": 6,
   "id": "51e16a0f-8b04-4bfb-bcac-e9044138a10e",
   "metadata": {},
   "outputs": [
    {
     "data": {
      "text/html": [
       "<div>\n",
       "<style scoped>\n",
       "    .dataframe tbody tr th:only-of-type {\n",
       "        vertical-align: middle;\n",
       "    }\n",
       "\n",
       "    .dataframe tbody tr th {\n",
       "        vertical-align: top;\n",
       "    }\n",
       "\n",
       "    .dataframe thead th {\n",
       "        text-align: right;\n",
       "    }\n",
       "</style>\n",
       "<table border=\"1\" class=\"dataframe\">\n",
       "  <thead>\n",
       "    <tr style=\"text-align: right;\">\n",
       "      <th></th>\n",
       "      <th>yr</th>\n",
       "      <th>mnth</th>\n",
       "      <th>casual</th>\n",
       "      <th>registered</th>\n",
       "    </tr>\n",
       "  </thead>\n",
       "  <tbody>\n",
       "    <tr>\n",
       "      <th>0</th>\n",
       "      <td>0</td>\n",
       "      <td>1</td>\n",
       "      <td>331</td>\n",
       "      <td>654</td>\n",
       "    </tr>\n",
       "    <tr>\n",
       "      <th>1</th>\n",
       "      <td>0</td>\n",
       "      <td>1</td>\n",
       "      <td>131</td>\n",
       "      <td>670</td>\n",
       "    </tr>\n",
       "    <tr>\n",
       "      <th>2</th>\n",
       "      <td>0</td>\n",
       "      <td>1</td>\n",
       "      <td>120</td>\n",
       "      <td>1229</td>\n",
       "    </tr>\n",
       "  </tbody>\n",
       "</table>\n",
       "</div>"
      ],
      "text/plain": [
       "   yr  mnth  casual  registered\n",
       "0   0     1     331         654\n",
       "1   0     1     131         670\n",
       "2   0     1     120        1229"
      ]
     },
     "execution_count": 6,
     "metadata": {},
     "output_type": "execute_result"
    }
   ],
   "source": [
    "#Method 1 \n",
    "\n",
    "df_tmp = df[['yr','mnth','casual','registered']]\n",
    "df_tmp.head(3)"
   ]
  },
  {
   "cell_type": "code",
   "execution_count": 7,
   "id": "4295fb3e-f6de-4b40-9ba4-3a71cd9c037f",
   "metadata": {},
   "outputs": [
    {
     "data": {
      "text/html": [
       "<div>\n",
       "<style scoped>\n",
       "    .dataframe tbody tr th:only-of-type {\n",
       "        vertical-align: middle;\n",
       "    }\n",
       "\n",
       "    .dataframe tbody tr th {\n",
       "        vertical-align: top;\n",
       "    }\n",
       "\n",
       "    .dataframe thead th {\n",
       "        text-align: right;\n",
       "    }\n",
       "</style>\n",
       "<table border=\"1\" class=\"dataframe\">\n",
       "  <thead>\n",
       "    <tr style=\"text-align: right;\">\n",
       "      <th></th>\n",
       "      <th>yr</th>\n",
       "      <th>mnth</th>\n",
       "      <th>casual</th>\n",
       "      <th>registered</th>\n",
       "    </tr>\n",
       "  </thead>\n",
       "  <tbody>\n",
       "    <tr>\n",
       "      <th>0</th>\n",
       "      <td>0</td>\n",
       "      <td>1</td>\n",
       "      <td>331</td>\n",
       "      <td>654</td>\n",
       "    </tr>\n",
       "    <tr>\n",
       "      <th>1</th>\n",
       "      <td>0</td>\n",
       "      <td>1</td>\n",
       "      <td>131</td>\n",
       "      <td>670</td>\n",
       "    </tr>\n",
       "    <tr>\n",
       "      <th>2</th>\n",
       "      <td>0</td>\n",
       "      <td>1</td>\n",
       "      <td>120</td>\n",
       "      <td>1229</td>\n",
       "    </tr>\n",
       "  </tbody>\n",
       "</table>\n",
       "</div>"
      ],
      "text/plain": [
       "   yr  mnth  casual  registered\n",
       "0   0     1     331         654\n",
       "1   0     1     131         670\n",
       "2   0     1     120        1229"
      ]
     },
     "execution_count": 7,
     "metadata": {},
     "output_type": "execute_result"
    }
   ],
   "source": [
    "#Method 2\n",
    "\n",
    "t = df.copy()\n",
    "t_tmp = sqldf(\"Select yr, mnth , casual , registered from t\")\n",
    "t_tmp.head(3)"
   ]
  },
  {
   "cell_type": "code",
   "execution_count": 8,
   "id": "b5eed743-c8ff-4a5b-ad8a-cf81a8e621b2",
   "metadata": {},
   "outputs": [
    {
     "data": {
      "text/html": [
       "<div>\n",
       "<style scoped>\n",
       "    .dataframe tbody tr th:only-of-type {\n",
       "        vertical-align: middle;\n",
       "    }\n",
       "\n",
       "    .dataframe tbody tr th {\n",
       "        vertical-align: top;\n",
       "    }\n",
       "\n",
       "    .dataframe thead th {\n",
       "        text-align: right;\n",
       "    }\n",
       "</style>\n",
       "<table border=\"1\" class=\"dataframe\">\n",
       "  <thead>\n",
       "    <tr style=\"text-align: right;\">\n",
       "      <th></th>\n",
       "      <th>yr</th>\n",
       "      <th>mnth</th>\n",
       "      <th>registered</th>\n",
       "    </tr>\n",
       "  </thead>\n",
       "  <tbody>\n",
       "    <tr>\n",
       "      <th>0</th>\n",
       "      <td>0</td>\n",
       "      <td>1</td>\n",
       "      <td>35116</td>\n",
       "    </tr>\n",
       "    <tr>\n",
       "      <th>1</th>\n",
       "      <td>0</td>\n",
       "      <td>2</td>\n",
       "      <td>41973</td>\n",
       "    </tr>\n",
       "    <tr>\n",
       "      <th>2</th>\n",
       "      <td>0</td>\n",
       "      <td>3</td>\n",
       "      <td>51219</td>\n",
       "    </tr>\n",
       "  </tbody>\n",
       "</table>\n",
       "</div>"
      ],
      "text/plain": [
       "   yr  mnth  registered\n",
       "0   0     1       35116\n",
       "1   0     2       41973\n",
       "2   0     3       51219"
      ]
     },
     "execution_count": 8,
     "metadata": {},
     "output_type": "execute_result"
    }
   ],
   "source": [
    "#Mehod 1 \n",
    "\n",
    "registered_sum = df.groupby(['yr','mnth'])['registered'].sum().reset_index()\n",
    "registered_sum.head(3)"
   ]
  },
  {
   "cell_type": "code",
   "execution_count": 9,
   "id": "56b65786-7489-4e3b-8930-55fad2e05345",
   "metadata": {},
   "outputs": [
    {
     "data": {
      "text/html": [
       "<div>\n",
       "<style scoped>\n",
       "    .dataframe tbody tr th:only-of-type {\n",
       "        vertical-align: middle;\n",
       "    }\n",
       "\n",
       "    .dataframe tbody tr th {\n",
       "        vertical-align: top;\n",
       "    }\n",
       "\n",
       "    .dataframe thead th {\n",
       "        text-align: right;\n",
       "    }\n",
       "</style>\n",
       "<table border=\"1\" class=\"dataframe\">\n",
       "  <thead>\n",
       "    <tr style=\"text-align: right;\">\n",
       "      <th></th>\n",
       "      <th>yr</th>\n",
       "      <th>mnth</th>\n",
       "      <th>SUM(registered)</th>\n",
       "    </tr>\n",
       "  </thead>\n",
       "  <tbody>\n",
       "    <tr>\n",
       "      <th>0</th>\n",
       "      <td>0</td>\n",
       "      <td>1</td>\n",
       "      <td>35116</td>\n",
       "    </tr>\n",
       "    <tr>\n",
       "      <th>1</th>\n",
       "      <td>0</td>\n",
       "      <td>2</td>\n",
       "      <td>41973</td>\n",
       "    </tr>\n",
       "    <tr>\n",
       "      <th>2</th>\n",
       "      <td>0</td>\n",
       "      <td>3</td>\n",
       "      <td>51219</td>\n",
       "    </tr>\n",
       "  </tbody>\n",
       "</table>\n",
       "</div>"
      ],
      "text/plain": [
       "   yr  mnth  SUM(registered)\n",
       "0   0     1            35116\n",
       "1   0     2            41973\n",
       "2   0     3            51219"
      ]
     },
     "execution_count": 9,
     "metadata": {},
     "output_type": "execute_result"
    }
   ],
   "source": [
    "# Method 2\n",
    "\n",
    "t_registered_sum = sqldf(\"\"\"\n",
    "                          SELECT yr,mnth, SUM(registered) \n",
    "                          FROM t \n",
    "                          GROUP BY yr,mnth\n",
    "                         \"\"\")\n",
    "t_registered_sum.head(3)"
   ]
  },
  {
   "cell_type": "code",
   "execution_count": 10,
   "id": "e8c588d6-19c9-40fd-8efd-36e44846068e",
   "metadata": {},
   "outputs": [
    {
     "data": {
      "text/html": [
       "<div>\n",
       "<style scoped>\n",
       "    .dataframe tbody tr th:only-of-type {\n",
       "        vertical-align: middle;\n",
       "    }\n",
       "\n",
       "    .dataframe tbody tr th {\n",
       "        vertical-align: top;\n",
       "    }\n",
       "\n",
       "    .dataframe thead th {\n",
       "        text-align: right;\n",
       "    }\n",
       "</style>\n",
       "<table border=\"1\" class=\"dataframe\">\n",
       "  <thead>\n",
       "    <tr style=\"text-align: right;\">\n",
       "      <th></th>\n",
       "      <th>yr</th>\n",
       "      <th>mnth</th>\n",
       "      <th>casual</th>\n",
       "    </tr>\n",
       "  </thead>\n",
       "  <tbody>\n",
       "    <tr>\n",
       "      <th>0</th>\n",
       "      <td>0</td>\n",
       "      <td>1</td>\n",
       "      <td>3073</td>\n",
       "    </tr>\n",
       "    <tr>\n",
       "      <th>1</th>\n",
       "      <td>0</td>\n",
       "      <td>2</td>\n",
       "      <td>6242</td>\n",
       "    </tr>\n",
       "    <tr>\n",
       "      <th>2</th>\n",
       "      <td>0</td>\n",
       "      <td>3</td>\n",
       "      <td>12826</td>\n",
       "    </tr>\n",
       "  </tbody>\n",
       "</table>\n",
       "</div>"
      ],
      "text/plain": [
       "   yr  mnth  casual\n",
       "0   0     1    3073\n",
       "1   0     2    6242\n",
       "2   0     3   12826"
      ]
     },
     "execution_count": 10,
     "metadata": {},
     "output_type": "execute_result"
    }
   ],
   "source": [
    "#Method 1 \n",
    "\n",
    "casual_sum=df.groupby(['yr','mnth'])['casual'].sum().reset_index()\n",
    "casual_sum.head(3)"
   ]
  },
  {
   "cell_type": "code",
   "execution_count": 11,
   "id": "ce9a2755-3ab8-460a-902d-089ff211a819",
   "metadata": {},
   "outputs": [
    {
     "data": {
      "text/html": [
       "<div>\n",
       "<style scoped>\n",
       "    .dataframe tbody tr th:only-of-type {\n",
       "        vertical-align: middle;\n",
       "    }\n",
       "\n",
       "    .dataframe tbody tr th {\n",
       "        vertical-align: top;\n",
       "    }\n",
       "\n",
       "    .dataframe thead th {\n",
       "        text-align: right;\n",
       "    }\n",
       "</style>\n",
       "<table border=\"1\" class=\"dataframe\">\n",
       "  <thead>\n",
       "    <tr style=\"text-align: right;\">\n",
       "      <th></th>\n",
       "      <th>yr</th>\n",
       "      <th>mnth</th>\n",
       "      <th>SUM(casual)</th>\n",
       "    </tr>\n",
       "  </thead>\n",
       "  <tbody>\n",
       "    <tr>\n",
       "      <th>0</th>\n",
       "      <td>0</td>\n",
       "      <td>1</td>\n",
       "      <td>3073</td>\n",
       "    </tr>\n",
       "    <tr>\n",
       "      <th>1</th>\n",
       "      <td>0</td>\n",
       "      <td>2</td>\n",
       "      <td>6242</td>\n",
       "    </tr>\n",
       "    <tr>\n",
       "      <th>2</th>\n",
       "      <td>0</td>\n",
       "      <td>3</td>\n",
       "      <td>12826</td>\n",
       "    </tr>\n",
       "  </tbody>\n",
       "</table>\n",
       "</div>"
      ],
      "text/plain": [
       "   yr  mnth  SUM(casual)\n",
       "0   0     1         3073\n",
       "1   0     2         6242\n",
       "2   0     3        12826"
      ]
     },
     "execution_count": 11,
     "metadata": {},
     "output_type": "execute_result"
    }
   ],
   "source": [
    "# Method 2 \n",
    "\n",
    "t_casual_sum = sqldf(\"\"\"\n",
    "                        SELECT yr,mnth, SUM(casual)\n",
    "                        FROM t\n",
    "                        GROUP BY  yr,mnth\n",
    "                        order by  yr,mnth asc\n",
    "                        \n",
    "                    \"\"\")\n",
    "t_casual_sum.head(3)"
   ]
  },
  {
   "cell_type": "code",
   "execution_count": 12,
   "id": "74a1235b-35bf-48ff-a567-52a70898d089",
   "metadata": {},
   "outputs": [
    {
     "data": {
      "text/plain": [
       "0     3073\n",
       "1     6242\n",
       "2    12826\n",
       "3    22346\n",
       "4    31050\n",
       "Name: casual, dtype: int64"
      ]
     },
     "execution_count": 12,
     "metadata": {},
     "output_type": "execute_result"
    }
   ],
   "source": [
    "casual_sum = pd.DataFrame(casual_sum, columns=['yr','mnth','casual'])\n",
    "casual_sum['casual'].head()"
   ]
  },
  {
   "cell_type": "code",
   "execution_count": 13,
   "id": "139a8246-851a-40c9-a7a8-cb2da8af0633",
   "metadata": {},
   "outputs": [
    {
     "data": {
      "text/html": [
       "<div>\n",
       "<style scoped>\n",
       "    .dataframe tbody tr th:only-of-type {\n",
       "        vertical-align: middle;\n",
       "    }\n",
       "\n",
       "    .dataframe tbody tr th {\n",
       "        vertical-align: top;\n",
       "    }\n",
       "\n",
       "    .dataframe thead th {\n",
       "        text-align: right;\n",
       "    }\n",
       "</style>\n",
       "<table border=\"1\" class=\"dataframe\">\n",
       "  <thead>\n",
       "    <tr style=\"text-align: right;\">\n",
       "      <th></th>\n",
       "      <th>yr</th>\n",
       "      <th>mnth</th>\n",
       "      <th>rents_by_month_casual</th>\n",
       "      <th>rents_by_month_registered</th>\n",
       "    </tr>\n",
       "  </thead>\n",
       "  <tbody>\n",
       "    <tr>\n",
       "      <th>0</th>\n",
       "      <td>0</td>\n",
       "      <td>1</td>\n",
       "      <td>3073</td>\n",
       "      <td>35116</td>\n",
       "    </tr>\n",
       "    <tr>\n",
       "      <th>1</th>\n",
       "      <td>0</td>\n",
       "      <td>2</td>\n",
       "      <td>6242</td>\n",
       "      <td>41973</td>\n",
       "    </tr>\n",
       "    <tr>\n",
       "      <th>2</th>\n",
       "      <td>0</td>\n",
       "      <td>3</td>\n",
       "      <td>12826</td>\n",
       "      <td>51219</td>\n",
       "    </tr>\n",
       "  </tbody>\n",
       "</table>\n",
       "</div>"
      ],
      "text/plain": [
       "   yr  mnth  rents_by_month_casual  rents_by_month_registered\n",
       "0   0     1                   3073                      35116\n",
       "1   0     2                   6242                      41973\n",
       "2   0     3                  12826                      51219"
      ]
     },
     "execution_count": 13,
     "metadata": {},
     "output_type": "execute_result"
    }
   ],
   "source": [
    "#Method 1 \n",
    "\n",
    "df_tmp=casual_sum.merge(registered_sum, indicator = True,how = 'outer')\n",
    "del df_tmp['_merge']\n",
    "\n",
    "df_tmp.rename(columns = {'casual':'rents_by_month_casual','registered':'rents_by_month_registered'}, inplace = True)\n",
    "df_tmp.head(3)"
   ]
  },
  {
   "cell_type": "code",
   "execution_count": 14,
   "id": "9b6b2f7d-367a-4588-aea5-82d25eefff72",
   "metadata": {},
   "outputs": [
    {
     "data": {
      "text/html": [
       "<div>\n",
       "<style scoped>\n",
       "    .dataframe tbody tr th:only-of-type {\n",
       "        vertical-align: middle;\n",
       "    }\n",
       "\n",
       "    .dataframe tbody tr th {\n",
       "        vertical-align: top;\n",
       "    }\n",
       "\n",
       "    .dataframe thead th {\n",
       "        text-align: right;\n",
       "    }\n",
       "</style>\n",
       "<table border=\"1\" class=\"dataframe\">\n",
       "  <thead>\n",
       "    <tr style=\"text-align: right;\">\n",
       "      <th></th>\n",
       "      <th>yr</th>\n",
       "      <th>mnth</th>\n",
       "      <th>rents_by_month_registered</th>\n",
       "      <th>rents_by_month_casual</th>\n",
       "    </tr>\n",
       "  </thead>\n",
       "  <tbody>\n",
       "    <tr>\n",
       "      <th>0</th>\n",
       "      <td>0</td>\n",
       "      <td>1</td>\n",
       "      <td>35116</td>\n",
       "      <td>3073</td>\n",
       "    </tr>\n",
       "    <tr>\n",
       "      <th>1</th>\n",
       "      <td>0</td>\n",
       "      <td>2</td>\n",
       "      <td>41973</td>\n",
       "      <td>6242</td>\n",
       "    </tr>\n",
       "    <tr>\n",
       "      <th>2</th>\n",
       "      <td>0</td>\n",
       "      <td>3</td>\n",
       "      <td>51219</td>\n",
       "      <td>12826</td>\n",
       "    </tr>\n",
       "  </tbody>\n",
       "</table>\n",
       "</div>"
      ],
      "text/plain": [
       "   yr  mnth  rents_by_month_registered  rents_by_month_casual\n",
       "0   0     1                      35116                   3073\n",
       "1   0     2                      41973                   6242\n",
       "2   0     3                      51219                  12826"
      ]
     },
     "execution_count": 14,
     "metadata": {},
     "output_type": "execute_result"
    }
   ],
   "source": [
    "#Method 2 \n",
    "\n",
    "t_df_tmp = sqldf(\"\"\"\n",
    "                        SELECT  *\n",
    "                        FROM t_registered_sum \n",
    "                            LEFT JOIN t_casual_sum \n",
    "                            ON t_registered_sum.mnth = t_casual_sum.mnth\n",
    "                        WHERE t_registered_sum.yr = t_casual_sum.yr\n",
    "                 \"\"\")\n",
    "\n",
    "t_df_tmp.rename(columns = {'SUM(casual)':'rents_by_month_casual','SUM(registered)':'rents_by_month_registered'}, inplace = True)\n",
    "\n",
    "t_df_tmp = t_df_tmp.loc[:,~t_df_tmp.apply(lambda x: x.duplicated(),axis=1).all()].copy() # drop duplicated colunms \n",
    "t_df_tmp.head(3)"
   ]
  },
  {
   "cell_type": "code",
   "execution_count": 15,
   "id": "e61a2e2a-192a-4be0-a5af-fb2738a96652",
   "metadata": {},
   "outputs": [],
   "source": [
    "#Method 1 \n",
    "\n",
    "df=df.merge(df_tmp, indicator = True,how = 'outer')\n",
    "del df['_merge']\n",
    "df.head(3)\n",
    "\n",
    "t = df.copy()"
   ]
  },
  {
   "cell_type": "code",
   "execution_count": 16,
   "id": "84fea98f-3352-4e3b-988a-0da814421aa8",
   "metadata": {},
   "outputs": [
    {
     "data": {
      "text/html": [
       "<div>\n",
       "<style scoped>\n",
       "    .dataframe tbody tr th:only-of-type {\n",
       "        vertical-align: middle;\n",
       "    }\n",
       "\n",
       "    .dataframe tbody tr th {\n",
       "        vertical-align: top;\n",
       "    }\n",
       "\n",
       "    .dataframe thead th {\n",
       "        text-align: right;\n",
       "    }\n",
       "</style>\n",
       "<table border=\"1\" class=\"dataframe\">\n",
       "  <thead>\n",
       "    <tr style=\"text-align: right;\">\n",
       "      <th></th>\n",
       "      <th>yr</th>\n",
       "      <th>mnth</th>\n",
       "      <th>casual</th>\n",
       "      <th>rents_by_month_casual</th>\n",
       "      <th>registered</th>\n",
       "      <th>rents_by_month_registered</th>\n",
       "    </tr>\n",
       "  </thead>\n",
       "  <tbody>\n",
       "    <tr>\n",
       "      <th>0</th>\n",
       "      <td>0</td>\n",
       "      <td>1</td>\n",
       "      <td>331</td>\n",
       "      <td>3073</td>\n",
       "      <td>654</td>\n",
       "      <td>35116</td>\n",
       "    </tr>\n",
       "    <tr>\n",
       "      <th>368</th>\n",
       "      <td>1</td>\n",
       "      <td>1</td>\n",
       "      <td>95</td>\n",
       "      <td>8969</td>\n",
       "      <td>2273</td>\n",
       "      <td>87775</td>\n",
       "    </tr>\n",
       "    <tr>\n",
       "      <th>369</th>\n",
       "      <td>1</td>\n",
       "      <td>1</td>\n",
       "      <td>140</td>\n",
       "      <td>8969</td>\n",
       "      <td>3132</td>\n",
       "      <td>87775</td>\n",
       "    </tr>\n",
       "    <tr>\n",
       "      <th>370</th>\n",
       "      <td>1</td>\n",
       "      <td>1</td>\n",
       "      <td>307</td>\n",
       "      <td>8969</td>\n",
       "      <td>3791</td>\n",
       "      <td>87775</td>\n",
       "    </tr>\n",
       "    <tr>\n",
       "      <th>371</th>\n",
       "      <td>1</td>\n",
       "      <td>1</td>\n",
       "      <td>1070</td>\n",
       "      <td>8969</td>\n",
       "      <td>3451</td>\n",
       "      <td>87775</td>\n",
       "    </tr>\n",
       "  </tbody>\n",
       "</table>\n",
       "</div>"
      ],
      "text/plain": [
       "     yr  mnth  casual  rents_by_month_casual  registered  \\\n",
       "0     0     1     331                   3073         654   \n",
       "368   1     1      95                   8969        2273   \n",
       "369   1     1     140                   8969        3132   \n",
       "370   1     1     307                   8969        3791   \n",
       "371   1     1    1070                   8969        3451   \n",
       "\n",
       "     rents_by_month_registered  \n",
       "0                        35116  \n",
       "368                      87775  \n",
       "369                      87775  \n",
       "370                      87775  \n",
       "371                      87775  "
      ]
     },
     "execution_count": 16,
     "metadata": {},
     "output_type": "execute_result"
    }
   ],
   "source": [
    "#Mtehod 1\n",
    "\n",
    "df[['yr','mnth','casual','rents_by_month_casual','registered','rents_by_month_registered']].sort_values(by='mnth').head()"
   ]
  },
  {
   "cell_type": "code",
   "execution_count": 17,
   "id": "3a18f3f4-a997-4270-841a-396e0864d209",
   "metadata": {},
   "outputs": [
    {
     "data": {
      "text/html": [
       "<div>\n",
       "<style scoped>\n",
       "    .dataframe tbody tr th:only-of-type {\n",
       "        vertical-align: middle;\n",
       "    }\n",
       "\n",
       "    .dataframe tbody tr th {\n",
       "        vertical-align: top;\n",
       "    }\n",
       "\n",
       "    .dataframe thead th {\n",
       "        text-align: right;\n",
       "    }\n",
       "</style>\n",
       "<table border=\"1\" class=\"dataframe\">\n",
       "  <thead>\n",
       "    <tr style=\"text-align: right;\">\n",
       "      <th></th>\n",
       "      <th>yr</th>\n",
       "      <th>mnth</th>\n",
       "      <th>casual</th>\n",
       "      <th>rents_by_month_casual</th>\n",
       "      <th>registered</th>\n",
       "      <th>rents_by_month_registered</th>\n",
       "    </tr>\n",
       "  </thead>\n",
       "  <tbody>\n",
       "    <tr>\n",
       "      <th>0</th>\n",
       "      <td>0</td>\n",
       "      <td>1</td>\n",
       "      <td>331</td>\n",
       "      <td>3073</td>\n",
       "      <td>654</td>\n",
       "      <td>35116</td>\n",
       "    </tr>\n",
       "    <tr>\n",
       "      <th>368</th>\n",
       "      <td>1</td>\n",
       "      <td>1</td>\n",
       "      <td>95</td>\n",
       "      <td>8969</td>\n",
       "      <td>2273</td>\n",
       "      <td>87775</td>\n",
       "    </tr>\n",
       "    <tr>\n",
       "      <th>369</th>\n",
       "      <td>1</td>\n",
       "      <td>1</td>\n",
       "      <td>140</td>\n",
       "      <td>8969</td>\n",
       "      <td>3132</td>\n",
       "      <td>87775</td>\n",
       "    </tr>\n",
       "    <tr>\n",
       "      <th>370</th>\n",
       "      <td>1</td>\n",
       "      <td>1</td>\n",
       "      <td>307</td>\n",
       "      <td>8969</td>\n",
       "      <td>3791</td>\n",
       "      <td>87775</td>\n",
       "    </tr>\n",
       "    <tr>\n",
       "      <th>371</th>\n",
       "      <td>1</td>\n",
       "      <td>1</td>\n",
       "      <td>1070</td>\n",
       "      <td>8969</td>\n",
       "      <td>3451</td>\n",
       "      <td>87775</td>\n",
       "    </tr>\n",
       "  </tbody>\n",
       "</table>\n",
       "</div>"
      ],
      "text/plain": [
       "     yr  mnth  casual  rents_by_month_casual  registered  \\\n",
       "0     0     1     331                   3073         654   \n",
       "368   1     1      95                   8969        2273   \n",
       "369   1     1     140                   8969        3132   \n",
       "370   1     1     307                   8969        3791   \n",
       "371   1     1    1070                   8969        3451   \n",
       "\n",
       "     rents_by_month_registered  \n",
       "0                        35116  \n",
       "368                      87775  \n",
       "369                      87775  \n",
       "370                      87775  \n",
       "371                      87775  "
      ]
     },
     "execution_count": 17,
     "metadata": {},
     "output_type": "execute_result"
    }
   ],
   "source": [
    "#Method 2 \n",
    "\n",
    "t = sqldf(\"\"\"\n",
    "            SELECT yr,mnth,casual,rents_by_month_casual,registered,rents_by_month_registered\n",
    "            FROM t\n",
    "           --Order by mnth asc\n",
    "\n",
    "           \"\"\" )\n",
    "t.sort_values(by='mnth').head()"
   ]
  },
  {
   "cell_type": "markdown",
   "id": "056db990-4a6a-4c99-93de-a895a2263af6",
   "metadata": {},
   "source": [
    "#### - Case 2 : "
   ]
  },
  {
   "cell_type": "markdown",
   "id": "d3cfb39c-f767-4ca4-8b9d-9b7d3329f7b8",
   "metadata": {},
   "source": [
    "Feature “len_weathersit”: a partire dalla colonna “weathersit”, creare una variabile categorica così creata:\n",
    " \n",
    "- 1 se la colonna contiene la stringa “cloudy” (minuscolo o maiuscolo)\n",
    "- 2 se la colonna contiene la stringa “rain” (minuscolo o maiuscolo)\n",
    "- 3 altrimenti"
   ]
  },
  {
   "cell_type": "code",
   "execution_count": 18,
   "id": "d7b9d2d6-afaa-42e8-b8e6-7ffa2747bdc6",
   "metadata": {},
   "outputs": [
    {
     "data": {
      "text/plain": [
       "cloudy    463\n",
       "rain      247\n",
       "3          21\n",
       "Name: weathersit, dtype: int64"
      ]
     },
     "execution_count": 18,
     "metadata": {},
     "output_type": "execute_result"
    }
   ],
   "source": [
    "#Method 1\n",
    "\n",
    "df['weathersit'] = ['cloudy' if df['weathersit'][i]==1 else 'rain' if df['weathersit'][i]==2 else 3 for i in df.index ]\n",
    "df['weathersit'].value_counts()"
   ]
  },
  {
   "cell_type": "code",
   "execution_count": 19,
   "id": "c19613ce-f941-473b-b3ad-fa64a1d7ab9c",
   "metadata": {},
   "outputs": [
    {
     "data": {
      "text/plain": [
       "cloudy    463\n",
       "rain      247\n",
       "3          21\n",
       "Name: weathersit, dtype: int64"
      ]
     },
     "execution_count": 19,
     "metadata": {},
     "output_type": "execute_result"
    }
   ],
   "source": [
    "#Method 2\n",
    "t = df_source.copy() \n",
    "\n",
    "t['weathersit']= sqldf(\"\"\"\n",
    "            SELECT\n",
    "            CASE\n",
    "                WHEN weathersit == 1 THEN 'cloudy'\n",
    "                WHEN weathersit == 2 THEN 'rain'\n",
    "                ELSE 3\n",
    "            END \n",
    "            FROM t;\n",
    "            \"\"\")\n",
    "\n",
    "t['weathersit'].value_counts()"
   ]
  },
  {
   "cell_type": "code",
   "execution_count": 20,
   "id": "87120897-b588-4bff-b868-a7360c7ce70b",
   "metadata": {},
   "outputs": [
    {
     "data": {
      "text/html": [
       "<div>\n",
       "<style scoped>\n",
       "    .dataframe tbody tr th:only-of-type {\n",
       "        vertical-align: middle;\n",
       "    }\n",
       "\n",
       "    .dataframe tbody tr th {\n",
       "        vertical-align: top;\n",
       "    }\n",
       "\n",
       "    .dataframe thead th {\n",
       "        text-align: right;\n",
       "    }\n",
       "</style>\n",
       "<table border=\"1\" class=\"dataframe\">\n",
       "  <thead>\n",
       "    <tr style=\"text-align: right;\">\n",
       "      <th></th>\n",
       "      <th>instant</th>\n",
       "      <th>dteday</th>\n",
       "      <th>season</th>\n",
       "      <th>yr</th>\n",
       "      <th>mnth</th>\n",
       "      <th>holiday</th>\n",
       "      <th>weekday</th>\n",
       "      <th>workingday</th>\n",
       "      <th>weathersit</th>\n",
       "      <th>temp</th>\n",
       "      <th>atemp</th>\n",
       "      <th>hum</th>\n",
       "      <th>windspeed</th>\n",
       "      <th>casual</th>\n",
       "      <th>registered</th>\n",
       "      <th>cnt</th>\n",
       "      <th>rents_by_month_casual</th>\n",
       "      <th>rents_by_month_registered</th>\n",
       "    </tr>\n",
       "  </thead>\n",
       "  <tbody>\n",
       "    <tr>\n",
       "      <th>0</th>\n",
       "      <td>1</td>\n",
       "      <td>2011-01-01</td>\n",
       "      <td>1</td>\n",
       "      <td>0</td>\n",
       "      <td>1</td>\n",
       "      <td>0</td>\n",
       "      <td>6</td>\n",
       "      <td>0</td>\n",
       "      <td>rain</td>\n",
       "      <td>0.344167</td>\n",
       "      <td>0.363625</td>\n",
       "      <td>0.805833</td>\n",
       "      <td>0.160446</td>\n",
       "      <td>331</td>\n",
       "      <td>654</td>\n",
       "      <td>985</td>\n",
       "      <td>3073</td>\n",
       "      <td>35116</td>\n",
       "    </tr>\n",
       "    <tr>\n",
       "      <th>1</th>\n",
       "      <td>2</td>\n",
       "      <td>2011-01-02</td>\n",
       "      <td>1</td>\n",
       "      <td>0</td>\n",
       "      <td>1</td>\n",
       "      <td>0</td>\n",
       "      <td>0</td>\n",
       "      <td>0</td>\n",
       "      <td>rain</td>\n",
       "      <td>0.363478</td>\n",
       "      <td>0.353739</td>\n",
       "      <td>0.696087</td>\n",
       "      <td>0.248539</td>\n",
       "      <td>131</td>\n",
       "      <td>670</td>\n",
       "      <td>801</td>\n",
       "      <td>3073</td>\n",
       "      <td>35116</td>\n",
       "    </tr>\n",
       "    <tr>\n",
       "      <th>2</th>\n",
       "      <td>3</td>\n",
       "      <td>2011-01-03</td>\n",
       "      <td>1</td>\n",
       "      <td>0</td>\n",
       "      <td>1</td>\n",
       "      <td>0</td>\n",
       "      <td>1</td>\n",
       "      <td>1</td>\n",
       "      <td>cloudy</td>\n",
       "      <td>0.196364</td>\n",
       "      <td>0.189405</td>\n",
       "      <td>0.437273</td>\n",
       "      <td>0.248309</td>\n",
       "      <td>120</td>\n",
       "      <td>1229</td>\n",
       "      <td>1349</td>\n",
       "      <td>3073</td>\n",
       "      <td>35116</td>\n",
       "    </tr>\n",
       "    <tr>\n",
       "      <th>3</th>\n",
       "      <td>4</td>\n",
       "      <td>2011-01-04</td>\n",
       "      <td>1</td>\n",
       "      <td>0</td>\n",
       "      <td>1</td>\n",
       "      <td>0</td>\n",
       "      <td>2</td>\n",
       "      <td>1</td>\n",
       "      <td>cloudy</td>\n",
       "      <td>0.200000</td>\n",
       "      <td>0.212122</td>\n",
       "      <td>0.590435</td>\n",
       "      <td>0.160296</td>\n",
       "      <td>108</td>\n",
       "      <td>1454</td>\n",
       "      <td>1562</td>\n",
       "      <td>3073</td>\n",
       "      <td>35116</td>\n",
       "    </tr>\n",
       "    <tr>\n",
       "      <th>4</th>\n",
       "      <td>5</td>\n",
       "      <td>2011-01-05</td>\n",
       "      <td>1</td>\n",
       "      <td>0</td>\n",
       "      <td>1</td>\n",
       "      <td>0</td>\n",
       "      <td>3</td>\n",
       "      <td>1</td>\n",
       "      <td>cloudy</td>\n",
       "      <td>0.226957</td>\n",
       "      <td>0.229270</td>\n",
       "      <td>0.436957</td>\n",
       "      <td>0.186900</td>\n",
       "      <td>82</td>\n",
       "      <td>1518</td>\n",
       "      <td>1600</td>\n",
       "      <td>3073</td>\n",
       "      <td>35116</td>\n",
       "    </tr>\n",
       "  </tbody>\n",
       "</table>\n",
       "</div>"
      ],
      "text/plain": [
       "   instant      dteday  season  yr  mnth  holiday  weekday  workingday  \\\n",
       "0        1  2011-01-01       1   0     1        0        6           0   \n",
       "1        2  2011-01-02       1   0     1        0        0           0   \n",
       "2        3  2011-01-03       1   0     1        0        1           1   \n",
       "3        4  2011-01-04       1   0     1        0        2           1   \n",
       "4        5  2011-01-05       1   0     1        0        3           1   \n",
       "\n",
       "  weathersit      temp     atemp       hum  windspeed  casual  registered  \\\n",
       "0       rain  0.344167  0.363625  0.805833   0.160446     331         654   \n",
       "1       rain  0.363478  0.353739  0.696087   0.248539     131         670   \n",
       "2     cloudy  0.196364  0.189405  0.437273   0.248309     120        1229   \n",
       "3     cloudy  0.200000  0.212122  0.590435   0.160296     108        1454   \n",
       "4     cloudy  0.226957  0.229270  0.436957   0.186900      82        1518   \n",
       "\n",
       "    cnt  rents_by_month_casual  rents_by_month_registered  \n",
       "0   985                   3073                      35116  \n",
       "1   801                   3073                      35116  \n",
       "2  1349                   3073                      35116  \n",
       "3  1562                   3073                      35116  \n",
       "4  1600                   3073                      35116  "
      ]
     },
     "execution_count": 20,
     "metadata": {},
     "output_type": "execute_result"
    }
   ],
   "source": [
    "df.head()"
   ]
  },
  {
   "cell_type": "markdown",
   "id": "2cb95a8e-9080-4306-8293-8b94d18f2d36",
   "metadata": {},
   "source": [
    "#### - Case 3 : "
   ]
  },
  {
   "cell_type": "markdown",
   "id": "72470c4f-979b-4f01-9cf9-cd592ab83618",
   "metadata": {},
   "source": [
    "* Feature “original_hum”: a partire dalla colonna “hum”, creare una variabile numerica che contiene il valore originale della colonna. Usa la formula presente per calcolare l’inverso"
   ]
  },
  {
   "cell_type": "code",
   "execution_count": 21,
   "id": "c111ba92-3881-47ab-be25-877d37f673aa",
   "metadata": {},
   "outputs": [],
   "source": [
    "df['original_hum'] = [str(df['hum'][i])[::-1]  for i in df.index]"
   ]
  },
  {
   "cell_type": "code",
   "execution_count": 22,
   "id": "570bee78-b21e-4e5a-8359-dd4955539f38",
   "metadata": {},
   "outputs": [
    {
     "data": {
      "text/html": [
       "<div>\n",
       "<style scoped>\n",
       "    .dataframe tbody tr th:only-of-type {\n",
       "        vertical-align: middle;\n",
       "    }\n",
       "\n",
       "    .dataframe tbody tr th {\n",
       "        vertical-align: top;\n",
       "    }\n",
       "\n",
       "    .dataframe thead th {\n",
       "        text-align: right;\n",
       "    }\n",
       "</style>\n",
       "<table border=\"1\" class=\"dataframe\">\n",
       "  <thead>\n",
       "    <tr style=\"text-align: right;\">\n",
       "      <th></th>\n",
       "      <th>original_hum</th>\n",
       "      <th>hum</th>\n",
       "    </tr>\n",
       "  </thead>\n",
       "  <tbody>\n",
       "    <tr>\n",
       "      <th>0</th>\n",
       "      <td>338508.0</td>\n",
       "      <td>0.805833</td>\n",
       "    </tr>\n",
       "    <tr>\n",
       "      <th>1</th>\n",
       "      <td>780696.0</td>\n",
       "      <td>0.696087</td>\n",
       "    </tr>\n",
       "    <tr>\n",
       "      <th>2</th>\n",
       "      <td>372734.0</td>\n",
       "      <td>0.437273</td>\n",
       "    </tr>\n",
       "    <tr>\n",
       "      <th>3</th>\n",
       "      <td>534095.0</td>\n",
       "      <td>0.590435</td>\n",
       "    </tr>\n",
       "    <tr>\n",
       "      <th>4</th>\n",
       "      <td>759634.0</td>\n",
       "      <td>0.436957</td>\n",
       "    </tr>\n",
       "  </tbody>\n",
       "</table>\n",
       "</div>"
      ],
      "text/plain": [
       "  original_hum       hum\n",
       "0     338508.0  0.805833\n",
       "1     780696.0  0.696087\n",
       "2     372734.0  0.437273\n",
       "3     534095.0  0.590435\n",
       "4     759634.0  0.436957"
      ]
     },
     "execution_count": 22,
     "metadata": {},
     "output_type": "execute_result"
    }
   ],
   "source": [
    "df[['original_hum','hum']].head()"
   ]
  },
  {
   "cell_type": "markdown",
   "id": "585dab66-7f09-43b4-994d-e955a7b03602",
   "metadata": {},
   "source": [
    "#### - Case 4 : "
   ]
  },
  {
   "cell_type": "markdown",
   "id": "31e1d552-a4a3-4473-a7a5-a6279de2b1d9",
   "metadata": {},
   "source": [
    "* Feature “rents_by_weekday”: a partire dalle colonne “weekday”, “casual” e “registered”, calcolare per ogni giorno della settimana se ci sono più bici prese in prestito da utenti casuali o registrati. Se possibile, ripetere questa analisi dividendola per stagioni dell’anno (colonna “season”)"
   ]
  },
  {
   "cell_type": "code",
   "execution_count": 23,
   "id": "791f9a91-7b50-4fae-92be-597eaea74580",
   "metadata": {},
   "outputs": [
    {
     "data": {
      "text/html": [
       "<div>\n",
       "<style scoped>\n",
       "    .dataframe tbody tr th:only-of-type {\n",
       "        vertical-align: middle;\n",
       "    }\n",
       "\n",
       "    .dataframe tbody tr th {\n",
       "        vertical-align: top;\n",
       "    }\n",
       "\n",
       "    .dataframe thead th {\n",
       "        text-align: right;\n",
       "    }\n",
       "</style>\n",
       "<table border=\"1\" class=\"dataframe\">\n",
       "  <thead>\n",
       "    <tr style=\"text-align: right;\">\n",
       "      <th></th>\n",
       "      <th>weekday</th>\n",
       "      <th>casual</th>\n",
       "      <th>registered</th>\n",
       "    </tr>\n",
       "  </thead>\n",
       "  <tbody>\n",
       "    <tr>\n",
       "      <th>0</th>\n",
       "      <td>6</td>\n",
       "      <td>331</td>\n",
       "      <td>654</td>\n",
       "    </tr>\n",
       "    <tr>\n",
       "      <th>1</th>\n",
       "      <td>0</td>\n",
       "      <td>131</td>\n",
       "      <td>670</td>\n",
       "    </tr>\n",
       "    <tr>\n",
       "      <th>2</th>\n",
       "      <td>1</td>\n",
       "      <td>120</td>\n",
       "      <td>1229</td>\n",
       "    </tr>\n",
       "    <tr>\n",
       "      <th>3</th>\n",
       "      <td>2</td>\n",
       "      <td>108</td>\n",
       "      <td>1454</td>\n",
       "    </tr>\n",
       "    <tr>\n",
       "      <th>4</th>\n",
       "      <td>3</td>\n",
       "      <td>82</td>\n",
       "      <td>1518</td>\n",
       "    </tr>\n",
       "  </tbody>\n",
       "</table>\n",
       "</div>"
      ],
      "text/plain": [
       "   weekday  casual  registered\n",
       "0        6     331         654\n",
       "1        0     131         670\n",
       "2        1     120        1229\n",
       "3        2     108        1454\n",
       "4        3      82        1518"
      ]
     },
     "execution_count": 23,
     "metadata": {},
     "output_type": "execute_result"
    }
   ],
   "source": [
    "df[['weekday', 'casual', 'registered']].head()"
   ]
  },
  {
   "cell_type": "code",
   "execution_count": 24,
   "id": "0637953e-d025-4453-a2d5-30930fc31f36",
   "metadata": {},
   "outputs": [
    {
     "data": {
      "text/html": [
       "<div>\n",
       "<style scoped>\n",
       "    .dataframe tbody tr th:only-of-type {\n",
       "        vertical-align: middle;\n",
       "    }\n",
       "\n",
       "    .dataframe tbody tr th {\n",
       "        vertical-align: top;\n",
       "    }\n",
       "\n",
       "    .dataframe thead th {\n",
       "        text-align: right;\n",
       "    }\n",
       "</style>\n",
       "<table border=\"1\" class=\"dataframe\">\n",
       "  <thead>\n",
       "    <tr style=\"text-align: right;\">\n",
       "      <th></th>\n",
       "      <th>weekday</th>\n",
       "      <th>casual</th>\n",
       "    </tr>\n",
       "  </thead>\n",
       "  <tbody>\n",
       "    <tr>\n",
       "      <th>0</th>\n",
       "      <td>0</td>\n",
       "      <td>140521</td>\n",
       "    </tr>\n",
       "    <tr>\n",
       "      <th>1</th>\n",
       "      <td>1</td>\n",
       "      <td>70784</td>\n",
       "    </tr>\n",
       "    <tr>\n",
       "      <th>2</th>\n",
       "      <td>2</td>\n",
       "      <td>57843</td>\n",
       "    </tr>\n",
       "  </tbody>\n",
       "</table>\n",
       "</div>"
      ],
      "text/plain": [
       "   weekday  casual\n",
       "0        0  140521\n",
       "1        1   70784\n",
       "2        2   57843"
      ]
     },
     "execution_count": 24,
     "metadata": {},
     "output_type": "execute_result"
    }
   ],
   "source": [
    "#method 1 \n",
    "\n",
    "casual_by_weekday_sum=df.groupby(['weekday'])['casual'].sum().reset_index()\n",
    "casual_by_weekday_sum.head(3)"
   ]
  },
  {
   "cell_type": "code",
   "execution_count": 25,
   "id": "9fb66590-6f2c-4ae2-a4d8-652aabe1b06f",
   "metadata": {},
   "outputs": [
    {
     "data": {
      "text/html": [
       "<div>\n",
       "<style scoped>\n",
       "    .dataframe tbody tr th:only-of-type {\n",
       "        vertical-align: middle;\n",
       "    }\n",
       "\n",
       "    .dataframe tbody tr th {\n",
       "        vertical-align: top;\n",
       "    }\n",
       "\n",
       "    .dataframe thead th {\n",
       "        text-align: right;\n",
       "    }\n",
       "</style>\n",
       "<table border=\"1\" class=\"dataframe\">\n",
       "  <thead>\n",
       "    <tr style=\"text-align: right;\">\n",
       "      <th></th>\n",
       "      <th>weekday</th>\n",
       "      <th>casual</th>\n",
       "    </tr>\n",
       "  </thead>\n",
       "  <tbody>\n",
       "    <tr>\n",
       "      <th>0</th>\n",
       "      <td>0</td>\n",
       "      <td>140521</td>\n",
       "    </tr>\n",
       "    <tr>\n",
       "      <th>1</th>\n",
       "      <td>1</td>\n",
       "      <td>70784</td>\n",
       "    </tr>\n",
       "    <tr>\n",
       "      <th>2</th>\n",
       "      <td>2</td>\n",
       "      <td>57843</td>\n",
       "    </tr>\n",
       "  </tbody>\n",
       "</table>\n",
       "</div>"
      ],
      "text/plain": [
       "   weekday  casual\n",
       "0        0  140521\n",
       "1        1   70784\n",
       "2        2   57843"
      ]
     },
     "execution_count": 25,
     "metadata": {},
     "output_type": "execute_result"
    }
   ],
   "source": [
    "#Method 2 \n",
    "\n",
    "t_casual_by_weekday_sum = sqldf(\"\"\"\n",
    "                                SELECT weekday , SUM(casual) casual\n",
    "                                FROM t \n",
    "                                Group by weekday\n",
    "                                \"\"\")\n",
    "\n",
    "t_casual_by_weekday_sum.head(3)"
   ]
  },
  {
   "cell_type": "code",
   "execution_count": 26,
   "id": "b619cc5c-391b-48d8-8b3e-55486919c056",
   "metadata": {},
   "outputs": [
    {
     "data": {
      "text/html": [
       "<div>\n",
       "<style scoped>\n",
       "    .dataframe tbody tr th:only-of-type {\n",
       "        vertical-align: middle;\n",
       "    }\n",
       "\n",
       "    .dataframe tbody tr th {\n",
       "        vertical-align: top;\n",
       "    }\n",
       "\n",
       "    .dataframe thead th {\n",
       "        text-align: right;\n",
       "    }\n",
       "</style>\n",
       "<table border=\"1\" class=\"dataframe\">\n",
       "  <thead>\n",
       "    <tr style=\"text-align: right;\">\n",
       "      <th></th>\n",
       "      <th>weekday</th>\n",
       "      <th>registered</th>\n",
       "    </tr>\n",
       "  </thead>\n",
       "  <tbody>\n",
       "    <tr>\n",
       "      <th>0</th>\n",
       "      <td>0</td>\n",
       "      <td>303506</td>\n",
       "    </tr>\n",
       "    <tr>\n",
       "      <th>1</th>\n",
       "      <td>1</td>\n",
       "      <td>384719</td>\n",
       "    </tr>\n",
       "    <tr>\n",
       "      <th>2</th>\n",
       "      <td>2</td>\n",
       "      <td>411266</td>\n",
       "    </tr>\n",
       "  </tbody>\n",
       "</table>\n",
       "</div>"
      ],
      "text/plain": [
       "   weekday  registered\n",
       "0        0      303506\n",
       "1        1      384719\n",
       "2        2      411266"
      ]
     },
     "execution_count": 26,
     "metadata": {},
     "output_type": "execute_result"
    }
   ],
   "source": [
    "#Method 1 \n",
    "\n",
    "registered_by_weekday_sum=df.groupby(['weekday'])['registered'].sum().reset_index()\n",
    "registered_by_weekday_sum.head(3)"
   ]
  },
  {
   "cell_type": "code",
   "execution_count": 27,
   "id": "de3f7198-3685-41eb-b8f9-ec333352634a",
   "metadata": {},
   "outputs": [
    {
     "data": {
      "text/html": [
       "<div>\n",
       "<style scoped>\n",
       "    .dataframe tbody tr th:only-of-type {\n",
       "        vertical-align: middle;\n",
       "    }\n",
       "\n",
       "    .dataframe tbody tr th {\n",
       "        vertical-align: top;\n",
       "    }\n",
       "\n",
       "    .dataframe thead th {\n",
       "        text-align: right;\n",
       "    }\n",
       "</style>\n",
       "<table border=\"1\" class=\"dataframe\">\n",
       "  <thead>\n",
       "    <tr style=\"text-align: right;\">\n",
       "      <th></th>\n",
       "      <th>weekday</th>\n",
       "      <th>registered</th>\n",
       "    </tr>\n",
       "  </thead>\n",
       "  <tbody>\n",
       "    <tr>\n",
       "      <th>0</th>\n",
       "      <td>0</td>\n",
       "      <td>303506</td>\n",
       "    </tr>\n",
       "    <tr>\n",
       "      <th>1</th>\n",
       "      <td>1</td>\n",
       "      <td>384719</td>\n",
       "    </tr>\n",
       "    <tr>\n",
       "      <th>2</th>\n",
       "      <td>2</td>\n",
       "      <td>411266</td>\n",
       "    </tr>\n",
       "  </tbody>\n",
       "</table>\n",
       "</div>"
      ],
      "text/plain": [
       "   weekday  registered\n",
       "0        0      303506\n",
       "1        1      384719\n",
       "2        2      411266"
      ]
     },
     "execution_count": 27,
     "metadata": {},
     "output_type": "execute_result"
    }
   ],
   "source": [
    "#Method 2 \n",
    "\n",
    "t_registered_by_weekday_sum = sqldf(\"\"\"\n",
    "                                SELECT weekday , SUM(registered) registered\n",
    "                                FROM t \n",
    "                                Group by weekday\n",
    "                                \"\"\")\n",
    "\n",
    "t_registered_by_weekday_sum.head(3)"
   ]
  },
  {
   "cell_type": "code",
   "execution_count": 28,
   "id": "87cfe905-7df3-43d6-98f5-58925303d1c0",
   "metadata": {},
   "outputs": [
    {
     "data": {
      "text/html": [
       "<div>\n",
       "<style scoped>\n",
       "    .dataframe tbody tr th:only-of-type {\n",
       "        vertical-align: middle;\n",
       "    }\n",
       "\n",
       "    .dataframe tbody tr th {\n",
       "        vertical-align: top;\n",
       "    }\n",
       "\n",
       "    .dataframe thead th {\n",
       "        text-align: right;\n",
       "    }\n",
       "</style>\n",
       "<table border=\"1\" class=\"dataframe\">\n",
       "  <thead>\n",
       "    <tr style=\"text-align: right;\">\n",
       "      <th></th>\n",
       "      <th>weekday</th>\n",
       "      <th>casual</th>\n",
       "    </tr>\n",
       "  </thead>\n",
       "  <tbody>\n",
       "    <tr>\n",
       "      <th>0</th>\n",
       "      <td>0</td>\n",
       "      <td>140521</td>\n",
       "    </tr>\n",
       "    <tr>\n",
       "      <th>1</th>\n",
       "      <td>1</td>\n",
       "      <td>70784</td>\n",
       "    </tr>\n",
       "    <tr>\n",
       "      <th>2</th>\n",
       "      <td>2</td>\n",
       "      <td>57843</td>\n",
       "    </tr>\n",
       "    <tr>\n",
       "      <th>3</th>\n",
       "      <td>3</td>\n",
       "      <td>57319</td>\n",
       "    </tr>\n",
       "    <tr>\n",
       "      <th>4</th>\n",
       "      <td>4</td>\n",
       "      <td>61460</td>\n",
       "    </tr>\n",
       "    <tr>\n",
       "      <th>5</th>\n",
       "      <td>5</td>\n",
       "      <td>78238</td>\n",
       "    </tr>\n",
       "    <tr>\n",
       "      <th>6</th>\n",
       "      <td>6</td>\n",
       "      <td>153852</td>\n",
       "    </tr>\n",
       "  </tbody>\n",
       "</table>\n",
       "</div>"
      ],
      "text/plain": [
       "   weekday  casual\n",
       "0        0  140521\n",
       "1        1   70784\n",
       "2        2   57843\n",
       "3        3   57319\n",
       "4        4   61460\n",
       "5        5   78238\n",
       "6        6  153852"
      ]
     },
     "execution_count": 28,
     "metadata": {},
     "output_type": "execute_result"
    }
   ],
   "source": [
    "casual_by_weekday_sum = casual_by_weekday_sum.astype('int64')\n",
    "casual_by_weekday_sum"
   ]
  },
  {
   "cell_type": "code",
   "execution_count": 29,
   "id": "b6e241fb-9e9a-4559-bc79-aaadb71eb8f4",
   "metadata": {},
   "outputs": [],
   "source": [
    "#df['rents_by_weekday_casual']  = [True if df['casual'][i] > casual_by_weekday_sum['casual'][i] else False for i in df.index ]"
   ]
  },
  {
   "cell_type": "markdown",
   "id": "6d786aa5-e42b-4fba-9934-87012fc20df0",
   "metadata": {},
   "source": [
    "## Categoria di feature (B)"
   ]
  },
  {
   "cell_type": "markdown",
   "id": "2cc35f1b-8a8d-4f12-900b-fbf44e0087a1",
   "metadata": {},
   "source": [
    "#### - Case 5 : "
   ]
  },
  {
   "cell_type": "markdown",
   "id": "ae88131e-e973-4d4a-8eab-79b9ec0a6853",
   "metadata": {},
   "source": [
    "Questa categoria di feature (B) invece seguono la stessa logica che abbiamo visto oggi, quindi provo a valorizzare queste feature usando i valori presenti in 1 o più riga/he precedente/i o successiva/e:\n",
    "\n",
    "* Feature “rents_3_days_before”: a partire dalle colonne “dteday” e “cnt”, riportare nella riga i-esima il valore della colonna “cnt” di tre giorni prima. \n",
    "\n",
    "  Esempio: se considero la riga con instant #4, devo trovare il valore “985” nella riga #4"
   ]
  },
  {
   "cell_type": "code",
   "execution_count": 30,
   "id": "617f4922-d7d3-4808-8d04-af3102f1e441",
   "metadata": {},
   "outputs": [],
   "source": [
    "df['rents_3_days_before'] = df['cnt'].shift(3)"
   ]
  },
  {
   "cell_type": "code",
   "execution_count": 31,
   "id": "5757de86-cd4e-43f2-86e6-9c74b6cf7630",
   "metadata": {},
   "outputs": [],
   "source": [
    "df['rents_3_days_before']=df['rents_3_days_before'].dropna().reset_index(drop=True)"
   ]
  },
  {
   "cell_type": "code",
   "execution_count": 55,
   "id": "625979cb-f1f2-40f6-8af7-3645a6c785f5",
   "metadata": {},
   "outputs": [
    {
     "data": {
      "text/plain": [
       "92.0"
      ]
     },
     "execution_count": 55,
     "metadata": {},
     "output_type": "execute_result"
    }
   ],
   "source": [
    "df=df.dropna().reset_index(drop=True)\n",
    "df['casual'][10:20].mean()"
   ]
  },
  {
   "cell_type": "markdown",
   "id": "f6f0064b-7079-4dd0-b6d8-97ca9ff6b7d6",
   "metadata": {},
   "source": [
    "#### - Case 6 : "
   ]
  },
  {
   "cell_type": "markdown",
   "id": "734582bb-afd0-41db-ac89-cdbc55a9cf52",
   "metadata": {},
   "source": [
    "* Feature “avg_casual_rents_last_10_days”: a partire dalle colonne “dteday”, “casual”, calcolare la media del numero di affitti di bici negli ultimi 10 giorni (riga i-esima compresa)\n",
    "\n",
    "    Esempio: se considero la riga con instant #10, devo trovare il valore “1251,5” nella riga #10"
   ]
  },
  {
   "cell_type": "code",
   "execution_count": 33,
   "id": "6906f1e4-dd65-458a-a8c4-b657dc5bbf5c",
   "metadata": {},
   "outputs": [
    {
     "data": {
      "text/html": [
       "<div>\n",
       "<style scoped>\n",
       "    .dataframe tbody tr th:only-of-type {\n",
       "        vertical-align: middle;\n",
       "    }\n",
       "\n",
       "    .dataframe tbody tr th {\n",
       "        vertical-align: top;\n",
       "    }\n",
       "\n",
       "    .dataframe thead th {\n",
       "        text-align: right;\n",
       "    }\n",
       "</style>\n",
       "<table border=\"1\" class=\"dataframe\">\n",
       "  <thead>\n",
       "    <tr style=\"text-align: right;\">\n",
       "      <th></th>\n",
       "      <th>instant</th>\n",
       "      <th>dteday</th>\n",
       "      <th>season</th>\n",
       "      <th>yr</th>\n",
       "      <th>mnth</th>\n",
       "      <th>holiday</th>\n",
       "      <th>weekday</th>\n",
       "      <th>workingday</th>\n",
       "      <th>weathersit</th>\n",
       "      <th>temp</th>\n",
       "      <th>...</th>\n",
       "      <th>hum</th>\n",
       "      <th>windspeed</th>\n",
       "      <th>casual</th>\n",
       "      <th>registered</th>\n",
       "      <th>cnt</th>\n",
       "      <th>rents_by_month_casual</th>\n",
       "      <th>rents_by_month_registered</th>\n",
       "      <th>original_hum</th>\n",
       "      <th>rents_3_days_before</th>\n",
       "      <th>avg_casual_rents_last_10_days</th>\n",
       "    </tr>\n",
       "  </thead>\n",
       "  <tbody>\n",
       "    <tr>\n",
       "      <th>0</th>\n",
       "      <td>1</td>\n",
       "      <td>2011-01-01</td>\n",
       "      <td>1</td>\n",
       "      <td>0</td>\n",
       "      <td>1</td>\n",
       "      <td>0</td>\n",
       "      <td>6</td>\n",
       "      <td>0</td>\n",
       "      <td>rain</td>\n",
       "      <td>0.344167</td>\n",
       "      <td>...</td>\n",
       "      <td>0.805833</td>\n",
       "      <td>0.160446</td>\n",
       "      <td>331</td>\n",
       "      <td>654</td>\n",
       "      <td>985</td>\n",
       "      <td>3073</td>\n",
       "      <td>35116</td>\n",
       "      <td>338508.0</td>\n",
       "      <td>985.0</td>\n",
       "      <td>117.1</td>\n",
       "    </tr>\n",
       "    <tr>\n",
       "      <th>1</th>\n",
       "      <td>2</td>\n",
       "      <td>2011-01-02</td>\n",
       "      <td>1</td>\n",
       "      <td>0</td>\n",
       "      <td>1</td>\n",
       "      <td>0</td>\n",
       "      <td>0</td>\n",
       "      <td>0</td>\n",
       "      <td>rain</td>\n",
       "      <td>0.363478</td>\n",
       "      <td>...</td>\n",
       "      <td>0.696087</td>\n",
       "      <td>0.248539</td>\n",
       "      <td>131</td>\n",
       "      <td>670</td>\n",
       "      <td>801</td>\n",
       "      <td>3073</td>\n",
       "      <td>35116</td>\n",
       "      <td>780696.0</td>\n",
       "      <td>801.0</td>\n",
       "      <td>88.3</td>\n",
       "    </tr>\n",
       "    <tr>\n",
       "      <th>2</th>\n",
       "      <td>3</td>\n",
       "      <td>2011-01-03</td>\n",
       "      <td>1</td>\n",
       "      <td>0</td>\n",
       "      <td>1</td>\n",
       "      <td>0</td>\n",
       "      <td>1</td>\n",
       "      <td>1</td>\n",
       "      <td>cloudy</td>\n",
       "      <td>0.196364</td>\n",
       "      <td>...</td>\n",
       "      <td>0.437273</td>\n",
       "      <td>0.248309</td>\n",
       "      <td>120</td>\n",
       "      <td>1229</td>\n",
       "      <td>1349</td>\n",
       "      <td>3073</td>\n",
       "      <td>35116</td>\n",
       "      <td>372734.0</td>\n",
       "      <td>1349.0</td>\n",
       "      <td>77.7</td>\n",
       "    </tr>\n",
       "    <tr>\n",
       "      <th>3</th>\n",
       "      <td>4</td>\n",
       "      <td>2011-01-04</td>\n",
       "      <td>1</td>\n",
       "      <td>0</td>\n",
       "      <td>1</td>\n",
       "      <td>0</td>\n",
       "      <td>2</td>\n",
       "      <td>1</td>\n",
       "      <td>cloudy</td>\n",
       "      <td>0.200000</td>\n",
       "      <td>...</td>\n",
       "      <td>0.590435</td>\n",
       "      <td>0.160296</td>\n",
       "      <td>108</td>\n",
       "      <td>1454</td>\n",
       "      <td>1562</td>\n",
       "      <td>3073</td>\n",
       "      <td>35116</td>\n",
       "      <td>534095.0</td>\n",
       "      <td>1562.0</td>\n",
       "      <td>69.5</td>\n",
       "    </tr>\n",
       "    <tr>\n",
       "      <th>4</th>\n",
       "      <td>5</td>\n",
       "      <td>2011-01-05</td>\n",
       "      <td>1</td>\n",
       "      <td>0</td>\n",
       "      <td>1</td>\n",
       "      <td>0</td>\n",
       "      <td>3</td>\n",
       "      <td>1</td>\n",
       "      <td>cloudy</td>\n",
       "      <td>0.226957</td>\n",
       "      <td>...</td>\n",
       "      <td>0.436957</td>\n",
       "      <td>0.186900</td>\n",
       "      <td>82</td>\n",
       "      <td>1518</td>\n",
       "      <td>1600</td>\n",
       "      <td>3073</td>\n",
       "      <td>35116</td>\n",
       "      <td>759634.0</td>\n",
       "      <td>1600.0</td>\n",
       "      <td>64.1</td>\n",
       "    </tr>\n",
       "  </tbody>\n",
       "</table>\n",
       "<p>5 rows × 21 columns</p>\n",
       "</div>"
      ],
      "text/plain": [
       "   instant      dteday  season  yr  mnth  holiday  weekday  workingday  \\\n",
       "0        1  2011-01-01       1   0     1        0        6           0   \n",
       "1        2  2011-01-02       1   0     1        0        0           0   \n",
       "2        3  2011-01-03       1   0     1        0        1           1   \n",
       "3        4  2011-01-04       1   0     1        0        2           1   \n",
       "4        5  2011-01-05       1   0     1        0        3           1   \n",
       "\n",
       "  weathersit      temp  ...       hum  windspeed  casual  registered   cnt  \\\n",
       "0       rain  0.344167  ...  0.805833   0.160446     331         654   985   \n",
       "1       rain  0.363478  ...  0.696087   0.248539     131         670   801   \n",
       "2     cloudy  0.196364  ...  0.437273   0.248309     120        1229  1349   \n",
       "3     cloudy  0.200000  ...  0.590435   0.160296     108        1454  1562   \n",
       "4     cloudy  0.226957  ...  0.436957   0.186900      82        1518  1600   \n",
       "\n",
       "   rents_by_month_casual  rents_by_month_registered  original_hum  \\\n",
       "0                   3073                      35116      338508.0   \n",
       "1                   3073                      35116      780696.0   \n",
       "2                   3073                      35116      372734.0   \n",
       "3                   3073                      35116      534095.0   \n",
       "4                   3073                      35116      759634.0   \n",
       "\n",
       "  rents_3_days_before  avg_casual_rents_last_10_days  \n",
       "0               985.0                          117.1  \n",
       "1               801.0                           88.3  \n",
       "2              1349.0                           77.7  \n",
       "3              1562.0                           69.5  \n",
       "4              1600.0                           64.1  \n",
       "\n",
       "[5 rows x 21 columns]"
      ]
     },
     "execution_count": 33,
     "metadata": {},
     "output_type": "execute_result"
    }
   ],
   "source": [
    "df['avg_casual_rents_last_10_days'] = [df['casual'][i:10+i].mean() for i in df.index]\n",
    "df.head()"
   ]
  },
  {
   "cell_type": "markdown",
   "id": "97045d1f-fcfa-4944-b54f-1611c351df51",
   "metadata": {},
   "source": [
    "#### - Case 7 : "
   ]
  },
  {
   "cell_type": "markdown",
   "id": "f03aa0b4-06d0-4664-acc0-fb3489f4d057",
   "metadata": {},
   "source": [
    " Feature “is_last_2_days_hum”: a partire dalle colonne “dteday” e “hum”, creare un indicatore booleano valorizzato così:\n",
    "        \n",
    "* True se la media di umidità nella stessa stagione è superiore al valore medio degli ultimi 2 giorni\n",
    "* False altrimenti\n",
    "\n",
    "Il risultato è da mettere nella riga t (oggi)"
   ]
  },
  {
   "cell_type": "code",
   "execution_count": 56,
   "id": "01203b6d-2211-4c4a-b0fc-f85c5a19c33f",
   "metadata": {},
   "outputs": [
    {
     "data": {
      "text/html": [
       "<div>\n",
       "<style scoped>\n",
       "    .dataframe tbody tr th:only-of-type {\n",
       "        vertical-align: middle;\n",
       "    }\n",
       "\n",
       "    .dataframe tbody tr th {\n",
       "        vertical-align: top;\n",
       "    }\n",
       "\n",
       "    .dataframe thead th {\n",
       "        text-align: right;\n",
       "    }\n",
       "</style>\n",
       "<table border=\"1\" class=\"dataframe\">\n",
       "  <thead>\n",
       "    <tr style=\"text-align: right;\">\n",
       "      <th></th>\n",
       "      <th>season</th>\n",
       "      <th>hum</th>\n",
       "    </tr>\n",
       "  </thead>\n",
       "  <tbody>\n",
       "    <tr>\n",
       "      <th>0</th>\n",
       "      <td>1</td>\n",
       "      <td>0.579918</td>\n",
       "    </tr>\n",
       "    <tr>\n",
       "      <th>1</th>\n",
       "      <td>2</td>\n",
       "      <td>0.626948</td>\n",
       "    </tr>\n",
       "    <tr>\n",
       "      <th>2</th>\n",
       "      <td>3</td>\n",
       "      <td>0.626096</td>\n",
       "    </tr>\n",
       "    <tr>\n",
       "      <th>3</th>\n",
       "      <td>4</td>\n",
       "      <td>0.694133</td>\n",
       "    </tr>\n",
       "  </tbody>\n",
       "</table>\n",
       "</div>"
      ],
      "text/plain": [
       "   season       hum\n",
       "0       1  0.579918\n",
       "1       2  0.626948\n",
       "2       3  0.626096\n",
       "3       4  0.694133"
      ]
     },
     "execution_count": 56,
     "metadata": {},
     "output_type": "execute_result"
    }
   ],
   "source": [
    "media_umidita_nella_stessa_stagione = df.groupby(['season'])['hum'].mean().reset_index()\n",
    "media_umidita_nella_stessa_stagione.head()"
   ]
  },
  {
   "cell_type": "code",
   "execution_count": 57,
   "id": "d4717475-1d5f-44cb-b2dc-23d5f547567d",
   "metadata": {},
   "outputs": [
    {
     "data": {
      "text/plain": [
       "0.569375"
      ]
     },
     "execution_count": 57,
     "metadata": {},
     "output_type": "execute_result"
    }
   ],
   "source": [
    "valore_medio_ultimi_2_giorni = df['hum'].tail(2).mean()\n",
    "valore_medio_ultimi_2_giorni"
   ]
  },
  {
   "cell_type": "code",
   "execution_count": 36,
   "id": "d8ff24c0-c152-4d2d-95d5-a3e93ee104ce",
   "metadata": {},
   "outputs": [
    {
     "data": {
      "text/plain": [
       "True     311\n",
       "False    283\n",
       "Name: is_last_2_days_hum, dtype: int64"
      ]
     },
     "execution_count": 36,
     "metadata": {},
     "output_type": "execute_result"
    }
   ],
   "source": [
    "df['is_last_2_days_hum'] = (media_umidita_nella_stessa_stagione['hum']>valore_medio_ultimi_2_giorni)\n",
    "df['is_last_2_days_hum'].value_counts()"
   ]
  },
  {
   "cell_type": "code",
   "execution_count": 37,
   "id": "abb27843-eb4f-4c4e-be00-3272a41bf5fc",
   "metadata": {},
   "outputs": [],
   "source": [
    "#df['is_last_2_days_hum'] =[True  if(media_umidita_nella_stessa_stagione['hum'][i]>valore_medio_ultimi_2_giorni) else False for i in df.index]\n",
    "#df['is_last_2_days_hum'].value_counts()"
   ]
  },
  {
   "cell_type": "markdown",
   "id": "eabc1997-3851-4559-bd92-a0bac7f49701",
   "metadata": {},
   "source": [
    "#### - Case 8 : "
   ]
  },
  {
   "cell_type": "markdown",
   "id": "c0442f08-de13-4ac4-bd2a-2db45e15447b",
   "metadata": {},
   "source": [
    "Feature “is_temp_5_days_ago_greater_than_atemp_today”: a partire dalle colonne “dteday”, “atemp” e “temp”, creare un indicatore booleano così valorizzato:\n",
    "    \n",
    "* True se il valore di temp a t-5 (5 giorni fa) è maggiore del valore di atemp a t (oggi)\n",
    "* False altrimenti\n",
    "\n",
    "Il risultato è da mettere nella riga t (oggi)"
   ]
  },
  {
   "cell_type": "code",
   "execution_count": 38,
   "id": "3432f8cb-9981-490d-95d8-5f8d9ffead37",
   "metadata": {},
   "outputs": [],
   "source": [
    "df['is_temp_5_days_ago_greater_than_atemp_today']=df['temp'].shift(5)\n",
    "df['is_temp_5_days_ago_greater_than_atemp_today']=df['is_temp_5_days_ago_greater_than_atemp_today'].dropna().reset_index(drop=True)"
   ]
  },
  {
   "cell_type": "code",
   "execution_count": 39,
   "id": "8389c22c-d09e-4a4f-96ab-5a2b6bc63ab8",
   "metadata": {},
   "outputs": [
    {
     "data": {
      "text/plain": [
       "False    728\n",
       "Name: is_temp_5_days_ago_greater_than_atemp_today, dtype: int64"
      ]
     },
     "execution_count": 39,
     "metadata": {},
     "output_type": "execute_result"
    }
   ],
   "source": [
    "df['is_temp_5_days_ago_greater_than_atemp_today'] = [True if df['is_temp_5_days_ago_greater_than_atemp_today'][i]>df['temp'][i] else False for i in df.index ]\n",
    "df['is_temp_5_days_ago_greater_than_atemp_today'].value_counts()"
   ]
  },
  {
   "cell_type": "markdown",
   "id": "c18e28f4-6003-4f21-bff1-d934ebef1f61",
   "metadata": {},
   "source": [
    "#### - Case 9 : "
   ]
  },
  {
   "cell_type": "markdown",
   "id": "df6d4964-287a-45d1-a746-7b8b8ff83b96",
   "metadata": {},
   "source": [
    "Feature “windspeed_avg_last_month”: a partire dalle colonne “dteday” e “windspeed”, creare una variabile numerica che riporta in ogni riga il valore medio di “windspeed” calcolato nel mese precedente"
   ]
  },
  {
   "cell_type": "code",
   "execution_count": 40,
   "id": "6fa82229-7a00-4fd8-b87f-a142adca4150",
   "metadata": {},
   "outputs": [],
   "source": [
    "df['windspeed_avg_last_month']=df['windspeed'].shift(-1)"
   ]
  },
  {
   "cell_type": "code",
   "execution_count": 41,
   "id": "98a6bded-41df-40bb-8cb5-a75090c3fc11",
   "metadata": {},
   "outputs": [],
   "source": [
    "df['windspeed_avg_last_month'] = [df['windspeed_avg_last_month'].mean() for i in df.index ]"
   ]
  },
  {
   "cell_type": "code",
   "execution_count": 42,
   "id": "79c72db3-4952-46a1-b06c-6865ceed4d8d",
   "metadata": {},
   "outputs": [],
   "source": [
    "df['windspeed_avg_last_month']=df['windspeed_avg_last_month'].dropna().reset_index(drop=True)"
   ]
  },
  {
   "cell_type": "code",
   "execution_count": 43,
   "id": "01c62dba-3cea-4e1e-a62e-f73487cf164b",
   "metadata": {},
   "outputs": [
    {
     "data": {
      "text/plain": [
       "0    0.190447\n",
       "1    0.190447\n",
       "2    0.190447\n",
       "3    0.190447\n",
       "4    0.190447\n",
       "Name: windspeed_avg_last_month, dtype: float64"
      ]
     },
     "execution_count": 43,
     "metadata": {},
     "output_type": "execute_result"
    }
   ],
   "source": [
    "df['windspeed_avg_last_month'].head()"
   ]
  },
  {
   "cell_type": "markdown",
   "id": "6fcc7e0c-1901-43ac-a72f-cd754e6b0e27",
   "metadata": {},
   "source": [
    "#### - Case 10 : "
   ]
  },
  {
   "cell_type": "markdown",
   "id": "425ae864-cf63-4f3c-8b27-f232f5d86c60",
   "metadata": {},
   "source": [
    "Feature “is_weathersit_equal_last_2_days”: a partire dalle colonne “dteday” e “weathersit”, creare un indicatore booleano così valorizzato:\n",
    "    \n",
    "* True se “weathersit” ha lo stesso valore nella riga i-esima e (i-1)-esima\n",
    "* False altrimenti\n",
    "\n",
    "Il risultato è da riportare nella riga i-esima\n",
    "\n",
    " "
   ]
  },
  {
   "cell_type": "code",
   "execution_count": 44,
   "id": "e6cc57fb-6b66-493e-898d-02ba06ff53de",
   "metadata": {},
   "outputs": [
    {
     "data": {
      "text/html": [
       "<div>\n",
       "<style scoped>\n",
       "    .dataframe tbody tr th:only-of-type {\n",
       "        vertical-align: middle;\n",
       "    }\n",
       "\n",
       "    .dataframe tbody tr th {\n",
       "        vertical-align: top;\n",
       "    }\n",
       "\n",
       "    .dataframe thead th {\n",
       "        text-align: right;\n",
       "    }\n",
       "</style>\n",
       "<table border=\"1\" class=\"dataframe\">\n",
       "  <thead>\n",
       "    <tr style=\"text-align: right;\">\n",
       "      <th></th>\n",
       "      <th>dteday</th>\n",
       "      <th>weathersit</th>\n",
       "    </tr>\n",
       "  </thead>\n",
       "  <tbody>\n",
       "    <tr>\n",
       "      <th>0</th>\n",
       "      <td>2011-01-01</td>\n",
       "      <td>rain</td>\n",
       "    </tr>\n",
       "    <tr>\n",
       "      <th>1</th>\n",
       "      <td>2011-01-02</td>\n",
       "      <td>rain</td>\n",
       "    </tr>\n",
       "    <tr>\n",
       "      <th>2</th>\n",
       "      <td>2011-01-03</td>\n",
       "      <td>cloudy</td>\n",
       "    </tr>\n",
       "    <tr>\n",
       "      <th>3</th>\n",
       "      <td>2011-01-04</td>\n",
       "      <td>cloudy</td>\n",
       "    </tr>\n",
       "    <tr>\n",
       "      <th>4</th>\n",
       "      <td>2011-01-05</td>\n",
       "      <td>cloudy</td>\n",
       "    </tr>\n",
       "  </tbody>\n",
       "</table>\n",
       "</div>"
      ],
      "text/plain": [
       "       dteday weathersit\n",
       "0  2011-01-01       rain\n",
       "1  2011-01-02       rain\n",
       "2  2011-01-03     cloudy\n",
       "3  2011-01-04     cloudy\n",
       "4  2011-01-05     cloudy"
      ]
     },
     "execution_count": 44,
     "metadata": {},
     "output_type": "execute_result"
    }
   ],
   "source": [
    "df[['dteday' ,'weathersit']].head()"
   ]
  },
  {
   "cell_type": "code",
   "execution_count": 58,
   "id": "11afb55f-a28a-49e6-84d5-48f2d647c82f",
   "metadata": {},
   "outputs": [],
   "source": [
    "df['is_weathersit_equal_last_2_days'] = df['weathersit'].shift(1)\n",
    "df['is_weathersit_equal_last_2_days']=df['is_weathersit_equal_last_2_days'].dropna().reset_index(drop=True)"
   ]
  },
  {
   "cell_type": "code",
   "execution_count": 59,
   "id": "17dda168-29e0-4f75-8e9a-165edd2f459f",
   "metadata": {},
   "outputs": [],
   "source": [
    "df['is_weathersit_equal_last_2_days'] =[True if df['is_weathersit_equal_last_2_days'][i] ==df['weathersit'][i] else False for i in df.index ]"
   ]
  },
  {
   "cell_type": "code",
   "execution_count": 60,
   "id": "469dc1fe-d1fe-4e16-ae42-0f97267764e9",
   "metadata": {},
   "outputs": [
    {
     "data": {
      "text/plain": [
       "True     593\n",
       "False      1\n",
       "Name: is_weathersit_equal_last_2_days, dtype: int64"
      ]
     },
     "execution_count": 60,
     "metadata": {},
     "output_type": "execute_result"
    }
   ],
   "source": [
    "df['is_weathersit_equal_last_2_days'].value_counts()"
   ]
  },
  {
   "cell_type": "code",
   "execution_count": 48,
   "id": "9fe1defb-67d5-46b4-8988-a85514969120",
   "metadata": {},
   "outputs": [
    {
     "data": {
      "text/html": [
       "<div>\n",
       "<style scoped>\n",
       "    .dataframe tbody tr th:only-of-type {\n",
       "        vertical-align: middle;\n",
       "    }\n",
       "\n",
       "    .dataframe tbody tr th {\n",
       "        vertical-align: top;\n",
       "    }\n",
       "\n",
       "    .dataframe thead th {\n",
       "        text-align: right;\n",
       "    }\n",
       "</style>\n",
       "<table border=\"1\" class=\"dataframe\">\n",
       "  <thead>\n",
       "    <tr style=\"text-align: right;\">\n",
       "      <th></th>\n",
       "      <th>instant</th>\n",
       "      <th>dteday</th>\n",
       "      <th>season</th>\n",
       "      <th>yr</th>\n",
       "      <th>mnth</th>\n",
       "      <th>holiday</th>\n",
       "      <th>weekday</th>\n",
       "      <th>workingday</th>\n",
       "      <th>weathersit</th>\n",
       "      <th>temp</th>\n",
       "      <th>...</th>\n",
       "      <th>cnt</th>\n",
       "      <th>rents_by_month_casual</th>\n",
       "      <th>rents_by_month_registered</th>\n",
       "      <th>original_hum</th>\n",
       "      <th>rents_3_days_before</th>\n",
       "      <th>avg_casual_rents_last_10_days</th>\n",
       "      <th>is_last_2_days_hum</th>\n",
       "      <th>is_temp_5_days_ago_greater_than_atemp_today</th>\n",
       "      <th>windspeed_avg_last_month</th>\n",
       "      <th>is_weathersit_equal_last_2_days</th>\n",
       "    </tr>\n",
       "  </thead>\n",
       "  <tbody>\n",
       "    <tr>\n",
       "      <th>0</th>\n",
       "      <td>1</td>\n",
       "      <td>2011-01-01</td>\n",
       "      <td>1</td>\n",
       "      <td>0</td>\n",
       "      <td>1</td>\n",
       "      <td>0</td>\n",
       "      <td>6</td>\n",
       "      <td>0</td>\n",
       "      <td>rain</td>\n",
       "      <td>0.344167</td>\n",
       "      <td>...</td>\n",
       "      <td>985</td>\n",
       "      <td>3073</td>\n",
       "      <td>35116</td>\n",
       "      <td>338508.0</td>\n",
       "      <td>985.0</td>\n",
       "      <td>117.1</td>\n",
       "      <td>False</td>\n",
       "      <td>False</td>\n",
       "      <td>0.190447</td>\n",
       "      <td>True</td>\n",
       "    </tr>\n",
       "    <tr>\n",
       "      <th>1</th>\n",
       "      <td>2</td>\n",
       "      <td>2011-01-02</td>\n",
       "      <td>1</td>\n",
       "      <td>0</td>\n",
       "      <td>1</td>\n",
       "      <td>0</td>\n",
       "      <td>0</td>\n",
       "      <td>0</td>\n",
       "      <td>rain</td>\n",
       "      <td>0.363478</td>\n",
       "      <td>...</td>\n",
       "      <td>801</td>\n",
       "      <td>3073</td>\n",
       "      <td>35116</td>\n",
       "      <td>780696.0</td>\n",
       "      <td>801.0</td>\n",
       "      <td>88.3</td>\n",
       "      <td>False</td>\n",
       "      <td>False</td>\n",
       "      <td>0.190447</td>\n",
       "      <td>False</td>\n",
       "    </tr>\n",
       "    <tr>\n",
       "      <th>2</th>\n",
       "      <td>3</td>\n",
       "      <td>2011-01-03</td>\n",
       "      <td>1</td>\n",
       "      <td>0</td>\n",
       "      <td>1</td>\n",
       "      <td>0</td>\n",
       "      <td>1</td>\n",
       "      <td>1</td>\n",
       "      <td>cloudy</td>\n",
       "      <td>0.196364</td>\n",
       "      <td>...</td>\n",
       "      <td>1349</td>\n",
       "      <td>3073</td>\n",
       "      <td>35116</td>\n",
       "      <td>372734.0</td>\n",
       "      <td>1349.0</td>\n",
       "      <td>77.7</td>\n",
       "      <td>False</td>\n",
       "      <td>False</td>\n",
       "      <td>0.190447</td>\n",
       "      <td>True</td>\n",
       "    </tr>\n",
       "    <tr>\n",
       "      <th>3</th>\n",
       "      <td>4</td>\n",
       "      <td>2011-01-04</td>\n",
       "      <td>1</td>\n",
       "      <td>0</td>\n",
       "      <td>1</td>\n",
       "      <td>0</td>\n",
       "      <td>2</td>\n",
       "      <td>1</td>\n",
       "      <td>cloudy</td>\n",
       "      <td>0.200000</td>\n",
       "      <td>...</td>\n",
       "      <td>1562</td>\n",
       "      <td>3073</td>\n",
       "      <td>35116</td>\n",
       "      <td>534095.0</td>\n",
       "      <td>1562.0</td>\n",
       "      <td>69.5</td>\n",
       "      <td>False</td>\n",
       "      <td>False</td>\n",
       "      <td>0.190447</td>\n",
       "      <td>True</td>\n",
       "    </tr>\n",
       "    <tr>\n",
       "      <th>4</th>\n",
       "      <td>5</td>\n",
       "      <td>2011-01-05</td>\n",
       "      <td>1</td>\n",
       "      <td>0</td>\n",
       "      <td>1</td>\n",
       "      <td>0</td>\n",
       "      <td>3</td>\n",
       "      <td>1</td>\n",
       "      <td>cloudy</td>\n",
       "      <td>0.226957</td>\n",
       "      <td>...</td>\n",
       "      <td>1600</td>\n",
       "      <td>3073</td>\n",
       "      <td>35116</td>\n",
       "      <td>759634.0</td>\n",
       "      <td>1600.0</td>\n",
       "      <td>64.1</td>\n",
       "      <td>False</td>\n",
       "      <td>False</td>\n",
       "      <td>0.190447</td>\n",
       "      <td>True</td>\n",
       "    </tr>\n",
       "  </tbody>\n",
       "</table>\n",
       "<p>5 rows × 25 columns</p>\n",
       "</div>"
      ],
      "text/plain": [
       "   instant      dteday  season  yr  mnth  holiday  weekday  workingday  \\\n",
       "0        1  2011-01-01       1   0     1        0        6           0   \n",
       "1        2  2011-01-02       1   0     1        0        0           0   \n",
       "2        3  2011-01-03       1   0     1        0        1           1   \n",
       "3        4  2011-01-04       1   0     1        0        2           1   \n",
       "4        5  2011-01-05       1   0     1        0        3           1   \n",
       "\n",
       "  weathersit      temp  ...   cnt  rents_by_month_casual  \\\n",
       "0       rain  0.344167  ...   985                   3073   \n",
       "1       rain  0.363478  ...   801                   3073   \n",
       "2     cloudy  0.196364  ...  1349                   3073   \n",
       "3     cloudy  0.200000  ...  1562                   3073   \n",
       "4     cloudy  0.226957  ...  1600                   3073   \n",
       "\n",
       "   rents_by_month_registered  original_hum  rents_3_days_before  \\\n",
       "0                      35116      338508.0                985.0   \n",
       "1                      35116      780696.0                801.0   \n",
       "2                      35116      372734.0               1349.0   \n",
       "3                      35116      534095.0               1562.0   \n",
       "4                      35116      759634.0               1600.0   \n",
       "\n",
       "   avg_casual_rents_last_10_days  is_last_2_days_hum  \\\n",
       "0                          117.1               False   \n",
       "1                           88.3               False   \n",
       "2                           77.7               False   \n",
       "3                           69.5               False   \n",
       "4                           64.1               False   \n",
       "\n",
       "   is_temp_5_days_ago_greater_than_atemp_today windspeed_avg_last_month  \\\n",
       "0                                        False                 0.190447   \n",
       "1                                        False                 0.190447   \n",
       "2                                        False                 0.190447   \n",
       "3                                        False                 0.190447   \n",
       "4                                        False                 0.190447   \n",
       "\n",
       "   is_weathersit_equal_last_2_days  \n",
       "0                             True  \n",
       "1                            False  \n",
       "2                             True  \n",
       "3                             True  \n",
       "4                             True  \n",
       "\n",
       "[5 rows x 25 columns]"
      ]
     },
     "execution_count": 48,
     "metadata": {},
     "output_type": "execute_result"
    }
   ],
   "source": [
    "df.head()"
   ]
  },
  {
   "cell_type": "code",
   "execution_count": null,
   "id": "a2435c74-9048-483e-816f-50958cfa857f",
   "metadata": {},
   "outputs": [],
   "source": []
  },
  {
   "cell_type": "code",
   "execution_count": null,
   "id": "cc18f37f-1650-4d1c-9d86-f8d711f439dd",
   "metadata": {},
   "outputs": [],
   "source": []
  },
  {
   "cell_type": "code",
   "execution_count": null,
   "id": "4df48c3e-415e-498c-b41b-deec6d26ef6d",
   "metadata": {},
   "outputs": [],
   "source": []
  }
 ],
 "metadata": {
  "kernelspec": {
   "display_name": "Python 3 (ipykernel)",
   "language": "python",
   "name": "python3"
  },
  "language_info": {
   "codemirror_mode": {
    "name": "ipython",
    "version": 3
   },
   "file_extension": ".py",
   "mimetype": "text/x-python",
   "name": "python",
   "nbconvert_exporter": "python",
   "pygments_lexer": "ipython3",
   "version": "3.9.12"
  },
  "widgets": {
   "application/vnd.jupyter.widget-state+json": {
    "state": {},
    "version_major": 2,
    "version_minor": 0
   }
  }
 },
 "nbformat": 4,
 "nbformat_minor": 5
}
