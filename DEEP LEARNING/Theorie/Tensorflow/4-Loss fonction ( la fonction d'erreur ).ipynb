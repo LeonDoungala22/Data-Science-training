{
 "cells": [
  {
   "cell_type": "code",
   "execution_count": 13,
   "id": "88dceb46-8272-48c6-a4da-9186824d25bf",
   "metadata": {},
   "outputs": [],
   "source": [
    "# import libreries \n",
    "\n",
    "import matplotlib.pyplot as plt \n",
    "import tensorflow as tf \n",
    "import pandas as pd \n",
    "import numpy as np \n",
    "\n",
    "import sys\n",
    "\n",
    "\n",
    "# Normalizer\n",
    "from sklearn.preprocessing import StandardScaler"
   ]
  },
  {
   "cell_type": "code",
   "execution_count": 2,
   "id": "845bd12d-792d-4cee-bbc6-65cc81046b8b",
   "metadata": {},
   "outputs": [],
   "source": [
    "import os \n",
    "os.environ['KMP_DUPLICATE_LIB_OK']='True'"
   ]
  },
  {
   "cell_type": "code",
   "execution_count": 3,
   "id": "36c6d238-bd4a-42e2-b983-e4fbf579653d",
   "metadata": {},
   "outputs": [],
   "source": [
    "#Fashion MNIST dataset\n",
    "\n",
    "fashion_mnist = tf.keras.datasets.fashion_mnist\n",
    "(images , targets), (_, _) = fashion_mnist.load_data()\n",
    "\n",
    "images = images[:10000]\n",
    "targets = targets[:10000]\n",
    "\n",
    "#flatten\n",
    "\n",
    "images = images.reshape(-1,784)\n",
    "images = images.astype(float)\n"
   ]
  },
  {
   "cell_type": "code",
   "execution_count": 4,
   "id": "fb12c2d7-8ec0-4b32-b369-67afed47d909",
   "metadata": {},
   "outputs": [
    {
     "name": "stdout",
     "output_type": "stream",
     "text": [
      "Images shape:  (10000, 784)\n",
      "Targets shape : (10000,)\n"
     ]
    }
   ],
   "source": [
    "#Normalize\n",
    "scaler = StandardScaler()\n",
    "images = scaler.fit_transform(images)\n",
    "\n",
    "\n",
    "print(\"Images shape: \",images.shape)\n",
    "print(\"Targets shape :\",targets.shape)"
   ]
  },
  {
   "cell_type": "code",
   "execution_count": 5,
   "id": "f242874f-c36e-4514-80d7-8f208589bcae",
   "metadata": {},
   "outputs": [
    {
     "data": {
      "image/png": "[encoded data removed]",
      "text/plain": [
       "<Figure size 432x288 with 1 Axes>"
      ]
     },
     "metadata": {
      "needs_background": "light"
     },
     "output_type": "display_data"
    }
   ],
   "source": [
    "#Plot images\n",
    "\n",
    "targets_names =[\"T-shirt/top\",\"Trouser\",\"Pullover\",\"Dress\",\"Coat\",\"Sandal\",\"Shirt\",\"Sneaker\",\"Bag\",\"Ankle boot\"]\n",
    "\n",
    "#plot image \n",
    "plt.imshow(images[10].reshape(28,28),cmap=\"binary\")\n",
    "plt.title(targets_names[targets[10]])\n",
    "plt.show()"
   ]
  },
  {
   "cell_type": "code",
   "execution_count": 6,
   "id": "64ad4003-d868-45d2-8150-e9b370f5f31a",
   "metadata": {},
   "outputs": [],
   "source": [
    "#print(\"First lignes of one image\", images[11])\n",
    "#print(\"Associated target\",targets[11])"
   ]
  },
  {
   "cell_type": "code",
   "execution_count": 7,
   "id": "ee60f298-e99a-452f-aee8-b0ed336cb667",
   "metadata": {},
   "outputs": [
    {
     "name": "stdout",
     "output_type": "stream",
     "text": [
      "1/1 [==============================] - 0s 183ms/step\n",
      "- Image predicted: [[0.00798303 0.20318733 0.08391377 0.11003522 0.01541969 0.29058585\n",
      "  0.01195136 0.15004301 0.11764745 0.00923332]] [9]\n"
     ]
    }
   ],
   "source": [
    "# Flatten\n",
    "model = tf.keras.models.Sequential()\n",
    "#model.add(tf.keras.layers.Flatten(input_shape = [28,28]))\n",
    "\n",
    "#Add Layers\n",
    "model.add(tf.keras.layers.Dense(256, activation=\"relu\"))  #Hiden layer 1 \n",
    "model.add(tf.keras.layers.Dense(128, activation=\"relu\"))  #Hiden layer 2\n",
    "model.add(tf.keras.layers.Dense(10, activation=\"softmax\"))  #Output layer wtih 10 classes \n",
    "\n",
    "\n",
    "model_output = model.predict(images[0:1])\n",
    "#print(\"- Image and target\",images[0:1],targets[0:1])\n",
    "print(\"- Image predicted:\",model_output,targets[0:1])"
   ]
  },
  {
   "cell_type": "code",
   "execution_count": 8,
   "id": "4586bb15-e833-4f46-86d4-5ad0a0724739",
   "metadata": {},
   "outputs": [
    {
     "name": "stdout",
     "output_type": "stream",
     "text": [
      "Model: \"sequential\"\n",
      "_________________________________________________________________\n",
      " Layer (type)                Output Shape              Param #   \n",
      "=================================================================\n",
      " dense (Dense)               (None, 256)               200960    \n",
      "                                                                 \n",
      " dense_1 (Dense)             (None, 128)               32896     \n",
      "                                                                 \n",
      " dense_2 (Dense)             (None, 10)                1290      \n",
      "                                                                 \n",
      "=================================================================\n",
      "Total params: 235,146\n",
      "Trainable params: 235,146\n",
      "Non-trainable params: 0\n",
      "_________________________________________________________________\n"
     ]
    }
   ],
   "source": [
    "model.summary()"
   ]
  },
  {
   "cell_type": "code",
   "execution_count": 9,
   "id": "83b5bccd-1ef1-4459-89b9-7094849ee858",
   "metadata": {},
   "outputs": [],
   "source": [
    "# Compile the  model\n",
    "\n",
    "model.compile(\n",
    "    loss=\"sparse_categorical_crossentropy\",\n",
    "    optimizer =\"sgd\",\n",
    "    metrics=[\"accuracy\"]\n",
    ")"
   ]
  },
  {
   "cell_type": "code",
   "execution_count": 10,
   "id": "831b2fd7-f829-4b08-99c7-668fb781328a",
   "metadata": {},
   "outputs": [
    {
     "name": "stdout",
     "output_type": "stream",
     "text": [
      "Epoch 1/10\n",
      "313/313 [==============================] - 1s 2ms/step - loss: 0.8316 - accuracy: 0.7238\n",
      "Epoch 2/10\n",
      "313/313 [==============================] - 1s 2ms/step - loss: 0.4973 - accuracy: 0.8241\n",
      "Epoch 3/10\n",
      "313/313 [==============================] - 1s 2ms/step - loss: 0.4264 - accuracy: 0.8499\n",
      "Epoch 4/10\n",
      "313/313 [==============================] - 1s 2ms/step - loss: 0.3838 - accuracy: 0.8659\n",
      "Epoch 5/10\n",
      "313/313 [==============================] - 1s 2ms/step - loss: 0.3541 - accuracy: 0.8750\n",
      "Epoch 6/10\n",
      "313/313 [==============================] - 1s 2ms/step - loss: 0.3295 - accuracy: 0.8854\n",
      "Epoch 7/10\n",
      "313/313 [==============================] - 1s 2ms/step - loss: 0.3070 - accuracy: 0.8958\n",
      "Epoch 8/10\n",
      "313/313 [==============================] - 1s 2ms/step - loss: 0.2892 - accuracy: 0.8999\n",
      "Epoch 9/10\n",
      "313/313 [==============================] - 1s 2ms/step - loss: 0.2710 - accuracy: 0.9080\n",
      "Epoch 10/10\n",
      "313/313 [==============================] - 1s 2ms/step - loss: 0.2584 - accuracy: 0.9105\n"
     ]
    }
   ],
   "source": [
    "history = model.fit(images,targets,epochs=10)"
   ]
  },
  {
   "cell_type": "markdown",
   "id": "b2fbfc67-60ef-4dda-9d5f-0c733f265870",
   "metadata": {},
   "source": [
    "# LOSS FUNCTION"
   ]
  },
  {
   "cell_type": "markdown",
   "id": "ce0ff3c8-c195-4937-b6f9-77235a14d11b",
   "metadata": {},
   "source": [
    "## Categorical cross entropy"
   ]
  },
  {
   "cell_type": "code",
   "execution_count": 11,
   "id": "9cedca92-69ed-4e2c-a433-1b57997cfbef",
   "metadata": {},
   "outputs": [
    {
     "name": "stdout",
     "output_type": "stream",
     "text": [
      "(5, 784)\n",
      "[9 0 0 3 0]\n",
      "1/1 [==============================] - 0s 73ms/step\n",
      "(5, 10)\n",
      "Output [[2.0065524e-06 2.6489840e-07 7.9494112e-07 1.0609173e-06 3.2048904e-06\n",
      "  4.3981284e-04 1.4295875e-06 3.7895783e-03 2.1187014e-04 9.9555004e-01]\n",
      " [9.9658358e-01 1.3149056e-06 1.2066345e-04 1.0639123e-04 2.4227535e-07\n",
      "  1.9612534e-07 3.1710118e-03 1.2340838e-07 1.6345619e-05 1.1538149e-07]\n",
      " [4.9541947e-01 2.7272470e-02 1.2356063e-02 2.5453886e-01 8.6599052e-02\n",
      "  4.4605866e-04 1.1293975e-01 1.3497716e-03 8.3456216e-03 7.3285977e-04]\n",
      " [3.5760075e-01 6.3400570e-04 1.7518766e-02 4.9013805e-01 2.2870137e-03\n",
      "  1.8407329e-05 1.3088652e-01 5.0284296e-05 6.8883016e-04 1.7731362e-04]\n",
      " [1.3183521e-01 7.1048392e-03 2.3678856e-03 8.3307457e-01 1.0631556e-03\n",
      "  2.0400168e-05 2.3695720e-02 6.0098715e-05 5.2568945e-04 2.5240902e-04]]\n",
      "\n",
      "Labels [9 0 0 3 0]\n",
      "\n",
      "Filtered ouput [0.99555004 0.9965836  0.49541947 0.49013805 0.1318352 ]\n",
      "\n",
      "Log Filtered ouput [-0.00445989 -0.00342227 -0.70235044 -0.7130682  -2.0262027 ]\n",
      "Mean: -0.6899007\n",
      "Mean: 0.6899007\n"
     ]
    }
   ],
   "source": [
    "images_test = images[:5]\n",
    "labels_test = targets[:5]\n",
    "\n",
    "\n",
    "print(images_test.shape)\n",
    "print(labels_test)\n",
    "\n",
    "\n",
    "outputs_test = model.predict(images_test)\n",
    "\n",
    "print(outputs_test.shape)\n",
    "print(\"Output\",outputs_test)\n",
    "\n",
    "\n",
    "print(\"\\nLabels\",labels_test)\n",
    "\n",
    "filtered_outputs_test = outputs_test[np.arange(5),labels_test]\n",
    "print(\"\\nFiltered ouput\",filtered_outputs_test)\n",
    "\n",
    "log_filtered_ouput =np.log(filtered_outputs_test)\n",
    "print(\"\\nLog Filtered ouput\",log_filtered_ouput)\n",
    "\n",
    "print(\"Mean:\",log_filtered_ouput.mean())\n",
    "print(\"Mean:\",-log_filtered_ouput.mean())"
   ]
  },
  {
   "cell_type": "code",
   "execution_count": 12,
   "id": "c67263d4-724c-4e32-ae3e-11f52612a87f",
   "metadata": {},
   "outputs": [
    {
     "name": "stdout",
     "output_type": "stream",
     "text": [
      "313/313 [==============================] - 1s 2ms/step - loss: 0.2432 - accuracy: 0.9190\n"
     ]
    }
   ],
   "source": [
    "#Train the model\n",
    "\n",
    "\n",
    "model = model.fit(images,targets,epochs=1)"
   ]
  },
  {
   "cell_type": "code",
   "execution_count": null,
   "id": "31faf1d9-cb7f-4737-b154-56846a5e73cf",
   "metadata": {},
   "outputs": [],
   "source": []
  },
  {
   "cell_type": "code",
   "execution_count": null,
   "id": "ac5ba32a-8fc3-4d95-823c-97cc9f1f289f",
   "metadata": {},
   "outputs": [],
   "source": []
  },
  {
   "cell_type": "code",
   "execution_count": null,
   "id": "6930bf45-7dff-468d-a5e4-3d20d9857542",
   "metadata": {},
   "outputs": [],
   "source": []
  },
  {
   "cell_type": "code",
   "execution_count": null,
   "id": "71e341c0-ad46-4541-ac17-833778ed48fe",
   "metadata": {},
   "outputs": [],
   "source": []
  },
  {
   "cell_type": "code",
   "execution_count": null,
   "id": "543a0f81-5a9b-45a3-bccd-07a7fc880f16",
   "metadata": {},
   "outputs": [],
   "source": []
  },
  {
   "cell_type": "code",
   "execution_count": null,
   "id": "6c20c3bc-5476-4aca-955a-5a137cb3dcf8",
   "metadata": {},
   "outputs": [],
   "source": []
  },
  {
   "cell_type": "code",
   "execution_count": null,
   "id": "7f3a0e1a-52fb-4e4a-8901-e3a00f32b5d2",
   "metadata": {},
   "outputs": [],
   "source": []
  },
  {
   "cell_type": "code",
   "execution_count": null,
   "id": "b16d01d6-fe7e-42d5-b694-351217837a36",
   "metadata": {},
   "outputs": [],
   "source": []
  },
  {
   "cell_type": "code",
   "execution_count": null,
   "id": "2063e589-2dfc-4002-98ce-bffd4968545e",
   "metadata": {},
   "outputs": [],
   "source": []
  },
  {
   "cell_type": "code",
   "execution_count": null,
   "id": "c2ec6597-c9f7-4ee2-b925-8b2589cf8e04",
   "metadata": {},
   "outputs": [],
   "source": []
  }
 ],
 "metadata": {
  "kernelspec": {
   "display_name": "Python 3 (ipykernel)",
   "language": "python",
   "name": "python3"
  },
  "language_info": {
   "codemirror_mode": {
    "name": "ipython",
    "version": 3
   },
   "file_extension": ".py",
   "mimetype": "text/x-python",
   "name": "python",
   "nbconvert_exporter": "python",
   "pygments_lexer": "ipython3",
   "version": "3.9.12"
  },
  "widgets": {
   "application/vnd.jupyter.widget-state+json": {
    "state": {},
    "version_major": 2,
    "version_minor": 0
   }
  }
 },
 "nbformat": 4,
 "nbformat_minor": 5
}
