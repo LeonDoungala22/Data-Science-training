{
 "cells": [
  {
   "cell_type": "code",
   "execution_count": 1,
   "id": "2d24fa0a-5260-4f35-812e-e9b429322039",
   "metadata": {},
   "outputs": [],
   "source": [
    "import tensorflow as tf"
   ]
  },
  {
   "cell_type": "code",
   "execution_count": null,
   "id": "ee3119b9-7345-48ad-992c-7384fbce99f0",
   "metadata": {},
   "outputs": [],
   "source": []
  },
  {
   "cell_type": "code",
   "execution_count": 2,
   "id": "b7384fa4-0b73-407b-9112-6aa9ee1dbe68",
   "metadata": {},
   "outputs": [
    {
     "data": {
      "text/plain": [
       "'2.9.1'"
      ]
     },
     "execution_count": 2,
     "metadata": {},
     "output_type": "execute_result"
    }
   ],
   "source": [
    "tf.__version__"
   ]
  },
  {
   "cell_type": "code",
   "execution_count": 3,
   "id": "1cee3967-f45d-4050-a75d-91b037606e46",
   "metadata": {},
   "outputs": [
    {
     "name": "stdout",
     "output_type": "stream",
     "text": [
      "TensorFlow version: 2.9.1\n"
     ]
    }
   ],
   "source": [
    "import tensorflow as tf\n",
    "print(\"TensorFlow version:\", tf.__version__)"
   ]
  },
  {
   "cell_type": "code",
   "execution_count": 4,
   "id": "0161f2be-23b7-4b45-bb52-87d357d5cd61",
   "metadata": {},
   "outputs": [],
   "source": [
    "# Charger un jeu de données\n",
    "\n",
    "mnist = tf.keras.datasets.mnist\n",
    "\n",
    "(x_train, y_train), (x_test, y_test) = mnist.load_data()\n",
    "x_train, x_test = x_train / 255.0, x_test / 255.0"
   ]
  },
  {
   "cell_type": "code",
   "execution_count": 5,
   "id": "229b6db0-cf97-4f76-9fc7-57759a4d82cc",
   "metadata": {},
   "outputs": [],
   "source": [
    "model = tf.keras.models.Sequential([\n",
    "  tf.keras.layers.Flatten(input_shape=(28, 28)),\n",
    "  tf.keras.layers.Dense(128, activation='relu'),\n",
    "  tf.keras.layers.Dropout(0.2),\n",
    "  tf.keras.layers.Dense(10)\n",
    "])"
   ]
  },
  {
   "cell_type": "code",
   "execution_count": 6,
   "id": "dae43895-5692-484a-9c70-e87745f7438f",
   "metadata": {},
   "outputs": [
    {
     "data": {
      "text/plain": [
       "array([[ 0.6490754 , -0.00718692,  0.4091198 , -0.15649788, -0.47734442,\n",
       "         0.24657813,  0.29139093, -0.12618566, -0.2506702 , -0.4064103 ]],\n",
       "      dtype=float32)"
      ]
     },
     "execution_count": 6,
     "metadata": {},
     "output_type": "execute_result"
    }
   ],
   "source": [
    "predictions = model(x_train[:1]).numpy()\n",
    "predictions"
   ]
  },
  {
   "cell_type": "code",
   "execution_count": 7,
   "id": "a4c8ce88-e912-4236-aca9-e0529ab84639",
   "metadata": {},
   "outputs": [
    {
     "data": {
      "text/plain": [
       "array([[0.17668797, 0.09166338, 0.13899386, 0.07894979, 0.0572808 ,\n",
       "        0.11814209, 0.12355678, 0.08137957, 0.07185425, 0.06149154]],\n",
       "      dtype=float32)"
      ]
     },
     "execution_count": 7,
     "metadata": {},
     "output_type": "execute_result"
    }
   ],
   "source": [
    "tf.nn.softmax(predictions).numpy()"
   ]
  },
  {
   "cell_type": "code",
   "execution_count": 8,
   "id": "d3877f28-1052-4510-b1c9-9b8e7720f0db",
   "metadata": {},
   "outputs": [],
   "source": [
    "loss_fn = tf.keras.losses.SparseCategoricalCrossentropy(from_logits=True)"
   ]
  },
  {
   "cell_type": "code",
   "execution_count": 9,
   "id": "2dc984fb-9ecd-4a9a-aaee-052ed871abaf",
   "metadata": {},
   "outputs": [
    {
     "data": {
      "text/plain": [
       "2.135867"
      ]
     },
     "execution_count": 9,
     "metadata": {},
     "output_type": "execute_result"
    }
   ],
   "source": [
    "loss_fn(y_train[:1], predictions).numpy()"
   ]
  },
  {
   "cell_type": "code",
   "execution_count": 11,
   "id": "037820a1-7c9a-4de7-b741-d5acc731a5c7",
   "metadata": {},
   "outputs": [],
   "source": [
    "model.compile(optimizer='adam',\n",
    "              loss=loss_fn,\n",
    "              metrics=['accuracy'])"
   ]
  },
  {
   "cell_type": "code",
   "execution_count": 12,
   "id": "b2908726-c305-49f1-ad62-196128733e74",
   "metadata": {},
   "outputs": [
    {
     "name": "stdout",
     "output_type": "stream",
     "text": [
      "Epoch 1/5\n",
      "1875/1875 [==============================] - 6s 3ms/step - loss: 0.2945 - accuracy: 0.9141\n",
      "Epoch 2/5\n",
      "1875/1875 [==============================] - 7s 4ms/step - loss: 0.1430 - accuracy: 0.9573\n",
      "Epoch 3/5\n",
      "1875/1875 [==============================] - 8s 4ms/step - loss: 0.1091 - accuracy: 0.9664\n",
      "Epoch 4/5\n",
      "1875/1875 [==============================] - 8s 4ms/step - loss: 0.0874 - accuracy: 0.9729\n",
      "Epoch 5/5\n",
      "1875/1875 [==============================] - 8s 4ms/step - loss: 0.0750 - accuracy: 0.9770\n"
     ]
    },
    {
     "data": {
      "text/plain": [
       "<keras.callbacks.History at 0x24378f4d100>"
      ]
     },
     "execution_count": 12,
     "metadata": {},
     "output_type": "execute_result"
    }
   ],
   "source": [
    "model.fit(x_train, y_train, epochs=5)"
   ]
  },
  {
   "cell_type": "code",
   "execution_count": 13,
   "id": "ba16d7eb-aa68-45bf-8633-732ef7f007f5",
   "metadata": {},
   "outputs": [
    {
     "name": "stdout",
     "output_type": "stream",
     "text": [
      "313/313 - 1s - loss: 0.0768 - accuracy: 0.9754 - 833ms/epoch - 3ms/step\n"
     ]
    },
    {
     "data": {
      "text/plain": [
       "[0.07683351635932922, 0.9753999710083008]"
      ]
     },
     "execution_count": 13,
     "metadata": {},
     "output_type": "execute_result"
    }
   ],
   "source": [
    "model.evaluate(x_test,  y_test, verbose=2)"
   ]
  },
  {
   "cell_type": "code",
   "execution_count": 14,
   "id": "f5518a43-2e35-4be1-8561-aea73e6c9830",
   "metadata": {},
   "outputs": [],
   "source": [
    "probability_model = tf.keras.Sequential([\n",
    "  model,\n",
    "  tf.keras.layers.Softmax()\n",
    "])"
   ]
  },
  {
   "cell_type": "code",
   "execution_count": 15,
   "id": "ba1eb4b0-589d-4f6b-8a0c-76d580a2eef5",
   "metadata": {},
   "outputs": [
    {
     "data": {
      "text/plain": [
       "<tf.Tensor: shape=(5, 10), dtype=float32, numpy=\n",
       "array([[1.14785223e-07, 2.21858905e-08, 1.29699583e-05, 3.52862582e-04,\n",
       "        2.50122514e-12, 6.39628297e-08, 2.10164373e-12, 9.99630570e-01,\n",
       "        1.06459474e-07, 3.24151256e-06],\n",
       "       [1.71947612e-09, 4.28995554e-06, 9.99974847e-01, 1.28448837e-05,\n",
       "        2.20950291e-16, 8.04341471e-06, 4.22350421e-09, 1.00121528e-15,\n",
       "        4.55488554e-08, 6.66847382e-13],\n",
       "       [1.04018352e-06, 9.99292731e-01, 1.93734188e-04, 8.14850591e-06,\n",
       "        4.23436322e-05, 9.03482851e-06, 3.26985974e-05, 3.25739325e-04,\n",
       "        9.33950651e-05, 1.05139350e-06],\n",
       "       [9.99859452e-01, 5.28192545e-10, 1.33459660e-04, 4.78498769e-08,\n",
       "        1.57206053e-08, 6.49403376e-07, 4.06420941e-06, 1.93174151e-06,\n",
       "        3.33676281e-10, 3.17478538e-07],\n",
       "       [4.43398312e-06, 8.67862560e-10, 2.23274469e-06, 1.00574880e-07,\n",
       "        9.95602369e-01, 7.87533949e-08, 2.47918138e-07, 5.44201059e-04,\n",
       "        8.72804947e-07, 3.84546025e-03]], dtype=float32)>"
      ]
     },
     "execution_count": 15,
     "metadata": {},
     "output_type": "execute_result"
    }
   ],
   "source": [
    "probability_model(x_test[:5])"
   ]
  },
  {
   "cell_type": "code",
   "execution_count": null,
   "id": "323eea19-6470-4be7-aace-4019bca1ee00",
   "metadata": {},
   "outputs": [],
   "source": []
  },
  {
   "cell_type": "code",
   "execution_count": null,
   "id": "c1c8be72-376c-460c-9640-bb10d8a2d692",
   "metadata": {},
   "outputs": [],
   "source": []
  },
  {
   "cell_type": "code",
   "execution_count": null,
   "id": "ad081093-b563-4d10-b828-12cd087695eb",
   "metadata": {},
   "outputs": [],
   "source": []
  },
  {
   "cell_type": "code",
   "execution_count": null,
   "id": "b1d0d898-1adc-44f2-a638-bd4407188626",
   "metadata": {},
   "outputs": [],
   "source": []
  },
  {
   "cell_type": "code",
   "execution_count": null,
   "id": "59544150-cb58-4dba-85da-d76cfe948e96",
   "metadata": {},
   "outputs": [],
   "source": []
  },
  {
   "cell_type": "code",
   "execution_count": null,
   "id": "b4e7ad96-28b4-43d4-9338-1ad8d23040ef",
   "metadata": {},
   "outputs": [],
   "source": []
  }
 ],
 "metadata": {
  "kernelspec": {
   "display_name": "Python 3 (ipykernel)",
   "language": "python",
   "name": "python3"
  },
  "language_info": {
   "codemirror_mode": {
    "name": "ipython",
    "version": 3
   },
   "file_extension": ".py",
   "mimetype": "text/x-python",
   "name": "python",
   "nbconvert_exporter": "python",
   "pygments_lexer": "ipython3",
   "version": "3.9.12"
  },
  "widgets": {
   "application/vnd.jupyter.widget-state+json": {
    "state": {},
    "version_major": 2,
    "version_minor": 0
   }
  }
 },
 "nbformat": 4,
 "nbformat_minor": 5
}
