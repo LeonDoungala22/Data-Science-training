{
 "cells": [
  {
   "cell_type": "code",
   "execution_count": 1,
   "id": "38ec80b8-6655-442b-824d-dbd7f6282b69",
   "metadata": {},
   "outputs": [],
   "source": [
    "## import libreries\n",
    "import matplotlib.pyplot as plt \n",
    "import tensorflow as tf\n",
    "import numpy as np\n",
    "import pandas as pd \n",
    "import sys"
   ]
  },
  {
   "cell_type": "code",
   "execution_count": 2,
   "id": "b793aabd-0b99-40e3-a2ae-f1095b98002a",
   "metadata": {},
   "outputs": [],
   "source": [
    "import os \n",
    "os.environ['KMP_DUPLICATE_LIB_OK']='True'"
   ]
  },
  {
   "cell_type": "markdown",
   "id": "2fc38404-daff-4921-8be3-90513df68b8e",
   "metadata": {},
   "source": [
    "## Dadaset"
   ]
  },
  {
   "cell_type": "code",
   "execution_count": 3,
   "id": "7ead3d8a-50f3-44d2-8e24-e9833d5d9a38",
   "metadata": {},
   "outputs": [],
   "source": [
    "#Lead NNIST dataset\n",
    "fashion_mnist = tf.keras.datasets.fashion_mnist\n",
    "(images , targets) , (_,_) = fashion_mnist.load_data()"
   ]
  },
  {
   "cell_type": "code",
   "execution_count": 4,
   "id": "02ab9e4c-6708-40db-bdcf-403ea05c1ddc",
   "metadata": {},
   "outputs": [
    {
     "name": "stdout",
     "output_type": "stream",
     "text": [
      "- Image shape: (10000, 28, 28)\n",
      "- Targets shape: (10000,)\n"
     ]
    }
   ],
   "source": [
    "# Get only a subpart of the dataset \n",
    "images = images[:10000]\n",
    "targets = targets[:10000]\n",
    "\n",
    "\n",
    "print(\"- Image shape:\",images.shape)\n",
    "print(\"- Targets shape:\",targets.shape)"
   ]
  },
  {
   "cell_type": "markdown",
   "id": "73b41466-54da-4293-8600-207f607f16d2",
   "metadata": {},
   "source": [
    "### Plot one of the data "
   ]
  },
  {
   "cell_type": "code",
   "execution_count": 5,
   "id": "b705c262-77b1-4300-a367-fdccfeb5080f",
   "metadata": {},
   "outputs": [
    {
     "data": {
      "image/png": "[encoded data removed]",
      "text/plain": [
       "<Figure size 432x288 with 1 Axes>"
      ]
     },
     "metadata": {
      "needs_background": "light"
     },
     "output_type": "display_data"
    }
   ],
   "source": [
    "targets_names =[\"T-shirt/top\",\"Trouser\",\"Pullover\",\"Dress\",\"Coat\",\"Sandal\",\"Shirt\",\"Sneaker\",\"Bag\",\"Ankle boot\"]\n",
    "\n",
    "#plot image \n",
    "plt.imshow(images[10],cmap=\"binary\")\n",
    "plt.title(targets_names[targets[10]])\n",
    "plt.show()"
   ]
  },
  {
   "cell_type": "code",
   "execution_count": 6,
   "id": "d573524c-59f9-4cb5-8888-81006b78148a",
   "metadata": {},
   "outputs": [
    {
     "name": "stdout",
     "output_type": "stream",
     "text": [
      "First line of the image [  0   0   0   0   0   0   0   0   0   0   0   0   0   0  39 111  93  85\n",
      "  27   0   0   0   0   0   1   0   0   0]\n",
      "Associated target 9\n"
     ]
    }
   ],
   "source": [
    "print(\"First line of the image\",images[11][0])\n",
    "print(\"Associated target\",targets[11])"
   ]
  },
  {
   "cell_type": "markdown",
   "id": "5958a94f-5132-48af-bd26-73fed538ebf1",
   "metadata": {},
   "source": [
    "## Create model "
   ]
  },
  {
   "cell_type": "code",
   "execution_count": 7,
   "id": "32f2ec4f-9c46-4bb6-944c-c43d2762772e",
   "metadata": {},
   "outputs": [],
   "source": [
    "#For the model , we will create ."
   ]
  },
  {
   "cell_type": "markdown",
   "id": "53e1725c-f30c-4f41-81e2-01893f2358e4",
   "metadata": {},
   "source": [
    "- Input layer : will be the selected images[11]\n",
    "- First , a hidden layer with 256 neurones \n",
    "- Then , a second hiden layer wiht 128 neurones\n",
    "- The outpout ( multivariate output )\n",
    "\n",
    "NB:  Evry single neural rapresent a class"
   ]
  },
  {
   "cell_type": "markdown",
   "id": "6f26cab0-8fe5-4899-89fe-b42618bf5bcb",
   "metadata": {},
   "source": [
    "### Flatten the image "
   ]
  },
  {
   "cell_type": "code",
   "execution_count": 8,
   "id": "3bd9c950-8c3d-4d00-844a-f0a7af006bf4",
   "metadata": {},
   "outputs": [
    {
     "name": "stdout",
     "output_type": "stream",
     "text": [
      "Shape of the image (1, 28, 28)\n",
      "1/1 [==============================] - 0s 244ms/step\n",
      "Shape of the image after the Flattend: (1, 784)\n"
     ]
    }
   ],
   "source": [
    "#Create the model \n",
    "model = tf.keras.models.Sequential() \n",
    "model.add(tf.keras.layers.Flatten(input_shape=[28,28])) # Flatten image ( applatir l'image)\n",
    "\n",
    "\n",
    "print(\"Shape of the image\",images[0:1].shape)\n",
    "model_output = model.predict(images[0:1])\n",
    "print(\"Shape of the image after the Flattend:\",model_output.shape)"
   ]
  },
  {
   "cell_type": "markdown",
   "id": "2761e165-a1ac-496c-ae0d-dcb94669ab7a",
   "metadata": {},
   "source": [
    "### Add the layers"
   ]
  },
  {
   "cell_type": "code",
   "execution_count": 9,
   "id": "fed19b9d-4c2f-4111-9086-fe1c3c3787a0",
   "metadata": {},
   "outputs": [
    {
     "name": "stdout",
     "output_type": "stream",
     "text": [
      "1/1 [==============================] - 0s 137ms/step\n",
      "[[4.9520587e-15 0.0000000e+00 0.0000000e+00 9.9997282e-01 0.0000000e+00\n",
      "  2.7219417e-05 7.3307272e-26 0.0000000e+00 7.4188499e-30 0.0000000e+00]] [9]\n"
     ]
    }
   ],
   "source": [
    "#Flatten\n",
    "\n",
    "model = tf.keras.models.Sequential()\n",
    "model.add(tf.keras.layers.Flatten(input_shape=[28,28]))\n",
    "\n",
    "\n",
    "# Add the layers\n",
    "model.add(tf.keras.layers.Dense(256,activation=\"relu\"))  #Hidden layer 1\n",
    "model.add(tf.keras.layers.Dense(128,activation=\"relu\"))  # Hidden layer 2\n",
    "model.add(tf.keras.layers.Dense(10,activation='softmax')) #The output neurons (10 neurons, whose representations are 10 classes), the sum of each output neuron has a value equal to 1. And they are all normally distributed (a normal distribution).\n",
    "\n",
    "\n",
    "#model output\n",
    "\n",
    "model_output = model.predict(images[0:1])\n",
    "print((model_output), targets[0:1])"
   ]
  },
  {
   "cell_type": "markdown",
   "id": "5c1d371a-987a-4f47-b2c2-e34139e85804",
   "metadata": {},
   "source": [
    "### Model Summary"
   ]
  },
  {
   "cell_type": "code",
   "execution_count": 10,
   "id": "a0ed0887-acf9-47a5-adb3-082d5d2c6050",
   "metadata": {},
   "outputs": [
    {
     "name": "stdout",
     "output_type": "stream",
     "text": [
      "Model: \"sequential_1\"\n",
      "_________________________________________________________________\n",
      " Layer (type)                Output Shape              Param #   \n",
      "=================================================================\n",
      " flatten_1 (Flatten)         (None, 784)               0         \n",
      "                                                                 \n",
      " dense (Dense)               (None, 256)               200960    \n",
      "                                                                 \n",
      " dense_1 (Dense)             (None, 128)               32896     \n",
      "                                                                 \n",
      " dense_2 (Dense)             (None, 10)                1290      \n",
      "                                                                 \n",
      "=================================================================\n",
      "Total params: 235,146\n",
      "Trainable params: 235,146\n",
      "Non-trainable params: 0\n",
      "_________________________________________________________________\n"
     ]
    }
   ],
   "source": [
    "model.summary()"
   ]
  },
  {
   "cell_type": "markdown",
   "id": "7481d69f-678b-42d0-a842-9a543a5f63af",
   "metadata": {},
   "source": [
    "## Compile the model "
   ]
  },
  {
   "cell_type": "code",
   "execution_count": 11,
   "id": "304f3da2-93ed-453a-919e-8d1fe10ada33",
   "metadata": {},
   "outputs": [],
   "source": [
    "#compile the model \n",
    "\n",
    "model.compile(\n",
    "    loss=\"sparse_categorical_crossentropy\",    # Loss funtion\n",
    "    optimizer=\"sgd\",           #stocastic gradian decend \n",
    "    metrics=[\"accuracy\"]\n",
    ")"
   ]
  },
  {
   "cell_type": "markdown",
   "id": "ce639888-e183-4924-a729-d63a061b4245",
   "metadata": {},
   "source": [
    "## Train the model"
   ]
  },
  {
   "cell_type": "code",
   "execution_count": 12,
   "id": "70e770fb-3780-4e8c-99b1-8906419ffba1",
   "metadata": {},
   "outputs": [
    {
     "name": "stdout",
     "output_type": "stream",
     "text": [
      "Epoch 1/10\n",
      "313/313 [==============================] - 2s 4ms/step - loss: 57872700.0000 - accuracy: 0.1005\n",
      "Epoch 2/10\n",
      "313/313 [==============================] - 1s 4ms/step - loss: 2.3026 - accuracy: 0.1012\n",
      "Epoch 3/10\n",
      "313/313 [==============================] - 1s 4ms/step - loss: 2.3025 - accuracy: 0.0982\n",
      "Epoch 4/10\n",
      "313/313 [==============================] - 1s 4ms/step - loss: 2.3024 - accuracy: 0.1021\n",
      "Epoch 5/10\n",
      "313/313 [==============================] - 1s 4ms/step - loss: 2.3024 - accuracy: 0.0983\n",
      "Epoch 6/10\n",
      "313/313 [==============================] - 1s 4ms/step - loss: 2.3024 - accuracy: 0.1021\n",
      "Epoch 7/10\n",
      "313/313 [==============================] - 1s 4ms/step - loss: 2.3024 - accuracy: 0.0982\n",
      "Epoch 8/10\n",
      "313/313 [==============================] - 1s 4ms/step - loss: 2.3024 - accuracy: 0.1006\n",
      "Epoch 9/10\n",
      "313/313 [==============================] - 1s 3ms/step - loss: 2.3024 - accuracy: 0.1020\n",
      "Epoch 10/10\n",
      "313/313 [==============================] - 1s 3ms/step - loss: 2.3024 - accuracy: 0.0996\n"
     ]
    }
   ],
   "source": [
    "history = model.fit(images, targets,epochs=10)"
   ]
  },
  {
   "cell_type": "code",
   "execution_count": 13,
   "id": "d936d6f5-07af-42da-a52c-4a1d5b579a20",
   "metadata": {},
   "outputs": [
    {
     "data": {
      "image/png": "[encoded data removed]",
      "text/plain": [
       "<Figure size 432x288 with 1 Axes>"
      ]
     },
     "metadata": {
      "needs_background": "light"
     },
     "output_type": "display_data"
    },
    {
     "data": {
      "image/png": "[encoded data removed]",
      "text/plain": [
       "<Figure size 432x288 with 1 Axes>"
      ]
     },
     "metadata": {
      "needs_background": "light"
     },
     "output_type": "display_data"
    }
   ],
   "source": [
    "loss_cuve = history.history[\"loss\"]\n",
    "acc_curve = history.history[\"accuracy\"]\n",
    "\n",
    "\n",
    "plt.plot(loss_cuve)\n",
    "plt.title(\"loss\")\n",
    "plt.show()\n",
    "\n",
    "\n",
    "plt.plot(acc_curve)\n",
    "plt.title(\"Accuracy\")\n",
    "plt.show()"
   ]
  },
  {
   "cell_type": "code",
   "execution_count": null,
   "id": "89aecd52-8ad9-4602-85b4-6423b7f49888",
   "metadata": {},
   "outputs": [],
   "source": []
  },
  {
   "cell_type": "code",
   "execution_count": null,
   "id": "fdfa8889-94cb-477b-8a12-ab5c676ec82d",
   "metadata": {},
   "outputs": [],
   "source": []
  },
  {
   "cell_type": "code",
   "execution_count": null,
   "id": "b3ab4168-ffa6-4a17-a361-6566c2787eee",
   "metadata": {},
   "outputs": [],
   "source": []
  },
  {
   "cell_type": "code",
   "execution_count": null,
   "id": "a7876248-7c78-4248-b80a-53d04a56956e",
   "metadata": {},
   "outputs": [],
   "source": []
  },
  {
   "cell_type": "code",
   "execution_count": null,
   "id": "49724206-030f-4feb-9738-f0f934e5954d",
   "metadata": {},
   "outputs": [],
   "source": []
  },
  {
   "cell_type": "code",
   "execution_count": null,
   "id": "52ca29e5-687e-42c0-9eff-be22fec02704",
   "metadata": {},
   "outputs": [],
   "source": []
  },
  {
   "cell_type": "code",
   "execution_count": null,
   "id": "e570e5c0-1924-4672-bc94-0459ea008428",
   "metadata": {},
   "outputs": [],
   "source": []
  },
  {
   "cell_type": "code",
   "execution_count": null,
   "id": "654886b2-7285-4915-831c-b76278c406e4",
   "metadata": {},
   "outputs": [],
   "source": []
  },
  {
   "cell_type": "code",
   "execution_count": null,
   "id": "332ec1d0-2300-4693-93d6-4acda4d83d5f",
   "metadata": {},
   "outputs": [],
   "source": []
  }
 ],
 "metadata": {
  "kernelspec": {
   "display_name": "Python 3 (ipykernel)",
   "language": "python",
   "name": "python3"
  },
  "language_info": {
   "codemirror_mode": {
    "name": "ipython",
    "version": 3
   },
   "file_extension": ".py",
   "mimetype": "text/x-python",
   "name": "python",
   "nbconvert_exporter": "python",
   "pygments_lexer": "ipython3",
   "version": "3.9.12"
  },
  "widgets": {
   "application/vnd.jupyter.widget-state+json": {
    "state": {},
    "version_major": 2,
    "version_minor": 0
   }
  }
 },
 "nbformat": 4,
 "nbformat_minor": 5
}
