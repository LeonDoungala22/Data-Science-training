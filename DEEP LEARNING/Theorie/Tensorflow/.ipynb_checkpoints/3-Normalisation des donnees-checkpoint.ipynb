{
 "cells": [
  {
   "cell_type": "code",
   "execution_count": null,
   "id": "3cc43dff-d98b-4c50-b7c5-19cf8b89e3f1",
   "metadata": {},
   "outputs": [],
   "source": [
    "# import libreries \n",
    "\n",
    "import matplotlib.pyplot as plt \n",
    "import tensorflow as tf \n",
    "import pandas as pd \n",
    "import numpy as np \n",
    "\n",
    "import sys\n",
    "\n",
    "\n",
    "\n",
    "from sklearn.preprocessing import StandardScaler"
   ]
  },
  {
   "cell_type": "code",
   "execution_count": 4,
   "id": "85ffa381-3ac6-470a-92d1-a5358f4f9c07",
   "metadata": {},
   "outputs": [],
   "source": [
    "import os \n",
    "os.environ['KMP_DUPLICATE_LIB_OK']='True'"
   ]
  },
  {
   "cell_type": "code",
   "execution_count": 15,
   "id": "e1510024-9d49-41ca-8e2f-fe998026b3a1",
   "metadata": {},
   "outputs": [],
   "source": [
    "#Fashion MNIST dataset\n",
    "\n",
    "fashion_mnist = tf.keras.datasets.fashion_mnist\n",
    "(images , targets), (_, _) = fashion_mnist.load_data()\n",
    "\n",
    "images = images[:10000]\n",
    "targets = targets[:10000]\n",
    "\n",
    "#flatten\n",
    "\n",
    "images = images.reshape(-1,784)\n",
    "images = images.astype(float)\n"
   ]
  },
  {
   "cell_type": "markdown",
   "id": "adb0a2d4-2276-4f04-951d-f456833597ba",
   "metadata": {},
   "source": [
    "## Normalisation"
   ]
  },
  {
   "cell_type": "code",
   "execution_count": null,
   "id": "ef4a03de-2f42-461a-b16c-9189c0ccb928",
   "metadata": {},
   "outputs": [],
   "source": [
    "#Normalize\n",
    "scaler = StandardScaler()\n",
    "images = scaler.fit_transform(images)\n",
    "\n",
    "\n",
    "print(\"Images shape: \",images.shape)\n",
    "print(\"Targets shape :\",targets.shape)"
   ]
  },
  {
   "cell_type": "code",
   "execution_count": 13,
   "id": "6890e9ee-859c-40da-be56-fd685e10a9a9",
   "metadata": {},
   "outputs": [
    {
     "data": {
      "image/png": "[encoded data removed]",
      "text/plain": [
       "<Figure size 432x288 with 1 Axes>"
      ]
     },
     "metadata": {
      "needs_background": "light"
     },
     "output_type": "display_data"
    }
   ],
   "source": [
    "#Plot images\n",
    "\n",
    "targets_names =[\"T-shirt/top\",\"Trouser\",\"Pullover\",\"Dress\",\"Coat\",\"Sandal\",\"Shirt\",\"Sneaker\",\"Bag\",\"Ankle boot\"]\n",
    "\n",
    "#plot image \n",
    "plt.imshow(images[10].reshape(28,28),cmap=\"binary\")\n",
    "plt.title(targets_names[targets[10]])\n",
    "plt.show()"
   ]
  },
  {
   "cell_type": "code",
   "execution_count": 14,
   "id": "91e8cbdb-0bc9-4a2a-a095-2ee4eb4ad67e",
   "metadata": {},
   "outputs": [
    {
     "name": "stdout",
     "output_type": "stream",
     "text": [
      "First lignes of one image [-0.01426971 -0.02645579 -0.029489   -0.04635542 -0.06156617 -0.07641125\n",
      " -0.10509579 -0.16410192 -0.23986957 -0.36929666 -0.57063232 -0.6909092\n",
      " -0.7582382  -0.74450346 -0.17093142  0.80572169  0.60465021  0.69474334\n",
      "  0.01007169 -0.32085836 -0.20882718 -0.14379861 -0.11434416 -0.09302065\n",
      "  0.08584529 -0.04969764 -0.03368099 -0.01591863 -0.0181322  -0.02297209\n",
      " -0.03365679 -0.05814043 -0.08287213 -0.13053264 -0.2464668  -0.35905423\n",
      " -0.48335079 -0.63909239 -0.83575443 -0.98917162 -1.08347998 -1.07712864\n",
      "  0.7931674   1.2496451   1.35025207  1.68512162  1.97595936  1.43181167\n",
      "  2.97956664  4.68907298  4.88750284  0.23595608 -0.11565956  0.14562865\n",
      " -0.06100298 -0.03312088 -0.01964757 -0.02793878 -0.0481181  -0.07617253\n",
      " -0.12670992 -0.26684818 -0.39945708 -0.49720396 -0.62326614 -0.8195795\n",
      " -0.99379417 -1.04759214 -1.10371252 -1.10221791  1.08283564  1.22639277\n",
      "  1.35310524  1.34234162  1.66433217  2.15862735  2.75297169  3.22113197\n",
      "  4.62472272  3.87445967 -0.16599094  0.32418594 -0.087733   -0.0526323\n",
      " -0.02862848 -0.04242726 -0.06957184 -0.10501986 -0.21177968 -0.36570732\n",
      " -0.50377706 -0.63129117 -0.7545061  -0.92782181 -1.04671762 -1.04884575\n",
      " -1.10753111 -1.03315535  1.43294532  1.33033833  1.39162212  1.50249446\n",
      "  1.41472555  1.48664927  2.19750146  2.5207204   3.23681206  0.32439317\n",
      " -0.22921786  0.08719395 -0.11524194 -0.06595022 -0.03978101 -0.06151816\n",
      " -0.09394236 -0.14485093 -0.28258668 -0.45013464 -0.60762152 -0.70866125\n",
      " -0.80845132 -0.97106764 -1.06309306 -1.04395211 -1.11950469 -0.35989804\n",
      "  1.56262616  1.30932327  1.41614857  1.49002634  1.44030778  1.4974615\n",
      "  2.02811047  2.22341936  2.1189369   0.28273308  0.22687411 -0.22359138\n",
      " -0.07278968 -0.09631577 -0.05785819 -0.08665899 -0.12303533 -0.19276323\n",
      " -0.34094366 -0.53007774 -0.6636926  -0.76166986 -0.85810993 -1.01973474\n",
      " -1.10359032 -1.13389127 -1.13797187  0.19728184  1.30491585  1.12589712\n",
      "  1.56101992  1.5471799   1.35519155  1.61848413  1.8686844   1.86320923\n",
      "  0.84284685  1.09578392  0.74105846 -0.28563328 -0.1131897  -0.11759717\n",
      " -0.07138681 -0.10484842 -0.15218768 -0.23983624 -0.39446008 -0.58540856\n",
      " -0.70817066 -0.80613957 -0.8912735  -1.04743568 -1.11648233 -1.16203361\n",
      " -1.16480491  0.86892733  1.27412159  0.8998086   0.74428789  1.13274167\n",
      "  1.14002008  1.64475384  1.22579108  1.87626568  0.72713619 -0.21425058\n",
      " -0.44976207 -0.3588039  -0.26052139 -0.14642704 -0.09057754 -0.12852483\n",
      " -0.17658578 -0.27962415 -0.43604854 -0.62328729 -0.74417079 -0.83698675\n",
      " -0.91538507 -1.05836072 -1.09984451 -1.18744141 -1.19142578  1.24141786\n",
      "  1.39079751  1.49192297  1.27955426  1.30948745  1.17061076  0.86607308\n",
      "  1.27421913  0.79750725 -0.86719519 -0.69061632 -0.50423389 -0.42229875\n",
      " -0.30440602 -0.16353165 -0.09817535 -0.14372941 -0.20517067 -0.30866173\n",
      " -0.4655249  -0.65221334 -0.76683863 -0.85659993 -0.93256978 -1.06226401\n",
      " -1.15171237 -1.21294298 -0.55403601  1.46120819  0.97836915  1.05122066\n",
      "  1.2521523   1.05790293  1.35951983  0.90500191  1.55701257  0.82622186\n",
      " -0.93881345 -0.7662494  -0.57465574 -0.48552019 -0.34738009 -0.18855983\n",
      " -0.10483514 -0.16127624 -0.22554475 -0.32839989 -0.48754623 -0.66943952\n",
      " -0.77552861 -0.86498292 -0.94273549 -1.06015652 -1.18041842 -1.23791689\n",
      "  0.42552833  1.46179792  0.99490898  0.75506225  0.87837333  0.82699162\n",
      "  1.09938829  0.76830616  1.48553714 -0.13338616  0.50592885 -0.83182562\n",
      " -0.65812    -0.54406795 -0.39662058 -0.21430757 -0.11419072 -0.17789518\n",
      " -0.23568605 -0.33542269 -0.5026126  -0.67620553 -0.77596799 -0.86788207\n",
      " -0.94980187 -1.03197874 -1.22037631 -1.30832137  1.13203817  1.20044543\n",
      "  1.26727922  1.22318096  1.33469514  1.2591838   1.27789102  0.95415321\n",
      "  1.45083593 -1.14975179 -0.0817779   1.07590662 -0.71352465 -0.61851141\n",
      " -0.45102226 -0.23988228 -0.1324622  -0.1914184  -0.23850724 -0.33502594\n",
      " -0.50210849 -0.67112987 -0.76673944 -0.8616405  -0.96676107 -1.0848351\n",
      " -1.3330483  -0.93497502  1.45610367  1.06754889  1.26636853  1.12103986\n",
      "  0.83294083  1.32533583  0.96137914  0.8823002   1.43281281  1.19611371\n",
      " -0.78940528  1.86544193 -0.74636813 -0.65262812 -0.50618527 -0.26376513\n",
      " -0.14691646 -0.20208667 -0.24647794 -0.34047837 -0.50463299 -0.66562681\n",
      " -0.76193944 -0.87453007 -1.02396861 -1.2315534  -1.51364781 -0.22477969\n",
      "  1.36864633  0.97874683  1.13715509  1.05688341  0.99487436  1.40832046\n",
      "  0.59156431  0.94867054  1.34348434  1.46512153  0.55580094  1.79155088\n",
      "  1.05012863 -0.67067287 -0.54930031 -0.2968015  -0.15491047 -0.21450816\n",
      " -0.261535   -0.36080841 -0.53730463 -0.70325988 -0.81421065 -0.94111069\n",
      " -1.08418556 -1.34365865 -1.53886075  1.09326051  0.72413821  1.27757173\n",
      "  1.36520155  1.17770547  1.0023395   1.39555822  0.29493432  1.10901936\n",
      "  1.36430898  1.27440447  1.52040376  1.40357315  1.72718391  0.1853037\n",
      " -0.57266526 -0.33349732 -0.18106813 -0.27035229 -0.32539614 -0.42952929\n",
      " -0.61751986 -0.7906786  -0.89035399 -0.99618473 -1.1655271  -1.43209714\n",
      " -0.09950582  1.43909587  0.80004613  0.88559108  1.40804576  1.33663711\n",
      "  1.00766279  1.4018325   0.27208395  1.09470572  1.42729615  1.26618628\n",
      "  1.41174747  1.45821099  1.71015214  1.01925997  0.4601322  -0.36757044\n",
      " -0.24958781 -0.3531048  -0.40241884 -0.49907564 -0.69135965 -0.85359971\n",
      " -0.9331706  -1.0059672  -1.2177602  -1.54149264  1.06742005  1.19680318\n",
      "  1.16583857  1.04905231  0.80970041  1.20411735  1.24623527  0.93697892\n",
      "  0.42037146  1.01432568  1.45360261  1.25038614  1.51241082  1.47613898\n",
      "  0.92463771 -0.70060342 -0.62144365 -0.39567218 -0.31147884 -0.40192164\n",
      " -0.45021433 -0.54773943 -0.75003079 -0.889456   -0.98063839 -1.07747814\n",
      " -1.29340698 -0.73928768  1.42310729  1.18867558  1.29652988  1.37945647\n",
      "  1.18486113  0.53438163  0.56912652  1.05669556  0.45154219  0.81022867\n",
      "  1.44123053  1.22117476  1.51323768  1.10025946 -0.84443622 -0.71082151\n",
      " -0.62981211 -0.41576178 -0.33145798 -0.4375847  -0.49080625 -0.59254976\n",
      " -0.79668158 -0.93801891 -1.02130727 -1.11492415 -1.35022588  0.83375288\n",
      "  0.9741596   0.4062541   0.82345526  0.99971607  1.41325802  1.38631373\n",
      "  0.82115561  1.03621816  1.37633608  1.41019057  1.43307373  1.33830106\n",
      "  1.56303358  1.2326212  -0.83324214 -0.68996128 -0.60036851 -0.41411856\n",
      " -0.30332172 -0.43661943 -0.50963747 -0.61804526 -0.82143658 -0.95207361\n",
      " -1.007129   -1.12351256 -0.74667893  1.42122933  1.13385827  1.18497379\n",
      "  0.92903272  0.59292314  0.58084998  0.65192725  1.31203334  1.15530336\n",
      "  0.60156289  1.43433833  1.57231525  1.361918    1.57407123  1.10104004\n",
      " -0.82047003 -0.6717897  -0.59381484 -0.40266963 -0.27443878 -0.40163268\n",
      " -0.47645656 -0.57112574 -0.75359002 -0.90482991 -1.00654795 -1.10010001\n",
      "  0.84646653  1.33590939  1.12318718  1.05983988  1.30375784  1.41841835\n",
      "  1.3363515   0.78329442  0.72603604  1.06772811  1.03728983  0.94268209\n",
      "  1.58352665  1.40736874  1.56396874  0.96402622 -0.79100683 -0.64317699\n",
      " -0.55055123 -0.35674061 -0.26298786 -0.36483148 -0.35501478 -0.56550535\n",
      " -0.76427867 -0.88093481 -0.95714593  0.26300404  1.49151056  0.60123139\n",
      "  1.23314614  1.143365    1.10292773  1.21793326  1.30989735  1.11852481\n",
      "  1.34363077  1.37704795 -0.41238875  0.42876074  1.77110004  1.48771853\n",
      "  1.67709496  0.81572133 -0.7339355  -0.57912664 -0.47893486 -0.30785098\n",
      " -0.2529033  -0.35287467 -0.42241314 -0.53742101 -0.69523159 -0.48322565\n",
      "  0.57649233  1.85134507  0.9703557   0.90721107  0.53503501  1.08207286\n",
      "  1.22790733  1.24437467  1.30849615  1.11971627  1.34908479 -0.64304466\n",
      " -1.38817988  0.69940517  1.86107934  1.56810302  1.7514223   0.72922458\n",
      " -0.67125106 -0.50747585 -0.42746762 -0.27689345 -0.21764707 -0.31533525\n",
      "  1.09716701  3.09682197  2.34175977  2.00796236  1.85994557  1.78597139\n",
      "  1.49141381  0.76297629  1.11039359  0.69358239  1.21783558  1.32207011\n",
      "  1.30769119  1.4354789  -0.5426532  -1.36111624 -1.24797109  0.81824301\n",
      "  1.96644103  1.71151651  1.86841471  0.54069192 -0.61478549 -0.41894205\n",
      " -0.37391927 -0.23491109 -0.18236822  0.34035482  4.02444776  3.30920932\n",
      "  2.29452031  1.8472915   1.73635327  1.85955328  1.58154728  1.45891677\n",
      "  0.75783736  1.06110739  1.11682494  1.46006007  1.55251473  0.62714951\n",
      " -1.26069746 -1.21787971 -1.12506426  0.83640561  2.11376884  1.84866534\n",
      "  1.99153545  0.45817771 -0.55353411 -0.33494561 -0.31442902 -0.19052615\n",
      " -0.14160236  2.93079659  5.14991601  3.31015404  2.4402553   1.95391685\n",
      "  1.96093639  2.10885636  1.66470037  1.5670484   1.42605195  1.03439231\n",
      "  0.57767735  1.22668387  1.64488703 -1.0901502  -1.14072666 -1.04099027\n",
      " -1.03382637  0.81150532  2.25649299  2.09431908  2.11219737  0.25860424\n",
      " -0.50542985 -0.27819146 -0.26277875 -0.15540351 -0.09737914  0.22730653\n",
      "  4.98953189  4.07372805  2.88331858  2.24493644  2.21334692  2.30127177\n",
      "  1.80874389  1.60351937  1.52082639  1.52471192  1.38291296  1.67601794\n",
      " -0.24487056 -0.97710244 -1.02967184 -0.98082293 -0.93945674  0.89027942\n",
      "  2.46430504  2.25517974  2.33765721  0.20729654 -0.45056135 -0.14513081\n",
      " -0.21182513 -0.11366213 -0.05702124 -0.09821816 -0.1785151   0.31968873\n",
      "  1.37577775  1.90665939  2.4520196   2.67288921  2.2232822   1.87944656\n",
      "  1.67634924  1.53152839  1.4299862  -0.162791   -0.81210479 -0.85896501\n",
      " -0.91661542 -0.87628179 -0.83240929  0.60715159  2.67395709  2.65972227\n",
      "  2.0834714  -0.26792583 -0.40009454 -0.14170013 -0.15920537 -0.08310377\n",
      " -0.02780774 -0.0459571  -0.09752313 -0.20921424 -0.33708195 -0.41731463\n",
      " -0.42712608  0.50525833  1.05313252  1.08014246  0.48423045 -0.21840563\n",
      " -0.76160286 -0.69278859 -0.64574229 -0.68429498 -0.73804133 -0.66329112\n",
      " -0.60337338 -0.47578426  1.14396189  0.57528488  0.0308716  -0.39704551\n",
      " -0.28848398 -0.1579693  -0.0929556  -0.03456268]\n",
      "Associated target 9\n"
     ]
    }
   ],
   "source": [
    "print(\"First lignes of one image\", images[11])\n",
    "print(\"Associated target\",targets[11])"
   ]
  },
  {
   "cell_type": "markdown",
   "id": "949e5cd4-f488-4ce2-ba1f-abfc3aeb6aa9",
   "metadata": {},
   "source": [
    "## Create model and Add Layers"
   ]
  },
  {
   "cell_type": "code",
   "execution_count": 30,
   "id": "89f4e509-a567-48c1-b1d0-891cef8ee1e9",
   "metadata": {},
   "outputs": [
    {
     "name": "stdout",
     "output_type": "stream",
     "text": [
      "1/1 [==============================] - 0s 152ms/step\n",
      "- Image and target [[  0.   0.   0.   0.   0.   0.   0.   0.   0.   0.   0.   0.   0.   0.\n",
      "    0.   0.   0.   0.   0.   0.   0.   0.   0.   0.   0.   0.   0.   0.\n",
      "    0.   0.   0.   0.   0.   0.   0.   0.   0.   0.   0.   0.   0.   0.\n",
      "    0.   0.   0.   0.   0.   0.   0.   0.   0.   0.   0.   0.   0.   0.\n",
      "    0.   0.   0.   0.   0.   0.   0.   0.   0.   0.   0.   0.   0.   0.\n",
      "    0.   0.   0.   0.   0.   0.   0.   0.   0.   0.   0.   0.   0.   0.\n",
      "    0.   0.   0.   0.   0.   0.   0.   0.   0.   0.   0.   0.   1.   0.\n",
      "    0.  13.  73.   0.   0.   1.   4.   0.   0.   0.   0.   1.   1.   0.\n",
      "    0.   0.   0.   0.   0.   0.   0.   0.   0.   0.   0.   0.   3.   0.\n",
      "   36. 136. 127.  62.  54.   0.   0.   0.   1.   3.   4.   0.   0.   3.\n",
      "    0.   0.   0.   0.   0.   0.   0.   0.   0.   0.   0.   0.   6.   0.\n",
      "  102. 204. 176. 134. 144. 123.  23.   0.   0.   0.   0.  12.  10.   0.\n",
      "    0.   0.   0.   0.   0.   0.   0.   0.   0.   0.   0.   0.   0.   0.\n",
      "  155. 236. 207. 178. 107. 156. 161. 109.  64.  23.  77. 130.  72.  15.\n",
      "    0.   0.   0.   0.   0.   0.   0.   0.   0.   0.   0.   1.   0.  69.\n",
      "  207. 223. 218. 216. 216. 163. 127. 121. 122. 146. 141.  88. 172.  66.\n",
      "    0.   0.   0.   0.   0.   0.   0.   0.   0.   1.   1.   1.   0. 200.\n",
      "  232. 232. 233. 229. 223. 223. 215. 213. 164. 127. 123. 196. 229.   0.\n",
      "    0.   0.   0.   0.   0.   0.   0.   0.   0.   0.   0.   0.   0. 183.\n",
      "  225. 216. 223. 228. 235. 227. 224. 222. 224. 221. 223. 245. 173.   0.\n",
      "    0.   0.   0.   0.   0.   0.   0.   0.   0.   0.   0.   0.   0. 193.\n",
      "  228. 218. 213. 198. 180. 212. 210. 211. 213. 223. 220. 243. 202.   0.\n",
      "    0.   0.   0.   0.   0.   0.   0.   0.   0.   1.   3.   0.  12. 219.\n",
      "  220. 212. 218. 192. 169. 227. 208. 218. 224. 212. 226. 197. 209.  52.\n",
      "    0.   0.   0.   0.   0.   0.   0.   0.   0.   0.   6.   0.  99. 244.\n",
      "  222. 220. 218. 203. 198. 221. 215. 213. 222. 220. 245. 119. 167.  56.\n",
      "    0.   0.   0.   0.   0.   0.   0.   0.   0.   4.   0.   0.  55. 236.\n",
      "  228. 230. 228. 240. 232. 213. 218. 223. 234. 217. 217. 209.  92.   0.\n",
      "    0.   0.   1.   4.   6.   7.   2.   0.   0.   0.   0.   0. 237. 226.\n",
      "  217. 223. 222. 219. 222. 221. 216. 223. 229. 215. 218. 255.  77.   0.\n",
      "    0.   3.   0.   0.   0.   0.   0.   0.   0.  62. 145. 204. 228. 207.\n",
      "  213. 221. 218. 208. 211. 218. 224. 223. 219. 215. 224. 244. 159.   0.\n",
      "    0.   0.   0.   0.  18.  44.  82. 107. 189. 228. 220. 222. 217. 226.\n",
      "  200. 205. 211. 230. 224. 234. 176. 188. 250. 248. 233. 238. 215.   0.\n",
      "    0.  57. 187. 208. 224. 221. 224. 208. 204. 214. 208. 209. 200. 159.\n",
      "  245. 193. 206. 223. 255. 255. 221. 234. 221. 211. 220. 232. 246.   0.\n",
      "    3. 202. 228. 224. 221. 211. 211. 214. 205. 205. 205. 220. 240.  80.\n",
      "  150. 255. 229. 221. 188. 154. 191. 210. 204. 209. 222. 228. 225.   0.\n",
      "   98. 233. 198. 210. 222. 229. 229. 234. 249. 220. 194. 215. 217. 241.\n",
      "   65.  73. 106. 117. 168. 219. 221. 215. 217. 223. 223. 224. 229.  29.\n",
      "   75. 204. 212. 204. 193. 205. 211. 225. 216. 185. 197. 206. 198. 213.\n",
      "  240. 195. 227. 245. 239. 223. 218. 212. 209. 222. 220. 221. 230.  67.\n",
      "   48. 203. 183. 194. 213. 197. 185. 190. 194. 192. 202. 214. 219. 221.\n",
      "  220. 236. 225. 216. 199. 206. 186. 181. 177. 172. 181. 205. 206. 115.\n",
      "    0. 122. 219. 193. 179. 171. 183. 196. 204. 210. 213. 207. 211. 210.\n",
      "  200. 196. 194. 191. 195. 191. 198. 192. 176. 156. 167. 177. 210.  92.\n",
      "    0.   0.  74. 189. 212. 191. 175. 172. 175. 181. 185. 188. 189. 188.\n",
      "  193. 198. 204. 209. 210. 210. 211. 188. 188. 194. 192. 216. 170.   0.\n",
      "    2.   0.   0.   0.  66. 200. 222. 237. 239. 242. 246. 243. 244. 221.\n",
      "  220. 193. 191. 179. 182. 182. 181. 176. 166. 168.  99.  58.   0.   0.\n",
      "    0.   0.   0.   0.   0.   0.   0.  40.  61.  44.  72.  41.  35.   0.\n",
      "    0.   0.   0.   0.   0.   0.   0.   0.   0.   0.   0.   0.   0.   0.\n",
      "    0.   0.   0.   0.   0.   0.   0.   0.   0.   0.   0.   0.   0.   0.\n",
      "    0.   0.   0.   0.   0.   0.   0.   0.   0.   0.   0.   0.   0.   0.\n",
      "    0.   0.   0.   0.   0.   0.   0.   0.   0.   0.   0.   0.   0.   0.\n",
      "    0.   0.   0.   0.   0.   0.   0.   0.   0.   0.   0.   0.   0.   0.]] [9]\n",
      "- Image predicted: [[0.00000e+00 0.00000e+00 1.00000e+00 5.30336e-34 0.00000e+00 0.00000e+00\n",
      "  0.00000e+00 0.00000e+00 0.00000e+00 0.00000e+00]] [9]\n"
     ]
    }
   ],
   "source": [
    "# Flatten\n",
    "model = tf.keras.models.Sequential()\n",
    "#model.add(tf.keras.layers.Flatten(input_shape = [28,28]))\n",
    "\n",
    "#Add Layers\n",
    "model.add(tf.keras.layers.Dense(256, activation=\"relu\"))  #Hiden layer 1 \n",
    "model.add(tf.keras.layers.Dense(128, activation=\"relu\"))  #Hiden layer 2\n",
    "model.add(tf.keras.layers.Dense(10, activation=\"softmax\"))  #Output layer wtih 10 classes \n",
    "\n",
    "\n",
    "model_output = model.predict(images[0:1])\n",
    "print(\"- Image and target\",images[0:1],targets[0:1])\n",
    "print(\"- Image predicted:\",model_output,targets[0:1])"
   ]
  },
  {
   "cell_type": "markdown",
   "id": "05df8e14-e18d-40a2-90ff-f2965147dbdc",
   "metadata": {},
   "source": [
    "## Model Summary"
   ]
  },
  {
   "cell_type": "code",
   "execution_count": 25,
   "id": "0abc59ca-bd6b-44e1-9ae7-cd5c4c2a72e9",
   "metadata": {},
   "outputs": [
    {
     "name": "stdout",
     "output_type": "stream",
     "text": [
      "Model: \"sequential_8\"\n",
      "_________________________________________________________________\n",
      " Layer (type)                Output Shape              Param #   \n",
      "=================================================================\n",
      " dense_12 (Dense)            (None, 256)               200960    \n",
      "                                                                 \n",
      " dense_13 (Dense)            (None, 128)               32896     \n",
      "                                                                 \n",
      " dense_14 (Dense)            (None, 10)                1290      \n",
      "                                                                 \n",
      "=================================================================\n",
      "Total params: 235,146\n",
      "Trainable params: 235,146\n",
      "Non-trainable params: 0\n",
      "_________________________________________________________________\n"
     ]
    }
   ],
   "source": [
    "model.summary()"
   ]
  },
  {
   "cell_type": "code",
   "execution_count": null,
   "id": "c7135ddb-27b3-4336-953c-2a15f5a0d243",
   "metadata": {},
   "outputs": [],
   "source": []
  },
  {
   "cell_type": "code",
   "execution_count": null,
   "id": "d464d4f5-a390-4ee0-b5d5-333f913835ff",
   "metadata": {},
   "outputs": [],
   "source": []
  },
  {
   "cell_type": "code",
   "execution_count": null,
   "id": "fdd43e6c-6f61-412f-9352-9e24ce282d17",
   "metadata": {},
   "outputs": [],
   "source": []
  },
  {
   "cell_type": "code",
   "execution_count": null,
   "id": "8348fc8a-b86c-4d11-838a-966275f6299a",
   "metadata": {},
   "outputs": [],
   "source": []
  },
  {
   "cell_type": "code",
   "execution_count": null,
   "id": "5dff4dc6-7abb-422e-9320-d7138e5db8e1",
   "metadata": {},
   "outputs": [],
   "source": []
  },
  {
   "cell_type": "code",
   "execution_count": null,
   "id": "1efbd2f0-2ff8-45f3-b514-9ad6e757abb7",
   "metadata": {},
   "outputs": [],
   "source": []
  },
  {
   "cell_type": "code",
   "execution_count": null,
   "id": "5bc0a1c0-fcc9-4f44-88b1-22fff1e987cc",
   "metadata": {},
   "outputs": [],
   "source": []
  },
  {
   "cell_type": "code",
   "execution_count": null,
   "id": "d6e39c37-f5e8-4e6d-9a2c-8e2d0a04b2fa",
   "metadata": {},
   "outputs": [],
   "source": []
  },
  {
   "cell_type": "code",
   "execution_count": null,
   "id": "66b192a6-2e46-422d-81e0-430c2c17c559",
   "metadata": {},
   "outputs": [],
   "source": []
  },
  {
   "cell_type": "code",
   "execution_count": null,
   "id": "3cb9d56b-c0a5-427c-bc21-37c099e0e30e",
   "metadata": {},
   "outputs": [],
   "source": []
  },
  {
   "cell_type": "code",
   "execution_count": null,
   "id": "89353236-ffd6-44c7-b788-c4317790b971",
   "metadata": {},
   "outputs": [],
   "source": []
  }
 ],
 "metadata": {
  "kernelspec": {
   "display_name": "Python 3 (ipykernel)",
   "language": "python",
   "name": "python3"
  },
  "language_info": {
   "codemirror_mode": {
    "name": "ipython",
    "version": 3
   },
   "file_extension": ".py",
   "mimetype": "text/x-python",
   "name": "python",
   "nbconvert_exporter": "python",
   "pygments_lexer": "ipython3",
   "version": "3.9.12"
  },
  "widgets": {
   "application/vnd.jupyter.widget-state+json": {
    "state": {},
    "version_major": 2,
    "version_minor": 0
   }
  }
 },
 "nbformat": 4,
 "nbformat_minor": 5
}
