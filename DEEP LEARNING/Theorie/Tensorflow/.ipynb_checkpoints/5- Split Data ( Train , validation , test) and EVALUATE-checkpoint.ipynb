{
 "cells": [
  {
   "cell_type": "markdown",
   "id": "8c4ca1b4-e9a1-4ee5-874c-e784e6bcc1c1",
   "metadata": {},
   "source": [
    "## DATA SPLITING in train , val , test"
   ]
  },
  {
   "cell_type": "code",
   "execution_count": 1,
   "id": "72d36aa3-31cb-48b6-8c58-5a6f332cc58d",
   "metadata": {},
   "outputs": [],
   "source": [
    "#import libreries\n",
    "import matplotlib.pyplot as plt \n",
    "import pandas as pd\n",
    "import tensorflow as tf \n",
    "import numpy as np \n",
    "\n",
    "import sys\n",
    "\n",
    "from sklearn.preprocessing import StandardScaler"
   ]
  },
  {
   "cell_type": "code",
   "execution_count": 2,
   "id": "1714096c-43db-4382-8385-56ca8e535332",
   "metadata": {},
   "outputs": [],
   "source": [
    "import os \n",
    "os.environ['KMP_DUPLICATE_LIB_OK']='True'"
   ]
  },
  {
   "cell_type": "code",
   "execution_count": 3,
   "id": "90a306b6-a371-447a-ae8d-155a1bdf4ddd",
   "metadata": {},
   "outputs": [],
   "source": [
    "#import "
   ]
  },
  {
   "cell_type": "code",
   "execution_count": 4,
   "id": "4c016bb9-93d4-406c-aa5a-ec758190ab20",
   "metadata": {},
   "outputs": [],
   "source": [
    "#Dataset\n",
    "fashion_mnist =tf.keras.datasets.fashion_mnist\n",
    "(images , targets),(_, _) = fashion_mnist.load_data()\n",
    "\n",
    "#Estract part of the dataset\n",
    "images = images[:10000]\n",
    "targets = targets[:10000]\n",
    "\n",
    "\n",
    "#Rehsape dataset \n",
    "#images = images.reshape(-1,784)\n",
    "#targets = targets.astype(float)\n",
    "\n",
    "#Data Normalisation\n",
    "#Scaler = StandardScaler()\n",
    "#images = Scaler.fit(images) # Applicare il fit solo in training e il trasform su train e test\n"
   ]
  },
  {
   "cell_type": "code",
   "execution_count": 5,
   "id": "7f917563-f35c-4eca-8070-46d71062aef3",
   "metadata": {},
   "outputs": [
    {
     "name": "stdout",
     "output_type": "stream",
     "text": [
      "(8000, 784) (8000,)\n",
      "(2000, 784) (2000,)\n"
     ]
    }
   ],
   "source": [
    "#Split dataset into train , test , val \n",
    "\n",
    "from sklearn.model_selection import train_test_split\n",
    "\n",
    "images_train , images_test , targets_train , targets_test = train_test_split(images, targets,test_size=0.2 , random_state=1)\n",
    "\n",
    "#shapes \n",
    "print(images_train.shape , targets_train.shape)\n",
    "print(images_test.shape , targets_test.shape)\n"
   ]
  },
  {
   "cell_type": "markdown",
   "id": "8a26bc9c-996c-4a0e-bd0a-1f17f21670ad",
   "metadata": {},
   "source": [
    "## Plot one of the Dataset "
   ]
  },
  {
   "cell_type": "code",
   "execution_count": 6,
   "id": "d3cc7f6f-85c3-43a2-b58a-c4e93c26f036",
   "metadata": {},
   "outputs": [
    {
     "data": {
      "image/png": "[encoded data removed]",
      "text/plain": [
       "<Figure size 432x288 with 1 Axes>"
      ]
     },
     "metadata": {
      "needs_background": "light"
     },
     "output_type": "display_data"
    }
   ],
   "source": [
    "#Plot images\n",
    "\n",
    "targets_names =[\"T-shirt/top\",\"Trouser\",\"Pullover\",\"Dress\",\"Coat\",\"Sandal\",\"Shirt\",\"Sneaker\",\"Bag\",\"Ankle boot\"]\n",
    "\n",
    "#plot image \n",
    "plt.imshow(images[10].reshape(28,28),cmap=\"binary\")\n",
    "#plt.title(targets_names[targets[10]])\n",
    "plt.show()"
   ]
  },
  {
   "cell_type": "markdown",
   "id": "66e4296d-d13e-4e7a-b221-ad22900b9a8f",
   "metadata": {},
   "source": [
    "# METOD 1 "
   ]
  },
  {
   "cell_type": "markdown",
   "id": "b3a5c771-555c-4967-b194-3f68609e9823",
   "metadata": {},
   "source": [
    "## Model and add Layers"
   ]
  },
  {
   "cell_type": "code",
   "execution_count": 7,
   "id": "966a44a3-d6a9-4c49-b423-b8ee5ca73996",
   "metadata": {},
   "outputs": [
    {
     "ename": "ValueError",
     "evalue": "in user code:\n\n    File \"C:\\Users\\LDoungala\\Anaconda3\\lib\\site-packages\\keras\\engine\\training.py\", line 1845, in predict_function  *\n        return step_function(self, iterator)\n    File \"C:\\Users\\LDoungala\\Anaconda3\\lib\\site-packages\\keras\\engine\\training.py\", line 1834, in step_function  **\n        outputs = model.distribute_strategy.run(run_step, args=(data,))\n    File \"C:\\Users\\LDoungala\\Anaconda3\\lib\\site-packages\\keras\\engine\\training.py\", line 1823, in run_step  **\n        outputs = model.predict_step(data)\n    File \"C:\\Users\\LDoungala\\Anaconda3\\lib\\site-packages\\keras\\engine\\training.py\", line 1791, in predict_step\n        return self(x, training=False)\n    File \"C:\\Users\\LDoungala\\Anaconda3\\lib\\site-packages\\keras\\utils\\traceback_utils.py\", line 67, in error_handler\n        raise e.with_traceback(filtered_tb) from None\n    File \"C:\\Users\\LDoungala\\Anaconda3\\lib\\site-packages\\keras\\engine\\input_spec.py\", line 264, in assert_input_compatibility\n        raise ValueError(f'Input {input_index} of layer \"{layer_name}\" is '\n\n    ValueError: Input 0 of layer \"sequential\" is incompatible with the layer: expected shape=(None, 28, 28), found shape=(None, 784)\n",
     "output_type": "error",
     "traceback": [
      "\u001b[1;31m---------------------------------------------------------------------------\u001b[0m",
      "\u001b[1;31mValueError\u001b[0m                                Traceback (most recent call last)",
      "Input \u001b[1;32mIn [7]\u001b[0m, in \u001b[0;36m<cell line: 10>\u001b[1;34m()\u001b[0m\n\u001b[0;32m      7\u001b[0m model\u001b[38;5;241m.\u001b[39madd(tf\u001b[38;5;241m.\u001b[39mkeras\u001b[38;5;241m.\u001b[39mlayers\u001b[38;5;241m.\u001b[39mDense(\u001b[38;5;241m128\u001b[39m, activation\u001b[38;5;241m=\u001b[39m\u001b[38;5;124m\"\u001b[39m\u001b[38;5;124mrelu\u001b[39m\u001b[38;5;124m\"\u001b[39m, name\u001b[38;5;241m=\u001b[39m\u001b[38;5;124m'\u001b[39m\u001b[38;5;124mHidden_layer_1\u001b[39m\u001b[38;5;124m'\u001b[39m))\n\u001b[0;32m      8\u001b[0m model\u001b[38;5;241m.\u001b[39madd(tf\u001b[38;5;241m.\u001b[39mkeras\u001b[38;5;241m.\u001b[39mlayers\u001b[38;5;241m.\u001b[39mDense(\u001b[38;5;241m10\u001b[39m, activation\u001b[38;5;241m=\u001b[39m\u001b[38;5;124m\"\u001b[39m\u001b[38;5;124msoftmax\u001b[39m\u001b[38;5;124m\"\u001b[39m, name\u001b[38;5;241m=\u001b[39m\u001b[38;5;124m'\u001b[39m\u001b[38;5;124mOutput_layer\u001b[39m\u001b[38;5;124m'\u001b[39m)) \n\u001b[1;32m---> 10\u001b[0m model_output \u001b[38;5;241m=\u001b[39m \u001b[43mmodel\u001b[49m\u001b[38;5;241;43m.\u001b[39;49m\u001b[43mpredict\u001b[49m\u001b[43m(\u001b[49m\u001b[43mimages\u001b[49m\u001b[43m[\u001b[49m\u001b[38;5;241;43m0\u001b[39;49m\u001b[43m:\u001b[49m\u001b[38;5;241;43m1\u001b[39;49m\u001b[43m]\u001b[49m\u001b[43m)\u001b[49m\n\u001b[0;32m     11\u001b[0m \u001b[38;5;66;03m#print(\"- Image and target\",images[0:1],targets[0:1])\u001b[39;00m\n\u001b[0;32m     12\u001b[0m \u001b[38;5;28mprint\u001b[39m(\u001b[38;5;124m\"\u001b[39m\u001b[38;5;124m- Image predicted:\u001b[39m\u001b[38;5;124m\"\u001b[39m,model_output,targets[\u001b[38;5;241m0\u001b[39m:\u001b[38;5;241m1\u001b[39m])\n",
      "File \u001b[1;32m~\\Anaconda3\\lib\\site-packages\\keras\\utils\\traceback_utils.py:67\u001b[0m, in \u001b[0;36mfilter_traceback.<locals>.error_handler\u001b[1;34m(*args, **kwargs)\u001b[0m\n\u001b[0;32m     65\u001b[0m \u001b[38;5;28;01mexcept\u001b[39;00m \u001b[38;5;167;01mException\u001b[39;00m \u001b[38;5;28;01mas\u001b[39;00m e:  \u001b[38;5;66;03m# pylint: disable=broad-except\u001b[39;00m\n\u001b[0;32m     66\u001b[0m   filtered_tb \u001b[38;5;241m=\u001b[39m _process_traceback_frames(e\u001b[38;5;241m.\u001b[39m__traceback__)\n\u001b[1;32m---> 67\u001b[0m   \u001b[38;5;28;01mraise\u001b[39;00m e\u001b[38;5;241m.\u001b[39mwith_traceback(filtered_tb) \u001b[38;5;28;01mfrom\u001b[39;00m \u001b[38;5;28mNone\u001b[39m\n\u001b[0;32m     68\u001b[0m \u001b[38;5;28;01mfinally\u001b[39;00m:\n\u001b[0;32m     69\u001b[0m   \u001b[38;5;28;01mdel\u001b[39;00m filtered_tb\n",
      "File \u001b[1;32mC:\\Users\\LDOUNG~1\\AppData\\Local\\Temp\\__autograph_generated_filew1dablos.py:15\u001b[0m, in \u001b[0;36mouter_factory.<locals>.inner_factory.<locals>.tf__predict_function\u001b[1;34m(iterator)\u001b[0m\n\u001b[0;32m     13\u001b[0m \u001b[38;5;28;01mtry\u001b[39;00m:\n\u001b[0;32m     14\u001b[0m     do_return \u001b[38;5;241m=\u001b[39m \u001b[38;5;28;01mTrue\u001b[39;00m\n\u001b[1;32m---> 15\u001b[0m     retval_ \u001b[38;5;241m=\u001b[39m ag__\u001b[38;5;241m.\u001b[39mconverted_call(ag__\u001b[38;5;241m.\u001b[39mld(step_function), (ag__\u001b[38;5;241m.\u001b[39mld(\u001b[38;5;28mself\u001b[39m), ag__\u001b[38;5;241m.\u001b[39mld(iterator)), \u001b[38;5;28;01mNone\u001b[39;00m, fscope)\n\u001b[0;32m     16\u001b[0m \u001b[38;5;28;01mexcept\u001b[39;00m:\n\u001b[0;32m     17\u001b[0m     do_return \u001b[38;5;241m=\u001b[39m \u001b[38;5;28;01mFalse\u001b[39;00m\n",
      "\u001b[1;31mValueError\u001b[0m: in user code:\n\n    File \"C:\\Users\\LDoungala\\Anaconda3\\lib\\site-packages\\keras\\engine\\training.py\", line 1845, in predict_function  *\n        return step_function(self, iterator)\n    File \"C:\\Users\\LDoungala\\Anaconda3\\lib\\site-packages\\keras\\engine\\training.py\", line 1834, in step_function  **\n        outputs = model.distribute_strategy.run(run_step, args=(data,))\n    File \"C:\\Users\\LDoungala\\Anaconda3\\lib\\site-packages\\keras\\engine\\training.py\", line 1823, in run_step  **\n        outputs = model.predict_step(data)\n    File \"C:\\Users\\LDoungala\\Anaconda3\\lib\\site-packages\\keras\\engine\\training.py\", line 1791, in predict_step\n        return self(x, training=False)\n    File \"C:\\Users\\LDoungala\\Anaconda3\\lib\\site-packages\\keras\\utils\\traceback_utils.py\", line 67, in error_handler\n        raise e.with_traceback(filtered_tb) from None\n    File \"C:\\Users\\LDoungala\\Anaconda3\\lib\\site-packages\\keras\\engine\\input_spec.py\", line 264, in assert_input_compatibility\n        raise ValueError(f'Input {input_index} of layer \"{layer_name}\" is '\n\n    ValueError: Input 0 of layer \"sequential\" is incompatible with the layer: expected shape=(None, 28, 28), found shape=(None, 784)\n"
     ]
    }
   ],
   "source": [
    "# Flatten\n",
    "model = tf.keras.models.Sequential()\n",
    "model.add(tf.keras.layers.Flatten(input_shape = [28,28]))\n",
    "\n",
    "#Add Layers\n",
    "model.add(tf.keras.layers.Dense(256, activation=\"relu\", name='Input_layer')) \n",
    "model.add(tf.keras.layers.Dense(128, activation=\"relu\", name='Hidden_layer_1'))\n",
    "model.add(tf.keras.layers.Dense(10, activation=\"softmax\", name='Output_layer')) \n",
    "\n",
    "model_output = model.predict(images[0:1])\n",
    "#print(\"- Image and target\",images[0:1],targets[0:1])\n",
    "print(\"- Image predicted:\",model_output,targets[0:1])"
   ]
  },
  {
   "cell_type": "markdown",
   "id": "2fa44f9e-596f-401f-8d53-59c0d4f29d08",
   "metadata": {},
   "source": [
    "### Model summary"
   ]
  },
  {
   "cell_type": "code",
   "execution_count": null,
   "id": "bc618c02-77f9-41ab-8a42-c68f2c0b4c06",
   "metadata": {},
   "outputs": [],
   "source": [
    "model.summary()"
   ]
  },
  {
   "cell_type": "markdown",
   "id": "c222836f-d729-4bfa-867a-f63238d21fa4",
   "metadata": {},
   "source": [
    "### Compile the model "
   ]
  },
  {
   "cell_type": "code",
   "execution_count": null,
   "id": "eabe966e-4df2-4199-971e-75073d28b798",
   "metadata": {},
   "outputs": [],
   "source": [
    "# Compile the  model\n",
    "\n",
    "model.compile(\n",
    "    loss=\"sparse_categorical_crossentropy\",\n",
    "    optimizer =\"sgd\",\n",
    "    metrics=[\"accuracy\"]\n",
    ")"
   ]
  },
  {
   "cell_type": "markdown",
   "id": "10bb0fdf-0c25-42aa-8772-b53e6e797534",
   "metadata": {},
   "source": [
    "### Train the model "
   ]
  },
  {
   "cell_type": "code",
   "execution_count": null,
   "id": "61e5488b-2518-4eaf-92e4-3a1c5f823b63",
   "metadata": {},
   "outputs": [],
   "source": [
    "history = model.fit(images_train,targets_train,epochs=10 , validation_split=0.2)"
   ]
  },
  {
   "cell_type": "markdown",
   "id": "e6e10936-3b25-406a-9f1f-446995afab4f",
   "metadata": {},
   "source": [
    "### Plot validation curves "
   ]
  },
  {
   "cell_type": "code",
   "execution_count": null,
   "id": "829188f6-b3ef-480f-a07b-b27dea8bd32c",
   "metadata": {},
   "outputs": [],
   "source": [
    "loss_curve = history.history[\"loss\"]\n",
    "acc_curve = history.history[\"accuracy\"]\n",
    "\n",
    "loss_val_curve = history.history[\"val_loss\"]\n",
    "acc_val_curve = history.history[\"val_accuracy\"]\n",
    "# plot loss\n",
    "plt.figure(figsize=(10,5))\n",
    "plt.plot(loss_curve, label=\"Train\")\n",
    "plt.plot(loss_val_curve, label=\"Val\")\n",
    "plt.legend(loc='upper left')\n",
    "plt.title(\"Loss\")\n",
    "plt.xlabel('Epochs')\n",
    "plt.ylabel('Values')\n",
    "plt.legend()\n",
    "plt.show()\n",
    "\n",
    "\n",
    "#Plot accuracy\n",
    "plt.figure(figsize=(10,5))\n",
    "plt.plot(acc_curve, label=\"Train\")\n",
    "plt.plot(acc_val_curve, label=\"Val\")\n",
    "plt.legend(loc='upper left')\n",
    "plt.title(\"Accuracy\")\n",
    "plt.xlabel('Epochs')\n",
    "plt.ylabel('Values')\n",
    "plt.legend()\n",
    "plt.show()\n"
   ]
  },
  {
   "cell_type": "code",
   "execution_count": null,
   "id": "94c8dc3c-e508-4800-b252-e352637900ef",
   "metadata": {},
   "outputs": [],
   "source": [
    "# Get the loss and accuracy curve values for training and validation\n",
    "loss_curve = history.history[\"loss\"]\n",
    "acc_curve = history.history[\"accuracy\"]\n",
    "loss_val_curve = history.history[\"val_loss\"]\n",
    "acc_val_curve = history.history[\"val_accuracy\"]\n",
    "\n",
    "# Create a figure with 2 subplots (1 row, 2 columns)\n",
    "fig, (ax1, ax2) = plt.subplots(1, 2, figsize=(10,5))\n",
    "\n",
    "# Add loss plot to first subplot (left)\n",
    "ax1.plot(loss_curve, 'r-.', label=\"Train Loss\")\n",
    "ax1.plot(loss_val_curve, 'g--', label=\"Validation Loss\")\n",
    "ax1.legend(loc='upper right')\n",
    "ax1.set_title(\"Loss\", fontsize=20)\n",
    "ax1.set_xlabel('Epochs', fontsize=15)\n",
    "ax1.set_ylabel('Loss', fontsize=15)\n",
    "ax1.grid(True)\n",
    "\n",
    "# Add accuracy plot to second subplot (right)\n",
    "ax2.plot(acc_curve, 'b-.', label=\"Train Accuracy\")\n",
    "ax2.plot(acc_val_curve, 'y--', label=\"Validation Accuracy\")\n",
    "ax2.legend(loc='lower right')\n",
    "ax2.set_title(\"Accuracy\", fontsize=20)\n",
    "ax2.set_xlabel('Epochs', fontsize=15)\n",
    "ax2.set_ylabel('Accuracy', fontsize=15)\n",
    "ax2.grid(True)\n",
    "\n",
    "# Display the figure\n",
    "plt.show()\n"
   ]
  },
  {
   "cell_type": "markdown",
   "id": "408abc11-b12d-4927-9df6-2238989f450b",
   "metadata": {},
   "source": [
    "### Model evaluation "
   ]
  },
  {
   "cell_type": "code",
   "execution_count": null,
   "id": "7efc1083-b1a3-4870-b5be-430d1584d945",
   "metadata": {},
   "outputs": [],
   "source": [
    "#Evaluate the model on train \n",
    "\n",
    "#Train Evaluate\n",
    "loss_train , acc_train = model.evaluate(images_train,targets_train)\n",
    "print(\"Loss_Train:\",loss_train)\n",
    "print(\"Accuracy_train:\",acc_train)"
   ]
  },
  {
   "cell_type": "code",
   "execution_count": null,
   "id": "5a731171-601d-4104-96c9-6664fab61c94",
   "metadata": {},
   "outputs": [],
   "source": [
    "\n",
    "#Test  Evaluate\n",
    "\n",
    "loss_test , acc_test  =model.evaluate(images_test,targets_test)\n",
    "print(\"Loss_Test:\",loss_test)\n",
    "print(\"Accuracy_test:\",acc_test)"
   ]
  },
  {
   "cell_type": "markdown",
   "id": "21727a3b-6e22-47d5-ba88-c144e7f6d18e",
   "metadata": {},
   "source": [
    "### Offline training : Save the model "
   ]
  },
  {
   "cell_type": "code",
   "execution_count": null,
   "id": "ba2e874c-8db3-4dda-8987-ce9cffcc7581",
   "metadata": {},
   "outputs": [],
   "source": [
    "#sudo pip install h5py  if not yet installed"
   ]
  },
  {
   "cell_type": "code",
   "execution_count": null,
   "id": "2884cc22-a0da-4fb3-875d-1fc443384acf",
   "metadata": {},
   "outputs": [],
   "source": [
    "#save the model we could use pickle to save the model as well\n",
    "model.save(\"model/model1_nn.h5\") # Offline training\n"
   ]
  },
  {
   "cell_type": "markdown",
   "id": "a1fd5357-d0b9-4cee-9a03-1465927cf0b4",
   "metadata": {},
   "source": [
    "### Online Training(inference ) : Load the model"
   ]
  },
  {
   "cell_type": "code",
   "execution_count": null,
   "id": "d79a4f0e-d90f-4646-9d13-be53a0b7d87a",
   "metadata": {},
   "outputs": [],
   "source": [
    "\n",
    "#Load the model\n",
    "loaded_model = tf.keras.models.load_model(\"model/model1_nn.h5\") # Online training\n",
    "loss_test , acc_test = loaded_model.evaluate(images_test, targets_test) # We load the model to evaluate then on test dataset \n",
    "print(\"Loss test :\",loss_test)\n",
    "print(\"Accuracy test :\",acc_test)"
   ]
  },
  {
   "cell_type": "code",
   "execution_count": null,
   "id": "fdb05e1a-a6df-49b2-b9e9-95bf600a72a4",
   "metadata": {},
   "outputs": [],
   "source": [
    "#Predict \n",
    "predicted_image, predicted_target = loaded_model.predict(images_test[0:1]),targets_test[0:1]\n",
    "print(\"- Predicted image:\", predicted_image) # predict of the first image of the test dataset \n",
    "print(\"- Predicted target:\",predicted_target)"
   ]
  },
  {
   "cell_type": "code",
   "execution_count": null,
   "id": "6d9c3ddf-5120-4979-be9b-fb4609a3b2ee",
   "metadata": {},
   "outputs": [],
   "source": [
    "#Dummy Verifications\n",
    "print(\" - Target test :\",targets_test[0:1])\n",
    "print(\" - Predicted test\",predicted_target[0:1])"
   ]
  },
  {
   "cell_type": "markdown",
   "id": "7bb4ddde-0da0-422f-8123-f60d1b11666e",
   "metadata": {},
   "source": [
    "# METOD 2 "
   ]
  },
  {
   "cell_type": "markdown",
   "id": "faa234c4-6a3a-4024-a721-0bc9dd9ec480",
   "metadata": {},
   "source": [
    "### Model and layers "
   ]
  },
  {
   "cell_type": "code",
   "execution_count": null,
   "id": "efcbebce-1eec-4014-af04-84b396c18676",
   "metadata": {},
   "outputs": [],
   "source": [
    "#Flatten\n",
    "model_2 = tf.keras.models.Sequential()\n",
    "\n",
    "model_2 = tf.keras.Sequential()\n",
    "model_2.add(tf.keras.layers.Dense(256, activation=\"relu\")) \n",
    "model_2.add(tf.keras.layers.Dense(128, activation=\"relu\"))\n",
    "model_2.add(tf.keras.layers.Dense(10, activation=\"softmax\")) "
   ]
  },
  {
   "cell_type": "markdown",
   "id": "e4853bc1-9e32-4316-b263-cc2ce49da259",
   "metadata": {},
   "source": [
    "### Setup the optimizer , los function and one metrics "
   ]
  },
  {
   "cell_type": "code",
   "execution_count": null,
   "id": "cd851f1d-e0b5-4769-8c2a-3e5c0c65c2da",
   "metadata": {},
   "outputs": [],
   "source": [
    "#the loss method \n",
    "loss_object = tf.keras.losses.SparseCategoricalCrossentropy()\n",
    "#the optimizer\n",
    "optimizer = tf.keras.optimizers.Adam()\n",
    "train_loss = tf.keras.metrics.Mean(name='Train_loss') # this metrics is used to track the progress of the training loss during the training "
   ]
  },
  {
   "cell_type": "code",
   "execution_count": null,
   "id": "92fe78e7-d6b9-4714-983a-f42c8194d1bf",
   "metadata": {},
   "outputs": [],
   "source": []
  },
  {
   "cell_type": "code",
   "execution_count": null,
   "id": "9643576a-b8d6-4bdb-a948-4342a8f3b6bb",
   "metadata": {},
   "outputs": [],
   "source": []
  },
  {
   "cell_type": "code",
   "execution_count": null,
   "id": "37af388c-23ea-43c6-9e1a-9c31f9f31913",
   "metadata": {},
   "outputs": [],
   "source": []
  },
  {
   "cell_type": "code",
   "execution_count": null,
   "id": "71cd0266-756b-4cc8-8b71-9fa3ca26b13b",
   "metadata": {},
   "outputs": [],
   "source": []
  },
  {
   "cell_type": "code",
   "execution_count": null,
   "id": "96fbcf34-2af9-41b2-b606-5042130eb090",
   "metadata": {},
   "outputs": [],
   "source": []
  },
  {
   "cell_type": "code",
   "execution_count": null,
   "id": "d801f9cb-b697-47e3-bb18-1f5d75a07c02",
   "metadata": {},
   "outputs": [],
   "source": []
  }
 ],
 "metadata": {
  "kernelspec": {
   "display_name": "Python 3 (ipykernel)",
   "language": "python",
   "name": "python3"
  },
  "language_info": {
   "codemirror_mode": {
    "name": "ipython",
    "version": 3
   },
   "file_extension": ".py",
   "mimetype": "text/x-python",
   "name": "python",
   "nbconvert_exporter": "python",
   "pygments_lexer": "ipython3",
   "version": "3.9.12"
  },
  "widgets": {
   "application/vnd.jupyter.widget-state+json": {
    "state": {},
    "version_major": 2,
    "version_minor": 0
   }
  }
 },
 "nbformat": 4,
 "nbformat_minor": 5
}
