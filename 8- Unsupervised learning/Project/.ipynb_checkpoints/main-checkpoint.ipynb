{
 "cells": [
  {
   "cell_type": "markdown",
   "id": "89e108ea-ff9e-436a-b38d-72ffba7019bc",
   "metadata": {},
   "source": [
    "# Unsupervised Learning"
   ]
  },
  {
   "cell_type": "markdown",
   "id": "12d11d54-cf0f-4b61-9713-9aa6550e7f00",
   "metadata": {},
   "source": [
    "#### STUDY CASE : Credit Card Dataset for Clustering"
   ]
  },
  {
   "cell_type": "code",
   "execution_count": 1,
   "id": "d70a99ab-1fc2-4f1f-83c0-ae484a2d1764",
   "metadata": {},
   "outputs": [],
   "source": [
    "import apply_preprocessing as apply_pp\n",
    "\n",
    "# import necessary tools\n",
    "import numpy as np\n",
    "import pandas as pd\n",
    "import matplotlib.pyplot as plt\n",
    "import seaborn as sns\n",
    "\n",
    "# preprocessing\n",
    "from sklearn.preprocessing import StandardScaler\n",
    "from sklearn.decomposition import PCA\n",
    "\n",
    "# ignore warnings\n",
    "import warnings\n",
    "warnings.filterwarnings(action=\"ignore\")\n",
    "\n",
    "# clustering\n",
    "from sklearn.cluster import KMeans, AgglomerativeClustering\n",
    "from sklearn.mixture import GaussianMixture\n",
    "from matplotlib import cm\n",
    "from sklearn.metrics import silhouette_samples, silhouette_score"
   ]
  },
  {
   "cell_type": "markdown",
   "id": "1f6f00e9-a064-4181-b8ab-a2f983745295",
   "metadata": {},
   "source": [
    "## Summary dataset description "
   ]
  },
  {
   "cell_type": "markdown",
   "id": "2986520d-e4d1-44ee-942d-06310614c71d",
   "metadata": {},
   "source": [
    "[- Dataset description](https://www.kaggle.com/datasets/arjunbhasin2013/ccdata?select=CC+GENERAL.csv)"
   ]
  },
  {
   "cell_type": "markdown",
   "id": "7039e13a-e50a-4556-adf4-62c47e9abe46",
   "metadata": {},
   "source": [
    "This case requires to develop a customer segmentation to define marketing strategy. The\n",
    "sample Dataset summarizes the usage behavior of about 9000 active credit card holders during the last 6 months.\n",
    "The file is at a customer level with 18 behavioral variables."
   ]
  },
  {
   "cell_type": "markdown",
   "id": "739295fc-e174-4ba6-97ec-118a6c9caf1a",
   "metadata": {},
   "source": [
    "## Goals"
   ]
  },
  {
   "cell_type": "markdown",
   "id": "f1ea95d6-c84a-4c9d-9278-f6c9ac49541e",
   "metadata": {},
   "source": [
    "- Data preprocessing\n",
    "- Clustering\n",
    "- Feature extraction to improve clustering\n",
    "- Experiment with various clustering models: KMeans, Agglomerative Hierarchical, Gaussian Mixture\n",
    "- Choosing the number of clusters\n",
    "- Concluding the project by giving marketing strategy based on what we learn from the data"
   ]
  },
  {
   "cell_type": "code",
   "execution_count": 2,
   "id": "bd4c6b9c-d3f7-4d30-a550-40eb51fc9a16",
   "metadata": {},
   "outputs": [
    {
     "data": {
      "text/html": [
       "<div>\n",
       "<style scoped>\n",
       "    .dataframe tbody tr th:only-of-type {\n",
       "        vertical-align: middle;\n",
       "    }\n",
       "\n",
       "    .dataframe tbody tr th {\n",
       "        vertical-align: top;\n",
       "    }\n",
       "\n",
       "    .dataframe thead th {\n",
       "        text-align: right;\n",
       "    }\n",
       "</style>\n",
       "<table border=\"1\" class=\"dataframe\">\n",
       "  <thead>\n",
       "    <tr style=\"text-align: right;\">\n",
       "      <th></th>\n",
       "      <th>BALANCE</th>\n",
       "      <th>BALANCE_FREQUENCY</th>\n",
       "      <th>PURCHASES</th>\n",
       "      <th>ONEOFF_PURCHASES</th>\n",
       "      <th>INSTALLMENTS_PURCHASES</th>\n",
       "      <th>CASH_ADVANCE</th>\n",
       "      <th>PURCHASES_FREQUENCY</th>\n",
       "      <th>ONEOFF_PURCHASES_FREQUENCY</th>\n",
       "      <th>PURCHASES_INSTALLMENTS_FREQUENCY</th>\n",
       "      <th>CASH_ADVANCE_FREQUENCY</th>\n",
       "      <th>CASH_ADVANCE_TRX</th>\n",
       "      <th>PURCHASES_TRX</th>\n",
       "      <th>CREDIT_LIMIT</th>\n",
       "      <th>PAYMENTS</th>\n",
       "      <th>MINIMUM_PAYMENTS</th>\n",
       "      <th>PRC_FULL_PAYMENT</th>\n",
       "      <th>TENURE</th>\n",
       "    </tr>\n",
       "  </thead>\n",
       "  <tbody>\n",
       "    <tr>\n",
       "      <th>0</th>\n",
       "      <td>3049.215189</td>\n",
       "      <td>1.000000</td>\n",
       "      <td>390.00</td>\n",
       "      <td>390.00</td>\n",
       "      <td>0.00</td>\n",
       "      <td>5876.866242</td>\n",
       "      <td>0.083333</td>\n",
       "      <td>0.083333</td>\n",
       "      <td>0.000000</td>\n",
       "      <td>0.583333</td>\n",
       "      <td>9</td>\n",
       "      <td>1</td>\n",
       "      <td>3200.0</td>\n",
       "      <td>6537.913767</td>\n",
       "      <td>2729.078978</td>\n",
       "      <td>0.0</td>\n",
       "      <td>12</td>\n",
       "    </tr>\n",
       "    <tr>\n",
       "      <th>1</th>\n",
       "      <td>31.473181</td>\n",
       "      <td>0.272727</td>\n",
       "      <td>220.50</td>\n",
       "      <td>220.50</td>\n",
       "      <td>0.00</td>\n",
       "      <td>0.000000</td>\n",
       "      <td>0.083333</td>\n",
       "      <td>0.083333</td>\n",
       "      <td>0.000000</td>\n",
       "      <td>0.000000</td>\n",
       "      <td>0</td>\n",
       "      <td>2</td>\n",
       "      <td>3750.0</td>\n",
       "      <td>1199.475254</td>\n",
       "      <td>89.231655</td>\n",
       "      <td>0.0</td>\n",
       "      <td>12</td>\n",
       "    </tr>\n",
       "    <tr>\n",
       "      <th>2</th>\n",
       "      <td>1484.221941</td>\n",
       "      <td>1.000000</td>\n",
       "      <td>52.83</td>\n",
       "      <td>52.83</td>\n",
       "      <td>0.00</td>\n",
       "      <td>3164.677567</td>\n",
       "      <td>0.166667</td>\n",
       "      <td>0.166667</td>\n",
       "      <td>0.000000</td>\n",
       "      <td>0.250000</td>\n",
       "      <td>12</td>\n",
       "      <td>3</td>\n",
       "      <td>3000.0</td>\n",
       "      <td>1871.169580</td>\n",
       "      <td>413.035007</td>\n",
       "      <td>0.0</td>\n",
       "      <td>12</td>\n",
       "    </tr>\n",
       "    <tr>\n",
       "      <th>3</th>\n",
       "      <td>3172.114278</td>\n",
       "      <td>1.000000</td>\n",
       "      <td>454.13</td>\n",
       "      <td>0.00</td>\n",
       "      <td>454.13</td>\n",
       "      <td>4323.524330</td>\n",
       "      <td>1.000000</td>\n",
       "      <td>0.000000</td>\n",
       "      <td>0.888889</td>\n",
       "      <td>0.777778</td>\n",
       "      <td>22</td>\n",
       "      <td>11</td>\n",
       "      <td>4000.0</td>\n",
       "      <td>1746.248986</td>\n",
       "      <td>1091.696320</td>\n",
       "      <td>0.0</td>\n",
       "      <td>9</td>\n",
       "    </tr>\n",
       "    <tr>\n",
       "      <th>4</th>\n",
       "      <td>958.920206</td>\n",
       "      <td>1.000000</td>\n",
       "      <td>66.70</td>\n",
       "      <td>0.00</td>\n",
       "      <td>66.70</td>\n",
       "      <td>0.000000</td>\n",
       "      <td>0.166667</td>\n",
       "      <td>0.000000</td>\n",
       "      <td>0.166667</td>\n",
       "      <td>0.000000</td>\n",
       "      <td>0</td>\n",
       "      <td>2</td>\n",
       "      <td>1000.0</td>\n",
       "      <td>302.656395</td>\n",
       "      <td>800.097611</td>\n",
       "      <td>0.0</td>\n",
       "      <td>12</td>\n",
       "    </tr>\n",
       "  </tbody>\n",
       "</table>\n",
       "</div>"
      ],
      "text/plain": [
       "       BALANCE  BALANCE_FREQUENCY  PURCHASES  ONEOFF_PURCHASES  \\\n",
       "0  3049.215189           1.000000     390.00            390.00   \n",
       "1    31.473181           0.272727     220.50            220.50   \n",
       "2  1484.221941           1.000000      52.83             52.83   \n",
       "3  3172.114278           1.000000     454.13              0.00   \n",
       "4   958.920206           1.000000      66.70              0.00   \n",
       "\n",
       "   INSTALLMENTS_PURCHASES  CASH_ADVANCE  PURCHASES_FREQUENCY  \\\n",
       "0                    0.00   5876.866242             0.083333   \n",
       "1                    0.00      0.000000             0.083333   \n",
       "2                    0.00   3164.677567             0.166667   \n",
       "3                  454.13   4323.524330             1.000000   \n",
       "4                   66.70      0.000000             0.166667   \n",
       "\n",
       "   ONEOFF_PURCHASES_FREQUENCY  PURCHASES_INSTALLMENTS_FREQUENCY  \\\n",
       "0                    0.083333                          0.000000   \n",
       "1                    0.083333                          0.000000   \n",
       "2                    0.166667                          0.000000   \n",
       "3                    0.000000                          0.888889   \n",
       "4                    0.000000                          0.166667   \n",
       "\n",
       "   CASH_ADVANCE_FREQUENCY  CASH_ADVANCE_TRX  PURCHASES_TRX  CREDIT_LIMIT  \\\n",
       "0                0.583333                 9              1        3200.0   \n",
       "1                0.000000                 0              2        3750.0   \n",
       "2                0.250000                12              3        3000.0   \n",
       "3                0.777778                22             11        4000.0   \n",
       "4                0.000000                 0              2        1000.0   \n",
       "\n",
       "      PAYMENTS  MINIMUM_PAYMENTS  PRC_FULL_PAYMENT  TENURE  \n",
       "0  6537.913767       2729.078978               0.0      12  \n",
       "1  1199.475254         89.231655               0.0      12  \n",
       "2  1871.169580        413.035007               0.0      12  \n",
       "3  1746.248986       1091.696320               0.0       9  \n",
       "4   302.656395        800.097611               0.0      12  "
      ]
     },
     "execution_count": 2,
     "metadata": {},
     "output_type": "execute_result"
    }
   ],
   "source": [
    "#Dataset \n",
    "\n",
    "df = pd.read_csv('Dataset/CC GENERAL.csv')\n",
    "df.head()"
   ]
  },
  {
   "cell_type": "code",
   "execution_count": 3,
   "id": "004d2052-ed6d-48e2-a825-41932f15d1f7",
   "metadata": {},
   "outputs": [
    {
     "name": "stdout",
     "output_type": "stream",
     "text": [
      "Data shape: (1790, 17)\n"
     ]
    }
   ],
   "source": [
    "#Data shape\n",
    "\n",
    "print(\"Data shape:\",df.shape)"
   ]
  },
  {
   "cell_type": "markdown",
   "id": "47c77aa3-ef96-40f9-8d8d-1e05f214a921",
   "metadata": {},
   "source": [
    "## Data Cleanning"
   ]
  },
  {
   "cell_type": "markdown",
   "id": "6600ed1b-16ee-4d6b-b525-45e3ec83ac4d",
   "metadata": {},
   "source": [
    "#### Missing values analisis"
   ]
  },
  {
   "cell_type": "code",
   "execution_count": 4,
   "id": "ea50c202-0878-4817-8e25-5ebbd121f805",
   "metadata": {},
   "outputs": [
    {
     "data": {
      "text/plain": [
       "<AxesSubplot:>"
      ]
     },
     "execution_count": 4,
     "metadata": {},
     "output_type": "execute_result"
    },
    {
     "data": {
      "image/png": "[encoded data removed]",
      "text/plain": [
       "<Figure size 1440x720 with 1 Axes>"
      ]
     },
     "metadata": {
      "needs_background": "light"
     },
     "output_type": "display_data"
    }
   ],
   "source": [
    "#NA values analisis \n",
    "\n",
    "plt.figure(figsize=(20,10))\n",
    "sns.heatmap(df.isna(), cbar=False)"
   ]
  },
  {
   "cell_type": "code",
   "execution_count": 5,
   "id": "c9d5b906-6390-4fd9-a206-69b1c6153082",
   "metadata": {},
   "outputs": [
    {
     "data": {
      "text/plain": [
       "BALANCE                             0\n",
       "CASH_ADVANCE_FREQUENCY              0\n",
       "PRC_FULL_PAYMENT                    0\n",
       "MINIMUM_PAYMENTS                    0\n",
       "PAYMENTS                            0\n",
       "CREDIT_LIMIT                        0\n",
       "PURCHASES_TRX                       0\n",
       "CASH_ADVANCE_TRX                    0\n",
       "PURCHASES_INSTALLMENTS_FREQUENCY    0\n",
       "BALANCE_FREQUENCY                   0\n",
       "ONEOFF_PURCHASES_FREQUENCY          0\n",
       "PURCHASES_FREQUENCY                 0\n",
       "CASH_ADVANCE                        0\n",
       "INSTALLMENTS_PURCHASES              0\n",
       "ONEOFF_PURCHASES                    0\n",
       "PURCHASES                           0\n",
       "TENURE                              0\n",
       "dtype: int64"
      ]
     },
     "execution_count": 5,
     "metadata": {},
     "output_type": "execute_result"
    }
   ],
   "source": [
    "#NA sorted by values count \n",
    "\n",
    "(df.isna().sum()).sort_values(ascending=False)"
   ]
  },
  {
   "cell_type": "markdown",
   "id": "c152e22d-a397-4822-85ed-88cba0f31a55",
   "metadata": {},
   "source": [
    "### Handle missing values "
   ]
  },
  {
   "cell_type": "code",
   "execution_count": 6,
   "id": "7d35e10e-ad9a-48d8-9109-8ebcb97069a5",
   "metadata": {},
   "outputs": [],
   "source": [
    "#Replace Na with median \n",
    "\n",
    "df['MINIMUM_PAYMENTS'].fillna((df['MINIMUM_PAYMENTS'].median()), inplace=True)\n",
    "df['CREDIT_LIMIT'].fillna((df['CREDIT_LIMIT'].median()), inplace=True)"
   ]
  },
  {
   "cell_type": "code",
   "execution_count": 7,
   "id": "8813c53f-ceae-4f1b-be55-40ff58b797b3",
   "metadata": {},
   "outputs": [
    {
     "data": {
      "text/plain": [
       "BALANCE                             0\n",
       "CASH_ADVANCE_FREQUENCY              0\n",
       "PRC_FULL_PAYMENT                    0\n",
       "MINIMUM_PAYMENTS                    0\n",
       "PAYMENTS                            0\n",
       "CREDIT_LIMIT                        0\n",
       "PURCHASES_TRX                       0\n",
       "CASH_ADVANCE_TRX                    0\n",
       "PURCHASES_INSTALLMENTS_FREQUENCY    0\n",
       "BALANCE_FREQUENCY                   0\n",
       "ONEOFF_PURCHASES_FREQUENCY          0\n",
       "PURCHASES_FREQUENCY                 0\n",
       "CASH_ADVANCE                        0\n",
       "INSTALLMENTS_PURCHASES              0\n",
       "ONEOFF_PURCHASES                    0\n",
       "PURCHASES                           0\n",
       "TENURE                              0\n",
       "dtype: int64"
      ]
     },
     "execution_count": 7,
     "metadata": {},
     "output_type": "execute_result"
    }
   ],
   "source": [
    "(df.isna().sum()).sort_values(ascending=False)"
   ]
  },
  {
   "cell_type": "code",
   "execution_count": 8,
   "id": "50f2170f-2ab7-4d7c-ad6e-3cf9cd31ea28",
   "metadata": {},
   "outputs": [
    {
     "ename": "NameError",
     "evalue": "name 'data' is not defined",
     "output_type": "error",
     "traceback": [
      "\u001b[1;31m---------------------------------------------------------------------------\u001b[0m",
      "\u001b[1;31mNameError\u001b[0m                                 Traceback (most recent call last)",
      "Input \u001b[1;32mIn [8]\u001b[0m, in \u001b[0;36m<cell line: 3>\u001b[1;34m()\u001b[0m\n\u001b[0;32m      1\u001b[0m \u001b[38;5;66;03m#Drop id columns \u001b[39;00m\n\u001b[1;32m----> 3\u001b[0m data \u001b[38;5;241m=\u001b[39m \u001b[43mdata\u001b[49m\u001b[38;5;241m.\u001b[39mdrop(\u001b[38;5;124m'\u001b[39m\u001b[38;5;124mCUST_ID\u001b[39m\u001b[38;5;124m'\u001b[39m, axis\u001b[38;5;241m=\u001b[39m\u001b[38;5;241m1\u001b[39m)\n",
      "\u001b[1;31mNameError\u001b[0m: name 'data' is not defined"
     ]
    }
   ],
   "source": [
    "#Drop id columns \n",
    "\n",
    "df = df.drop('CUST_ID', axis=1)"
   ]
  },
  {
   "cell_type": "code",
   "execution_count": null,
   "id": "7bba7737-1b00-40ca-9c4d-a65d290c75b1",
   "metadata": {},
   "outputs": [],
   "source": [
    "df = pd.DataFrame (data, columns =data.columns)"
   ]
  },
  {
   "cell_type": "markdown",
   "id": "7c13b1e0-197e-41f1-b2e5-3648fbe68e75",
   "metadata": {},
   "source": [
    "## 1. Exploratory Data Analysis"
   ]
  },
  {
   "cell_type": "code",
   "execution_count": null,
   "id": "fadc5c05-1322-447d-8407-2ed2dbd46d39",
   "metadata": {},
   "outputs": [],
   "source": [
    "df = data.copy()"
   ]
  },
  {
   "cell_type": "code",
   "execution_count": null,
   "id": "1b635dbc-fa45-424c-b6d5-de987bf97a0b",
   "metadata": {},
   "outputs": [],
   "source": [
    "df.shape"
   ]
  },
  {
   "cell_type": "code",
   "execution_count": null,
   "id": "49037080-6f98-44cd-a334-321c5ccaf4f3",
   "metadata": {},
   "outputs": [],
   "source": [
    "df.dtypes.value_counts().plot.pie()"
   ]
  },
  {
   "cell_type": "code",
   "execution_count": null,
   "id": "bda05276-521f-4b3a-b84c-3e84e8c1480a",
   "metadata": {},
   "outputs": [],
   "source": [
    "data.columns"
   ]
  },
  {
   "cell_type": "code",
   "execution_count": null,
   "id": "758bda72-a37f-42a9-93ed-ce183a2a2872",
   "metadata": {},
   "outputs": [],
   "source": [
    "df.dtypes.value_counts()"
   ]
  },
  {
   "cell_type": "code",
   "execution_count": null,
   "id": "8b90996e-925f-4685-a230-7373f3a1f021",
   "metadata": {},
   "outputs": [],
   "source": [
    "#Dataset plot \n",
    "\n",
    "plt.figure(figsize=(15,10))\n",
    "plt.scatter(df.iloc[:,0], df.iloc[:,1])"
   ]
  },
  {
   "cell_type": "code",
   "execution_count": null,
   "id": "c8275506-26d1-4cb7-a89b-376b018b9e4e",
   "metadata": {},
   "outputs": [],
   "source": [
    "df.head()"
   ]
  },
  {
   "cell_type": "markdown",
   "id": "7c4d7952-7c30-4379-bd55-a7a34541463e",
   "metadata": {},
   "source": [
    "## 2. Preprossessing"
   ]
  },
  {
   "cell_type": "code",
   "execution_count": null,
   "id": "85d97196-79f1-4acb-bbce-96ec34379d50",
   "metadata": {},
   "outputs": [],
   "source": [
    "from sklearn.model_selection import train_test_split"
   ]
  },
  {
   "cell_type": "code",
   "execution_count": null,
   "id": "77419b25-3655-4192-b378-7c1d3c30347e",
   "metadata": {},
   "outputs": [],
   "source": [
    "#Data spliting \n",
    "\n",
    "train, test = train_test_split(df, shuffle=True, test_size=0.2, random_state=50)\n",
    "test.to_csv('Dataset/CC GENERAL.csv', header=True, index=False, sep=',')"
   ]
  },
  {
   "cell_type": "code",
   "execution_count": null,
   "id": "69fb2791-c694-4ae0-ac33-5910a52882d9",
   "metadata": {},
   "outputs": [],
   "source": [
    "#Preprocessing\n",
    "\n",
    "#pp_X_train = apply_pp.apply_preprocessing_V2(train,is_training=True)  "
   ]
  },
  {
   "cell_type": "code",
   "execution_count": null,
   "id": "617c2cd8-56e6-40e6-9296-7b687349e5ed",
   "metadata": {},
   "outputs": [],
   "source": [
    "train.head()"
   ]
  },
  {
   "cell_type": "markdown",
   "id": "275bcd6e-74e3-4b2b-887c-3613a11ae7bd",
   "metadata": {},
   "source": [
    "## 3. Modelling"
   ]
  },
  {
   "cell_type": "markdown",
   "id": "937d57f5-e8c7-45d3-8c49-7f53de1babfe",
   "metadata": {},
   "source": [
    "### 3.1 Clustering algorithms"
   ]
  },
  {
   "cell_type": "markdown",
   "id": "3e176add-880d-4313-aaf7-3e5d7d45b2e8",
   "metadata": {},
   "source": [
    "### 3.1.1 K-Means "
   ]
  },
  {
   "cell_type": "code",
   "execution_count": null,
   "id": "b42a7a68-b578-45fe-9094-2f27ea887f90",
   "metadata": {},
   "outputs": [],
   "source": [
    "from sklearn.cluster import KMeans"
   ]
  },
  {
   "cell_type": "code",
   "execution_count": null,
   "id": "90dce23d-d633-496b-b864-16af7cd8ab33",
   "metadata": {},
   "outputs": [],
   "source": [
    "#K-MEANS Model \n",
    "\n",
    "model = KMeans(n_clusters=3)\n",
    "model.fit(train)\n",
    "model.predict(train)\n",
    "\n",
    "plt.figure(figsize=(15,10))\n",
    "plt.scatter(train.iloc[:,0], train.iloc[:,1], c=model.predict(train))\n",
    "plt.scatter(model.cluster_centers_[:,0], model.cluster_centers_[:,1], c='r')\n",
    "model.score(train)"
   ]
  },
  {
   "cell_type": "code",
   "execution_count": null,
   "id": "07ffa789-a15c-44a2-a8ef-816041858682",
   "metadata": {},
   "outputs": [],
   "source": []
  },
  {
   "cell_type": "code",
   "execution_count": null,
   "id": "c9f5c134-241f-4eb2-8fa1-c0602148c96e",
   "metadata": {},
   "outputs": [],
   "source": []
  },
  {
   "cell_type": "code",
   "execution_count": null,
   "id": "7b76cd5c-efc6-46c1-8450-6bc2ba977c8a",
   "metadata": {},
   "outputs": [],
   "source": []
  },
  {
   "cell_type": "code",
   "execution_count": null,
   "id": "7ab70469-a9b2-43ae-83ed-0e5e77b022f7",
   "metadata": {},
   "outputs": [],
   "source": []
  },
  {
   "cell_type": "code",
   "execution_count": null,
   "id": "21d77fe9-2d39-4965-8009-61add6fa93d5",
   "metadata": {},
   "outputs": [],
   "source": []
  },
  {
   "cell_type": "code",
   "execution_count": null,
   "id": "5c82f579-04f2-4008-9f57-2b171b0664a3",
   "metadata": {},
   "outputs": [],
   "source": []
  }
 ],
 "metadata": {
  "kernelspec": {
   "display_name": "Python 3 (ipykernel)",
   "language": "python",
   "name": "python3"
  },
  "language_info": {
   "codemirror_mode": {
    "name": "ipython",
    "version": 3
   },
   "file_extension": ".py",
   "mimetype": "text/x-python",
   "name": "python",
   "nbconvert_exporter": "python",
   "pygments_lexer": "ipython3",
   "version": "3.9.12"
  },
  "widgets": {
   "application/vnd.jupyter.widget-state+json": {
    "state": {},
    "version_major": 2,
    "version_minor": 0
   }
  }
 },
 "nbformat": 4,
 "nbformat_minor": 5
}
