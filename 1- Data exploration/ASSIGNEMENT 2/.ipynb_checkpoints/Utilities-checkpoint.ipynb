{
 "cells": [
  {
   "cell_type": "code",
   "execution_count": 10,
   "id": "e3740a11",
   "metadata": {},
   "outputs": [],
   "source": [
    "def read_txt(file_name):\n",
    "    import codecs\n",
    "    ##Data_description = np.loadtxt(\"dataset_description.txt\", dtype=int)\n",
    "    #get file object\n",
    "    f = codecs.open(file_name, \"r\", \"utf-8\")\n",
    "   \n",
    "    while(True):\n",
    "        #read next line\n",
    "        line = f.readline()\n",
    "        #if line is empty, you are done with all lines in the file\n",
    "        if not line:\n",
    "            break\n",
    "        #you can access the line\n",
    "        print(line.strip())\n",
    "\n",
    "    #close file\n",
    "    f.close\n",
    "\n",
    "# In[ ]:\n",
    "\n",
    "def plot_missing_values(x_val , y_val):\n",
    "    plt.figure(figsize=(18 , 8))\n",
    "    plt.xlabel(\"Number of missing values\")\n",
    "    plt.ylabel(\"Columns\")\n",
    "    plt.title(\"Missing values count in Dataset\")\n",
    "    plt.barh(x_val,sorted(y_val))\n",
    "    plt.show()\n",
    "\n",
    "\n",
    "\n",
    "\n"
   ]
  },
  {
   "cell_type": "code",
   "execution_count": null,
   "id": "64451492",
   "metadata": {},
   "outputs": [],
   "source": []
  },
  {
   "cell_type": "code",
   "execution_count": null,
   "id": "b06bda50",
   "metadata": {},
   "outputs": [],
   "source": []
  }
 ],
 "metadata": {
  "kernelspec": {
   "display_name": "Python 3 (ipykernel)",
   "language": "python",
   "name": "python3"
  },
  "language_info": {
   "codemirror_mode": {
    "name": "ipython",
    "version": 3
   },
   "file_extension": ".py",
   "mimetype": "text/x-python",
   "name": "python",
   "nbconvert_exporter": "python",
   "pygments_lexer": "ipython3",
   "version": "3.9.12"
  }
 },
 "nbformat": 4,
 "nbformat_minor": 5
}
