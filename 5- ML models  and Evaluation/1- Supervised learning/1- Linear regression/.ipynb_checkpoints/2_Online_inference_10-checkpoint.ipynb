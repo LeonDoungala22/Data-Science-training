{
 "cells": [
  {
   "cell_type": "code",
   "execution_count": 1,
   "id": "29cc8daa-b98b-4783-97bd-5cddd16cfc4e",
   "metadata": {},
   "outputs": [],
   "source": [
    "import pandas as pd\n",
    "import pickle\n",
    "import numpy as np\n",
    "import matplotlib.pyplot as plt \n",
    "\n",
    "from sklearn import tree \n",
    "from sklearn.linear_model import LogisticRegression , LinearRegression \n",
    "from sklearn.neighbors import KNeighborsClassifier\n",
    "\n",
    "import warnings\n",
    "warnings.filterwarnings(\"ignore\")\n",
    "\n",
    "from sklearn.model_selection import train_test_split\n",
    "import apply_preprocessing_10 as apply_pp "
   ]
  },
  {
   "cell_type": "code",
   "execution_count": 2,
   "id": "50f8a3b2-3bc0-481f-bc53-3984676c2784",
   "metadata": {},
   "outputs": [],
   "source": [
    "Data = pd.read_csv('Dataset/test.csv', header=0)"
   ]
  },
  {
   "cell_type": "code",
   "execution_count": 3,
   "id": "14f230c6-20c9-4f32-b50b-3339204e1377",
   "metadata": {},
   "outputs": [],
   "source": [
    "# Load/serialize the fitted model to local OS\n",
    "\n",
    "with open('pickle/modelLinReg.pkl', 'rb') as output_file:\n",
    "    modelLinReg = pickle.load(output_file)\n"
   ]
  },
  {
   "cell_type": "code",
   "execution_count": 4,
   "id": "046fb30b-ffb8-42ff-b4d4-442ca85c2156",
   "metadata": {},
   "outputs": [],
   "source": [
    "#Preprosessing funtion\n",
    "\n",
    "pp_X_test , pp_y_test  = apply_pp.apply_preprocessing(Data, is_training=False)"
   ]
  },
  {
   "cell_type": "code",
   "execution_count": 5,
   "id": "2e2c8b77-142e-4c3c-8d20-3e07bb3463cf",
   "metadata": {},
   "outputs": [
    {
     "data": {
      "text/plain": [
       "array([[-10.88769673],\n",
       "       [ 36.10905275],\n",
       "       [  9.53533453],\n",
       "       [ 27.01451898],\n",
       "       [ 39.91898323],\n",
       "       [ 18.59955338],\n",
       "       [ 64.89198408],\n",
       "       [ 15.36056619],\n",
       "       [  6.71232408],\n",
       "       [ 57.37125475],\n",
       "       [ 31.15799735],\n",
       "       [ 64.3529256 ],\n",
       "       [  6.59289423],\n",
       "       [ 77.74858071],\n",
       "       [  1.75643592],\n",
       "       [ 13.63966144],\n",
       "       [ 22.34544012],\n",
       "       [ 65.11260598],\n",
       "       [ 27.53337379],\n",
       "       [ 60.18106531],\n",
       "       [ 43.07638641],\n",
       "       [ 69.69349544],\n",
       "       [ 31.88339316],\n",
       "       [  9.9873989 ],\n",
       "       [ 66.33008128],\n",
       "       [  8.71948402],\n",
       "       [  3.52826854],\n",
       "       [ 64.227697  ],\n",
       "       [ 52.7565634 ],\n",
       "       [ 45.79040903],\n",
       "       [ -3.82979738],\n",
       "       [  6.82905449],\n",
       "       [ 29.02208103],\n",
       "       [ 68.59967358],\n",
       "       [ 48.19447122],\n",
       "       [ 56.35298262],\n",
       "       [ 24.91300141],\n",
       "       [ 39.40026406],\n",
       "       [ 44.73784556],\n",
       "       [ 40.56567725],\n",
       "       [ 72.70812863],\n",
       "       [ 34.95962531],\n",
       "       [ 26.81318257],\n",
       "       [ 37.03392398],\n",
       "       [ -2.17395032],\n",
       "       [ 33.10985836],\n",
       "       [ 55.85881378],\n",
       "       [ 68.35169678],\n",
       "       [ 27.59686802],\n",
       "       [ 48.9692089 ],\n",
       "       [ 46.36309307],\n",
       "       [ 53.17679131],\n",
       "       [ 17.23276912],\n",
       "       [  5.38499787],\n",
       "       [ 36.73302558],\n",
       "       [ 38.10492207],\n",
       "       [ 50.770804  ],\n",
       "       [ 42.50616318],\n",
       "       [ 43.84077734],\n",
       "       [ 13.14443232],\n",
       "       [  8.83331061],\n",
       "       [ 34.13298223],\n",
       "       [ 61.9681475 ],\n",
       "       [ 60.60095333],\n",
       "       [ 60.40436201],\n",
       "       [ 40.57156173],\n",
       "       [ 31.87495808],\n",
       "       [ 24.25359849],\n",
       "       [ 27.10509925],\n",
       "       [ 32.56495147],\n",
       "       [ 46.87115083],\n",
       "       [  2.11886075],\n",
       "       [ 31.92180359],\n",
       "       [ 54.54823899],\n",
       "       [ 58.07307028],\n",
       "       [ 56.50641153],\n",
       "       [  5.57123138],\n",
       "       [-10.58634132],\n",
       "       [ 17.89117401],\n",
       "       [ 36.72826601],\n",
       "       [ 24.98673677],\n",
       "       [ 35.60302839],\n",
       "       [ 43.0275708 ],\n",
       "       [  6.8013449 ],\n",
       "       [ 34.10178262],\n",
       "       [ 50.76347544],\n",
       "       [ 40.01579166],\n",
       "       [ 61.0628437 ],\n",
       "       [ 62.26870953],\n",
       "       [ 37.27003093],\n",
       "       [ 29.6726365 ],\n",
       "       [ 64.9917387 ],\n",
       "       [ 78.96711412],\n",
       "       [ 14.13539772],\n",
       "       [  6.03068134],\n",
       "       [ 29.01340677],\n",
       "       [ -8.44361404],\n",
       "       [ 57.85467194],\n",
       "       [  7.46418046],\n",
       "       [ 24.86103485],\n",
       "       [ 74.14852237],\n",
       "       [ 57.30137997]])"
      ]
     },
     "execution_count": 5,
     "metadata": {},
     "output_type": "execute_result"
    }
   ],
   "source": [
    "y_pred_LinReg = modelLinReg.predict(X=pp_X_test)\n",
    "y_pred_LinReg"
   ]
  },
  {
   "cell_type": "code",
   "execution_count": 6,
   "id": "050012d6-2f10-4ae7-a414-8aa9c9512a84",
   "metadata": {},
   "outputs": [
    {
     "data": {
      "image/png": "[encoded data removed]",
      "text/plain": [
       "<Figure size 1080x432 with 1 Axes>"
      ]
     },
     "metadata": {
      "needs_background": "light"
     },
     "output_type": "display_data"
    }
   ],
   "source": [
    "#Data Visualisation \n",
    "\n",
    "plt.figure(figsize = (15,6))\n",
    "plt.title(\"Data Scatter \")\n",
    "plt.ylabel(\"Target:medv\")\n",
    "plt.xlabel(\"Features\")\n",
    "\n",
    "plt.scatter(pp_X_test.iloc[: , :1], pp_y_test)\n",
    "plt.show()"
   ]
  },
  {
   "cell_type": "code",
   "execution_count": null,
   "id": "179a25e4-f9ec-4634-9c64-5b9ae2b3a530",
   "metadata": {},
   "outputs": [],
   "source": []
  },
  {
   "cell_type": "code",
   "execution_count": null,
   "id": "a8f14d51-5c91-49ad-8afd-0e42669a9f21",
   "metadata": {},
   "outputs": [],
   "source": []
  },
  {
   "cell_type": "code",
   "execution_count": null,
   "id": "de0bfbda-5b62-49d4-91d3-9d51b99fb127",
   "metadata": {},
   "outputs": [],
   "source": []
  },
  {
   "cell_type": "code",
   "execution_count": null,
   "id": "f5f6eeb2-03cd-4a30-b6c3-b076afa817f6",
   "metadata": {},
   "outputs": [],
   "source": []
  }
 ],
 "metadata": {
  "kernelspec": {
   "display_name": "Python 3 (ipykernel)",
   "language": "python",
   "name": "python3"
  },
  "language_info": {
   "codemirror_mode": {
    "name": "ipython",
    "version": 3
   },
   "file_extension": ".py",
   "mimetype": "text/x-python",
   "name": "python",
   "nbconvert_exporter": "python",
   "pygments_lexer": "ipython3",
   "version": "3.9.12"
  },
  "widgets": {
   "application/vnd.jupyter.widget-state+json": {
    "state": {},
    "version_major": 2,
    "version_minor": 0
   }
  }
 },
 "nbformat": 4,
 "nbformat_minor": 5
}
