{
 "cells": [
  {
   "cell_type": "markdown",
   "id": "332af6fb-9212-4cda-b2f9-12c54262d45c",
   "metadata": {},
   "source": [
    "# SUPERVISED LEARNING MODELS AND HYPERPARAMETERS"
   ]
  },
  {
   "cell_type": "markdown",
   "id": "19d47d4d-85a6-4c46-a8fc-2d47abc40e2e",
   "metadata": {},
   "source": [
    "[- French contents: Regression Lineaire](https://machinelearnia.com/regression-lineaire-simple/)"
   ]
  },
  {
   "cell_type": "markdown",
   "id": "d4b66c3a-2348-4c6f-8c89-d58e455f6439",
   "metadata": {},
   "source": [
    "[- French contents : Supervised learning in 4 steps ](https://machinelearnia.com/apprentissage-supervise-4-etapes/)"
   ]
  },
  {
   "cell_type": "markdown",
   "id": "57ccf7bb-2c2d-4f42-9108-59c930704a0a",
   "metadata": {},
   "source": [
    "[- Sklearn content : Models](https://scikit-learn.org/stable/modules/linear_model.html#ordinary-least-squares)"
   ]
  },
  {
   "cell_type": "markdown",
   "id": "88dfe359-7f2e-470b-9c11-83e5e0223238",
   "metadata": {},
   "source": [
    "#### Nice to know before starting : Build you ML model in 4 steps "
   ]
  },
  {
   "cell_type": "markdown",
   "id": "2f864048-2eab-455a-9f0d-19bfc00d4ba9",
   "metadata": {},
   "source": [
    "1- How many examples and features are in dataset?  \n",
    "2- What is the function you have chosen for your model?  \n",
    "3- Which Cost Function did you select?  \n",
    "4- And what is the learning algorithm you use?"
   ]
  },
  {
   "cell_type": "code",
   "execution_count": 1,
   "id": "71c911b4-3f7a-473d-af0d-45199ea3cb84",
   "metadata": {},
   "outputs": [],
   "source": [
    "import os\n",
    "import pandas as pd\n",
    "import numpy as np\n",
    "import pickle\n",
    "import matplotlib.pyplot as plt\n",
    "import seaborn as sns\n",
    "\n",
    "from sklearn.model_selection import train_test_split\n",
    "from sklearn import tree \n",
    "from sklearn.linear_model import LogisticRegression , LinearRegression \n",
    "from sklearn.neighbors import KNeighborsClassifier\n",
    "\n",
    "import apply_preprocessing_10 as apply_pp"
   ]
  },
  {
   "cell_type": "code",
   "execution_count": 2,
   "id": "8713e5c3-f57c-48e7-9792-61470325014c",
   "metadata": {},
   "outputs": [
    {
     "data": {
      "text/plain": [
       "Index(['crim', 'zn', 'indus', 'chas', 'nox', 'rm', 'age', 'dis', 'rad', 'tax',\n",
       "       'ptratio', 'b', 'lstat', 'medv'],\n",
       "      dtype='object')"
      ]
     },
     "execution_count": 2,
     "metadata": {},
     "output_type": "execute_result"
    }
   ],
   "source": [
    "#Import Dataset\n",
    "\n",
    "Data = pd.read_csv('Dataset/BostonHousing.csv', sep =',')\n",
    "Data.columns"
   ]
  },
  {
   "cell_type": "code",
   "execution_count": 3,
   "id": "bb902f65-ad8d-422e-bc58-f8d4171e15cb",
   "metadata": {},
   "outputs": [
    {
     "data": {
      "text/plain": [
       "(506, 14)"
      ]
     },
     "execution_count": 3,
     "metadata": {},
     "output_type": "execute_result"
    }
   ],
   "source": [
    "#Shape\n",
    "Data.shape"
   ]
  },
  {
   "cell_type": "code",
   "execution_count": 4,
   "id": "467c4133-9ea4-45d6-b02a-c92e4af4fb7e",
   "metadata": {},
   "outputs": [],
   "source": [
    "#Data spliting \n",
    "\n",
    "train, test = train_test_split(Data, shuffle=True, test_size=0.2, random_state=50)\n",
    "test.to_csv('Dataset/test.csv', header=True, index=False, sep=',')"
   ]
  },
  {
   "cell_type": "code",
   "execution_count": 5,
   "id": "bb190e06-05da-458a-a328-49630b0f26c0",
   "metadata": {},
   "outputs": [],
   "source": [
    "#Preprocessing\n",
    "\n",
    "pp_X_train , pp_y_train  = apply_pp.apply_preprocessing(train,is_training=True)  # To retrieve our target medv"
   ]
  },
  {
   "cell_type": "code",
   "execution_count": 6,
   "id": "3316f683-3ecb-4644-a69f-1c22f7d56383",
   "metadata": {},
   "outputs": [
    {
     "data": {
      "text/html": [
       "<div>\n",
       "<style scoped>\n",
       "    .dataframe tbody tr th:only-of-type {\n",
       "        vertical-align: middle;\n",
       "    }\n",
       "\n",
       "    .dataframe tbody tr th {\n",
       "        vertical-align: top;\n",
       "    }\n",
       "\n",
       "    .dataframe thead th {\n",
       "        text-align: right;\n",
       "    }\n",
       "</style>\n",
       "<table border=\"1\" class=\"dataframe\">\n",
       "  <thead>\n",
       "    <tr style=\"text-align: right;\">\n",
       "      <th></th>\n",
       "      <th>crim</th>\n",
       "      <th>zn</th>\n",
       "      <th>indus</th>\n",
       "      <th>chas</th>\n",
       "      <th>nox</th>\n",
       "      <th>rm</th>\n",
       "      <th>age</th>\n",
       "      <th>dis</th>\n",
       "      <th>rad</th>\n",
       "      <th>tax</th>\n",
       "      <th>ptratio</th>\n",
       "      <th>b</th>\n",
       "      <th>lstat</th>\n",
       "    </tr>\n",
       "  </thead>\n",
       "  <tbody>\n",
       "    <tr>\n",
       "      <th>449</th>\n",
       "      <td>7.52601</td>\n",
       "      <td>0.0</td>\n",
       "      <td>18.10</td>\n",
       "      <td>0</td>\n",
       "      <td>0.713</td>\n",
       "      <td>6.417</td>\n",
       "      <td>98.3</td>\n",
       "      <td>2.1850</td>\n",
       "      <td>24</td>\n",
       "      <td>666</td>\n",
       "      <td>20.2</td>\n",
       "      <td>304.21</td>\n",
       "      <td>19.31</td>\n",
       "    </tr>\n",
       "    <tr>\n",
       "      <th>374</th>\n",
       "      <td>18.49820</td>\n",
       "      <td>0.0</td>\n",
       "      <td>18.10</td>\n",
       "      <td>0</td>\n",
       "      <td>0.668</td>\n",
       "      <td>4.138</td>\n",
       "      <td>100.0</td>\n",
       "      <td>1.1370</td>\n",
       "      <td>24</td>\n",
       "      <td>666</td>\n",
       "      <td>20.2</td>\n",
       "      <td>396.90</td>\n",
       "      <td>37.97</td>\n",
       "    </tr>\n",
       "    <tr>\n",
       "      <th>253</th>\n",
       "      <td>0.36894</td>\n",
       "      <td>22.0</td>\n",
       "      <td>5.86</td>\n",
       "      <td>0</td>\n",
       "      <td>0.431</td>\n",
       "      <td>8.259</td>\n",
       "      <td>8.4</td>\n",
       "      <td>8.9067</td>\n",
       "      <td>7</td>\n",
       "      <td>330</td>\n",
       "      <td>19.1</td>\n",
       "      <td>396.90</td>\n",
       "      <td>3.54</td>\n",
       "    </tr>\n",
       "    <tr>\n",
       "      <th>402</th>\n",
       "      <td>9.59571</td>\n",
       "      <td>0.0</td>\n",
       "      <td>18.10</td>\n",
       "      <td>0</td>\n",
       "      <td>0.693</td>\n",
       "      <td>6.404</td>\n",
       "      <td>100.0</td>\n",
       "      <td>1.6390</td>\n",
       "      <td>24</td>\n",
       "      <td>666</td>\n",
       "      <td>20.2</td>\n",
       "      <td>376.11</td>\n",
       "      <td>20.31</td>\n",
       "    </tr>\n",
       "    <tr>\n",
       "      <th>417</th>\n",
       "      <td>25.94060</td>\n",
       "      <td>0.0</td>\n",
       "      <td>18.10</td>\n",
       "      <td>0</td>\n",
       "      <td>0.679</td>\n",
       "      <td>5.304</td>\n",
       "      <td>89.1</td>\n",
       "      <td>1.6475</td>\n",
       "      <td>24</td>\n",
       "      <td>666</td>\n",
       "      <td>20.2</td>\n",
       "      <td>127.36</td>\n",
       "      <td>26.64</td>\n",
       "    </tr>\n",
       "  </tbody>\n",
       "</table>\n",
       "</div>"
      ],
      "text/plain": [
       "         crim    zn  indus  chas    nox     rm    age     dis  rad  tax  \\\n",
       "449   7.52601   0.0  18.10     0  0.713  6.417   98.3  2.1850   24  666   \n",
       "374  18.49820   0.0  18.10     0  0.668  4.138  100.0  1.1370   24  666   \n",
       "253   0.36894  22.0   5.86     0  0.431  8.259    8.4  8.9067    7  330   \n",
       "402   9.59571   0.0  18.10     0  0.693  6.404  100.0  1.6390   24  666   \n",
       "417  25.94060   0.0  18.10     0  0.679  5.304   89.1  1.6475   24  666   \n",
       "\n",
       "     ptratio       b  lstat  \n",
       "449     20.2  304.21  19.31  \n",
       "374     20.2  396.90  37.97  \n",
       "253     19.1  396.90   3.54  \n",
       "402     20.2  376.11  20.31  \n",
       "417     20.2  127.36  26.64  "
      ]
     },
     "execution_count": 6,
     "metadata": {},
     "output_type": "execute_result"
    }
   ],
   "source": [
    "pp_X_train.head()"
   ]
  },
  {
   "cell_type": "code",
   "execution_count": 7,
   "id": "bcb3a222-3090-41d0-bb8b-10ca4984da04",
   "metadata": {},
   "outputs": [
    {
     "data": {
      "text/html": [
       "<div>\n",
       "<style scoped>\n",
       "    .dataframe tbody tr th:only-of-type {\n",
       "        vertical-align: middle;\n",
       "    }\n",
       "\n",
       "    .dataframe tbody tr th {\n",
       "        vertical-align: top;\n",
       "    }\n",
       "\n",
       "    .dataframe thead th {\n",
       "        text-align: right;\n",
       "    }\n",
       "</style>\n",
       "<table border=\"1\" class=\"dataframe\">\n",
       "  <thead>\n",
       "    <tr style=\"text-align: right;\">\n",
       "      <th></th>\n",
       "      <th>medv</th>\n",
       "    </tr>\n",
       "  </thead>\n",
       "  <tbody>\n",
       "    <tr>\n",
       "      <th>0</th>\n",
       "      <td>13</td>\n",
       "    </tr>\n",
       "    <tr>\n",
       "      <th>1</th>\n",
       "      <td>13</td>\n",
       "    </tr>\n",
       "    <tr>\n",
       "      <th>2</th>\n",
       "      <td>42</td>\n",
       "    </tr>\n",
       "    <tr>\n",
       "      <th>3</th>\n",
       "      <td>12</td>\n",
       "    </tr>\n",
       "    <tr>\n",
       "      <th>4</th>\n",
       "      <td>10</td>\n",
       "    </tr>\n",
       "  </tbody>\n",
       "</table>\n",
       "</div>"
      ],
      "text/plain": [
       "   medv\n",
       "0    13\n",
       "1    13\n",
       "2    42\n",
       "3    12\n",
       "4    10"
      ]
     },
     "execution_count": 7,
     "metadata": {},
     "output_type": "execute_result"
    }
   ],
   "source": [
    "pp_y_train .head()"
   ]
  },
  {
   "cell_type": "markdown",
   "id": "12ccec1d-89b5-486e-b22c-87d97aa58340",
   "metadata": {},
   "source": [
    "## 1 - Models Evaluation (MAE) and vusalisation"
   ]
  },
  {
   "cell_type": "markdown",
   "id": "8480398d-bf81-4e49-aa4c-07139ec18c1c",
   "metadata": {},
   "source": [
    "####  1. a) Linear model(simple)"
   ]
  },
  {
   "cell_type": "markdown",
   "id": "b5f7c60c-578b-478f-bf63-a509f31d2531",
   "metadata": {},
   "source": [
    "[French content](https://machinelearnia.com/regression-lineaire-simple/)  \n",
    "[Sklearn content : Linear model API](https://scikit-learn.org/stable/modules/classes.html)"
   ]
  },
  {
   "cell_type": "code",
   "execution_count": 8,
   "id": "8117d549-f05c-4b88-9fd4-0c1ce4426f93",
   "metadata": {},
   "outputs": [
    {
     "data": {
      "text/plain": [
       "((404, 13), (404, 1))"
      ]
     },
     "execution_count": 8,
     "metadata": {},
     "output_type": "execute_result"
    }
   ],
   "source": [
    "pp_X_train.shape , pp_y_train.shape"
   ]
  },
  {
   "cell_type": "code",
   "execution_count": 9,
   "id": "d8184c9a-fb7d-42de-ab26-7382d8e7687d",
   "metadata": {},
   "outputs": [
    {
     "data": {
      "image/png": "[encoded data removed]",
      "text/plain": [
       "<Figure size 1080x432 with 1 Axes>"
      ]
     },
     "metadata": {
      "needs_background": "light"
     },
     "output_type": "display_data"
    }
   ],
   "source": [
    "#Data Visualisation \n",
    "\n",
    "plt.figure(figsize = (15,6))\n",
    "plt.title(\"Data Scatter \")\n",
    "plt.ylabel(\"Target:medv\")\n",
    "plt.xlabel(\"Features\")\n",
    "\n",
    "    \n",
    "plt.scatter(pp_X_train.iloc[: , :1], pp_y_train)\n",
    "plt.show()"
   ]
  },
  {
   "cell_type": "code",
   "execution_count": 10,
   "id": "25a0c0fa-361b-40ef-b327-54fadefad7b1",
   "metadata": {},
   "outputs": [
    {
     "name": "stdout",
     "output_type": "stream",
     "text": [
      "- Score : Return the coefficient of determination od the prediction :  0.7509929548248566\n"
     ]
    }
   ],
   "source": [
    "#LinearRegression\n",
    "modelLinReg = LinearRegression()\n",
    "#Fit the model ( predict , will be used in test )\n",
    "modelLinReg.fit(pp_X_train,pp_y_train)\n",
    "#Score\n",
    "modelLinRegXTrain_Score = modelLinReg.score(pp_X_train,pp_y_train)\n",
    "\n",
    "print('- Score : Return the coefficient of determination od the prediction : ', modelLinRegXTrain_Score)"
   ]
  },
  {
   "cell_type": "markdown",
   "id": "693b5978-7f59-48a1-8041-eb2105eb03f4",
   "metadata": {},
   "source": [
    "####  1. b) Support Vector Machines (Regression)"
   ]
  },
  {
   "cell_type": "code",
   "execution_count": 13,
   "id": "5badde2c-2028-4075-87a2-aa4c1c268d4e",
   "metadata": {},
   "outputs": [],
   "source": [
    "from sklearn import svm"
   ]
  },
  {
   "cell_type": "code",
   "execution_count": 18,
   "id": "fdc0eb7a-8e29-42c3-a5c8-29dff9a6a724",
   "metadata": {},
   "outputs": [
    {
     "name": "stdout",
     "output_type": "stream",
     "text": [
      "support vector machine score : 0.22883968240101982\n"
     ]
    }
   ],
   "source": [
    "model_SCM_Regr = svm.SVR()\n",
    "model_SCM_Regr.fit(pp_X_train, pp_y_train)\n",
    "model_SCM_Regr_Score = model_SCM_Regr.score(pp_X_train,pp_y_train)\n",
    "print('support vector machine score :',model_SCM_Regr_Score)"
   ]
  },
  {
   "cell_type": "code",
   "execution_count": 11,
   "id": "3e07400c-278e-4d3b-b7a9-c4c4a5490f73",
   "metadata": {},
   "outputs": [],
   "source": [
    "# Save/serialize the fitted model to local OS\n",
    " \n",
    "with open('pickle/modelLinReg.pkl', 'wb') as output_file:\n",
    "    pickle.dump(modelLinReg, output_file)\n",
    "\n",
    "with open('pickle/pp_X_train.pkl', 'wb') as output_file:\n",
    "    pickle.dump(pp_X_train, output_file)\n",
    "    \n",
    "with open('pickle/pp_y_train.pkl', 'wb') as output_file:\n",
    "    pickle.dump(pp_y_train, output_file)\n"
   ]
  },
  {
   "cell_type": "code",
   "execution_count": null,
   "id": "ddc3a77d-a3ea-4bd0-8d63-7361912848ae",
   "metadata": {},
   "outputs": [],
   "source": []
  },
  {
   "cell_type": "code",
   "execution_count": null,
   "id": "e5e1f2ab-274d-4303-8d32-4ffae3f6a326",
   "metadata": {},
   "outputs": [],
   "source": []
  },
  {
   "cell_type": "code",
   "execution_count": null,
   "id": "df5ade99-4e71-4639-b0d2-877f6255d48d",
   "metadata": {},
   "outputs": [],
   "source": []
  },
  {
   "cell_type": "code",
   "execution_count": null,
   "id": "3b4ff138-9fd3-437d-8f47-84e0d9b9c73a",
   "metadata": {},
   "outputs": [],
   "source": []
  },
  {
   "cell_type": "code",
   "execution_count": null,
   "id": "8f9fc02b-326f-4cc7-98ae-3a50fca5517b",
   "metadata": {},
   "outputs": [],
   "source": []
  },
  {
   "cell_type": "code",
   "execution_count": null,
   "id": "2dac670f-1c69-40bb-ac54-435b48a98889",
   "metadata": {},
   "outputs": [],
   "source": []
  },
  {
   "cell_type": "code",
   "execution_count": null,
   "id": "5a5a2a87-94e7-48c9-910a-0ecae9a6fc77",
   "metadata": {},
   "outputs": [],
   "source": []
  }
 ],
 "metadata": {
  "kernelspec": {
   "display_name": "Python 3 (ipykernel)",
   "language": "python",
   "name": "python3"
  },
  "language_info": {
   "codemirror_mode": {
    "name": "ipython",
    "version": 3
   },
   "file_extension": ".py",
   "mimetype": "text/x-python",
   "name": "python",
   "nbconvert_exporter": "python",
   "pygments_lexer": "ipython3",
   "version": "3.9.12"
  },
  "widgets": {
   "application/vnd.jupyter.widget-state+json": {
    "state": {},
    "version_major": 2,
    "version_minor": 0
   }
  }
 },
 "nbformat": 4,
 "nbformat_minor": 5
}
